{
  "nbformat": 4,
  "nbformat_minor": 0,
  "metadata": {
    "accelerator": "GPU",
    "colab": {
      "name": "Assignment2.ipynb",
      "provenance": [],
      "collapsed_sections": [],
      "toc_visible": true
    },
    "kernelspec": {
      "display_name": "Python 3",
      "language": "python",
      "name": "python3"
    },
    "language_info": {
      "codemirror_mode": {
        "name": "ipython",
        "version": 3
      },
      "file_extension": ".py",
      "mimetype": "text/x-python",
      "name": "python",
      "nbconvert_exporter": "python",
      "pygments_lexer": "ipython3",
      "version": "3.8.3"
    },
    "widgets": {
      "application/vnd.jupyter.widget-state+json": {
        "0aeed40350884a3989eaa8dbc9caa58e": {
          "model_module": "@jupyter-widgets/controls",
          "model_name": "HBoxModel",
          "state": {
            "_view_name": "HBoxView",
            "_dom_classes": [],
            "_model_name": "HBoxModel",
            "_view_module": "@jupyter-widgets/controls",
            "_model_module_version": "1.5.0",
            "_view_count": null,
            "_view_module_version": "1.5.0",
            "box_style": "",
            "layout": "IPY_MODEL_00beed81e9834891965880c24f5d76ac",
            "_model_module": "@jupyter-widgets/controls",
            "children": [
              "IPY_MODEL_2b48b39ff9664c729fac5f6ffda821c3",
              "IPY_MODEL_b0b1d6dfb80f4befbd7b95f55dea08bb"
            ]
          }
        },
        "00beed81e9834891965880c24f5d76ac": {
          "model_module": "@jupyter-widgets/base",
          "model_name": "LayoutModel",
          "state": {
            "_view_name": "LayoutView",
            "grid_template_rows": null,
            "right": null,
            "justify_content": null,
            "_view_module": "@jupyter-widgets/base",
            "overflow": null,
            "_model_module_version": "1.2.0",
            "_view_count": null,
            "flex_flow": null,
            "width": null,
            "min_width": null,
            "border": null,
            "align_items": null,
            "bottom": null,
            "_model_module": "@jupyter-widgets/base",
            "top": null,
            "grid_column": null,
            "overflow_y": null,
            "overflow_x": null,
            "grid_auto_flow": null,
            "grid_area": null,
            "grid_template_columns": null,
            "flex": null,
            "_model_name": "LayoutModel",
            "justify_items": null,
            "grid_row": null,
            "max_height": null,
            "align_content": null,
            "visibility": null,
            "align_self": null,
            "height": null,
            "min_height": null,
            "padding": null,
            "grid_auto_rows": null,
            "grid_gap": null,
            "max_width": null,
            "order": null,
            "_view_module_version": "1.2.0",
            "grid_template_areas": null,
            "object_position": null,
            "object_fit": null,
            "grid_auto_columns": null,
            "margin": null,
            "display": null,
            "left": null
          }
        },
        "2b48b39ff9664c729fac5f6ffda821c3": {
          "model_module": "@jupyter-widgets/controls",
          "model_name": "FloatProgressModel",
          "state": {
            "_view_name": "ProgressView",
            "style": "IPY_MODEL_8324def663b442c992ffcf35de81f93f",
            "_dom_classes": [],
            "description": "",
            "_model_name": "FloatProgressModel",
            "bar_style": "success",
            "max": 9912422,
            "_view_module": "@jupyter-widgets/controls",
            "_model_module_version": "1.5.0",
            "value": 9912422,
            "_view_count": null,
            "_view_module_version": "1.5.0",
            "orientation": "horizontal",
            "min": 0,
            "description_tooltip": null,
            "_model_module": "@jupyter-widgets/controls",
            "layout": "IPY_MODEL_dc9ca3ec7d40456a98caf3dd7cdd0987"
          }
        },
        "b0b1d6dfb80f4befbd7b95f55dea08bb": {
          "model_module": "@jupyter-widgets/controls",
          "model_name": "HTMLModel",
          "state": {
            "_view_name": "HTMLView",
            "style": "IPY_MODEL_78f9786512e745529d4664b7304db801",
            "_dom_classes": [],
            "description": "",
            "_model_name": "HTMLModel",
            "placeholder": "​",
            "_view_module": "@jupyter-widgets/controls",
            "_model_module_version": "1.5.0",
            "value": " 9913344/? [00:52&lt;00:00, 189778.37it/s]",
            "_view_count": null,
            "_view_module_version": "1.5.0",
            "description_tooltip": null,
            "_model_module": "@jupyter-widgets/controls",
            "layout": "IPY_MODEL_816fd18de141405c822cbed36610daa4"
          }
        },
        "8324def663b442c992ffcf35de81f93f": {
          "model_module": "@jupyter-widgets/controls",
          "model_name": "ProgressStyleModel",
          "state": {
            "_view_name": "StyleView",
            "_model_name": "ProgressStyleModel",
            "description_width": "initial",
            "_view_module": "@jupyter-widgets/base",
            "_model_module_version": "1.5.0",
            "_view_count": null,
            "_view_module_version": "1.2.0",
            "bar_color": null,
            "_model_module": "@jupyter-widgets/controls"
          }
        },
        "dc9ca3ec7d40456a98caf3dd7cdd0987": {
          "model_module": "@jupyter-widgets/base",
          "model_name": "LayoutModel",
          "state": {
            "_view_name": "LayoutView",
            "grid_template_rows": null,
            "right": null,
            "justify_content": null,
            "_view_module": "@jupyter-widgets/base",
            "overflow": null,
            "_model_module_version": "1.2.0",
            "_view_count": null,
            "flex_flow": null,
            "width": null,
            "min_width": null,
            "border": null,
            "align_items": null,
            "bottom": null,
            "_model_module": "@jupyter-widgets/base",
            "top": null,
            "grid_column": null,
            "overflow_y": null,
            "overflow_x": null,
            "grid_auto_flow": null,
            "grid_area": null,
            "grid_template_columns": null,
            "flex": null,
            "_model_name": "LayoutModel",
            "justify_items": null,
            "grid_row": null,
            "max_height": null,
            "align_content": null,
            "visibility": null,
            "align_self": null,
            "height": null,
            "min_height": null,
            "padding": null,
            "grid_auto_rows": null,
            "grid_gap": null,
            "max_width": null,
            "order": null,
            "_view_module_version": "1.2.0",
            "grid_template_areas": null,
            "object_position": null,
            "object_fit": null,
            "grid_auto_columns": null,
            "margin": null,
            "display": null,
            "left": null
          }
        },
        "78f9786512e745529d4664b7304db801": {
          "model_module": "@jupyter-widgets/controls",
          "model_name": "DescriptionStyleModel",
          "state": {
            "_view_name": "StyleView",
            "_model_name": "DescriptionStyleModel",
            "description_width": "",
            "_view_module": "@jupyter-widgets/base",
            "_model_module_version": "1.5.0",
            "_view_count": null,
            "_view_module_version": "1.2.0",
            "_model_module": "@jupyter-widgets/controls"
          }
        },
        "816fd18de141405c822cbed36610daa4": {
          "model_module": "@jupyter-widgets/base",
          "model_name": "LayoutModel",
          "state": {
            "_view_name": "LayoutView",
            "grid_template_rows": null,
            "right": null,
            "justify_content": null,
            "_view_module": "@jupyter-widgets/base",
            "overflow": null,
            "_model_module_version": "1.2.0",
            "_view_count": null,
            "flex_flow": null,
            "width": null,
            "min_width": null,
            "border": null,
            "align_items": null,
            "bottom": null,
            "_model_module": "@jupyter-widgets/base",
            "top": null,
            "grid_column": null,
            "overflow_y": null,
            "overflow_x": null,
            "grid_auto_flow": null,
            "grid_area": null,
            "grid_template_columns": null,
            "flex": null,
            "_model_name": "LayoutModel",
            "justify_items": null,
            "grid_row": null,
            "max_height": null,
            "align_content": null,
            "visibility": null,
            "align_self": null,
            "height": null,
            "min_height": null,
            "padding": null,
            "grid_auto_rows": null,
            "grid_gap": null,
            "max_width": null,
            "order": null,
            "_view_module_version": "1.2.0",
            "grid_template_areas": null,
            "object_position": null,
            "object_fit": null,
            "grid_auto_columns": null,
            "margin": null,
            "display": null,
            "left": null
          }
        },
        "44c3aaea463b40ecb625b6266371f859": {
          "model_module": "@jupyter-widgets/controls",
          "model_name": "HBoxModel",
          "state": {
            "_view_name": "HBoxView",
            "_dom_classes": [],
            "_model_name": "HBoxModel",
            "_view_module": "@jupyter-widgets/controls",
            "_model_module_version": "1.5.0",
            "_view_count": null,
            "_view_module_version": "1.5.0",
            "box_style": "",
            "layout": "IPY_MODEL_8e21ab77c8c848e8b512cc5d5020bccb",
            "_model_module": "@jupyter-widgets/controls",
            "children": [
              "IPY_MODEL_55bec039fad7449dbbc4733879dfe4a8",
              "IPY_MODEL_11a3d6f20c93407faf05934ac0c546c9"
            ]
          }
        },
        "8e21ab77c8c848e8b512cc5d5020bccb": {
          "model_module": "@jupyter-widgets/base",
          "model_name": "LayoutModel",
          "state": {
            "_view_name": "LayoutView",
            "grid_template_rows": null,
            "right": null,
            "justify_content": null,
            "_view_module": "@jupyter-widgets/base",
            "overflow": null,
            "_model_module_version": "1.2.0",
            "_view_count": null,
            "flex_flow": null,
            "width": null,
            "min_width": null,
            "border": null,
            "align_items": null,
            "bottom": null,
            "_model_module": "@jupyter-widgets/base",
            "top": null,
            "grid_column": null,
            "overflow_y": null,
            "overflow_x": null,
            "grid_auto_flow": null,
            "grid_area": null,
            "grid_template_columns": null,
            "flex": null,
            "_model_name": "LayoutModel",
            "justify_items": null,
            "grid_row": null,
            "max_height": null,
            "align_content": null,
            "visibility": null,
            "align_self": null,
            "height": null,
            "min_height": null,
            "padding": null,
            "grid_auto_rows": null,
            "grid_gap": null,
            "max_width": null,
            "order": null,
            "_view_module_version": "1.2.0",
            "grid_template_areas": null,
            "object_position": null,
            "object_fit": null,
            "grid_auto_columns": null,
            "margin": null,
            "display": null,
            "left": null
          }
        },
        "55bec039fad7449dbbc4733879dfe4a8": {
          "model_module": "@jupyter-widgets/controls",
          "model_name": "FloatProgressModel",
          "state": {
            "_view_name": "ProgressView",
            "style": "IPY_MODEL_7ee9c82f9a634870acef738a143b95eb",
            "_dom_classes": [],
            "description": "",
            "_model_name": "FloatProgressModel",
            "bar_style": "success",
            "max": 28881,
            "_view_module": "@jupyter-widgets/controls",
            "_model_module_version": "1.5.0",
            "value": 28881,
            "_view_count": null,
            "_view_module_version": "1.5.0",
            "orientation": "horizontal",
            "min": 0,
            "description_tooltip": null,
            "_model_module": "@jupyter-widgets/controls",
            "layout": "IPY_MODEL_6a02c072a668436eb7945ffa5a61b0ab"
          }
        },
        "11a3d6f20c93407faf05934ac0c546c9": {
          "model_module": "@jupyter-widgets/controls",
          "model_name": "HTMLModel",
          "state": {
            "_view_name": "HTMLView",
            "style": "IPY_MODEL_83eca2787dcf4721a914233cc7942037",
            "_dom_classes": [],
            "description": "",
            "_model_name": "HTMLModel",
            "placeholder": "​",
            "_view_module": "@jupyter-widgets/controls",
            "_model_module_version": "1.5.0",
            "value": " 29696/? [00:21&lt;00:00, 1409.37it/s]",
            "_view_count": null,
            "_view_module_version": "1.5.0",
            "description_tooltip": null,
            "_model_module": "@jupyter-widgets/controls",
            "layout": "IPY_MODEL_939562ae1248416b995cb27467ada6ae"
          }
        },
        "7ee9c82f9a634870acef738a143b95eb": {
          "model_module": "@jupyter-widgets/controls",
          "model_name": "ProgressStyleModel",
          "state": {
            "_view_name": "StyleView",
            "_model_name": "ProgressStyleModel",
            "description_width": "initial",
            "_view_module": "@jupyter-widgets/base",
            "_model_module_version": "1.5.0",
            "_view_count": null,
            "_view_module_version": "1.2.0",
            "bar_color": null,
            "_model_module": "@jupyter-widgets/controls"
          }
        },
        "6a02c072a668436eb7945ffa5a61b0ab": {
          "model_module": "@jupyter-widgets/base",
          "model_name": "LayoutModel",
          "state": {
            "_view_name": "LayoutView",
            "grid_template_rows": null,
            "right": null,
            "justify_content": null,
            "_view_module": "@jupyter-widgets/base",
            "overflow": null,
            "_model_module_version": "1.2.0",
            "_view_count": null,
            "flex_flow": null,
            "width": null,
            "min_width": null,
            "border": null,
            "align_items": null,
            "bottom": null,
            "_model_module": "@jupyter-widgets/base",
            "top": null,
            "grid_column": null,
            "overflow_y": null,
            "overflow_x": null,
            "grid_auto_flow": null,
            "grid_area": null,
            "grid_template_columns": null,
            "flex": null,
            "_model_name": "LayoutModel",
            "justify_items": null,
            "grid_row": null,
            "max_height": null,
            "align_content": null,
            "visibility": null,
            "align_self": null,
            "height": null,
            "min_height": null,
            "padding": null,
            "grid_auto_rows": null,
            "grid_gap": null,
            "max_width": null,
            "order": null,
            "_view_module_version": "1.2.0",
            "grid_template_areas": null,
            "object_position": null,
            "object_fit": null,
            "grid_auto_columns": null,
            "margin": null,
            "display": null,
            "left": null
          }
        },
        "83eca2787dcf4721a914233cc7942037": {
          "model_module": "@jupyter-widgets/controls",
          "model_name": "DescriptionStyleModel",
          "state": {
            "_view_name": "StyleView",
            "_model_name": "DescriptionStyleModel",
            "description_width": "",
            "_view_module": "@jupyter-widgets/base",
            "_model_module_version": "1.5.0",
            "_view_count": null,
            "_view_module_version": "1.2.0",
            "_model_module": "@jupyter-widgets/controls"
          }
        },
        "939562ae1248416b995cb27467ada6ae": {
          "model_module": "@jupyter-widgets/base",
          "model_name": "LayoutModel",
          "state": {
            "_view_name": "LayoutView",
            "grid_template_rows": null,
            "right": null,
            "justify_content": null,
            "_view_module": "@jupyter-widgets/base",
            "overflow": null,
            "_model_module_version": "1.2.0",
            "_view_count": null,
            "flex_flow": null,
            "width": null,
            "min_width": null,
            "border": null,
            "align_items": null,
            "bottom": null,
            "_model_module": "@jupyter-widgets/base",
            "top": null,
            "grid_column": null,
            "overflow_y": null,
            "overflow_x": null,
            "grid_auto_flow": null,
            "grid_area": null,
            "grid_template_columns": null,
            "flex": null,
            "_model_name": "LayoutModel",
            "justify_items": null,
            "grid_row": null,
            "max_height": null,
            "align_content": null,
            "visibility": null,
            "align_self": null,
            "height": null,
            "min_height": null,
            "padding": null,
            "grid_auto_rows": null,
            "grid_gap": null,
            "max_width": null,
            "order": null,
            "_view_module_version": "1.2.0",
            "grid_template_areas": null,
            "object_position": null,
            "object_fit": null,
            "grid_auto_columns": null,
            "margin": null,
            "display": null,
            "left": null
          }
        },
        "99da311b774a46dcae824aeace89f747": {
          "model_module": "@jupyter-widgets/controls",
          "model_name": "HBoxModel",
          "state": {
            "_view_name": "HBoxView",
            "_dom_classes": [],
            "_model_name": "HBoxModel",
            "_view_module": "@jupyter-widgets/controls",
            "_model_module_version": "1.5.0",
            "_view_count": null,
            "_view_module_version": "1.5.0",
            "box_style": "",
            "layout": "IPY_MODEL_e8821cd914d44f50b40769956f9257a7",
            "_model_module": "@jupyter-widgets/controls",
            "children": [
              "IPY_MODEL_458c60c8c92c43fea41692055b51f657",
              "IPY_MODEL_7d603e3cd7614051959b750f34e7b52b"
            ]
          }
        },
        "e8821cd914d44f50b40769956f9257a7": {
          "model_module": "@jupyter-widgets/base",
          "model_name": "LayoutModel",
          "state": {
            "_view_name": "LayoutView",
            "grid_template_rows": null,
            "right": null,
            "justify_content": null,
            "_view_module": "@jupyter-widgets/base",
            "overflow": null,
            "_model_module_version": "1.2.0",
            "_view_count": null,
            "flex_flow": null,
            "width": null,
            "min_width": null,
            "border": null,
            "align_items": null,
            "bottom": null,
            "_model_module": "@jupyter-widgets/base",
            "top": null,
            "grid_column": null,
            "overflow_y": null,
            "overflow_x": null,
            "grid_auto_flow": null,
            "grid_area": null,
            "grid_template_columns": null,
            "flex": null,
            "_model_name": "LayoutModel",
            "justify_items": null,
            "grid_row": null,
            "max_height": null,
            "align_content": null,
            "visibility": null,
            "align_self": null,
            "height": null,
            "min_height": null,
            "padding": null,
            "grid_auto_rows": null,
            "grid_gap": null,
            "max_width": null,
            "order": null,
            "_view_module_version": "1.2.0",
            "grid_template_areas": null,
            "object_position": null,
            "object_fit": null,
            "grid_auto_columns": null,
            "margin": null,
            "display": null,
            "left": null
          }
        },
        "458c60c8c92c43fea41692055b51f657": {
          "model_module": "@jupyter-widgets/controls",
          "model_name": "FloatProgressModel",
          "state": {
            "_view_name": "ProgressView",
            "style": "IPY_MODEL_a3a5b210168144e5a299b606a00d45ff",
            "_dom_classes": [],
            "description": "",
            "_model_name": "FloatProgressModel",
            "bar_style": "success",
            "max": 1648877,
            "_view_module": "@jupyter-widgets/controls",
            "_model_module_version": "1.5.0",
            "value": 1648877,
            "_view_count": null,
            "_view_module_version": "1.5.0",
            "orientation": "horizontal",
            "min": 0,
            "description_tooltip": null,
            "_model_module": "@jupyter-widgets/controls",
            "layout": "IPY_MODEL_7e07a5611884472d9755d4a237f55648"
          }
        },
        "7d603e3cd7614051959b750f34e7b52b": {
          "model_module": "@jupyter-widgets/controls",
          "model_name": "HTMLModel",
          "state": {
            "_view_name": "HTMLView",
            "style": "IPY_MODEL_7b3666d1d7af4ded9f4181d289104a76",
            "_dom_classes": [],
            "description": "",
            "_model_name": "HTMLModel",
            "placeholder": "​",
            "_view_module": "@jupyter-widgets/controls",
            "_model_module_version": "1.5.0",
            "value": " 1649664/? [00:51&lt;00:00, 32329.16it/s]",
            "_view_count": null,
            "_view_module_version": "1.5.0",
            "description_tooltip": null,
            "_model_module": "@jupyter-widgets/controls",
            "layout": "IPY_MODEL_6877fe17524e4f3cac3bb20cd54a681f"
          }
        },
        "a3a5b210168144e5a299b606a00d45ff": {
          "model_module": "@jupyter-widgets/controls",
          "model_name": "ProgressStyleModel",
          "state": {
            "_view_name": "StyleView",
            "_model_name": "ProgressStyleModel",
            "description_width": "initial",
            "_view_module": "@jupyter-widgets/base",
            "_model_module_version": "1.5.0",
            "_view_count": null,
            "_view_module_version": "1.2.0",
            "bar_color": null,
            "_model_module": "@jupyter-widgets/controls"
          }
        },
        "7e07a5611884472d9755d4a237f55648": {
          "model_module": "@jupyter-widgets/base",
          "model_name": "LayoutModel",
          "state": {
            "_view_name": "LayoutView",
            "grid_template_rows": null,
            "right": null,
            "justify_content": null,
            "_view_module": "@jupyter-widgets/base",
            "overflow": null,
            "_model_module_version": "1.2.0",
            "_view_count": null,
            "flex_flow": null,
            "width": null,
            "min_width": null,
            "border": null,
            "align_items": null,
            "bottom": null,
            "_model_module": "@jupyter-widgets/base",
            "top": null,
            "grid_column": null,
            "overflow_y": null,
            "overflow_x": null,
            "grid_auto_flow": null,
            "grid_area": null,
            "grid_template_columns": null,
            "flex": null,
            "_model_name": "LayoutModel",
            "justify_items": null,
            "grid_row": null,
            "max_height": null,
            "align_content": null,
            "visibility": null,
            "align_self": null,
            "height": null,
            "min_height": null,
            "padding": null,
            "grid_auto_rows": null,
            "grid_gap": null,
            "max_width": null,
            "order": null,
            "_view_module_version": "1.2.0",
            "grid_template_areas": null,
            "object_position": null,
            "object_fit": null,
            "grid_auto_columns": null,
            "margin": null,
            "display": null,
            "left": null
          }
        },
        "7b3666d1d7af4ded9f4181d289104a76": {
          "model_module": "@jupyter-widgets/controls",
          "model_name": "DescriptionStyleModel",
          "state": {
            "_view_name": "StyleView",
            "_model_name": "DescriptionStyleModel",
            "description_width": "",
            "_view_module": "@jupyter-widgets/base",
            "_model_module_version": "1.5.0",
            "_view_count": null,
            "_view_module_version": "1.2.0",
            "_model_module": "@jupyter-widgets/controls"
          }
        },
        "6877fe17524e4f3cac3bb20cd54a681f": {
          "model_module": "@jupyter-widgets/base",
          "model_name": "LayoutModel",
          "state": {
            "_view_name": "LayoutView",
            "grid_template_rows": null,
            "right": null,
            "justify_content": null,
            "_view_module": "@jupyter-widgets/base",
            "overflow": null,
            "_model_module_version": "1.2.0",
            "_view_count": null,
            "flex_flow": null,
            "width": null,
            "min_width": null,
            "border": null,
            "align_items": null,
            "bottom": null,
            "_model_module": "@jupyter-widgets/base",
            "top": null,
            "grid_column": null,
            "overflow_y": null,
            "overflow_x": null,
            "grid_auto_flow": null,
            "grid_area": null,
            "grid_template_columns": null,
            "flex": null,
            "_model_name": "LayoutModel",
            "justify_items": null,
            "grid_row": null,
            "max_height": null,
            "align_content": null,
            "visibility": null,
            "align_self": null,
            "height": null,
            "min_height": null,
            "padding": null,
            "grid_auto_rows": null,
            "grid_gap": null,
            "max_width": null,
            "order": null,
            "_view_module_version": "1.2.0",
            "grid_template_areas": null,
            "object_position": null,
            "object_fit": null,
            "grid_auto_columns": null,
            "margin": null,
            "display": null,
            "left": null
          }
        },
        "ea949ff85b144cbea3f6f1dff766364e": {
          "model_module": "@jupyter-widgets/controls",
          "model_name": "HBoxModel",
          "state": {
            "_view_name": "HBoxView",
            "_dom_classes": [],
            "_model_name": "HBoxModel",
            "_view_module": "@jupyter-widgets/controls",
            "_model_module_version": "1.5.0",
            "_view_count": null,
            "_view_module_version": "1.5.0",
            "box_style": "",
            "layout": "IPY_MODEL_5f3e7599e63d40859c91de2cc96a8c84",
            "_model_module": "@jupyter-widgets/controls",
            "children": [
              "IPY_MODEL_b89f7886e23947069542ab889aad1554",
              "IPY_MODEL_6abd5f72a8604d9587fce48ca6da593b"
            ]
          }
        },
        "5f3e7599e63d40859c91de2cc96a8c84": {
          "model_module": "@jupyter-widgets/base",
          "model_name": "LayoutModel",
          "state": {
            "_view_name": "LayoutView",
            "grid_template_rows": null,
            "right": null,
            "justify_content": null,
            "_view_module": "@jupyter-widgets/base",
            "overflow": null,
            "_model_module_version": "1.2.0",
            "_view_count": null,
            "flex_flow": null,
            "width": null,
            "min_width": null,
            "border": null,
            "align_items": null,
            "bottom": null,
            "_model_module": "@jupyter-widgets/base",
            "top": null,
            "grid_column": null,
            "overflow_y": null,
            "overflow_x": null,
            "grid_auto_flow": null,
            "grid_area": null,
            "grid_template_columns": null,
            "flex": null,
            "_model_name": "LayoutModel",
            "justify_items": null,
            "grid_row": null,
            "max_height": null,
            "align_content": null,
            "visibility": null,
            "align_self": null,
            "height": null,
            "min_height": null,
            "padding": null,
            "grid_auto_rows": null,
            "grid_gap": null,
            "max_width": null,
            "order": null,
            "_view_module_version": "1.2.0",
            "grid_template_areas": null,
            "object_position": null,
            "object_fit": null,
            "grid_auto_columns": null,
            "margin": null,
            "display": null,
            "left": null
          }
        },
        "b89f7886e23947069542ab889aad1554": {
          "model_module": "@jupyter-widgets/controls",
          "model_name": "FloatProgressModel",
          "state": {
            "_view_name": "ProgressView",
            "style": "IPY_MODEL_37366b3ae3f84aeeae3a3993741bd473",
            "_dom_classes": [],
            "description": "",
            "_model_name": "FloatProgressModel",
            "bar_style": "success",
            "max": 4542,
            "_view_module": "@jupyter-widgets/controls",
            "_model_module_version": "1.5.0",
            "value": 4542,
            "_view_count": null,
            "_view_module_version": "1.5.0",
            "orientation": "horizontal",
            "min": 0,
            "description_tooltip": null,
            "_model_module": "@jupyter-widgets/controls",
            "layout": "IPY_MODEL_433972786d7f4ed1a4144f1876707fed"
          }
        },
        "6abd5f72a8604d9587fce48ca6da593b": {
          "model_module": "@jupyter-widgets/controls",
          "model_name": "HTMLModel",
          "state": {
            "_view_name": "HTMLView",
            "style": "IPY_MODEL_6d4238a37ab84c818984bb912dbcb2ad",
            "_dom_classes": [],
            "description": "",
            "_model_name": "HTMLModel",
            "placeholder": "​",
            "_view_module": "@jupyter-widgets/controls",
            "_model_module_version": "1.5.0",
            "value": " 5120/? [00:00&lt;00:00, 15842.10it/s]",
            "_view_count": null,
            "_view_module_version": "1.5.0",
            "description_tooltip": null,
            "_model_module": "@jupyter-widgets/controls",
            "layout": "IPY_MODEL_d9d6f859ed274844a611ee17e827f2e7"
          }
        },
        "37366b3ae3f84aeeae3a3993741bd473": {
          "model_module": "@jupyter-widgets/controls",
          "model_name": "ProgressStyleModel",
          "state": {
            "_view_name": "StyleView",
            "_model_name": "ProgressStyleModel",
            "description_width": "initial",
            "_view_module": "@jupyter-widgets/base",
            "_model_module_version": "1.5.0",
            "_view_count": null,
            "_view_module_version": "1.2.0",
            "bar_color": null,
            "_model_module": "@jupyter-widgets/controls"
          }
        },
        "433972786d7f4ed1a4144f1876707fed": {
          "model_module": "@jupyter-widgets/base",
          "model_name": "LayoutModel",
          "state": {
            "_view_name": "LayoutView",
            "grid_template_rows": null,
            "right": null,
            "justify_content": null,
            "_view_module": "@jupyter-widgets/base",
            "overflow": null,
            "_model_module_version": "1.2.0",
            "_view_count": null,
            "flex_flow": null,
            "width": null,
            "min_width": null,
            "border": null,
            "align_items": null,
            "bottom": null,
            "_model_module": "@jupyter-widgets/base",
            "top": null,
            "grid_column": null,
            "overflow_y": null,
            "overflow_x": null,
            "grid_auto_flow": null,
            "grid_area": null,
            "grid_template_columns": null,
            "flex": null,
            "_model_name": "LayoutModel",
            "justify_items": null,
            "grid_row": null,
            "max_height": null,
            "align_content": null,
            "visibility": null,
            "align_self": null,
            "height": null,
            "min_height": null,
            "padding": null,
            "grid_auto_rows": null,
            "grid_gap": null,
            "max_width": null,
            "order": null,
            "_view_module_version": "1.2.0",
            "grid_template_areas": null,
            "object_position": null,
            "object_fit": null,
            "grid_auto_columns": null,
            "margin": null,
            "display": null,
            "left": null
          }
        },
        "6d4238a37ab84c818984bb912dbcb2ad": {
          "model_module": "@jupyter-widgets/controls",
          "model_name": "DescriptionStyleModel",
          "state": {
            "_view_name": "StyleView",
            "_model_name": "DescriptionStyleModel",
            "description_width": "",
            "_view_module": "@jupyter-widgets/base",
            "_model_module_version": "1.5.0",
            "_view_count": null,
            "_view_module_version": "1.2.0",
            "_model_module": "@jupyter-widgets/controls"
          }
        },
        "d9d6f859ed274844a611ee17e827f2e7": {
          "model_module": "@jupyter-widgets/base",
          "model_name": "LayoutModel",
          "state": {
            "_view_name": "LayoutView",
            "grid_template_rows": null,
            "right": null,
            "justify_content": null,
            "_view_module": "@jupyter-widgets/base",
            "overflow": null,
            "_model_module_version": "1.2.0",
            "_view_count": null,
            "flex_flow": null,
            "width": null,
            "min_width": null,
            "border": null,
            "align_items": null,
            "bottom": null,
            "_model_module": "@jupyter-widgets/base",
            "top": null,
            "grid_column": null,
            "overflow_y": null,
            "overflow_x": null,
            "grid_auto_flow": null,
            "grid_area": null,
            "grid_template_columns": null,
            "flex": null,
            "_model_name": "LayoutModel",
            "justify_items": null,
            "grid_row": null,
            "max_height": null,
            "align_content": null,
            "visibility": null,
            "align_self": null,
            "height": null,
            "min_height": null,
            "padding": null,
            "grid_auto_rows": null,
            "grid_gap": null,
            "max_width": null,
            "order": null,
            "_view_module_version": "1.2.0",
            "grid_template_areas": null,
            "object_position": null,
            "object_fit": null,
            "grid_auto_columns": null,
            "margin": null,
            "display": null,
            "left": null
          }
        },
        "0851a5cbed6f4fdc8a1449d14518a223": {
          "model_module": "@jupyter-widgets/controls",
          "model_name": "HBoxModel",
          "state": {
            "_view_name": "HBoxView",
            "_dom_classes": [],
            "_model_name": "HBoxModel",
            "_view_module": "@jupyter-widgets/controls",
            "_model_module_version": "1.5.0",
            "_view_count": null,
            "_view_module_version": "1.5.0",
            "box_style": "",
            "layout": "IPY_MODEL_c433fa11db3349d7a0cc0adcc903e4f4",
            "_model_module": "@jupyter-widgets/controls",
            "children": [
              "IPY_MODEL_9ee61541287943a4bfdceb0e514ddc3c",
              "IPY_MODEL_85531dd5f03a4f30a2e8692ee2a70297"
            ]
          }
        },
        "c433fa11db3349d7a0cc0adcc903e4f4": {
          "model_module": "@jupyter-widgets/base",
          "model_name": "LayoutModel",
          "state": {
            "_view_name": "LayoutView",
            "grid_template_rows": null,
            "right": null,
            "justify_content": null,
            "_view_module": "@jupyter-widgets/base",
            "overflow": null,
            "_model_module_version": "1.2.0",
            "_view_count": null,
            "flex_flow": null,
            "width": null,
            "min_width": null,
            "border": null,
            "align_items": null,
            "bottom": null,
            "_model_module": "@jupyter-widgets/base",
            "top": null,
            "grid_column": null,
            "overflow_y": null,
            "overflow_x": null,
            "grid_auto_flow": null,
            "grid_area": null,
            "grid_template_columns": null,
            "flex": null,
            "_model_name": "LayoutModel",
            "justify_items": null,
            "grid_row": null,
            "max_height": null,
            "align_content": null,
            "visibility": null,
            "align_self": null,
            "height": null,
            "min_height": null,
            "padding": null,
            "grid_auto_rows": null,
            "grid_gap": null,
            "max_width": null,
            "order": null,
            "_view_module_version": "1.2.0",
            "grid_template_areas": null,
            "object_position": null,
            "object_fit": null,
            "grid_auto_columns": null,
            "margin": null,
            "display": null,
            "left": null
          }
        },
        "9ee61541287943a4bfdceb0e514ddc3c": {
          "model_module": "@jupyter-widgets/controls",
          "model_name": "FloatProgressModel",
          "state": {
            "_view_name": "ProgressView",
            "style": "IPY_MODEL_fe44d2c5a5b64ac3ac8deaaa47cd7037",
            "_dom_classes": [],
            "description": "100%",
            "_model_name": "FloatProgressModel",
            "bar_style": "success",
            "max": 50000,
            "_view_module": "@jupyter-widgets/controls",
            "_model_module_version": "1.5.0",
            "value": 50000,
            "_view_count": null,
            "_view_module_version": "1.5.0",
            "orientation": "horizontal",
            "min": 0,
            "description_tooltip": null,
            "_model_module": "@jupyter-widgets/controls",
            "layout": "IPY_MODEL_3d709ff3601042d4bb536f6c664ad781"
          }
        },
        "85531dd5f03a4f30a2e8692ee2a70297": {
          "model_module": "@jupyter-widgets/controls",
          "model_name": "HTMLModel",
          "state": {
            "_view_name": "HTMLView",
            "style": "IPY_MODEL_a5a19396a34248e1a6f9b819b82276c9",
            "_dom_classes": [],
            "description": "",
            "_model_name": "HTMLModel",
            "placeholder": "​",
            "_view_module": "@jupyter-widgets/controls",
            "_model_module_version": "1.5.0",
            "value": " 50000/50000 [00:10&lt;00:00, 4782.01it/s]",
            "_view_count": null,
            "_view_module_version": "1.5.0",
            "description_tooltip": null,
            "_model_module": "@jupyter-widgets/controls",
            "layout": "IPY_MODEL_9147c04797f3400abc11be141984ffd1"
          }
        },
        "fe44d2c5a5b64ac3ac8deaaa47cd7037": {
          "model_module": "@jupyter-widgets/controls",
          "model_name": "ProgressStyleModel",
          "state": {
            "_view_name": "StyleView",
            "_model_name": "ProgressStyleModel",
            "description_width": "initial",
            "_view_module": "@jupyter-widgets/base",
            "_model_module_version": "1.5.0",
            "_view_count": null,
            "_view_module_version": "1.2.0",
            "bar_color": null,
            "_model_module": "@jupyter-widgets/controls"
          }
        },
        "3d709ff3601042d4bb536f6c664ad781": {
          "model_module": "@jupyter-widgets/base",
          "model_name": "LayoutModel",
          "state": {
            "_view_name": "LayoutView",
            "grid_template_rows": null,
            "right": null,
            "justify_content": null,
            "_view_module": "@jupyter-widgets/base",
            "overflow": null,
            "_model_module_version": "1.2.0",
            "_view_count": null,
            "flex_flow": null,
            "width": null,
            "min_width": null,
            "border": null,
            "align_items": null,
            "bottom": null,
            "_model_module": "@jupyter-widgets/base",
            "top": null,
            "grid_column": null,
            "overflow_y": null,
            "overflow_x": null,
            "grid_auto_flow": null,
            "grid_area": null,
            "grid_template_columns": null,
            "flex": null,
            "_model_name": "LayoutModel",
            "justify_items": null,
            "grid_row": null,
            "max_height": null,
            "align_content": null,
            "visibility": null,
            "align_self": null,
            "height": null,
            "min_height": null,
            "padding": null,
            "grid_auto_rows": null,
            "grid_gap": null,
            "max_width": null,
            "order": null,
            "_view_module_version": "1.2.0",
            "grid_template_areas": null,
            "object_position": null,
            "object_fit": null,
            "grid_auto_columns": null,
            "margin": null,
            "display": null,
            "left": null
          }
        },
        "a5a19396a34248e1a6f9b819b82276c9": {
          "model_module": "@jupyter-widgets/controls",
          "model_name": "DescriptionStyleModel",
          "state": {
            "_view_name": "StyleView",
            "_model_name": "DescriptionStyleModel",
            "description_width": "",
            "_view_module": "@jupyter-widgets/base",
            "_model_module_version": "1.5.0",
            "_view_count": null,
            "_view_module_version": "1.2.0",
            "_model_module": "@jupyter-widgets/controls"
          }
        },
        "9147c04797f3400abc11be141984ffd1": {
          "model_module": "@jupyter-widgets/base",
          "model_name": "LayoutModel",
          "state": {
            "_view_name": "LayoutView",
            "grid_template_rows": null,
            "right": null,
            "justify_content": null,
            "_view_module": "@jupyter-widgets/base",
            "overflow": null,
            "_model_module_version": "1.2.0",
            "_view_count": null,
            "flex_flow": null,
            "width": null,
            "min_width": null,
            "border": null,
            "align_items": null,
            "bottom": null,
            "_model_module": "@jupyter-widgets/base",
            "top": null,
            "grid_column": null,
            "overflow_y": null,
            "overflow_x": null,
            "grid_auto_flow": null,
            "grid_area": null,
            "grid_template_columns": null,
            "flex": null,
            "_model_name": "LayoutModel",
            "justify_items": null,
            "grid_row": null,
            "max_height": null,
            "align_content": null,
            "visibility": null,
            "align_self": null,
            "height": null,
            "min_height": null,
            "padding": null,
            "grid_auto_rows": null,
            "grid_gap": null,
            "max_width": null,
            "order": null,
            "_view_module_version": "1.2.0",
            "grid_template_areas": null,
            "object_position": null,
            "object_fit": null,
            "grid_auto_columns": null,
            "margin": null,
            "display": null,
            "left": null
          }
        },
        "6907851bfd7f4be3b6ac5b22ccd23ba1": {
          "model_module": "@jupyter-widgets/controls",
          "model_name": "HBoxModel",
          "state": {
            "_view_name": "HBoxView",
            "_dom_classes": [],
            "_model_name": "HBoxModel",
            "_view_module": "@jupyter-widgets/controls",
            "_model_module_version": "1.5.0",
            "_view_count": null,
            "_view_module_version": "1.5.0",
            "box_style": "",
            "layout": "IPY_MODEL_7bd8e564c6cf4d6f80346b8e27fd75fd",
            "_model_module": "@jupyter-widgets/controls",
            "children": [
              "IPY_MODEL_e1ba9e92fb534a399c7aeb6acee0ae0c",
              "IPY_MODEL_cab57502f5784bd3b06d12a9fd5389be"
            ]
          }
        },
        "7bd8e564c6cf4d6f80346b8e27fd75fd": {
          "model_module": "@jupyter-widgets/base",
          "model_name": "LayoutModel",
          "state": {
            "_view_name": "LayoutView",
            "grid_template_rows": null,
            "right": null,
            "justify_content": null,
            "_view_module": "@jupyter-widgets/base",
            "overflow": null,
            "_model_module_version": "1.2.0",
            "_view_count": null,
            "flex_flow": null,
            "width": null,
            "min_width": null,
            "border": null,
            "align_items": null,
            "bottom": null,
            "_model_module": "@jupyter-widgets/base",
            "top": null,
            "grid_column": null,
            "overflow_y": null,
            "overflow_x": null,
            "grid_auto_flow": null,
            "grid_area": null,
            "grid_template_columns": null,
            "flex": null,
            "_model_name": "LayoutModel",
            "justify_items": null,
            "grid_row": null,
            "max_height": null,
            "align_content": null,
            "visibility": null,
            "align_self": null,
            "height": null,
            "min_height": null,
            "padding": null,
            "grid_auto_rows": null,
            "grid_gap": null,
            "max_width": null,
            "order": null,
            "_view_module_version": "1.2.0",
            "grid_template_areas": null,
            "object_position": null,
            "object_fit": null,
            "grid_auto_columns": null,
            "margin": null,
            "display": null,
            "left": null
          }
        },
        "e1ba9e92fb534a399c7aeb6acee0ae0c": {
          "model_module": "@jupyter-widgets/controls",
          "model_name": "FloatProgressModel",
          "state": {
            "_view_name": "ProgressView",
            "style": "IPY_MODEL_20fd326c48b747cead1f33648bbf0fd8",
            "_dom_classes": [],
            "description": "100%",
            "_model_name": "FloatProgressModel",
            "bar_style": "success",
            "max": 10000,
            "_view_module": "@jupyter-widgets/controls",
            "_model_module_version": "1.5.0",
            "value": 10000,
            "_view_count": null,
            "_view_module_version": "1.5.0",
            "orientation": "horizontal",
            "min": 0,
            "description_tooltip": null,
            "_model_module": "@jupyter-widgets/controls",
            "layout": "IPY_MODEL_05edc08948fc43e48bb6475941e5e611"
          }
        },
        "cab57502f5784bd3b06d12a9fd5389be": {
          "model_module": "@jupyter-widgets/controls",
          "model_name": "HTMLModel",
          "state": {
            "_view_name": "HTMLView",
            "style": "IPY_MODEL_b3ec0e272eaa431589ec360b2d90d7a5",
            "_dom_classes": [],
            "description": "",
            "_model_name": "HTMLModel",
            "placeholder": "​",
            "_view_module": "@jupyter-widgets/controls",
            "_model_module_version": "1.5.0",
            "value": " 10000/10000 [20:47&lt;00:00,  8.02it/s]",
            "_view_count": null,
            "_view_module_version": "1.5.0",
            "description_tooltip": null,
            "_model_module": "@jupyter-widgets/controls",
            "layout": "IPY_MODEL_33c965c5c19943dface955a152489de6"
          }
        },
        "20fd326c48b747cead1f33648bbf0fd8": {
          "model_module": "@jupyter-widgets/controls",
          "model_name": "ProgressStyleModel",
          "state": {
            "_view_name": "StyleView",
            "_model_name": "ProgressStyleModel",
            "description_width": "initial",
            "_view_module": "@jupyter-widgets/base",
            "_model_module_version": "1.5.0",
            "_view_count": null,
            "_view_module_version": "1.2.0",
            "bar_color": null,
            "_model_module": "@jupyter-widgets/controls"
          }
        },
        "05edc08948fc43e48bb6475941e5e611": {
          "model_module": "@jupyter-widgets/base",
          "model_name": "LayoutModel",
          "state": {
            "_view_name": "LayoutView",
            "grid_template_rows": null,
            "right": null,
            "justify_content": null,
            "_view_module": "@jupyter-widgets/base",
            "overflow": null,
            "_model_module_version": "1.2.0",
            "_view_count": null,
            "flex_flow": null,
            "width": null,
            "min_width": null,
            "border": null,
            "align_items": null,
            "bottom": null,
            "_model_module": "@jupyter-widgets/base",
            "top": null,
            "grid_column": null,
            "overflow_y": null,
            "overflow_x": null,
            "grid_auto_flow": null,
            "grid_area": null,
            "grid_template_columns": null,
            "flex": null,
            "_model_name": "LayoutModel",
            "justify_items": null,
            "grid_row": null,
            "max_height": null,
            "align_content": null,
            "visibility": null,
            "align_self": null,
            "height": null,
            "min_height": null,
            "padding": null,
            "grid_auto_rows": null,
            "grid_gap": null,
            "max_width": null,
            "order": null,
            "_view_module_version": "1.2.0",
            "grid_template_areas": null,
            "object_position": null,
            "object_fit": null,
            "grid_auto_columns": null,
            "margin": null,
            "display": null,
            "left": null
          }
        },
        "b3ec0e272eaa431589ec360b2d90d7a5": {
          "model_module": "@jupyter-widgets/controls",
          "model_name": "DescriptionStyleModel",
          "state": {
            "_view_name": "StyleView",
            "_model_name": "DescriptionStyleModel",
            "description_width": "",
            "_view_module": "@jupyter-widgets/base",
            "_model_module_version": "1.5.0",
            "_view_count": null,
            "_view_module_version": "1.2.0",
            "_model_module": "@jupyter-widgets/controls"
          }
        },
        "33c965c5c19943dface955a152489de6": {
          "model_module": "@jupyter-widgets/base",
          "model_name": "LayoutModel",
          "state": {
            "_view_name": "LayoutView",
            "grid_template_rows": null,
            "right": null,
            "justify_content": null,
            "_view_module": "@jupyter-widgets/base",
            "overflow": null,
            "_model_module_version": "1.2.0",
            "_view_count": null,
            "flex_flow": null,
            "width": null,
            "min_width": null,
            "border": null,
            "align_items": null,
            "bottom": null,
            "_model_module": "@jupyter-widgets/base",
            "top": null,
            "grid_column": null,
            "overflow_y": null,
            "overflow_x": null,
            "grid_auto_flow": null,
            "grid_area": null,
            "grid_template_columns": null,
            "flex": null,
            "_model_name": "LayoutModel",
            "justify_items": null,
            "grid_row": null,
            "max_height": null,
            "align_content": null,
            "visibility": null,
            "align_self": null,
            "height": null,
            "min_height": null,
            "padding": null,
            "grid_auto_rows": null,
            "grid_gap": null,
            "max_width": null,
            "order": null,
            "_view_module_version": "1.2.0",
            "grid_template_areas": null,
            "object_position": null,
            "object_fit": null,
            "grid_auto_columns": null,
            "margin": null,
            "display": null,
            "left": null
          }
        },
        "dc06c0987f4b428a8970cfe8d4dfca10": {
          "model_module": "@jupyter-widgets/controls",
          "model_name": "HBoxModel",
          "state": {
            "_view_name": "HBoxView",
            "_dom_classes": [],
            "_model_name": "HBoxModel",
            "_view_module": "@jupyter-widgets/controls",
            "_model_module_version": "1.5.0",
            "_view_count": null,
            "_view_module_version": "1.5.0",
            "box_style": "",
            "layout": "IPY_MODEL_b938703be45641dc87ae0339fa1c6f47",
            "_model_module": "@jupyter-widgets/controls",
            "children": [
              "IPY_MODEL_3c8a7b7c880746f3b6518317b4438d33",
              "IPY_MODEL_e8026846202b480c8c8811494fc58dae"
            ]
          }
        },
        "b938703be45641dc87ae0339fa1c6f47": {
          "model_module": "@jupyter-widgets/base",
          "model_name": "LayoutModel",
          "state": {
            "_view_name": "LayoutView",
            "grid_template_rows": null,
            "right": null,
            "justify_content": null,
            "_view_module": "@jupyter-widgets/base",
            "overflow": null,
            "_model_module_version": "1.2.0",
            "_view_count": null,
            "flex_flow": null,
            "width": null,
            "min_width": null,
            "border": null,
            "align_items": null,
            "bottom": null,
            "_model_module": "@jupyter-widgets/base",
            "top": null,
            "grid_column": null,
            "overflow_y": null,
            "overflow_x": null,
            "grid_auto_flow": null,
            "grid_area": null,
            "grid_template_columns": null,
            "flex": null,
            "_model_name": "LayoutModel",
            "justify_items": null,
            "grid_row": null,
            "max_height": null,
            "align_content": null,
            "visibility": null,
            "align_self": null,
            "height": null,
            "min_height": null,
            "padding": null,
            "grid_auto_rows": null,
            "grid_gap": null,
            "max_width": null,
            "order": null,
            "_view_module_version": "1.2.0",
            "grid_template_areas": null,
            "object_position": null,
            "object_fit": null,
            "grid_auto_columns": null,
            "margin": null,
            "display": null,
            "left": null
          }
        },
        "3c8a7b7c880746f3b6518317b4438d33": {
          "model_module": "@jupyter-widgets/controls",
          "model_name": "FloatProgressModel",
          "state": {
            "_view_name": "ProgressView",
            "style": "IPY_MODEL_265eb494e6ea4ead9be31ed2fa0a00d1",
            "_dom_classes": [],
            "description": "100%",
            "_model_name": "FloatProgressModel",
            "bar_style": "success",
            "max": 10000,
            "_view_module": "@jupyter-widgets/controls",
            "_model_module_version": "1.5.0",
            "value": 10000,
            "_view_count": null,
            "_view_module_version": "1.5.0",
            "orientation": "horizontal",
            "min": 0,
            "description_tooltip": null,
            "_model_module": "@jupyter-widgets/controls",
            "layout": "IPY_MODEL_e6943f5ff3074a85a6f5f769ddb79de0"
          }
        },
        "e8026846202b480c8c8811494fc58dae": {
          "model_module": "@jupyter-widgets/controls",
          "model_name": "HTMLModel",
          "state": {
            "_view_name": "HTMLView",
            "style": "IPY_MODEL_db58cfbc267045418d15fa09ffb12f4c",
            "_dom_classes": [],
            "description": "",
            "_model_name": "HTMLModel",
            "placeholder": "​",
            "_view_module": "@jupyter-widgets/controls",
            "_model_module_version": "1.5.0",
            "value": " 10000/10000 [20:45&lt;00:00,  8.03it/s]",
            "_view_count": null,
            "_view_module_version": "1.5.0",
            "description_tooltip": null,
            "_model_module": "@jupyter-widgets/controls",
            "layout": "IPY_MODEL_64f026a5a16545bbac42d5c8e7ec74b9"
          }
        },
        "265eb494e6ea4ead9be31ed2fa0a00d1": {
          "model_module": "@jupyter-widgets/controls",
          "model_name": "ProgressStyleModel",
          "state": {
            "_view_name": "StyleView",
            "_model_name": "ProgressStyleModel",
            "description_width": "initial",
            "_view_module": "@jupyter-widgets/base",
            "_model_module_version": "1.5.0",
            "_view_count": null,
            "_view_module_version": "1.2.0",
            "bar_color": null,
            "_model_module": "@jupyter-widgets/controls"
          }
        },
        "e6943f5ff3074a85a6f5f769ddb79de0": {
          "model_module": "@jupyter-widgets/base",
          "model_name": "LayoutModel",
          "state": {
            "_view_name": "LayoutView",
            "grid_template_rows": null,
            "right": null,
            "justify_content": null,
            "_view_module": "@jupyter-widgets/base",
            "overflow": null,
            "_model_module_version": "1.2.0",
            "_view_count": null,
            "flex_flow": null,
            "width": null,
            "min_width": null,
            "border": null,
            "align_items": null,
            "bottom": null,
            "_model_module": "@jupyter-widgets/base",
            "top": null,
            "grid_column": null,
            "overflow_y": null,
            "overflow_x": null,
            "grid_auto_flow": null,
            "grid_area": null,
            "grid_template_columns": null,
            "flex": null,
            "_model_name": "LayoutModel",
            "justify_items": null,
            "grid_row": null,
            "max_height": null,
            "align_content": null,
            "visibility": null,
            "align_self": null,
            "height": null,
            "min_height": null,
            "padding": null,
            "grid_auto_rows": null,
            "grid_gap": null,
            "max_width": null,
            "order": null,
            "_view_module_version": "1.2.0",
            "grid_template_areas": null,
            "object_position": null,
            "object_fit": null,
            "grid_auto_columns": null,
            "margin": null,
            "display": null,
            "left": null
          }
        },
        "db58cfbc267045418d15fa09ffb12f4c": {
          "model_module": "@jupyter-widgets/controls",
          "model_name": "DescriptionStyleModel",
          "state": {
            "_view_name": "StyleView",
            "_model_name": "DescriptionStyleModel",
            "description_width": "",
            "_view_module": "@jupyter-widgets/base",
            "_model_module_version": "1.5.0",
            "_view_count": null,
            "_view_module_version": "1.2.0",
            "_model_module": "@jupyter-widgets/controls"
          }
        },
        "64f026a5a16545bbac42d5c8e7ec74b9": {
          "model_module": "@jupyter-widgets/base",
          "model_name": "LayoutModel",
          "state": {
            "_view_name": "LayoutView",
            "grid_template_rows": null,
            "right": null,
            "justify_content": null,
            "_view_module": "@jupyter-widgets/base",
            "overflow": null,
            "_model_module_version": "1.2.0",
            "_view_count": null,
            "flex_flow": null,
            "width": null,
            "min_width": null,
            "border": null,
            "align_items": null,
            "bottom": null,
            "_model_module": "@jupyter-widgets/base",
            "top": null,
            "grid_column": null,
            "overflow_y": null,
            "overflow_x": null,
            "grid_auto_flow": null,
            "grid_area": null,
            "grid_template_columns": null,
            "flex": null,
            "_model_name": "LayoutModel",
            "justify_items": null,
            "grid_row": null,
            "max_height": null,
            "align_content": null,
            "visibility": null,
            "align_self": null,
            "height": null,
            "min_height": null,
            "padding": null,
            "grid_auto_rows": null,
            "grid_gap": null,
            "max_width": null,
            "order": null,
            "_view_module_version": "1.2.0",
            "grid_template_areas": null,
            "object_position": null,
            "object_fit": null,
            "grid_auto_columns": null,
            "margin": null,
            "display": null,
            "left": null
          }
        },
        "cc463517548c415da6ae5fc33896901f": {
          "model_module": "@jupyter-widgets/controls",
          "model_name": "HBoxModel",
          "state": {
            "_view_name": "HBoxView",
            "_dom_classes": [],
            "_model_name": "HBoxModel",
            "_view_module": "@jupyter-widgets/controls",
            "_model_module_version": "1.5.0",
            "_view_count": null,
            "_view_module_version": "1.5.0",
            "box_style": "",
            "layout": "IPY_MODEL_d9369248bb964a69ba608c72cd5c2a1f",
            "_model_module": "@jupyter-widgets/controls",
            "children": [
              "IPY_MODEL_7d1f750ee76249088b20c4588baac4b8",
              "IPY_MODEL_2b76b135cf534f7c9f8ba8e7482aff06"
            ]
          }
        },
        "d9369248bb964a69ba608c72cd5c2a1f": {
          "model_module": "@jupyter-widgets/base",
          "model_name": "LayoutModel",
          "state": {
            "_view_name": "LayoutView",
            "grid_template_rows": null,
            "right": null,
            "justify_content": null,
            "_view_module": "@jupyter-widgets/base",
            "overflow": null,
            "_model_module_version": "1.2.0",
            "_view_count": null,
            "flex_flow": null,
            "width": null,
            "min_width": null,
            "border": null,
            "align_items": null,
            "bottom": null,
            "_model_module": "@jupyter-widgets/base",
            "top": null,
            "grid_column": null,
            "overflow_y": null,
            "overflow_x": null,
            "grid_auto_flow": null,
            "grid_area": null,
            "grid_template_columns": null,
            "flex": null,
            "_model_name": "LayoutModel",
            "justify_items": null,
            "grid_row": null,
            "max_height": null,
            "align_content": null,
            "visibility": null,
            "align_self": null,
            "height": null,
            "min_height": null,
            "padding": null,
            "grid_auto_rows": null,
            "grid_gap": null,
            "max_width": null,
            "order": null,
            "_view_module_version": "1.2.0",
            "grid_template_areas": null,
            "object_position": null,
            "object_fit": null,
            "grid_auto_columns": null,
            "margin": null,
            "display": null,
            "left": null
          }
        },
        "7d1f750ee76249088b20c4588baac4b8": {
          "model_module": "@jupyter-widgets/controls",
          "model_name": "FloatProgressModel",
          "state": {
            "_view_name": "ProgressView",
            "style": "IPY_MODEL_216c9901960348d39dafd874fe3ef373",
            "_dom_classes": [],
            "description": "100%",
            "_model_name": "FloatProgressModel",
            "bar_style": "success",
            "max": 10,
            "_view_module": "@jupyter-widgets/controls",
            "_model_module_version": "1.5.0",
            "value": 10,
            "_view_count": null,
            "_view_module_version": "1.5.0",
            "orientation": "horizontal",
            "min": 0,
            "description_tooltip": null,
            "_model_module": "@jupyter-widgets/controls",
            "layout": "IPY_MODEL_7299fa74864d495c8f1dfe89c6b1fa1b"
          }
        },
        "2b76b135cf534f7c9f8ba8e7482aff06": {
          "model_module": "@jupyter-widgets/controls",
          "model_name": "HTMLModel",
          "state": {
            "_view_name": "HTMLView",
            "style": "IPY_MODEL_4d76f95357954a7db0088f3f2bfbc016",
            "_dom_classes": [],
            "description": "",
            "_model_name": "HTMLModel",
            "placeholder": "​",
            "_view_module": "@jupyter-widgets/controls",
            "_model_module_version": "1.5.0",
            "value": " 10/10 [20:07&lt;00:00, 120.75s/it]",
            "_view_count": null,
            "_view_module_version": "1.5.0",
            "description_tooltip": null,
            "_model_module": "@jupyter-widgets/controls",
            "layout": "IPY_MODEL_8060bc3a29a542fc80ff0bf2895a6887"
          }
        },
        "216c9901960348d39dafd874fe3ef373": {
          "model_module": "@jupyter-widgets/controls",
          "model_name": "ProgressStyleModel",
          "state": {
            "_view_name": "StyleView",
            "_model_name": "ProgressStyleModel",
            "description_width": "initial",
            "_view_module": "@jupyter-widgets/base",
            "_model_module_version": "1.5.0",
            "_view_count": null,
            "_view_module_version": "1.2.0",
            "bar_color": null,
            "_model_module": "@jupyter-widgets/controls"
          }
        },
        "7299fa74864d495c8f1dfe89c6b1fa1b": {
          "model_module": "@jupyter-widgets/base",
          "model_name": "LayoutModel",
          "state": {
            "_view_name": "LayoutView",
            "grid_template_rows": null,
            "right": null,
            "justify_content": null,
            "_view_module": "@jupyter-widgets/base",
            "overflow": null,
            "_model_module_version": "1.2.0",
            "_view_count": null,
            "flex_flow": null,
            "width": null,
            "min_width": null,
            "border": null,
            "align_items": null,
            "bottom": null,
            "_model_module": "@jupyter-widgets/base",
            "top": null,
            "grid_column": null,
            "overflow_y": null,
            "overflow_x": null,
            "grid_auto_flow": null,
            "grid_area": null,
            "grid_template_columns": null,
            "flex": null,
            "_model_name": "LayoutModel",
            "justify_items": null,
            "grid_row": null,
            "max_height": null,
            "align_content": null,
            "visibility": null,
            "align_self": null,
            "height": null,
            "min_height": null,
            "padding": null,
            "grid_auto_rows": null,
            "grid_gap": null,
            "max_width": null,
            "order": null,
            "_view_module_version": "1.2.0",
            "grid_template_areas": null,
            "object_position": null,
            "object_fit": null,
            "grid_auto_columns": null,
            "margin": null,
            "display": null,
            "left": null
          }
        },
        "4d76f95357954a7db0088f3f2bfbc016": {
          "model_module": "@jupyter-widgets/controls",
          "model_name": "DescriptionStyleModel",
          "state": {
            "_view_name": "StyleView",
            "_model_name": "DescriptionStyleModel",
            "description_width": "",
            "_view_module": "@jupyter-widgets/base",
            "_model_module_version": "1.5.0",
            "_view_count": null,
            "_view_module_version": "1.2.0",
            "_model_module": "@jupyter-widgets/controls"
          }
        },
        "8060bc3a29a542fc80ff0bf2895a6887": {
          "model_module": "@jupyter-widgets/base",
          "model_name": "LayoutModel",
          "state": {
            "_view_name": "LayoutView",
            "grid_template_rows": null,
            "right": null,
            "justify_content": null,
            "_view_module": "@jupyter-widgets/base",
            "overflow": null,
            "_model_module_version": "1.2.0",
            "_view_count": null,
            "flex_flow": null,
            "width": null,
            "min_width": null,
            "border": null,
            "align_items": null,
            "bottom": null,
            "_model_module": "@jupyter-widgets/base",
            "top": null,
            "grid_column": null,
            "overflow_y": null,
            "overflow_x": null,
            "grid_auto_flow": null,
            "grid_area": null,
            "grid_template_columns": null,
            "flex": null,
            "_model_name": "LayoutModel",
            "justify_items": null,
            "grid_row": null,
            "max_height": null,
            "align_content": null,
            "visibility": null,
            "align_self": null,
            "height": null,
            "min_height": null,
            "padding": null,
            "grid_auto_rows": null,
            "grid_gap": null,
            "max_width": null,
            "order": null,
            "_view_module_version": "1.2.0",
            "grid_template_areas": null,
            "object_position": null,
            "object_fit": null,
            "grid_auto_columns": null,
            "margin": null,
            "display": null,
            "left": null
          }
        },
        "f8cc165bc9df44a9bf7a875dc421f3d6": {
          "model_module": "@jupyter-widgets/controls",
          "model_name": "HBoxModel",
          "state": {
            "_view_name": "HBoxView",
            "_dom_classes": [],
            "_model_name": "HBoxModel",
            "_view_module": "@jupyter-widgets/controls",
            "_model_module_version": "1.5.0",
            "_view_count": null,
            "_view_module_version": "1.5.0",
            "box_style": "",
            "layout": "IPY_MODEL_107b2f686041496d9330a05961e640c5",
            "_model_module": "@jupyter-widgets/controls",
            "children": [
              "IPY_MODEL_86c5337ce5574a3085e9c4ab5d29a6e0",
              "IPY_MODEL_da564cee7c7f40cc8949754a7f16e609"
            ]
          }
        },
        "107b2f686041496d9330a05961e640c5": {
          "model_module": "@jupyter-widgets/base",
          "model_name": "LayoutModel",
          "state": {
            "_view_name": "LayoutView",
            "grid_template_rows": null,
            "right": null,
            "justify_content": null,
            "_view_module": "@jupyter-widgets/base",
            "overflow": null,
            "_model_module_version": "1.2.0",
            "_view_count": null,
            "flex_flow": null,
            "width": null,
            "min_width": null,
            "border": null,
            "align_items": null,
            "bottom": null,
            "_model_module": "@jupyter-widgets/base",
            "top": null,
            "grid_column": null,
            "overflow_y": null,
            "overflow_x": null,
            "grid_auto_flow": null,
            "grid_area": null,
            "grid_template_columns": null,
            "flex": null,
            "_model_name": "LayoutModel",
            "justify_items": null,
            "grid_row": null,
            "max_height": null,
            "align_content": null,
            "visibility": null,
            "align_self": null,
            "height": null,
            "min_height": null,
            "padding": null,
            "grid_auto_rows": null,
            "grid_gap": null,
            "max_width": null,
            "order": null,
            "_view_module_version": "1.2.0",
            "grid_template_areas": null,
            "object_position": null,
            "object_fit": null,
            "grid_auto_columns": null,
            "margin": null,
            "display": null,
            "left": null
          }
        },
        "86c5337ce5574a3085e9c4ab5d29a6e0": {
          "model_module": "@jupyter-widgets/controls",
          "model_name": "FloatProgressModel",
          "state": {
            "_view_name": "ProgressView",
            "style": "IPY_MODEL_f7172b5fa1494071992255d1a1bd2b7c",
            "_dom_classes": [],
            "description": "100%",
            "_model_name": "FloatProgressModel",
            "bar_style": "success",
            "max": 10,
            "_view_module": "@jupyter-widgets/controls",
            "_model_module_version": "1.5.0",
            "value": 10,
            "_view_count": null,
            "_view_module_version": "1.5.0",
            "orientation": "horizontal",
            "min": 0,
            "description_tooltip": null,
            "_model_module": "@jupyter-widgets/controls",
            "layout": "IPY_MODEL_6119cf0f9565463ca2e85131891b8123"
          }
        },
        "da564cee7c7f40cc8949754a7f16e609": {
          "model_module": "@jupyter-widgets/controls",
          "model_name": "HTMLModel",
          "state": {
            "_view_name": "HTMLView",
            "style": "IPY_MODEL_5dc20bd305d144f892c2dbd148e98690",
            "_dom_classes": [],
            "description": "",
            "_model_name": "HTMLModel",
            "placeholder": "​",
            "_view_module": "@jupyter-widgets/controls",
            "_model_module_version": "1.5.0",
            "value": " 10/10 [34:28&lt;00:00, 206.86s/it]",
            "_view_count": null,
            "_view_module_version": "1.5.0",
            "description_tooltip": null,
            "_model_module": "@jupyter-widgets/controls",
            "layout": "IPY_MODEL_976db4dc707644f3a81d77980613b934"
          }
        },
        "f7172b5fa1494071992255d1a1bd2b7c": {
          "model_module": "@jupyter-widgets/controls",
          "model_name": "ProgressStyleModel",
          "state": {
            "_view_name": "StyleView",
            "_model_name": "ProgressStyleModel",
            "description_width": "initial",
            "_view_module": "@jupyter-widgets/base",
            "_model_module_version": "1.5.0",
            "_view_count": null,
            "_view_module_version": "1.2.0",
            "bar_color": null,
            "_model_module": "@jupyter-widgets/controls"
          }
        },
        "6119cf0f9565463ca2e85131891b8123": {
          "model_module": "@jupyter-widgets/base",
          "model_name": "LayoutModel",
          "state": {
            "_view_name": "LayoutView",
            "grid_template_rows": null,
            "right": null,
            "justify_content": null,
            "_view_module": "@jupyter-widgets/base",
            "overflow": null,
            "_model_module_version": "1.2.0",
            "_view_count": null,
            "flex_flow": null,
            "width": null,
            "min_width": null,
            "border": null,
            "align_items": null,
            "bottom": null,
            "_model_module": "@jupyter-widgets/base",
            "top": null,
            "grid_column": null,
            "overflow_y": null,
            "overflow_x": null,
            "grid_auto_flow": null,
            "grid_area": null,
            "grid_template_columns": null,
            "flex": null,
            "_model_name": "LayoutModel",
            "justify_items": null,
            "grid_row": null,
            "max_height": null,
            "align_content": null,
            "visibility": null,
            "align_self": null,
            "height": null,
            "min_height": null,
            "padding": null,
            "grid_auto_rows": null,
            "grid_gap": null,
            "max_width": null,
            "order": null,
            "_view_module_version": "1.2.0",
            "grid_template_areas": null,
            "object_position": null,
            "object_fit": null,
            "grid_auto_columns": null,
            "margin": null,
            "display": null,
            "left": null
          }
        },
        "5dc20bd305d144f892c2dbd148e98690": {
          "model_module": "@jupyter-widgets/controls",
          "model_name": "DescriptionStyleModel",
          "state": {
            "_view_name": "StyleView",
            "_model_name": "DescriptionStyleModel",
            "description_width": "",
            "_view_module": "@jupyter-widgets/base",
            "_model_module_version": "1.5.0",
            "_view_count": null,
            "_view_module_version": "1.2.0",
            "_model_module": "@jupyter-widgets/controls"
          }
        },
        "976db4dc707644f3a81d77980613b934": {
          "model_module": "@jupyter-widgets/base",
          "model_name": "LayoutModel",
          "state": {
            "_view_name": "LayoutView",
            "grid_template_rows": null,
            "right": null,
            "justify_content": null,
            "_view_module": "@jupyter-widgets/base",
            "overflow": null,
            "_model_module_version": "1.2.0",
            "_view_count": null,
            "flex_flow": null,
            "width": null,
            "min_width": null,
            "border": null,
            "align_items": null,
            "bottom": null,
            "_model_module": "@jupyter-widgets/base",
            "top": null,
            "grid_column": null,
            "overflow_y": null,
            "overflow_x": null,
            "grid_auto_flow": null,
            "grid_area": null,
            "grid_template_columns": null,
            "flex": null,
            "_model_name": "LayoutModel",
            "justify_items": null,
            "grid_row": null,
            "max_height": null,
            "align_content": null,
            "visibility": null,
            "align_self": null,
            "height": null,
            "min_height": null,
            "padding": null,
            "grid_auto_rows": null,
            "grid_gap": null,
            "max_width": null,
            "order": null,
            "_view_module_version": "1.2.0",
            "grid_template_areas": null,
            "object_position": null,
            "object_fit": null,
            "grid_auto_columns": null,
            "margin": null,
            "display": null,
            "left": null
          }
        },
        "50f18f81ab584e4db704814fabe01aca": {
          "model_module": "@jupyter-widgets/controls",
          "model_name": "HBoxModel",
          "state": {
            "_view_name": "HBoxView",
            "_dom_classes": [],
            "_model_name": "HBoxModel",
            "_view_module": "@jupyter-widgets/controls",
            "_model_module_version": "1.5.0",
            "_view_count": null,
            "_view_module_version": "1.5.0",
            "box_style": "",
            "layout": "IPY_MODEL_8978cb5cc67241a28a61e85752bd119b",
            "_model_module": "@jupyter-widgets/controls",
            "children": [
              "IPY_MODEL_0ad33523e8264302b1a10f65782c9964",
              "IPY_MODEL_46f759e3c46244bebe5685d9586ae5bd"
            ]
          }
        },
        "8978cb5cc67241a28a61e85752bd119b": {
          "model_module": "@jupyter-widgets/base",
          "model_name": "LayoutModel",
          "state": {
            "_view_name": "LayoutView",
            "grid_template_rows": null,
            "right": null,
            "justify_content": null,
            "_view_module": "@jupyter-widgets/base",
            "overflow": null,
            "_model_module_version": "1.2.0",
            "_view_count": null,
            "flex_flow": null,
            "width": null,
            "min_width": null,
            "border": null,
            "align_items": null,
            "bottom": null,
            "_model_module": "@jupyter-widgets/base",
            "top": null,
            "grid_column": null,
            "overflow_y": null,
            "overflow_x": null,
            "grid_auto_flow": null,
            "grid_area": null,
            "grid_template_columns": null,
            "flex": null,
            "_model_name": "LayoutModel",
            "justify_items": null,
            "grid_row": null,
            "max_height": null,
            "align_content": null,
            "visibility": null,
            "align_self": null,
            "height": null,
            "min_height": null,
            "padding": null,
            "grid_auto_rows": null,
            "grid_gap": null,
            "max_width": null,
            "order": null,
            "_view_module_version": "1.2.0",
            "grid_template_areas": null,
            "object_position": null,
            "object_fit": null,
            "grid_auto_columns": null,
            "margin": null,
            "display": null,
            "left": null
          }
        },
        "0ad33523e8264302b1a10f65782c9964": {
          "model_module": "@jupyter-widgets/controls",
          "model_name": "FloatProgressModel",
          "state": {
            "_view_name": "ProgressView",
            "style": "IPY_MODEL_11ac249ce95141cdb15f6bd6d9183acc",
            "_dom_classes": [],
            "description": "100%",
            "_model_name": "FloatProgressModel",
            "bar_style": "success",
            "max": 10,
            "_view_module": "@jupyter-widgets/controls",
            "_model_module_version": "1.5.0",
            "value": 10,
            "_view_count": null,
            "_view_module_version": "1.5.0",
            "orientation": "horizontal",
            "min": 0,
            "description_tooltip": null,
            "_model_module": "@jupyter-widgets/controls",
            "layout": "IPY_MODEL_3b1b4b7058024022b4c34ffec0081ff7"
          }
        },
        "46f759e3c46244bebe5685d9586ae5bd": {
          "model_module": "@jupyter-widgets/controls",
          "model_name": "HTMLModel",
          "state": {
            "_view_name": "HTMLView",
            "style": "IPY_MODEL_89b59f4082ab47b0b05f90bdd977f346",
            "_dom_classes": [],
            "description": "",
            "_model_name": "HTMLModel",
            "placeholder": "​",
            "_view_module": "@jupyter-widgets/controls",
            "_model_module_version": "1.5.0",
            "value": " 10/10 [1:18:51&lt;00:00, 473.13s/it]",
            "_view_count": null,
            "_view_module_version": "1.5.0",
            "description_tooltip": null,
            "_model_module": "@jupyter-widgets/controls",
            "layout": "IPY_MODEL_b651c2c3232f4e8aabdc64273190e7cc"
          }
        },
        "11ac249ce95141cdb15f6bd6d9183acc": {
          "model_module": "@jupyter-widgets/controls",
          "model_name": "ProgressStyleModel",
          "state": {
            "_view_name": "StyleView",
            "_model_name": "ProgressStyleModel",
            "description_width": "initial",
            "_view_module": "@jupyter-widgets/base",
            "_model_module_version": "1.5.0",
            "_view_count": null,
            "_view_module_version": "1.2.0",
            "bar_color": null,
            "_model_module": "@jupyter-widgets/controls"
          }
        },
        "3b1b4b7058024022b4c34ffec0081ff7": {
          "model_module": "@jupyter-widgets/base",
          "model_name": "LayoutModel",
          "state": {
            "_view_name": "LayoutView",
            "grid_template_rows": null,
            "right": null,
            "justify_content": null,
            "_view_module": "@jupyter-widgets/base",
            "overflow": null,
            "_model_module_version": "1.2.0",
            "_view_count": null,
            "flex_flow": null,
            "width": null,
            "min_width": null,
            "border": null,
            "align_items": null,
            "bottom": null,
            "_model_module": "@jupyter-widgets/base",
            "top": null,
            "grid_column": null,
            "overflow_y": null,
            "overflow_x": null,
            "grid_auto_flow": null,
            "grid_area": null,
            "grid_template_columns": null,
            "flex": null,
            "_model_name": "LayoutModel",
            "justify_items": null,
            "grid_row": null,
            "max_height": null,
            "align_content": null,
            "visibility": null,
            "align_self": null,
            "height": null,
            "min_height": null,
            "padding": null,
            "grid_auto_rows": null,
            "grid_gap": null,
            "max_width": null,
            "order": null,
            "_view_module_version": "1.2.0",
            "grid_template_areas": null,
            "object_position": null,
            "object_fit": null,
            "grid_auto_columns": null,
            "margin": null,
            "display": null,
            "left": null
          }
        },
        "89b59f4082ab47b0b05f90bdd977f346": {
          "model_module": "@jupyter-widgets/controls",
          "model_name": "DescriptionStyleModel",
          "state": {
            "_view_name": "StyleView",
            "_model_name": "DescriptionStyleModel",
            "description_width": "",
            "_view_module": "@jupyter-widgets/base",
            "_model_module_version": "1.5.0",
            "_view_count": null,
            "_view_module_version": "1.2.0",
            "_model_module": "@jupyter-widgets/controls"
          }
        },
        "b651c2c3232f4e8aabdc64273190e7cc": {
          "model_module": "@jupyter-widgets/base",
          "model_name": "LayoutModel",
          "state": {
            "_view_name": "LayoutView",
            "grid_template_rows": null,
            "right": null,
            "justify_content": null,
            "_view_module": "@jupyter-widgets/base",
            "overflow": null,
            "_model_module_version": "1.2.0",
            "_view_count": null,
            "flex_flow": null,
            "width": null,
            "min_width": null,
            "border": null,
            "align_items": null,
            "bottom": null,
            "_model_module": "@jupyter-widgets/base",
            "top": null,
            "grid_column": null,
            "overflow_y": null,
            "overflow_x": null,
            "grid_auto_flow": null,
            "grid_area": null,
            "grid_template_columns": null,
            "flex": null,
            "_model_name": "LayoutModel",
            "justify_items": null,
            "grid_row": null,
            "max_height": null,
            "align_content": null,
            "visibility": null,
            "align_self": null,
            "height": null,
            "min_height": null,
            "padding": null,
            "grid_auto_rows": null,
            "grid_gap": null,
            "max_width": null,
            "order": null,
            "_view_module_version": "1.2.0",
            "grid_template_areas": null,
            "object_position": null,
            "object_fit": null,
            "grid_auto_columns": null,
            "margin": null,
            "display": null,
            "left": null
          }
        }
      }
    }
  },
  "cells": [
    {
      "cell_type": "markdown",
      "metadata": {
        "id": "CzR6cZvYkyl6"
      },
      "source": [
        "## Assignment 2\n",
        "\n",
        "**Submission deadlines:** \n",
        "- get at least 4 points by Tuesday, 23.03.2021\n",
        "- remaining points: last lab session before or on Tuesday, 06.04.2021\n",
        "\n",
        "**Points:** Aim to get 16 out of 20+ possible points\n",
        "\n",
        "## Submission instructions\n",
        "The class is held remotely. To submit your solutions please show the notebook over the video call. Make sure you know all the questions and answers, and that the notebook contains results (before presentation do `Runtime -> Restart and run all`)\n",
        "\n",
        "We provide starter code, however, you are not required to use it as long as you properly solve the tasks.\n",
        "\n",
        "As always, please submit corrections using GitHub's Pull Requests to https://github.com/janchorowski/dl_uwr."
      ]
    },
    {
      "cell_type": "markdown",
      "metadata": {
        "id": "eJ7DqCH7NDlC"
      },
      "source": [
        "# Problems"
      ]
    },
    {
      "cell_type": "markdown",
      "metadata": {
        "id": "YXr1RwyMFITD"
      },
      "source": [
        "## Problem 1 [1p]:\n",
        "\n",
        "Let's see why GPUs are useful in deep learning. Compare matrix multiplication speed for a few matrix shapes when implemented:\n",
        "1. as loops in Python\n",
        "2. using np.einsum\n",
        "3. using numpy on CPU\n",
        "4. using pytorch on CPU\n",
        "5. using pytorch on GPU\n",
        "\n",
        "Finally, consider two square matrices, $A$ and $B$. We have 4 possibilities of multiplying them or their transpositions:\n",
        "1. $AB$\n",
        "2. $A^TB$\n",
        "3. $AB^T$\n",
        "4. $A^TB^T$\n",
        "\n",
        "Which option is the fastest? Why?"
      ]
    },
    {
      "cell_type": "markdown",
      "metadata": {
        "id": "eQa69LGTaiym"
      },
      "source": [
        "## Problem 2: Stochastic Gradient Descent [3p]\n",
        "\n",
        "We provide below starter code that trains a softmax regression model. Alternatively, implement your own training loop and use it to solve this problem jointly with the next one.\n",
        "\n",
        "Implement the following additions to the SGD code provided:\n",
        "  1. **[1p]** momentum\n",
        "  2. **[1p]** learning rate schedule\n",
        "  3. **[1p]** weight decay, in which we additionally minimize for each weight matrix (but typically not the bias) the sum of its elements squared. One way to implement it is to use the function `model.named_parameters` and select all parameters whose names contain \"`weight`\" rather than \"`bias`\"."
      ]
    },
    {
      "cell_type": "markdown",
      "metadata": {
        "id": "YsLt4dGsaosv"
      },
      "source": [
        "## Problem 3: Tuning the Network for MNIST [4p]\n",
        "\n",
        "Tune the following network to reach **validation error rate below 1.9%**.\n",
        "This should result in a **test error rate below 2%**. To\n",
        "tune the network you will need to:\n",
        "1. Choose the number of layers (more than 1, less than 5);\n",
        "2. Choose the number of neurons in each layer (more than 100,\n",
        "    less than 5000);\n",
        "3. Pick proper weight initialization;\n",
        "4. Pick proper learning rate schedule (need to decay over time,\n",
        "    a good range to check on MNIST is about 1e-2 ... 1e-1 at the beginning and\n",
        "    half of that after 10000 batches);\n",
        "5. Pick a momentum constant (probably a constant one will be OK).\n",
        "\n",
        "\n",
        "Please note: there are many hyperparameter settings that give the desired answer, some may require tuning all hyperparameters, some only a few."
      ]
    },
    {
      "cell_type": "markdown",
      "metadata": {
        "id": "YrUQloaln1UA"
      },
      "source": [
        "## Problem 4: Convolutional Network [2p]\n",
        "\n",
        "Use convolutional and max-pooling layers (`Conv2d`, `Max_pool2d` or their functional variants) and (without dropout) get a test error rate below 1.5%."
      ]
    },
    {
      "cell_type": "markdown",
      "metadata": {
        "id": "_9DaWUy_atrn"
      },
      "source": [
        "## Problem 5: Dropout [2p]\n",
        "\n",
        "Learn about dropout:\n",
        "\n",
        "- implement a **dropout** layer \n",
        "- or use `nn.Dropout` (then the exercise is worth 1.5 points)\n",
        "\n",
        "and try to train a\n",
        "network getting below 1.5% test error rates with dropout, but no convolutions, or below 1% when dropout is used jointly with convolutions!\n",
        "\n",
        "Remember to turn off dropout during testing, using `model.train()` and `model.eval()`!\n",
        "\n",
        "Hint: Use [torch.nn.functional.dropout](http://pytorch.org/docs/master/nn.html#torch.nn.functional.dropout).\n",
        "\n",
        "Details: http://arxiv.org/pdf/1207.0580.pdf."
      ]
    },
    {
      "cell_type": "markdown",
      "metadata": {
        "id": "mB3T_HuYawyQ"
      },
      "source": [
        "## Problem 6: Data Augmentation [1p]\n",
        "\n",
        "Apply data augmentation methods (e.g. rotations, noise, crops) when training networks on MNIST, to significantly reduce test error rate for your network. You can use functions from the [torchvision.transforms](http://pytorch.org/docs/master/torchvision/transforms.html) module.\n",
        "\n",
        "Please note: when using random transformations during training, use a data loader that re-computes them for each training minibatch. The `InMemoryDataloader` assumes that the transformations are deterministic and applies them only once."
      ]
    },
    {
      "cell_type": "markdown",
      "metadata": {
        "id": "Af7itFE7a0eY"
      },
      "source": [
        "## Problem 7: Batch Normalization [1p]\n",
        "\n",
        "[Batch Normalization](https://arxiv.org/abs/1502.03167) helps training neural networks because it [normalizes layer activation magnitudes](https://papers.nips.cc/paper/7515-how-does-batch-normalization-help-optimization.pdf). It typically allows to train networks faster and/or with higher learning rates, lessens the importance\n",
        "of initialization and might eliminate the need for Dropout.\n",
        "\n",
        "Implement Batch Normalization and compare with regular training of MNIST models.\n",
        "\n",
        "Remember to use the batch statistics during model training and to use an average of training batch statistics during model evaluation. For details please consult the paper."
      ]
    },
    {
      "cell_type": "markdown",
      "metadata": {
        "id": "CD1Ke8R4a1-Q"
      },
      "source": [
        "## Problem 8: Norm Constraints [1p]\n",
        "\n",
        "Implement norm constraints, i.e. instead of weight decay, that tries to set all weights to small values, apply a limit on the total\n",
        "norm of connections incoming to a neuron. In our case, this\n",
        "corresponds to clipping the norm of *rows* of weight\n",
        "matrices. An easy way of implementing it is to make a gradient\n",
        "step, then look at the norm of rows and scale down those that are\n",
        "over the threshold (this technique is called \"projected gradient descent\").\n",
        "\n",
        "Please consult the Dropout paper (http://arxiv.org/pdf/1207.0580.pdf) for details."
      ]
    },
    {
      "cell_type": "markdown",
      "metadata": {
        "id": "CL3_e1xCa4YG"
      },
      "source": [
        "## Problem 9: Polyak Averaging [1p]\n",
        "\n",
        "Implement Polyak averaging. For each parameter $\\theta$\n",
        "keep a separate, exponentially decayed average of the past values\n",
        "$$\n",
        "\\bar{\\theta}_n = \\alpha_p\\bar{\\theta}_{n-1} + (1-\\alpha_p)\\theta_n.\n",
        "$$\n",
        "Use that average when evaluating the model on the test set.\n",
        "Validate the approach by training a model on the MNIST dataset."
      ]
    },
    {
      "cell_type": "markdown",
      "metadata": {
        "id": "w7LoH9DIa88J"
      },
      "source": [
        "## Problem 10: Hyperparameter tuner [1p]\n",
        "\n",
        "Implement a hyper-parameter tuner able to optimize the learning rate schedule, number of neurons, and similar hyperparameters. To start, use a random search (please see http://jmlr.csail.mit.edu/papers/volume13/bergstra12a/bergstra12a.pdf and especially Fig 1. for intuitions on why random search is better than grid search). It may be a good idea to use a fixed maximum number of epochs (or training time) for each optimization trial to prevent selecting hyperparameters that yield slowly converging solutions. A good result will be a set of hyperparameters that reach on MNIST solutions with test errors less than $1.3\\%$ in no more than 50 epochs."
      ]
    },
    {
      "cell_type": "markdown",
      "metadata": {
        "id": "mzJTDu2aE8sk"
      },
      "source": [
        "## Problem 11: Pruning [1p]\n",
        "\n",
        "Prune the MNIST network to retain validation accuracy no worse than 0.1 percentage point at maximum sparsity (maximal number of weights removed from the network).\n",
        "\n",
        "One way to do it is to \n",
        "1. train the network, \n",
        "2. set to zero smalles weights (typically you can zero up to 50% of weights)\n",
        "3. retrain the network, keeping the zeroed weights zeroed, and repeat"
      ]
    },
    {
      "cell_type": "markdown",
      "metadata": {
        "id": "7jyEkvsqo2bx"
      },
      "source": [
        "## Problem 12: Extreme Learning Machine (ELM) [2p]\n",
        "\n",
        "Consider a neural network with 1 hidden layer. In the extreme learning approach, the first layer is not trained, but instead, it is randomly set. It is often very large. The second (output) layer weights can then be set using the closed-form formula for linear regression. Thus, training an ELM is fast (there is no iterative optimization) and one can try many different hyperparameters, such as hidden layer size, the random distribution from which weights are sampled, the hidden activation function, and so forth.\n",
        "\n",
        "Task: Implement an ELM for MNIST and try to reach the performance of your backpropagation-trained model."
      ]
    },
    {
      "cell_type": "markdown",
      "metadata": {
        "id": "aotfN2N2FCM6"
      },
      "source": [
        "## Problem 13: Other tricks [1p-many]\n",
        "\n",
        "The neural network literature is full of tricks for training neural networks. Find some and implement them. Please note: the number of points depends on the hardness of the extension you want to implement. If in doubt, consult the TA beforehand"
      ]
    },
    {
      "cell_type": "markdown",
      "metadata": {
        "id": "L_-VVAv-NP1Q"
      },
      "source": [
        "# Imports"
      ]
    },
    {
      "cell_type": "code",
      "metadata": {
        "id": "iEUPZksWm9YU"
      },
      "source": [
        "%matplotlib inline"
      ],
      "execution_count": 1,
      "outputs": []
    },
    {
      "cell_type": "code",
      "metadata": {
        "id": "039umgT_lsH2"
      },
      "source": [
        "import os\n",
        "import time\n",
        "\n",
        "import matplotlib.pyplot as plt\n",
        "import numpy as np\n",
        "from IPython.display import clear_output\n",
        "from tqdm.auto import tqdm\n",
        "\n",
        "import torch\n",
        "import torch.nn.functional as F\n",
        "import torchvision.datasets\n",
        "from torch import nn\n",
        "\n",
        "import pandas as pd"
      ],
      "execution_count": 2,
      "outputs": []
    },
    {
      "cell_type": "markdown",
      "metadata": {
        "id": "cE4uNSO9UNjR"
      },
      "source": [
        "## Problem 1 [1p]:\n",
        "\n",
        "Let's see why GPUs are useful in deep learning. Compare matrix multiplication speed for a few matrix shapes when implemented:\n",
        "1. as loops in Python\n",
        "2. using np.einsum\n",
        "3. using numpy on CPU\n",
        "4. using pytorch on CPU\n",
        "5. using pytorch on GPU\n",
        "\n",
        "Finally, consider two square matrices, $A$ and $B$. We have 4 possibilities of multiplying them or their transpositions:\n",
        "1. $AB$\n",
        "2. $A^TB$\n",
        "3. $AB^T$\n",
        "4. $A^TB^T$\n",
        "\n",
        "Which option is the fastest? Why?"
      ]
    },
    {
      "cell_type": "code",
      "metadata": {
        "id": "A0HxMiF0M79-"
      },
      "source": [
        "M, K, N = 200, 200, 200\n",
        "A = np.random.normal(size=(M, K))\n",
        "B = np.random.uniform(size=(K, N))"
      ],
      "execution_count": null,
      "outputs": []
    },
    {
      "cell_type": "code",
      "metadata": {
        "id": "X5v_UhNwNs6C"
      },
      "source": [
        "def mat_mult_loops(A, B):\n",
        "    C = np.empty((M, N))\n",
        "    for m in range(A.shape[0]):\n",
        "        for n in range(B.shape[1]):\n",
        "            C[m][n] = 0\n",
        "            for k in range(A.shape[1]):\n",
        "                C[m][n] += A[m][k] * B[k][n]\n",
        "    return C"
      ],
      "execution_count": null,
      "outputs": []
    },
    {
      "cell_type": "code",
      "metadata": {
        "id": "kdNQj1vyOgF-",
        "colab": {
          "base_uri": "https://localhost:8080/"
        },
        "outputId": "3bfd1fba-730e-4b3a-b2e5-7ed53d7da347"
      },
      "source": [
        "%time mat_mult_loops(A, B)"
      ],
      "execution_count": null,
      "outputs": [
        {
          "output_type": "stream",
          "text": [
            "CPU times: user 9.37 s, sys: 12.8 ms, total: 9.38 s\n",
            "Wall time: 9.39 s\n"
          ],
          "name": "stdout"
        },
        {
          "output_type": "execute_result",
          "data": {
            "text/plain": [
              "array([[-0.66808179, 11.30466814, -1.86098995, ...,  3.08407705,\n",
              "         3.91813201, -1.05497372],\n",
              "       [ 8.92475524, 19.99427172, 17.00971635, ..., 15.9262265 ,\n",
              "        10.04050886,  9.42270226],\n",
              "       [-5.48719472, -6.08352873, -2.91465167, ..., -5.46502676,\n",
              "        -7.42815024, -5.5988715 ],\n",
              "       ...,\n",
              "       [ 2.30242582,  2.71764018,  5.22273386, ..., 15.33825325,\n",
              "        18.63511338,  9.45762291],\n",
              "       [-4.1508682 , -6.57596539, -5.05510811, ..., -0.61581092,\n",
              "         3.31277982,  2.63885321],\n",
              "       [-6.5345876 , -2.18160647, -3.95751527, ..., -8.1181002 ,\n",
              "        -9.27617544, -7.8455061 ]])"
            ]
          },
          "metadata": {
            "tags": []
          },
          "execution_count": 5
        }
      ]
    },
    {
      "cell_type": "code",
      "metadata": {
        "colab": {
          "base_uri": "https://localhost:8080/"
        },
        "id": "JEafw6J3OveW",
        "outputId": "f6fe6f67-c5d2-432f-f621-6493f0c334fe"
      },
      "source": [
        "%time np.einsum('ij,jk', A, B)"
      ],
      "execution_count": null,
      "outputs": [
        {
          "output_type": "stream",
          "text": [
            "CPU times: user 4.47 ms, sys: 16 µs, total: 4.49 ms\n",
            "Wall time: 4.26 ms\n"
          ],
          "name": "stdout"
        },
        {
          "output_type": "execute_result",
          "data": {
            "text/plain": [
              "array([[-0.66808179, 11.30466814, -1.86098995, ...,  3.08407705,\n",
              "         3.91813201, -1.05497372],\n",
              "       [ 8.92475524, 19.99427172, 17.00971635, ..., 15.9262265 ,\n",
              "        10.04050886,  9.42270226],\n",
              "       [-5.48719472, -6.08352873, -2.91465167, ..., -5.46502676,\n",
              "        -7.42815024, -5.5988715 ],\n",
              "       ...,\n",
              "       [ 2.30242582,  2.71764018,  5.22273386, ..., 15.33825325,\n",
              "        18.63511338,  9.45762291],\n",
              "       [-4.1508682 , -6.57596539, -5.05510811, ..., -0.61581092,\n",
              "         3.31277982,  2.63885321],\n",
              "       [-6.5345876 , -2.18160647, -3.95751527, ..., -8.1181002 ,\n",
              "        -9.27617544, -7.8455061 ]])"
            ]
          },
          "metadata": {
            "tags": []
          },
          "execution_count": 6
        }
      ]
    },
    {
      "cell_type": "code",
      "metadata": {
        "id": "24brmb-OPwLa"
      },
      "source": [
        "M, K, N = 2000, 2000, 2000\n",
        "A = np.random.normal(size=(M, K))\n",
        "B = np.random.uniform(size=(K, N))\n",
        "C = np.empty((M, N))"
      ],
      "execution_count": null,
      "outputs": []
    },
    {
      "cell_type": "code",
      "metadata": {
        "colab": {
          "base_uri": "https://localhost:8080/"
        },
        "id": "GCiXHwmcPxsd",
        "outputId": "b506a727-94a3-4136-c736-e8ea6583eb0c"
      },
      "source": [
        "%time np.einsum('ij,jk', A, B)"
      ],
      "execution_count": null,
      "outputs": [
        {
          "output_type": "stream",
          "text": [
            "CPU times: user 3.61 s, sys: 9.91 ms, total: 3.62 s\n",
            "Wall time: 3.62 s\n"
          ],
          "name": "stdout"
        },
        {
          "output_type": "execute_result",
          "data": {
            "text/plain": [
              "array([[ -2.99184025,   8.09057892,  31.54002813, ...,  10.76915906,\n",
              "         14.75201175,   9.86883578],\n",
              "       [ 20.78622514,  33.69552499,  24.58658123, ...,  20.53645835,\n",
              "         19.84034138,  12.04958306],\n",
              "       [  2.95565266,  -5.58997172,   9.73120392, ...,  -7.48305505,\n",
              "        -10.83502912,  -7.61825087],\n",
              "       ...,\n",
              "       [  6.21742594,  -5.97480547,  -9.22033993, ...,  -6.46554195,\n",
              "        -15.53816377, -16.12136695],\n",
              "       [ -5.01419473,  -5.71234013, -22.79791491, ..., -13.95395385,\n",
              "        -32.78732579,   5.93215289],\n",
              "       [ 22.71566011,   5.96725977,   8.92326835, ...,  42.77736827,\n",
              "         44.11091473,  26.79206919]])"
            ]
          },
          "metadata": {
            "tags": []
          },
          "execution_count": 8
        }
      ]
    },
    {
      "cell_type": "code",
      "metadata": {
        "id": "7KRocvyLPlPU",
        "colab": {
          "base_uri": "https://localhost:8080/"
        },
        "outputId": "fe3f6438-94b3-4103-d4d0-c6cbcd98dd23"
      },
      "source": [
        "%time A@B"
      ],
      "execution_count": null,
      "outputs": [
        {
          "output_type": "stream",
          "text": [
            "CPU times: user 724 ms, sys: 24 ms, total: 748 ms\n",
            "Wall time: 390 ms\n"
          ],
          "name": "stdout"
        },
        {
          "output_type": "execute_result",
          "data": {
            "text/plain": [
              "array([[ -2.99184025,   8.09057892,  31.54002813, ...,  10.76915906,\n",
              "         14.75201175,   9.86883578],\n",
              "       [ 20.78622514,  33.69552499,  24.58658123, ...,  20.53645835,\n",
              "         19.84034138,  12.04958306],\n",
              "       [  2.95565266,  -5.58997172,   9.73120392, ...,  -7.48305505,\n",
              "        -10.83502912,  -7.61825087],\n",
              "       ...,\n",
              "       [  6.21742594,  -5.97480547,  -9.22033993, ...,  -6.46554195,\n",
              "        -15.53816377, -16.12136695],\n",
              "       [ -5.01419473,  -5.71234013, -22.79791491, ..., -13.95395385,\n",
              "        -32.78732579,   5.93215289],\n",
              "       [ 22.71566011,   5.96725977,   8.92326835, ...,  42.77736827,\n",
              "         44.11091473,  26.79206919]])"
            ]
          },
          "metadata": {
            "tags": []
          },
          "execution_count": 9
        }
      ]
    },
    {
      "cell_type": "code",
      "metadata": {
        "id": "cjugIatFQVNE"
      },
      "source": [
        "A_t = torch.Tensor(A)\n",
        "B_t = torch.Tensor(B)"
      ],
      "execution_count": null,
      "outputs": []
    },
    {
      "cell_type": "code",
      "metadata": {
        "id": "rrod1UsUPq9T",
        "colab": {
          "base_uri": "https://localhost:8080/"
        },
        "outputId": "4dca74ce-c7f1-4da0-cc91-57568a862364"
      },
      "source": [
        "%time A_t@B_t"
      ],
      "execution_count": null,
      "outputs": [
        {
          "output_type": "stream",
          "text": [
            "CPU times: user 229 ms, sys: 67 ms, total: 296 ms\n",
            "Wall time: 229 ms\n"
          ],
          "name": "stdout"
        },
        {
          "output_type": "execute_result",
          "data": {
            "text/plain": [
              "tensor([[ -2.9918,   8.0906,  31.5400,  ...,  10.7692,  14.7520,   9.8688],\n",
              "        [ 20.7862,  33.6955,  24.5866,  ...,  20.5365,  19.8403,  12.0496],\n",
              "        [  2.9556,  -5.5900,   9.7312,  ...,  -7.4831, -10.8350,  -7.6183],\n",
              "        ...,\n",
              "        [  6.2174,  -5.9748,  -9.2204,  ...,  -6.4655, -15.5382, -16.1214],\n",
              "        [ -5.0142,  -5.7123, -22.7979,  ..., -13.9540, -32.7873,   5.9322],\n",
              "        [ 22.7157,   5.9673,   8.9233,  ...,  42.7774,  44.1109,  26.7921]])"
            ]
          },
          "metadata": {
            "tags": []
          },
          "execution_count": 11
        }
      ]
    },
    {
      "cell_type": "code",
      "metadata": {
        "id": "Q--5gdu_Qe2W"
      },
      "source": [
        "A_dev = A_t.to('cuda')\n",
        "B_dev = B_t.to('cuda')"
      ],
      "execution_count": null,
      "outputs": []
    },
    {
      "cell_type": "code",
      "metadata": {
        "id": "44nZEhiTQqS1",
        "colab": {
          "base_uri": "https://localhost:8080/"
        },
        "outputId": "b7ac97e0-aa69-4f48-d58a-a8e4b8394277"
      },
      "source": [
        "%time A_dev@B_dev"
      ],
      "execution_count": null,
      "outputs": [
        {
          "output_type": "stream",
          "text": [
            "CPU times: user 1.31 ms, sys: 27 µs, total: 1.34 ms\n",
            "Wall time: 1.35 ms\n"
          ],
          "name": "stdout"
        },
        {
          "output_type": "execute_result",
          "data": {
            "text/plain": [
              "tensor([[ -2.9918,   8.0906,  31.5400,  ...,  10.7691,  14.7520,   9.8688],\n",
              "        [ 20.7862,  33.6955,  24.5866,  ...,  20.5364,  19.8403,  12.0496],\n",
              "        [  2.9556,  -5.5900,   9.7312,  ...,  -7.4831, -10.8350,  -7.6182],\n",
              "        ...,\n",
              "        [  6.2174,  -5.9748,  -9.2204,  ...,  -6.4655, -15.5382, -16.1214],\n",
              "        [ -5.0142,  -5.7123, -22.7979,  ..., -13.9540, -32.7873,   5.9322],\n",
              "        [ 22.7157,   5.9673,   8.9233,  ...,  42.7774,  44.1109,  26.7921]],\n",
              "       device='cuda:0')"
            ]
          },
          "metadata": {
            "tags": []
          },
          "execution_count": 13
        }
      ]
    },
    {
      "cell_type": "code",
      "metadata": {
        "id": "tRZEOpWfzkRG"
      },
      "source": [
        "M, K, N = 10000, 10000, 10000\n",
        "A = torch.randn(size=(M, K)).to('cuda')\n",
        "B = torch.rand(size=(K, N)).to('cuda')"
      ],
      "execution_count": null,
      "outputs": []
    },
    {
      "cell_type": "code",
      "metadata": {
        "id": "nkWCoNkS4faj",
        "colab": {
          "base_uri": "https://localhost:8080/"
        },
        "outputId": "36e349e4-7d55-4be5-bfb5-38a75e67ec84"
      },
      "source": [
        "%time A@B\n",
        "%time A@B.T\n",
        "%time A.T@B\n",
        "%time A.T@B.T"
      ],
      "execution_count": null,
      "outputs": [
        {
          "output_type": "stream",
          "text": [
            "CPU times: user 176 µs, sys: 1.02 ms, total: 1.19 ms\n",
            "Wall time: 1.07 ms\n",
            "CPU times: user 238 µs, sys: 0 ns, total: 238 µs\n",
            "Wall time: 174 µs\n",
            "CPU times: user 408 µs, sys: 943 µs, total: 1.35 ms\n",
            "Wall time: 978 µs\n",
            "CPU times: user 79 µs, sys: 0 ns, total: 79 µs\n",
            "Wall time: 83.4 µs\n"
          ],
          "name": "stdout"
        },
        {
          "output_type": "execute_result",
          "data": {
            "text/plain": [
              "tensor([[-48.5247,  10.3505, -31.1965,  ..., -19.7455, -32.4681, -40.8429],\n",
              "        [-47.5323, -74.6363, -85.3522,  ..., -38.1259,  -3.8876, -50.1460],\n",
              "        [-21.5787,  24.2106, -48.0783,  ...,  16.5997, -13.2343, -17.5519],\n",
              "        ...,\n",
              "        [-39.4042, -23.1502, -40.7741,  ...,  52.2626,  -1.2433, -23.9392],\n",
              "        [  7.8091, -27.1671,   2.3901,  ...,  -9.2739,   2.6895, -19.4592],\n",
              "        [ -7.6377, -74.6733,  -0.6462,  ..., -66.9246, -16.3952,  27.1753]],\n",
              "       device='cuda:0')"
            ]
          },
          "metadata": {
            "tags": []
          },
          "execution_count": 15
        }
      ]
    },
    {
      "cell_type": "markdown",
      "metadata": {
        "id": "NNfw6pY9sRJe"
      },
      "source": [
        "# Starter code\n",
        "\n",
        "The code below trains a SoftMax regression model in PyTorch. It can easily be extended into a full multilayer neural network."
      ]
    },
    {
      "cell_type": "code",
      "metadata": {
        "id": "tPOMFqLZsfuj"
      },
      "source": [
        "def compute_error_rate(model, data_loader, device=\"cpu\"):\n",
        "    \"\"\"Evaluate model on all samples from the data loader.\n",
        "    \"\"\"\n",
        "    # Put the model in eval mode, and move to the evaluation device.\n",
        "    model.eval()\n",
        "    model.to(device)\n",
        "    if isinstance(data_loader, InMemDataLoader):\n",
        "        data_loader.to(device)\n",
        "\n",
        "    num_errs = 0.0\n",
        "    num_examples = 0\n",
        "    # we don't need gradient during eval!\n",
        "    with torch.no_grad():\n",
        "        for x, y in data_loader:\n",
        "            x = x.to(device)\n",
        "            y = y.to(device)\n",
        "            outputs = model.forward(x)\n",
        "            _, predictions = outputs.data.max(dim=1)\n",
        "            num_errs += (predictions != y.data).sum().item()\n",
        "            num_examples += x.size(0)\n",
        "    return num_errs / num_examples\n",
        "\n",
        "\n",
        "def plot_history(history):\n",
        "    \"\"\"Helper to plot the trainig progress over time.\"\"\"\n",
        "    plt.figure(figsize=(16, 8))\n",
        "    plt.subplot(2, 2, 1)\n",
        "    train_loss = np.array(history[\"train_losses\"])\n",
        "    plt.semilogy(np.arange(train_loss.shape[0]), train_loss, label=\"batch train loss\")\n",
        "    plt.legend()\n",
        "\n",
        "    plt.subplot(2, 2, 2)\n",
        "    train_errs = np.array(history[\"train_errs\"])\n",
        "    plt.plot(np.arange(train_errs.shape[0]), train_errs, label=\"batch train error rate\")\n",
        "    val_errs = np.array(history[\"val_errs\"])\n",
        "    plt.plot(val_errs[:, 0], val_errs[:, 1], label=\"validation error rate\", color=\"r\")\n",
        "    plt.ylim(0, 0.20)\n",
        "    plt.legend()\n",
        "\n",
        "    plt.subplot(2, 2, 3)\n",
        "    learning_rate = np.array(history[\"alpha\"])\n",
        "    plt.plot(learning_rate)\n",
        "\n",
        "    plt.subplot(2, 2, 4)\n",
        "    learning_rate = np.array(history[\"alpha\"])\n",
        "    plt.plot(learning_rate)"
      ],
      "execution_count": 3,
      "outputs": []
    },
    {
      "cell_type": "markdown",
      "metadata": {
        "id": "OT6R09JnnYs9"
      },
      "source": [
        "## Data loading\n",
        "\n",
        "Training speed is important. By default, data is loaded on the CPU, then shipped in batches to the GPU. For this exercise, we will load the full dataset onto the GPU, which speeds up training."
      ]
    },
    {
      "cell_type": "code",
      "metadata": {
        "id": "OPh9uR8ZorL7"
      },
      "source": [
        "class InMemDataLoader(object):\n",
        "    \"\"\"\n",
        "    A data loader that keeps all data in CPU or GPU memory.\n",
        "    \"\"\"\n",
        "\n",
        "    __initialized = False\n",
        "\n",
        "    def __init__(\n",
        "        self,\n",
        "        dataset,\n",
        "        batch_size=1,\n",
        "        shuffle=False,\n",
        "        sampler=None,\n",
        "        batch_sampler=None,\n",
        "        drop_last=False,\n",
        "    ):\n",
        "        \"\"\"A torch dataloader that fetches data from memory.\"\"\"\n",
        "        batches = []\n",
        "        for i in tqdm(range(len(dataset))):\n",
        "            batch = [torch.tensor(t) for t in dataset[i]]\n",
        "            batches.append(batch)\n",
        "        tensors = [torch.stack(ts) for ts in zip(*batches)]\n",
        "        dataset = torch.utils.data.TensorDataset(*tensors)\n",
        "        self.dataset = dataset\n",
        "        self.batch_size = batch_size\n",
        "        self.drop_last = drop_last\n",
        "\n",
        "        if batch_sampler is not None:\n",
        "            if batch_size > 1 or shuffle or sampler is not None or drop_last:\n",
        "                raise ValueError(\n",
        "                    \"batch_sampler option is mutually exclusive \"\n",
        "                    \"with batch_size, shuffle, sampler, and \"\n",
        "                    \"drop_last\"\n",
        "                )\n",
        "            self.batch_size = None\n",
        "            self.drop_last = None\n",
        "\n",
        "        if sampler is not None and shuffle:\n",
        "            raise ValueError(\"sampler option is mutually exclusive with \" \"shuffle\")\n",
        "\n",
        "        if batch_sampler is None:\n",
        "            if sampler is None:\n",
        "                if shuffle:\n",
        "                    sampler = torch.utils.data.RandomSampler(dataset)\n",
        "                else:\n",
        "                    sampler = torch.utils.data.SequentialSampler(dataset)\n",
        "            batch_sampler = torch.utils.data.BatchSampler(\n",
        "                sampler, batch_size, drop_last\n",
        "            )\n",
        "\n",
        "        self.sampler = sampler\n",
        "        self.batch_sampler = batch_sampler\n",
        "        self.__initialized = True\n",
        "\n",
        "    def __setattr__(self, attr, val):\n",
        "        if self.__initialized and attr in (\"batch_size\", \"sampler\", \"drop_last\"):\n",
        "            raise ValueError(\n",
        "                \"{} attribute should not be set after {} is \"\n",
        "                \"initialized\".format(attr, self.__class__.__name__)\n",
        "            )\n",
        "\n",
        "        super(InMemDataLoader, self).__setattr__(attr, val)\n",
        "\n",
        "    def __iter__(self):\n",
        "        for batch_indices in self.batch_sampler:\n",
        "            yield self.dataset[batch_indices]\n",
        "\n",
        "    def __len__(self):\n",
        "        return len(self.batch_sampler)\n",
        "\n",
        "    def to(self, device):\n",
        "        self.dataset.tensors = tuple(t.to(device) for t in self.dataset.tensors)\n",
        "        return self"
      ],
      "execution_count": 4,
      "outputs": []
    },
    {
      "cell_type": "code",
      "metadata": {
        "colab": {
          "base_uri": "https://localhost:8080/",
          "height": 822,
          "referenced_widgets": [
            "0aeed40350884a3989eaa8dbc9caa58e",
            "00beed81e9834891965880c24f5d76ac",
            "2b48b39ff9664c729fac5f6ffda821c3",
            "b0b1d6dfb80f4befbd7b95f55dea08bb",
            "8324def663b442c992ffcf35de81f93f",
            "dc9ca3ec7d40456a98caf3dd7cdd0987",
            "78f9786512e745529d4664b7304db801",
            "816fd18de141405c822cbed36610daa4",
            "44c3aaea463b40ecb625b6266371f859",
            "8e21ab77c8c848e8b512cc5d5020bccb",
            "55bec039fad7449dbbc4733879dfe4a8",
            "11a3d6f20c93407faf05934ac0c546c9",
            "7ee9c82f9a634870acef738a143b95eb",
            "6a02c072a668436eb7945ffa5a61b0ab",
            "83eca2787dcf4721a914233cc7942037",
            "939562ae1248416b995cb27467ada6ae",
            "99da311b774a46dcae824aeace89f747",
            "e8821cd914d44f50b40769956f9257a7",
            "458c60c8c92c43fea41692055b51f657",
            "7d603e3cd7614051959b750f34e7b52b",
            "a3a5b210168144e5a299b606a00d45ff",
            "7e07a5611884472d9755d4a237f55648",
            "7b3666d1d7af4ded9f4181d289104a76",
            "6877fe17524e4f3cac3bb20cd54a681f",
            "ea949ff85b144cbea3f6f1dff766364e",
            "5f3e7599e63d40859c91de2cc96a8c84",
            "b89f7886e23947069542ab889aad1554",
            "6abd5f72a8604d9587fce48ca6da593b",
            "37366b3ae3f84aeeae3a3993741bd473",
            "433972786d7f4ed1a4144f1876707fed",
            "6d4238a37ab84c818984bb912dbcb2ad",
            "d9d6f859ed274844a611ee17e827f2e7",
            "0851a5cbed6f4fdc8a1449d14518a223",
            "c433fa11db3349d7a0cc0adcc903e4f4",
            "9ee61541287943a4bfdceb0e514ddc3c",
            "85531dd5f03a4f30a2e8692ee2a70297",
            "fe44d2c5a5b64ac3ac8deaaa47cd7037",
            "3d709ff3601042d4bb536f6c664ad781",
            "a5a19396a34248e1a6f9b819b82276c9",
            "9147c04797f3400abc11be141984ffd1",
            "6907851bfd7f4be3b6ac5b22ccd23ba1",
            "7bd8e564c6cf4d6f80346b8e27fd75fd",
            "e1ba9e92fb534a399c7aeb6acee0ae0c",
            "cab57502f5784bd3b06d12a9fd5389be",
            "20fd326c48b747cead1f33648bbf0fd8",
            "05edc08948fc43e48bb6475941e5e611",
            "b3ec0e272eaa431589ec360b2d90d7a5",
            "33c965c5c19943dface955a152489de6",
            "dc06c0987f4b428a8970cfe8d4dfca10",
            "b938703be45641dc87ae0339fa1c6f47",
            "3c8a7b7c880746f3b6518317b4438d33",
            "e8026846202b480c8c8811494fc58dae",
            "265eb494e6ea4ead9be31ed2fa0a00d1",
            "e6943f5ff3074a85a6f5f769ddb79de0",
            "db58cfbc267045418d15fa09ffb12f4c",
            "64f026a5a16545bbac42d5c8e7ec74b9"
          ]
        },
        "id": "wDM2KTPQm8V3",
        "outputId": "ccb07c14-a3cf-42cf-ebe6-3576ac69ad0b"
      },
      "source": [
        "# Load the data\n",
        "batch_size = 128\n",
        "data_path = \"./data\"\n",
        "\n",
        "transform = torchvision.transforms.Compose(\n",
        "    [\n",
        "        torchvision.transforms.ToTensor(),\n",
        "        torchvision.transforms.Normalize((0.1307,), (0.3081,)),\n",
        "    ]\n",
        ")\n",
        "\n",
        "_test = torchvision.datasets.MNIST(\n",
        "    data_path, train=False, download=True, transform=transform\n",
        ")\n",
        "\n",
        "# Load training data, split into train and valid sets\n",
        "_train = torchvision.datasets.MNIST(\n",
        "    data_path, train=True, download=True, transform=transform\n",
        ")\n",
        "_train.data = _train.data[:50000]\n",
        "_train.targets = _train.targets[:50000]\n",
        "\n",
        "_valid = torchvision.datasets.MNIST(\n",
        "    data_path, train=True, download=True, transform=transform\n",
        ")\n",
        "_valid.data = _valid.data[50000:]\n",
        "_valid.targets = _valid.targets[50000:]\n",
        "\n",
        "mnist_loaders = {\n",
        "    \"train\": InMemDataLoader(_train, batch_size=batch_size, shuffle=True),\n",
        "    \"valid\": InMemDataLoader(_valid, batch_size=batch_size, shuffle=False),\n",
        "    \"test\": InMemDataLoader(_test, batch_size=batch_size, shuffle=False),\n",
        "}"
      ],
      "execution_count": 5,
      "outputs": [
        {
          "output_type": "stream",
          "text": [
            "Downloading http://yann.lecun.com/exdb/mnist/train-images-idx3-ubyte.gz\n",
            "Downloading http://yann.lecun.com/exdb/mnist/train-images-idx3-ubyte.gz to ./data/MNIST/raw/train-images-idx3-ubyte.gz\n",
            "Failed to download (trying next):\n",
            "HTTP Error 503: Service Unavailable\n",
            "\n",
            "Downloading https://ossci-datasets.s3.amazonaws.com/mnist/train-images-idx3-ubyte.gz\n",
            "Downloading https://ossci-datasets.s3.amazonaws.com/mnist/train-images-idx3-ubyte.gz to ./data/MNIST/raw/train-images-idx3-ubyte.gz\n"
          ],
          "name": "stdout"
        },
        {
          "output_type": "display_data",
          "data": {
            "application/vnd.jupyter.widget-view+json": {
              "model_id": "0aeed40350884a3989eaa8dbc9caa58e",
              "version_minor": 0,
              "version_major": 2
            },
            "text/plain": [
              "HBox(children=(FloatProgress(value=0.0, max=9912422.0), HTML(value='')))"
            ]
          },
          "metadata": {
            "tags": []
          }
        },
        {
          "output_type": "stream",
          "text": [
            "\n",
            "Extracting ./data/MNIST/raw/train-images-idx3-ubyte.gz to ./data/MNIST/raw\n",
            "\n",
            "Downloading http://yann.lecun.com/exdb/mnist/train-labels-idx1-ubyte.gz\n",
            "Downloading http://yann.lecun.com/exdb/mnist/train-labels-idx1-ubyte.gz to ./data/MNIST/raw/train-labels-idx1-ubyte.gz\n"
          ],
          "name": "stdout"
        },
        {
          "output_type": "display_data",
          "data": {
            "application/vnd.jupyter.widget-view+json": {
              "model_id": "44c3aaea463b40ecb625b6266371f859",
              "version_minor": 0,
              "version_major": 2
            },
            "text/plain": [
              "HBox(children=(FloatProgress(value=0.0, max=28881.0), HTML(value='')))"
            ]
          },
          "metadata": {
            "tags": []
          }
        },
        {
          "output_type": "stream",
          "text": [
            "\n",
            "Extracting ./data/MNIST/raw/train-labels-idx1-ubyte.gz to ./data/MNIST/raw\n",
            "\n",
            "Downloading http://yann.lecun.com/exdb/mnist/t10k-images-idx3-ubyte.gz\n",
            "Downloading http://yann.lecun.com/exdb/mnist/t10k-images-idx3-ubyte.gz to ./data/MNIST/raw/t10k-images-idx3-ubyte.gz\n"
          ],
          "name": "stdout"
        },
        {
          "output_type": "display_data",
          "data": {
            "application/vnd.jupyter.widget-view+json": {
              "model_id": "99da311b774a46dcae824aeace89f747",
              "version_minor": 0,
              "version_major": 2
            },
            "text/plain": [
              "HBox(children=(FloatProgress(value=0.0, max=1648877.0), HTML(value='')))"
            ]
          },
          "metadata": {
            "tags": []
          }
        },
        {
          "output_type": "stream",
          "text": [
            "\n",
            "Extracting ./data/MNIST/raw/t10k-images-idx3-ubyte.gz to ./data/MNIST/raw\n",
            "\n",
            "Downloading http://yann.lecun.com/exdb/mnist/t10k-labels-idx1-ubyte.gz\n",
            "Downloading http://yann.lecun.com/exdb/mnist/t10k-labels-idx1-ubyte.gz to ./data/MNIST/raw/t10k-labels-idx1-ubyte.gz\n"
          ],
          "name": "stdout"
        },
        {
          "output_type": "display_data",
          "data": {
            "application/vnd.jupyter.widget-view+json": {
              "model_id": "ea949ff85b144cbea3f6f1dff766364e",
              "version_minor": 0,
              "version_major": 2
            },
            "text/plain": [
              "HBox(children=(FloatProgress(value=0.0, max=4542.0), HTML(value='')))"
            ]
          },
          "metadata": {
            "tags": []
          }
        },
        {
          "output_type": "stream",
          "text": [
            "\n",
            "Extracting ./data/MNIST/raw/t10k-labels-idx1-ubyte.gz to ./data/MNIST/raw\n",
            "\n",
            "Processing...\n",
            "Done!\n"
          ],
          "name": "stdout"
        },
        {
          "output_type": "stream",
          "text": [
            "/usr/local/lib/python3.7/dist-packages/torchvision/datasets/mnist.py:502: UserWarning: The given NumPy array is not writeable, and PyTorch does not support non-writeable tensors. This means you can write to the underlying (supposedly non-writeable) NumPy array using the tensor. You may want to copy the array to protect its data or make it writeable before converting it to a tensor. This type of warning will be suppressed for the rest of this program. (Triggered internally at  /pytorch/torch/csrc/utils/tensor_numpy.cpp:143.)\n",
            "  return torch.from_numpy(parsed.astype(m[2], copy=False)).view(*s)\n"
          ],
          "name": "stderr"
        },
        {
          "output_type": "display_data",
          "data": {
            "application/vnd.jupyter.widget-view+json": {
              "model_id": "0851a5cbed6f4fdc8a1449d14518a223",
              "version_minor": 0,
              "version_major": 2
            },
            "text/plain": [
              "HBox(children=(FloatProgress(value=0.0, max=50000.0), HTML(value='')))"
            ]
          },
          "metadata": {
            "tags": []
          }
        },
        {
          "output_type": "stream",
          "text": [
            "/usr/local/lib/python3.7/dist-packages/ipykernel_launcher.py:20: UserWarning: To copy construct from a tensor, it is recommended to use sourceTensor.clone().detach() or sourceTensor.clone().detach().requires_grad_(True), rather than torch.tensor(sourceTensor).\n"
          ],
          "name": "stderr"
        },
        {
          "output_type": "stream",
          "text": [
            "\n"
          ],
          "name": "stdout"
        },
        {
          "output_type": "display_data",
          "data": {
            "application/vnd.jupyter.widget-view+json": {
              "model_id": "6907851bfd7f4be3b6ac5b22ccd23ba1",
              "version_minor": 0,
              "version_major": 2
            },
            "text/plain": [
              "HBox(children=(FloatProgress(value=0.0, max=10000.0), HTML(value='')))"
            ]
          },
          "metadata": {
            "tags": []
          }
        },
        {
          "output_type": "stream",
          "text": [
            "\n"
          ],
          "name": "stdout"
        },
        {
          "output_type": "display_data",
          "data": {
            "application/vnd.jupyter.widget-view+json": {
              "model_id": "dc06c0987f4b428a8970cfe8d4dfca10",
              "version_minor": 0,
              "version_major": 2
            },
            "text/plain": [
              "HBox(children=(FloatProgress(value=0.0, max=10000.0), HTML(value='')))"
            ]
          },
          "metadata": {
            "tags": []
          }
        },
        {
          "output_type": "stream",
          "text": [
            "\n"
          ],
          "name": "stdout"
        }
      ]
    },
    {
      "cell_type": "markdown",
      "metadata": {
        "id": "rRYr7XmnnGO_"
      },
      "source": [
        "## SGD implementation\n",
        "\n",
        "We provide below a scaffolding for SGD. You will need to fill the TODOs while solving the assignments."
      ]
    },
    {
      "cell_type": "markdown",
      "metadata": {
        "id": "OIhldmwelGJa"
      },
      "source": [
        "## Problem 2: Stochastic Gradient Descent [3p]\n",
        "\n",
        "We provide below starter code that trains a softmax regression model. Alternatively, implement your own training loop and use it to solve this problem jointly with the next one.\n",
        "\n",
        "Implement the following additions to the SGD code provided:\n",
        "  1. **[1p]** momentum\n",
        "  2. **[1p]** learning rate schedule\n",
        "  3. **[1p]** weight decay, in which we additionally minimize for each weight matrix (but typically not the bias) the sum of its elements squared. One way to implement it is to use the function `model.named_parameters` and select all parameters whose names contain \"`weight`\" rather than \"`bias`\"."
      ]
    },
    {
      "cell_type": "code",
      "metadata": {
        "id": "WY1xG-cqnRoE"
      },
      "source": [
        "def SGD(\n",
        "    model,\n",
        "    data_loaders,\n",
        "    alpha=1e-4,\n",
        "    epsilon=0.0,\n",
        "    decay=0.0,\n",
        "    num_epochs=1,\n",
        "    max_num_epochs=np.nan,\n",
        "    patience_expansion=1.5,\n",
        "    log_every=100,\n",
        "    device=\"cpu\",\n",
        "    verbose=True\n",
        "):\n",
        "\n",
        "    # Put the model in train mode, and move to the evaluation device.\n",
        "    model.train()\n",
        "    model.to(device)\n",
        "    for data_loader in data_loaders.values():\n",
        "        if isinstance(data_loader, InMemDataLoader):\n",
        "            data_loader.to(device)\n",
        "\n",
        "    #\n",
        "    # DONE for Problem 1.3: Initialize momentum variables\n",
        "    # Hint: You need one velocity matrix for each parameter\n",
        "    #\n",
        "    velocities = [torch.zeros(p.shape).to(device) for p in model.parameters()]\n",
        "    iter_ = 0\n",
        "    epoch = 0\n",
        "    best_params = None\n",
        "    best_val_err = np.inf\n",
        "    history = {\"train_losses\": [], \"train_errs\": [], \"val_errs\": [], \"alpha\": [],}\n",
        "    if verbose:\n",
        "        print(\"Training the model!\")\n",
        "        print(\"Interrupt at any time to evaluate the best validation model so far.\")\n",
        "    try:\n",
        "        tstart = time.time()\n",
        "        siter = iter_\n",
        "        while epoch < num_epochs:\n",
        "            model.train()\n",
        "            epoch += 1\n",
        "            if epoch > max_num_epochs:\n",
        "                break\n",
        "            #\n",
        "            # DONE: You can implement learning rate control here (it is updated\n",
        "            # once per epoch), or below in the loop over minibatches.\n",
        "            #\n",
        "            if epoch in [10, 20]:\n",
        "                alpha *= 1.5\n",
        "\n",
        "            if epoch > 30 and np.mod(epoch, 20) == 0:\n",
        "                alpha *= 0.75\n",
        "            \n",
        "            for x, y in data_loaders[\"train\"]:\n",
        "                x = x.to(device)\n",
        "                y = y.to(device)\n",
        "                iter_ += 1\n",
        "                # This calls the `forward` function: https://pytorch.org/tutorials/beginner/examples_nn/two_layer_net_module.html\n",
        "                out = model(x)\n",
        "                loss = model.loss(out, y)\n",
        "                loss.backward()\n",
        "                _, predictions = out.max(dim=1)\n",
        "                batch_err_rate = (predictions != y).sum().item() / out.size(0)\n",
        "\n",
        "                history[\"train_losses\"].append(loss.item())\n",
        "                history[\"train_errs\"].append(batch_err_rate)\n",
        "                history[\"alpha\"].append(alpha)\n",
        "\n",
        "                # disable gradient computations - we do not want torch to\n",
        "                # backpropagate through the gradient application!\n",
        "                with torch.no_grad():\n",
        "                    for (name, p), v in zip(model.named_parameters(), velocities):\n",
        "                        if \"weight\" in name:\n",
        "                            #\n",
        "                            # DONE for Problem 1.3: Implement weight decay (L2 regularization\n",
        "                            # on weights by changing the gradients\n",
        "                            #\n",
        "                            p.grad += decay * p.sum()\n",
        "\n",
        "                        #\n",
        "                        # DONE for Problem 1.2: Implement a learning rate schedule\n",
        "                        # Hint: You can use the iteration or epoch counters\n",
        "\n",
        "                        #\n",
        "                        # DONE for Problem 1.1: If needed, implement here a momentum schedule\n",
        "                        # epsilon = TODO\n",
        "                        #\n",
        "\n",
        "                        #\n",
        "                        # DONE for Problem 1.1: Implement velocity updates for momentum\n",
        "                        # lease make sure to modify the contents of v, not the v pointer!!!\n",
        "                        #\n",
        "                        v[:] = epsilon * v - alpha * p.grad\n",
        "\n",
        "                        #\n",
        "                        # DONE for Problem 1: Set a more sensible learning rule here,\n",
        "                        #       using your learning rate schedule and momentum\n",
        "                        #\n",
        "                        p += v\n",
        "\n",
        "                        # Zero gradients for the next iteration\n",
        "                        p.grad.zero_()\n",
        "\n",
        "                if iter_ % log_every == 0:\n",
        "                    num_iter = iter_ - siter + 1\n",
        "                    if verbose:\n",
        "                        print(\n",
        "                            \"Minibatch {0: >6}  | loss {1: >5.2f} | err rate {2: >5.2f}%, steps/s {3: >5.2f}\".format(\n",
        "                                iter_,\n",
        "                                loss.item(),\n",
        "                                batch_err_rate * 100.0,\n",
        "                                num_iter / (time.time() - tstart),\n",
        "                            )\n",
        "                        )\n",
        "                    tstart = time.time()\n",
        "\n",
        "            val_err_rate = compute_error_rate(model, data_loaders[\"valid\"], device)\n",
        "            history[\"val_errs\"].append((iter_, val_err_rate))\n",
        "\n",
        "            if val_err_rate < best_val_err:\n",
        "                # Adjust num of epochs\n",
        "                num_epochs = int(np.maximum(num_epochs, epoch * patience_expansion + 1))\n",
        "                best_epoch = epoch\n",
        "                best_val_err = val_err_rate\n",
        "                best_params = [p.detach().cpu() for p in model.parameters()]\n",
        "            clear_output(True)\n",
        "            m = \"After epoch {0: >2} | valid err rate: {1: >5.2f}% | doing {2: >3} epochs\".format(\n",
        "                epoch, val_err_rate * 100.0, num_epochs\n",
        "            )\n",
        "            if verbose:\n",
        "                print(\"{0}\\n{1}\\n{0}\".format(\"-\" * len(m), m))\n",
        "\n",
        "    except KeyboardInterrupt:\n",
        "        pass\n",
        "\n",
        "    if best_params is not None:\n",
        "        if verbose:\n",
        "            print(\"\\nLoading best params on validation set (epoch %d)\\n\" % (best_epoch))\n",
        "        with torch.no_grad():\n",
        "            for param, best_param in zip(model.parameters(), best_params):\n",
        "                param[...] = best_param\n",
        "    if verbose:\n",
        "        plot_history(history)\n",
        "\n",
        "    return best_val_err"
      ],
      "execution_count": 6,
      "outputs": []
    },
    {
      "cell_type": "markdown",
      "metadata": {
        "id": "7MuByKWsRJum"
      },
      "source": [
        "## Testing"
      ]
    },
    {
      "cell_type": "code",
      "metadata": {
        "id": "NCvkCdgBRVTh"
      },
      "source": [
        "def get_stats(layers, mnist_loaders, num_tests, **kwargs):\n",
        "    results = []\n",
        "    for iter in tqdm(range(num_tests)):\n",
        "        t_start = time.time()\n",
        "        model = Model(*layers)\n",
        "\n",
        "        with torch.no_grad():\n",
        "            # Initialize parameters\n",
        "            for name, p in model.named_parameters():\n",
        "                if \"weight\" in name:\n",
        "                    a = np.sqrt(12/(28*28 + 10)) # 3/(1/2)*(fan_in+fan_out)/2\n",
        "                    p.uniform_(-a, a)\n",
        "                elif \"bias\" in name:\n",
        "                    p.zero_()\n",
        "                else:\n",
        "                    raise ValueError('Unknown parameter name \"%s\"' % name)\n",
        "\n",
        "        best_val_err = SGD(model, mnist_loaders, verbose=False, **kwargs)\n",
        "        test_err_rate = compute_error_rate(model, mnist_loaders[\"test\"])\n",
        "        results.append({\n",
        "            'iter': iter,\n",
        "            'test_err_rate': test_err_rate,\n",
        "            'time': time.time() - t_start,\n",
        "            'best_val_err': best_val_err,\n",
        "        })\n",
        "    return results"
      ],
      "execution_count": 7,
      "outputs": []
    },
    {
      "cell_type": "markdown",
      "metadata": {
        "id": "jg2N0lMtUJYc"
      },
      "source": [
        "## Problem 3: Tuning the Network for MNIST [4p]\n",
        "\n",
        "Tune the following network to reach **validation error rate below 1.9%**.\n",
        "This should result in a **test error rate below 2%**. To\n",
        "tune the network you will need to:\n",
        "1. Choose the number of layers (more than 1, less than 5);\n",
        "2. Choose the number of neurons in each layer (more than 100,\n",
        "    less than 5000);\n",
        "3. Pick proper weight initialization;\n",
        "4. Pick proper learning rate schedule (need to decay over time,\n",
        "    a good range to check on MNIST is about 1e-2 ... 1e-1 at the beginning and\n",
        "    half of that after 10000 batches);\n",
        "5. Pick a momentum constant (probably a constant one will be OK).\n",
        "\n",
        "\n",
        "Please note: there are many hyperparameter settings that give the desired answer, some may require tuning all hyperparameters, some only a few."
      ]
    },
    {
      "cell_type": "code",
      "metadata": {
        "colab": {
          "base_uri": "https://localhost:8080/",
          "height": 483
        },
        "id": "FWVlhSr_zGLu",
        "outputId": "8bb4734e-e976-46ec-ee26-8b7f8560b7f9"
      },
      "source": [
        "class Model(nn.Module):\n",
        "    def __init__(self, *args, **kwargs):\n",
        "        super(Model, self).__init__()\n",
        "        self.layers = nn.Sequential(*args, **kwargs)\n",
        "\n",
        "    def forward(self, X):\n",
        "        X = X.view(X.size(0), -1)\n",
        "        return self.layers.forward(X)\n",
        "\n",
        "    def loss(self, Out, Targets):\n",
        "        return F.cross_entropy(Out, Targets)\n",
        "\n",
        "layers = [\n",
        "    nn.Linear(28 * 28, 1000),\n",
        "    nn.ReLU(),\n",
        "    nn.Linear(1000, 10),\n",
        "]\n",
        "\n",
        "model = Model(*layers)\n",
        "\n",
        "with torch.no_grad():\n",
        "    # Initialize parameters\n",
        "    for name, p in model.named_parameters():\n",
        "        if \"weight\" in name:\n",
        "            a = np.sqrt(12/(28*28 + 10)) # 3/(1/2)*(fan_in+fan_out)/2\n",
        "            p.uniform_(-a, a)\n",
        "        elif \"bias\" in name:\n",
        "            p.zero_()\n",
        "        else:\n",
        "            raise ValueError('Unknown parameter name \"%s\"' % name)\n",
        "\n",
        "# On GPU enabled devices set device='cuda' else set device='cpu'\n",
        "t_start = time.time()\n",
        "SGD(model, mnist_loaders, alpha=1e-2, max_num_epochs=200, epsilon=0.98, decay=1e-5,\n",
        "    num_epochs=30, device=\"cuda\")\n",
        "\n",
        "\n",
        "test_err_rate = compute_error_rate(model, mnist_loaders[\"test\"])\n",
        "m = (\n",
        "    f\"Test error rate: {test_err_rate * 100.0:.3f}%, \"\n",
        "    f\"training took {time.time() - t_start:.0f}s.\"\n",
        ")\n",
        "print(\"{0}\\n{1}\\n{0}\".format(\"-\" * len(m), m))"
      ],
      "execution_count": 10,
      "outputs": [
        {
          "output_type": "stream",
          "text": [
            "----------------------------------------------------------\n",
            "After epoch 38 | valid err rate:  1.85% | doing  38 epochs\n",
            "----------------------------------------------------------\n",
            "\n",
            "Loading best params on validation set (epoch 25)\n",
            "\n",
            "-------------------------------------------\n",
            "Test error rate: 1.830%, training took 22s.\n",
            "-------------------------------------------\n"
          ],
          "name": "stdout"
        },
        {
          "output_type": "display_data",
          "data": {
            "image/png": "[encoded data removed]",
            "text/plain": [
              "<Figure size 1152x576 with 4 Axes>"
            ]
          },
          "metadata": {
            "tags": [],
            "needs_background": "light"
          }
        }
      ]
    },
    {
      "cell_type": "code",
      "metadata": {
        "id": "8lTFIyOrb7Ur",
        "colab": {
          "base_uri": "https://localhost:8080/"
        },
        "outputId": "4b42580c-cd3b-4ccd-d7bc-6bc0598e6157"
      },
      "source": [
        "results = get_stats(layers, mnist_loaders, 10, alpha=1e-2, max_num_epochs=200, epsilon=0.95,\n",
        "results_df = pd.DataFrame(results)\n",
        "                    decay=1e-5, num_epochs=30, device=\"cuda\")\n",
        "results_df['test_err_rate'].agg(['mean', 'max', 'min'])"
      ],
      "execution_count": 13,
      "outputs": [
        {
          "output_type": "execute_result",
          "data": {
            "text/plain": [
              "mean    0.01867\n",
              "max     0.02010\n",
              "min     0.01740\n",
              "Name: test_err_rate, dtype: float64"
            ]
          },
          "metadata": {
            "tags": []
          },
          "execution_count": 13
        }
      ]
    },
    {
      "cell_type": "markdown",
      "metadata": {
        "id": "ZNJcxDLo2mE4"
      },
      "source": [
        "## Problem 4: Convolutional Network [2p]\n",
        "\n",
        "Use convolutional and max-pooling layers (`Conv2d`, `Max_pool2d` or their functional variants) and (without dropout) get a test error rate below 1.5%."
      ]
    },
    {
      "cell_type": "code",
      "metadata": {
        "colab": {
          "base_uri": "https://localhost:8080/",
          "height": 481
        },
        "id": "iDr5C7Bu27Bf",
        "outputId": "e9fc883b-d491-430d-b8c2-3ff2b6bc7b7b"
      },
      "source": [
        "class Model(nn.Module):\n",
        "    def __init__(self, *args, **kwargs):\n",
        "        super(Model, self).__init__()\n",
        "        self.layers = nn.Sequential(*args, **kwargs)\n",
        "\n",
        "    def forward(self, X):\n",
        "        return self.layers.forward(X)\n",
        "\n",
        "    def loss(self, Out, Targets):\n",
        "        return F.cross_entropy(Out, Targets)\n",
        "\n",
        "layers = [\n",
        "    nn.Conv2d(1, 5, 3),\n",
        "    nn.MaxPool2d(kernel_size=2),\n",
        "    nn.Conv2d(5, 5, 4),\n",
        "    nn.MaxPool2d(kernel_size=2),\n",
        "    nn.Flatten(),\n",
        "    nn.Linear(5*5*5, 1000),\n",
        "    nn.ReLU(),\n",
        "    nn.Linear(1000, 10),\n",
        "]\n",
        "\n",
        "model = Model(*layers)\n",
        "\n",
        "with torch.no_grad():\n",
        "    # Initialize parameters\n",
        "    for name, p in model.named_parameters():\n",
        "        if \"weight\" in name:\n",
        "            a = np.sqrt(12/(28*28 + 10)) # 3/(1/2)*(fan_in+fan_out)/2\n",
        "            p.uniform_(-a, a)\n",
        "        elif \"bias\" in name:\n",
        "            p.zero_()\n",
        "        else:\n",
        "            raise ValueError('Unknown parameter name \"%s\"' % name)\n",
        "\n",
        "# On GPU enabled devices set device='cuda' else set device='cpu'\n",
        "t_start = time.time()\n",
        "SGD(model, mnist_loaders, alpha=1e-2, max_num_epochs=100, epsilon=0.95, decay=1e-5,\n",
        "    num_epochs=50, device=\"cuda\")\n",
        "\n",
        "test_err_rate = compute_error_rate(model, mnist_loaders[\"test\"])\n",
        "m = (\n",
        "    f\"Test error rate: {test_err_rate * 100.0:.3f}%, \"\n",
        "    f\"training took {time.time() - t_start:.0f}s.\"\n",
        ")\n",
        "print(\"{0}\\n{1}\\n{0}\".format(\"-\" * len(m), m))"
      ],
      "execution_count": 14,
      "outputs": [
        {
          "output_type": "stream",
          "text": [
            "-----------------------------------------------------------\n",
            "After epoch 100 | valid err rate:  1.07% | doing 115 epochs\n",
            "-----------------------------------------------------------\n",
            "\n",
            "Loading best params on validation set (epoch 76)\n",
            "\n",
            "--------------------------------------------\n",
            "Test error rate: 1.030%, training took 132s.\n",
            "--------------------------------------------\n"
          ],
          "name": "stdout"
        },
        {
          "output_type": "display_data",
          "data": {
            "image/png": "[encoded data removed]",
            "text/plain": [
              "<Figure size 1152x576 with 4 Axes>"
            ]
          },
          "metadata": {
            "tags": [],
            "needs_background": "light"
          }
        }
      ]
    },
    {
      "cell_type": "code",
      "metadata": {
        "colab": {
          "base_uri": "https://localhost:8080/",
          "height": 102,
          "referenced_widgets": [
            "cc463517548c415da6ae5fc33896901f",
            "d9369248bb964a69ba608c72cd5c2a1f",
            "7d1f750ee76249088b20c4588baac4b8",
            "2b76b135cf534f7c9f8ba8e7482aff06",
            "216c9901960348d39dafd874fe3ef373",
            "7299fa74864d495c8f1dfe89c6b1fa1b",
            "4d76f95357954a7db0088f3f2bfbc016",
            "8060bc3a29a542fc80ff0bf2895a6887"
          ]
        },
        "id": "hy12lFHqwf87",
        "outputId": "cf653931-f295-4860-ab86-234ea7b804eb"
      },
      "source": [
        "results = get_stats(layers, mnist_loaders, 10, alpha=1e-2, max_num_epochs=100, epsilon=0.95,\n",
        "                    decay=1e-5, num_epochs=50, device=\"cuda\")\n",
        "results_df = pd.DataFrame(results)\n",
        "results_df['test_err_rate'].agg(['mean', 'max', 'min'])"
      ],
      "execution_count": 15,
      "outputs": [
        {
          "output_type": "stream",
          "text": [
            "\n"
          ],
          "name": "stdout"
        },
        {
          "output_type": "execute_result",
          "data": {
            "text/plain": [
              "mean    0.01096\n",
              "max     0.01360\n",
              "min     0.00930\n",
              "Name: test_err_rate, dtype: float64"
            ]
          },
          "metadata": {
            "tags": []
          },
          "execution_count": 15
        }
      ]
    },
    {
      "cell_type": "markdown",
      "metadata": {
        "id": "lRrFSZNgO45u"
      },
      "source": [
        "## Problem 5: Dropout [2p]\n",
        "\n",
        "Learn about dropout:\n",
        "\n",
        "- implement a **dropout** layer \n",
        "- or use `nn.Dropout` (then the exercise is worth 1.5 points)\n",
        "\n",
        "and try to train a\n",
        "network getting below 1.5% test error rates with dropout, but no convolutions, or below 1% when dropout is used jointly with convolutions!\n",
        "\n",
        "Remember to turn off dropout during testing, using `model.train()` and `model.eval()`!\n",
        "\n",
        "Hint: Use [torch.nn.functional.dropout](http://pytorch.org/docs/master/nn.html#torch.nn.functional.dropout).\n",
        "\n",
        "Details: http://arxiv.org/pdf/1207.0580.pdf."
      ]
    },
    {
      "cell_type": "code",
      "metadata": {
        "colab": {
          "base_uri": "https://localhost:8080/",
          "height": 640
        },
        "id": "gwmMh-h5Pah9",
        "outputId": "e0a13484-0fad-427c-ed90-d3834878ee8f"
      },
      "source": [
        "class Model(nn.Module):\n",
        "    def __init__(self, *args, **kwargs):\n",
        "        super(Model, self).__init__()\n",
        "        self.layers = nn.Sequential(*args, **kwargs)\n",
        "\n",
        "    def forward(self, X):\n",
        "        return self.layers.forward(X)\n",
        "\n",
        "    def loss(self, Out, Targets):\n",
        "        return F.cross_entropy(Out, Targets)\n",
        "\n",
        "layers = [\n",
        "    nn.Conv2d(1, 5, 3),\n",
        "    nn.MaxPool2d(kernel_size=2),\n",
        "    nn.Conv2d(5, 20, 4),\n",
        "    nn.MaxPool2d(kernel_size=2),\n",
        "    nn.Flatten(),\n",
        "    nn.Dropout(p=0.2),\n",
        "    nn.Linear(20*5*5, 3000),\n",
        "    nn.ReLU(),\n",
        "    nn.Dropout(p=0.2),\n",
        "    nn.Linear(3000, 10),\n",
        "]\n",
        "\n",
        "model = Model(*layers)\n",
        "\n",
        "with torch.no_grad():\n",
        "    # Initialize parameters\n",
        "    for name, p in model.named_parameters():\n",
        "        if \"weight\" in name:\n",
        "            a = np.sqrt(12/(28*28 + 10)) # 3/(1/2)*(fan_in+fan_out)/2\n",
        "            p.uniform_(-a, a)\n",
        "        elif \"bias\" in name:\n",
        "            p.zero_()\n",
        "        else:\n",
        "            raise ValueError('Unknown parameter name \"%s\"' % name)\n",
        "\n",
        "# On GPU enabled devices set device='cuda' else set device='cpu'\n",
        "t_start = time.time()\n",
        "SGD(model, mnist_loaders, alpha=5e-3, max_num_epochs=100, epsilon=0.95, decay=1e-5,\n",
        "    num_epochs=50, device=\"cuda\")\n",
        "\n",
        "test_err_rate = compute_error_rate(model, mnist_loaders[\"test\"])\n",
        "m = (\n",
        "    f\"Test error rate: {test_err_rate * 100.0:.3f}%, \"\n",
        "    f\"training took {time.time() - t_start:.0f}s.\"\n",
        ")\n",
        "print(\"{0}\\n{1}\\n{0}\".format(\"-\" * len(m), m))"
      ],
      "execution_count": 16,
      "outputs": [
        {
          "output_type": "stream",
          "text": [
            "-----------------------------------------------------------\n",
            "After epoch 100 | valid err rate:  0.73% | doing 133 epochs\n",
            "-----------------------------------------------------------\n",
            "\n",
            "Loading best params on validation set (epoch 88)\n",
            "\n",
            "--------------------------------------------\n",
            "Test error rate: 0.720%, training took 177s.\n",
            "--------------------------------------------\n"
          ],
          "name": "stdout"
        },
        {
          "output_type": "display_data",
          "data": {
            "image/png": "[encoded data removed]",
            "text/plain": [
              "<Figure size 1152x576 with 4 Axes>"
            ]
          },
          "metadata": {
            "tags": [],
            "needs_background": "light"
          }
        }
      ]
    },
    {
      "cell_type": "code",
      "metadata": {
        "colab": {
          "base_uri": "https://localhost:8080/",
          "height": 102,
          "referenced_widgets": [
            "f8cc165bc9df44a9bf7a875dc421f3d6",
            "107b2f686041496d9330a05961e640c5",
            "86c5337ce5574a3085e9c4ab5d29a6e0",
            "da564cee7c7f40cc8949754a7f16e609",
            "f7172b5fa1494071992255d1a1bd2b7c",
            "6119cf0f9565463ca2e85131891b8123",
            "5dc20bd305d144f892c2dbd148e98690",
            "976db4dc707644f3a81d77980613b934"
          ]
        },
        "id": "sxMbrwvn09JF",
        "outputId": "7c2b23fa-3bb5-4c09-a157-980b91662c11"
      },
      "source": [
        "results = get_stats(layers, mnist_loaders, 10, alpha=5e-3, max_num_epochs=100, epsilon=0.95,\n",
        "                    decay=1e-5, num_epochs=50, device=\"cuda\")\n",
        "results_df = pd.DataFrame(results)\n",
        "results_df['test_err_rate'].agg(['mean', 'max', 'min'])"
      ],
      "execution_count": 17,
      "outputs": [
        {
          "output_type": "stream",
          "text": [
            "\n"
          ],
          "name": "stdout"
        },
        {
          "output_type": "execute_result",
          "data": {
            "text/plain": [
              "mean    0.00765\n",
              "max     0.00890\n",
              "min     0.00660\n",
              "Name: test_err_rate, dtype: float64"
            ]
          },
          "metadata": {
            "tags": []
          },
          "execution_count": 17
        }
      ]
    },
    {
      "cell_type": "markdown",
      "metadata": {
        "id": "c9fYnM3NSKLO"
      },
      "source": [
        "## Problem 6: Data Augmentation [1p]\n",
        "\n",
        "Apply data augmentation methods (e.g. rotations, noise, crops) when training networks on MNIST, to significantly reduce test error rate for your network. You can use functions from the [torchvision.transforms](http://pytorch.org/docs/master/torchvision/transforms.html) module.\n",
        "\n",
        "Please note: when using random transformations during training, use a data loader that re-computes them for each training minibatch. The `InMemoryDataloader` assumes that the transformations are deterministic and applies them only once."
      ]
    },
    {
      "cell_type": "code",
      "metadata": {
        "id": "7hw1SFMxkm3x"
      },
      "source": [
        "# Load the data\n",
        "batch_size = 128\n",
        "data_path = \"./data\"\n",
        "\n",
        "transform = torchvision.transforms.Compose(\n",
        "    [\n",
        "        torchvision.transforms.ToTensor(),\n",
        "        torchvision.transforms.Normalize((0.1307,), (0.3081,)),\n",
        "        torchvision.transforms.RandomApply(torch.nn.ModuleList([\n",
        "                torchvision.transforms.RandomRotation(15),\n",
        "                torchvision.transforms.GaussianBlur(3),\n",
        "            ]), p = 0.5\n",
        "        )\n",
        "    ]\n",
        ")\n",
        "\n",
        "_test = torchvision.datasets.MNIST(\n",
        "    data_path, train=False, download=True, transform=transform\n",
        ")\n",
        "\n",
        "# Load training data, split into train and valid sets\n",
        "_train = torchvision.datasets.MNIST(\n",
        "    data_path, train=True, download=True, transform=transform\n",
        ")\n",
        "_train.data = _train.data[:50000]\n",
        "_train.targets = _train.targets[:50000]\n",
        "\n",
        "_valid = torchvision.datasets.MNIST(\n",
        "    data_path, train=True, download=True, transform=transform\n",
        ")\n",
        "_valid.data = _valid.data[50000:]\n",
        "_valid.targets = _valid.targets[50000:]"
      ],
      "execution_count": null,
      "outputs": []
    },
    {
      "cell_type": "code",
      "metadata": {
        "id": "Bv_bqy-glLgh"
      },
      "source": [
        "batch_size = 128\n",
        "mnist_loaders_augmented = {\n",
        "    \"train\": torch.utils.data.DataLoader(_train, batch_size=batch_size, shuffle=True, num_workers=1, pin_memory=True),\n",
        "    \"valid\": torch.utils.data.DataLoader(_valid, batch_size=batch_size, shuffle=False, num_workers=1, pin_memory=True),\n",
        "    \"test\": torch.utils.data.DataLoader(_test, batch_size=batch_size, shuffle=False, num_workers=1, pin_memory=True),\n",
        "}"
      ],
      "execution_count": null,
      "outputs": []
    },
    {
      "cell_type": "code",
      "metadata": {
        "colab": {
          "base_uri": "https://localhost:8080/",
          "height": 651
        },
        "id": "Vl-J6lXfj1zj",
        "outputId": "275783c4-afa7-4d0e-fe8f-c821f950cef0"
      },
      "source": [
        "class Model(nn.Module):\n",
        "    def __init__(self, *args, **kwargs):\n",
        "        super(Model, self).__init__()\n",
        "        self.layers = nn.Sequential(*args, **kwargs)\n",
        "\n",
        "    def forward(self, X):\n",
        "        return self.layers.forward(X)\n",
        "\n",
        "    def loss(self, Out, Targets):\n",
        "        return F.cross_entropy(Out, Targets)\n",
        "\n",
        "\n",
        "model = Model(\n",
        "    nn.Conv2d(1, 5, 3),\n",
        "    nn.MaxPool2d(kernel_size=2),\n",
        "    nn.Conv2d(5, 20, 4),\n",
        "    nn.MaxPool2d(kernel_size=2),\n",
        "    nn.Flatten(),\n",
        "    nn.Dropout(p=0.2),\n",
        "    nn.Linear(20*5*5, 3000),\n",
        "    nn.ReLU(),\n",
        "    nn.Dropout(p=0.2),\n",
        "    nn.Linear(3000, 10),\n",
        "    nn.ReLU(),\n",
        "    )\n",
        "\n",
        "with torch.no_grad():\n",
        "    # Initialize parameters\n",
        "    for name, p in model.named_parameters():\n",
        "        if \"weight\" in name:\n",
        "            a = np.sqrt(12/(28*28 + 10)) # 3/(1/2)*(fan_in+fan_out)/2\n",
        "            p.uniform_(-a, a)\n",
        "        elif \"bias\" in name:\n",
        "            p.zero_()\n",
        "        else:\n",
        "            raise ValueError('Unknown parameter name \"%s\"' % name)\n",
        "\n",
        "# On GPU enabled devices set device='cuda' else set device='cpu'\n",
        "t_start = time.time()\n",
        "SGD(model, mnist_loaders_augmented, alpha=5e-3, max_num_epochs=100, epsilon=0.95, decay=1e-5,\n",
        "    num_epochs=50, device=\"cuda\")\n",
        "\n",
        "test_err_rate = compute_error_rate(model, mnist_loaders[\"test\"])\n",
        "m = (\n",
        "    f\"Test error rate: {test_err_rate * 100.0:.3f}%, \"\n",
        "    f\"training took {time.time() - t_start:.0f}s.\"\n",
        ")\n",
        "print(\"{0}\\n{1}\\n{0}\".format(\"-\" * len(m), m))"
      ],
      "execution_count": null,
      "outputs": [
        {
          "output_type": "stream",
          "text": [
            "-----------------------------------------------------------\n",
            "After epoch 100 | valid err rate:  0.80% | doing 149 epochs\n",
            "-----------------------------------------------------------\n",
            "\n",
            "Loading best params on validation set (epoch 99)\n",
            "\n",
            "---------------------------------------------\n",
            "Test error rate: 0.630%, training took 3742s.\n",
            "---------------------------------------------\n"
          ],
          "name": "stdout"
        },
        {
          "output_type": "display_data",
          "data": {
            "image/png": "[encoded data removed]",
            "text/plain": [
              "<Figure size 1152x576 with 4 Axes>"
            ]
          },
          "metadata": {
            "tags": [],
            "needs_background": "light"
          }
        }
      ]
    },
    {
      "cell_type": "markdown",
      "metadata": {
        "id": "lbINRDy-K7U_"
      },
      "source": [
        "## Problem 7: Batch Normalization [1p]\n",
        "\n",
        "[Batch Normalization](https://arxiv.org/abs/1502.03167) helps training neural networks because it [normalizes layer activation magnitudes](https://papers.nips.cc/paper/7515-how-does-batch-normalization-help-optimization.pdf). It typically allows to train networks faster and/or with higher learning rates, lessens the importance\n",
        "of initialization and might eliminate the need for Dropout.\n",
        "\n",
        "Implement Batch Normalization and compare with regular training of MNIST models.\n",
        "\n",
        "Remember to use the batch statistics during model training and to use an average of training batch statistics during model evaluation. For details please consult the paper."
      ]
    },
    {
      "cell_type": "code",
      "metadata": {
        "colab": {
          "base_uri": "https://localhost:8080/",
          "height": 640
        },
        "id": "__GH9psZPWkm",
        "outputId": "7ebe653c-9716-48f8-9e64-ae296a612b51"
      },
      "source": [
        "class Model(nn.Module):\n",
        "    def __init__(self, *args, **kwargs):\n",
        "        super(Model, self).__init__()\n",
        "        self.layers = nn.Sequential(*args, **kwargs)\n",
        "\n",
        "    def forward(self, X):\n",
        "        return self.layers.forward(X)\n",
        "\n",
        "    def loss(self, Out, Targets):\n",
        "        return F.cross_entropy(Out, Targets)\n",
        "\n",
        "layers = [\n",
        "    nn.BatchNorm2d(1),\n",
        "    nn.Conv2d(1, 5, 3),\n",
        "    nn.MaxPool2d(kernel_size=2),\n",
        "\n",
        "    nn.BatchNorm2d(5),\n",
        "    nn.Conv2d(5, 20, 4),\n",
        "    nn.MaxPool2d(kernel_size=2),\n",
        "\n",
        "    nn.Flatten(),\n",
        "\n",
        "    nn.Dropout(p=0.2),\n",
        "    nn.BatchNorm1d(20*5*5),\n",
        "    nn.Linear(20*5*5, 3000),\n",
        "    nn.ReLU(),\n",
        "\n",
        "    nn.Dropout(p=0.2),\n",
        "    nn.BatchNorm1d(3000),\n",
        "    nn.Linear(3000, 3000),\n",
        "    nn.ReLU(),\n",
        "    \n",
        "    nn.Dropout(p=0.2),\n",
        "    nn.BatchNorm1d(3000),\n",
        "    nn.Linear(3000, 10),\n",
        "]\n",
        "\n",
        "model = Model(*layers)\n",
        "\n",
        "with torch.no_grad():\n",
        "    # Initialize parameters\n",
        "    for name, p in model.named_parameters():\n",
        "        if \"weight\" in name:\n",
        "            a = np.sqrt(12/(28*28 + 10)) # 3/(1/2)*(fan_in+fan_out)/2\n",
        "            p.uniform_(-a, a)\n",
        "        elif \"bias\" in name:\n",
        "            p.zero_()\n",
        "        else:\n",
        "            raise ValueError('Unknown parameter name \"%s\"' % name)\n",
        "\n",
        "# On GPU enabled devices set device='cuda' else set device='cpu'\n",
        "t_start = time.time()\n",
        "SGD(model, mnist_loaders, alpha=5e-3, max_num_epochs=100, epsilon=0.95, decay=1e-5,\n",
        "    num_epochs=50, device=\"cuda\")\n",
        "\n",
        "test_err_rate = compute_error_rate(model, mnist_loaders[\"test\"])\n",
        "m = (\n",
        "    f\"Test error rate: {test_err_rate * 100.0:.3f}%, \"\n",
        "    f\"training took {time.time() - t_start:.0f}s.\"\n",
        ")\n",
        "print(\"{0}\\n{1}\\n{0}\".format(\"-\" * len(m), m))"
      ],
      "execution_count": 18,
      "outputs": [
        {
          "output_type": "stream",
          "text": [
            "----------------------------------------------------------\n",
            "After epoch 70 | valid err rate:  0.72% | doing  70 epochs\n",
            "----------------------------------------------------------\n",
            "\n",
            "Loading best params on validation set (epoch 46)\n",
            "\n",
            "--------------------------------------------\n",
            "Test error rate: 0.960%, training took 387s.\n",
            "--------------------------------------------\n"
          ],
          "name": "stdout"
        },
        {
          "output_type": "display_data",
          "data": {
            "image/png": "[encoded data removed]",
            "text/plain": [
              "<Figure size 1152x576 with 4 Axes>"
            ]
          },
          "metadata": {
            "tags": [],
            "needs_background": "light"
          }
        }
      ]
    },
    {
      "cell_type": "code",
      "metadata": {
        "colab": {
          "base_uri": "https://localhost:8080/",
          "height": 102,
          "referenced_widgets": [
            "50f18f81ab584e4db704814fabe01aca",
            "8978cb5cc67241a28a61e85752bd119b",
            "0ad33523e8264302b1a10f65782c9964",
            "46f759e3c46244bebe5685d9586ae5bd",
            "11ac249ce95141cdb15f6bd6d9183acc",
            "3b1b4b7058024022b4c34ffec0081ff7",
            "89b59f4082ab47b0b05f90bdd977f346",
            "b651c2c3232f4e8aabdc64273190e7cc"
          ]
        },
        "id": "nCI4TdBj7_95",
        "outputId": "eef1568b-e08e-490c-80ad-9aef23d46247"
      },
      "source": [
        "results = get_stats(layers, mnist_loaders, 10, alpha=5e-3, max_num_epochs=100, epsilon=0.95,\n",
        "                    decay=1e-5, num_epochs=50, device=\"cuda\")\n",
        "results_df = pd.DataFrame(results)\n",
        "results_df['test_err_rate'].agg(['mean', 'max', 'min'])"
      ],
      "execution_count": 19,
      "outputs": [
        {
          "output_type": "stream",
          "text": [
            "\n"
          ],
          "name": "stdout"
        },
        {
          "output_type": "execute_result",
          "data": {
            "text/plain": [
              "mean    0.00801\n",
              "max     0.00950\n",
              "min     0.00660\n",
              "Name: test_err_rate, dtype: float64"
            ]
          },
          "metadata": {
            "tags": []
          },
          "execution_count": 19
        }
      ]
    },
    {
      "cell_type": "code",
      "metadata": {
        "colab": {
          "base_uri": "https://localhost:8080/",
          "height": 640
        },
        "id": "ZPs1AU1hNeDO",
        "outputId": "b8af0b60-a9e5-4b60-ace2-d06a438d3eb8"
      },
      "source": [
        "class Model(nn.Module):\n",
        "    def __init__(self, *args, **kwargs):\n",
        "        super(Model, self).__init__()\n",
        "        self.layers = nn.Sequential(*args, **kwargs)\n",
        "\n",
        "    def forward(self, X):\n",
        "        return self.layers.forward(X)\n",
        "\n",
        "    def loss(self, Out, Targets):\n",
        "        return F.cross_entropy(Out, Targets)\n",
        "\n",
        "\n",
        "model = Model(\n",
        "    nn.BatchNorm2d(1),\n",
        "    nn.Conv2d(1, 5, 3),\n",
        "    nn.MaxPool2d(kernel_size=2),\n",
        "    nn.BatchNorm2d(5),\n",
        "    nn.Conv2d(5, 20, 4),\n",
        "    nn.MaxPool2d(kernel_size=2),\n",
        "    nn.Flatten(),\n",
        "    nn.BatchNorm1d(20*5*5),\n",
        "    nn.Linear(20*5*5, 3000),\n",
        "    nn.ReLU(),\n",
        "    nn.BatchNorm1d(3000),\n",
        "    nn.Linear(3000, 10),\n",
        "    )\n",
        "\n",
        "with torch.no_grad():\n",
        "    # Initialize parameters\n",
        "    for name, p in model.named_parameters():\n",
        "        if \"weight\" in name:\n",
        "            a = np.sqrt(12/(28*28 + 10)) # 3/(1/2)*(fan_in+fan_out)/2\n",
        "            p.uniform_(-a, a)\n",
        "        elif \"bias\" in name:\n",
        "            p.zero_()\n",
        "        else:\n",
        "            raise ValueError('Unknown parameter name \"%s\"' % name)\n",
        "\n",
        "# On GPU enabled devices set device='cuda' else set device='cpu'\n",
        "t_start = time.time()\n",
        "SGD(model, mnist_loaders, alpha=5e-3, max_num_epochs=100, epsilon=0.95, decay=1e-5,\n",
        "    num_epochs=50, device=\"cuda\")\n",
        "\n",
        "test_err_rate = compute_error_rate(model, mnist_loaders[\"test\"])\n",
        "m = (\n",
        "    f\"Test error rate: {test_err_rate * 100.0:.3f}%, \"\n",
        "    f\"training took {time.time() - t_start:.0f}s.\"\n",
        ")\n",
        "print(\"{0}\\n{1}\\n{0}\".format(\"-\" * len(m), m))"
      ],
      "execution_count": null,
      "outputs": [
        {
          "output_type": "stream",
          "text": [
            "----------------------------------------------------------\n",
            "After epoch 52 | valid err rate:  1.02% | doing  52 epochs\n",
            "----------------------------------------------------------\n",
            "\n",
            "Loading best params on validation set (epoch 34)\n",
            "\n",
            "-------------------------------------------\n",
            "Test error rate: 0.980%, training took 76s.\n",
            "-------------------------------------------\n"
          ],
          "name": "stdout"
        },
        {
          "output_type": "display_data",
          "data": {
            "image/png": "[encoded data removed]",
            "text/plain": [
              "<Figure size 1152x576 with 4 Axes>"
            ]
          },
          "metadata": {
            "tags": [],
            "needs_background": "light"
          }
        }
      ]
    },
    {
      "cell_type": "markdown",
      "metadata": {
        "id": "HPZxqfR_z_hs"
      },
      "source": [
        "## Problem 12: Extreme Learning Machine (ELM) [2p]\n",
        "\n",
        "Consider a neural network with 1 hidden layer. In the extreme learning approach, the first layer is not trained, but instead, it is randomly set. It is often very large. The second (output) layer weights can then be set using the closed-form formula for linear regression. Thus, training an ELM is fast (there is no iterative optimization) and one can try many different hyperparameters, such as hidden layer size, the random distribution from which weights are sampled, the hidden activation function, and so forth.\n",
        "\n",
        "Task: Implement an ELM for MNIST and try to reach the performance of your backpropagation-trained model."
      ]
    },
    {
      "cell_type": "code",
      "metadata": {
        "id": "2Qvxn4fJ0Bf4"
      },
      "source": [
        "class ELM:\n",
        "    def __init__(self,\n",
        "                 hidden_layer_size,\n",
        "                 distribution=(lambda size: torch.normal(0, 1, size)),\n",
        "                 activation_function=nn.functional.relu,\n",
        "                 device='cuda'):\n",
        "        self.hidden_layer_size = hidden_layer_size\n",
        "        self.distribution = distribution\n",
        "        self.activation_function = activation_function\n",
        "        self.W1 = None\n",
        "        self.W2 = None\n",
        "        self.device = device\n",
        "\n",
        "    def fit(self, X, Y):\n",
        "        X = X.view(X.size(0), -1).to(self.device)\n",
        "        Y = nn.functional.one_hot(Y).float().to(self.device)\n",
        "        self.W1 = self.distribution((X.size(1), self.hidden_layer_size)).to(self.device)\n",
        "        O1 = self.activation_function(X@self.W1)\n",
        "        self.W2 = torch.linalg.solve(O1.T@O1, O1.T@Y)\n",
        "\n",
        "    def predict(self, X):\n",
        "        X = X.view(X.size(0), -1).to(self.device)\n",
        "        O1 = self.activation_function(X@self.W1)\n",
        "        O2 = O1@self.W2\n",
        "        return torch.argmax(O2, 1).to('cpu')"
      ],
      "execution_count": null,
      "outputs": []
    },
    {
      "cell_type": "code",
      "metadata": {
        "id": "4WhcGcPAKkCY"
      },
      "source": [
        "def accuracy(preds, targets):\n",
        "    return (preds == targets).sum() / preds.size(0)"
      ],
      "execution_count": null,
      "outputs": []
    },
    {
      "cell_type": "code",
      "metadata": {
        "id": "2mruDZ8HAUXs"
      },
      "source": [
        "X_train = torch.vstack((_train.data, _valid.data)).float()\n",
        "Y_train = torch.hstack((_train.targets, _valid.targets))\n",
        "\n",
        "X_test = _test.data.float()\n",
        "Y_test = _test.targets"
      ],
      "execution_count": null,
      "outputs": []
    },
    {
      "cell_type": "code",
      "metadata": {
        "id": "a87RkYhn-Tw2"
      },
      "source": [
        "elm = ELM(10000)\n",
        "elm.fit(X_train, Y_train)\n",
        "out = elm.predict(X_test)\n",
        "accuracy(out, Y_test)"
      ],
      "execution_count": null,
      "outputs": []
    }
  ]
}