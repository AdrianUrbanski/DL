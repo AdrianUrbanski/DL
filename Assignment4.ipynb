{
  "nbformat": 4,
  "nbformat_minor": 0,
  "metadata": {
    "colab": {
      "name": "Assignment4.ipynb",
      "provenance": [],
      "collapsed_sections": [],
      "toc_visible": true,
      "machine_shape": "hm",
      "include_colab_link": true
    },
    "kernelspec": {
      "name": "python3",
      "display_name": "Python 3"
    },
    "widgets": {
      "application/vnd.jupyter.widget-state+json": {
        "385ce259b80c412593d592bbea40e4cf": {
          "model_module": "@jupyter-widgets/controls",
          "model_name": "HBoxModel",
          "state": {
            "_view_name": "HBoxView",
            "_dom_classes": [],
            "_model_name": "HBoxModel",
            "_view_module": "@jupyter-widgets/controls",
            "_model_module_version": "1.5.0",
            "_view_count": null,
            "_view_module_version": "1.5.0",
            "box_style": "",
            "layout": "IPY_MODEL_78125e230dd840abb3bb469e5abc76e1",
            "_model_module": "@jupyter-widgets/controls",
            "children": [
              "IPY_MODEL_4d1f151dd77e41a2a7cc1eed0e7bb866",
              "IPY_MODEL_a955cfab460e4726a27bc261ac6110b9"
            ]
          }
        },
        "78125e230dd840abb3bb469e5abc76e1": {
          "model_module": "@jupyter-widgets/base",
          "model_name": "LayoutModel",
          "state": {
            "_view_name": "LayoutView",
            "grid_template_rows": null,
            "right": null,
            "justify_content": null,
            "_view_module": "@jupyter-widgets/base",
            "overflow": null,
            "_model_module_version": "1.2.0",
            "_view_count": null,
            "flex_flow": null,
            "width": null,
            "min_width": null,
            "border": null,
            "align_items": null,
            "bottom": null,
            "_model_module": "@jupyter-widgets/base",
            "top": null,
            "grid_column": null,
            "overflow_y": null,
            "overflow_x": null,
            "grid_auto_flow": null,
            "grid_area": null,
            "grid_template_columns": null,
            "flex": null,
            "_model_name": "LayoutModel",
            "justify_items": null,
            "grid_row": null,
            "max_height": null,
            "align_content": null,
            "visibility": null,
            "align_self": null,
            "height": null,
            "min_height": null,
            "padding": null,
            "grid_auto_rows": null,
            "grid_gap": null,
            "max_width": null,
            "order": null,
            "_view_module_version": "1.2.0",
            "grid_template_areas": null,
            "object_position": null,
            "object_fit": null,
            "grid_auto_columns": null,
            "margin": null,
            "display": null,
            "left": null
          }
        },
        "4d1f151dd77e41a2a7cc1eed0e7bb866": {
          "model_module": "@jupyter-widgets/controls",
          "model_name": "FloatProgressModel",
          "state": {
            "_view_name": "ProgressView",
            "style": "IPY_MODEL_ee30a049e69d40b69ef66a699844cbf0",
            "_dom_classes": [],
            "description": "100%",
            "_model_name": "FloatProgressModel",
            "bar_style": "success",
            "max": 72807,
            "_view_module": "@jupyter-widgets/controls",
            "_model_module_version": "1.5.0",
            "value": 72807,
            "_view_count": null,
            "_view_module_version": "1.5.0",
            "orientation": "horizontal",
            "min": 0,
            "description_tooltip": null,
            "_model_module": "@jupyter-widgets/controls",
            "layout": "IPY_MODEL_c889755c278a4debac5b6c1afc809eab"
          }
        },
        "a955cfab460e4726a27bc261ac6110b9": {
          "model_module": "@jupyter-widgets/controls",
          "model_name": "HTMLModel",
          "state": {
            "_view_name": "HTMLView",
            "style": "IPY_MODEL_319f30c0b68b4a0f89b2ee256198cac3",
            "_dom_classes": [],
            "description": "",
            "_model_name": "HTMLModel",
            "placeholder": "​",
            "_view_module": "@jupyter-widgets/controls",
            "_model_module_version": "1.5.0",
            "value": " 72807/72807 [01:19&lt;00:00, 913.90it/s]",
            "_view_count": null,
            "_view_module_version": "1.5.0",
            "description_tooltip": null,
            "_model_module": "@jupyter-widgets/controls",
            "layout": "IPY_MODEL_b204fa1e0d7b4bb4bc4d19fd003a6d59"
          }
        },
        "ee30a049e69d40b69ef66a699844cbf0": {
          "model_module": "@jupyter-widgets/controls",
          "model_name": "ProgressStyleModel",
          "state": {
            "_view_name": "StyleView",
            "_model_name": "ProgressStyleModel",
            "description_width": "initial",
            "_view_module": "@jupyter-widgets/base",
            "_model_module_version": "1.5.0",
            "_view_count": null,
            "_view_module_version": "1.2.0",
            "bar_color": null,
            "_model_module": "@jupyter-widgets/controls"
          }
        },
        "c889755c278a4debac5b6c1afc809eab": {
          "model_module": "@jupyter-widgets/base",
          "model_name": "LayoutModel",
          "state": {
            "_view_name": "LayoutView",
            "grid_template_rows": null,
            "right": null,
            "justify_content": null,
            "_view_module": "@jupyter-widgets/base",
            "overflow": null,
            "_model_module_version": "1.2.0",
            "_view_count": null,
            "flex_flow": null,
            "width": null,
            "min_width": null,
            "border": null,
            "align_items": null,
            "bottom": null,
            "_model_module": "@jupyter-widgets/base",
            "top": null,
            "grid_column": null,
            "overflow_y": null,
            "overflow_x": null,
            "grid_auto_flow": null,
            "grid_area": null,
            "grid_template_columns": null,
            "flex": null,
            "_model_name": "LayoutModel",
            "justify_items": null,
            "grid_row": null,
            "max_height": null,
            "align_content": null,
            "visibility": null,
            "align_self": null,
            "height": null,
            "min_height": null,
            "padding": null,
            "grid_auto_rows": null,
            "grid_gap": null,
            "max_width": null,
            "order": null,
            "_view_module_version": "1.2.0",
            "grid_template_areas": null,
            "object_position": null,
            "object_fit": null,
            "grid_auto_columns": null,
            "margin": null,
            "display": null,
            "left": null
          }
        },
        "319f30c0b68b4a0f89b2ee256198cac3": {
          "model_module": "@jupyter-widgets/controls",
          "model_name": "DescriptionStyleModel",
          "state": {
            "_view_name": "StyleView",
            "_model_name": "DescriptionStyleModel",
            "description_width": "",
            "_view_module": "@jupyter-widgets/base",
            "_model_module_version": "1.5.0",
            "_view_count": null,
            "_view_module_version": "1.2.0",
            "_model_module": "@jupyter-widgets/controls"
          }
        },
        "b204fa1e0d7b4bb4bc4d19fd003a6d59": {
          "model_module": "@jupyter-widgets/base",
          "model_name": "LayoutModel",
          "state": {
            "_view_name": "LayoutView",
            "grid_template_rows": null,
            "right": null,
            "justify_content": null,
            "_view_module": "@jupyter-widgets/base",
            "overflow": null,
            "_model_module_version": "1.2.0",
            "_view_count": null,
            "flex_flow": null,
            "width": null,
            "min_width": null,
            "border": null,
            "align_items": null,
            "bottom": null,
            "_model_module": "@jupyter-widgets/base",
            "top": null,
            "grid_column": null,
            "overflow_y": null,
            "overflow_x": null,
            "grid_auto_flow": null,
            "grid_area": null,
            "grid_template_columns": null,
            "flex": null,
            "_model_name": "LayoutModel",
            "justify_items": null,
            "grid_row": null,
            "max_height": null,
            "align_content": null,
            "visibility": null,
            "align_self": null,
            "height": null,
            "min_height": null,
            "padding": null,
            "grid_auto_rows": null,
            "grid_gap": null,
            "max_width": null,
            "order": null,
            "_view_module_version": "1.2.0",
            "grid_template_areas": null,
            "object_position": null,
            "object_fit": null,
            "grid_auto_columns": null,
            "margin": null,
            "display": null,
            "left": null
          }
        },
        "3743e3bbbb164f339a377728a4ed9d70": {
          "model_module": "@jupyter-widgets/controls",
          "model_name": "HBoxModel",
          "state": {
            "_view_name": "HBoxView",
            "_dom_classes": [],
            "_model_name": "HBoxModel",
            "_view_module": "@jupyter-widgets/controls",
            "_model_module_version": "1.5.0",
            "_view_count": null,
            "_view_module_version": "1.5.0",
            "box_style": "",
            "layout": "IPY_MODEL_ea4aa119a2024de297ed63db099718e7",
            "_model_module": "@jupyter-widgets/controls",
            "children": [
              "IPY_MODEL_fdddde3735e54c71a1d77fb55e303344",
              "IPY_MODEL_2eb3a7befa0045d49fedd7eb614d8971"
            ]
          }
        },
        "ea4aa119a2024de297ed63db099718e7": {
          "model_module": "@jupyter-widgets/base",
          "model_name": "LayoutModel",
          "state": {
            "_view_name": "LayoutView",
            "grid_template_rows": null,
            "right": null,
            "justify_content": null,
            "_view_module": "@jupyter-widgets/base",
            "overflow": null,
            "_model_module_version": "1.2.0",
            "_view_count": null,
            "flex_flow": null,
            "width": null,
            "min_width": null,
            "border": null,
            "align_items": null,
            "bottom": null,
            "_model_module": "@jupyter-widgets/base",
            "top": null,
            "grid_column": null,
            "overflow_y": null,
            "overflow_x": null,
            "grid_auto_flow": null,
            "grid_area": null,
            "grid_template_columns": null,
            "flex": null,
            "_model_name": "LayoutModel",
            "justify_items": null,
            "grid_row": null,
            "max_height": null,
            "align_content": null,
            "visibility": null,
            "align_self": null,
            "height": null,
            "min_height": null,
            "padding": null,
            "grid_auto_rows": null,
            "grid_gap": null,
            "max_width": null,
            "order": null,
            "_view_module_version": "1.2.0",
            "grid_template_areas": null,
            "object_position": null,
            "object_fit": null,
            "grid_auto_columns": null,
            "margin": null,
            "display": null,
            "left": null
          }
        },
        "fdddde3735e54c71a1d77fb55e303344": {
          "model_module": "@jupyter-widgets/controls",
          "model_name": "FloatProgressModel",
          "state": {
            "_view_name": "ProgressView",
            "style": "IPY_MODEL_f513251622514d48b36afecdd122b28d",
            "_dom_classes": [],
            "description": "100%",
            "_model_name": "FloatProgressModel",
            "bar_style": "success",
            "max": 72807,
            "_view_module": "@jupyter-widgets/controls",
            "_model_module_version": "1.5.0",
            "value": 72807,
            "_view_count": null,
            "_view_module_version": "1.5.0",
            "orientation": "horizontal",
            "min": 0,
            "description_tooltip": null,
            "_model_module": "@jupyter-widgets/controls",
            "layout": "IPY_MODEL_3c66a8b2970b48de936a38c9ab6c5265"
          }
        },
        "2eb3a7befa0045d49fedd7eb614d8971": {
          "model_module": "@jupyter-widgets/controls",
          "model_name": "HTMLModel",
          "state": {
            "_view_name": "HTMLView",
            "style": "IPY_MODEL_2b5dcccbaaa441969a4861f22bb6b1c7",
            "_dom_classes": [],
            "description": "",
            "_model_name": "HTMLModel",
            "placeholder": "​",
            "_view_module": "@jupyter-widgets/controls",
            "_model_module_version": "1.5.0",
            "value": " 72807/72807 [11:38&lt;00:00, 104.31it/s]",
            "_view_count": null,
            "_view_module_version": "1.5.0",
            "description_tooltip": null,
            "_model_module": "@jupyter-widgets/controls",
            "layout": "IPY_MODEL_18a05da7c01d4f979147f07aeee218b5"
          }
        },
        "f513251622514d48b36afecdd122b28d": {
          "model_module": "@jupyter-widgets/controls",
          "model_name": "ProgressStyleModel",
          "state": {
            "_view_name": "StyleView",
            "_model_name": "ProgressStyleModel",
            "description_width": "initial",
            "_view_module": "@jupyter-widgets/base",
            "_model_module_version": "1.5.0",
            "_view_count": null,
            "_view_module_version": "1.2.0",
            "bar_color": null,
            "_model_module": "@jupyter-widgets/controls"
          }
        },
        "3c66a8b2970b48de936a38c9ab6c5265": {
          "model_module": "@jupyter-widgets/base",
          "model_name": "LayoutModel",
          "state": {
            "_view_name": "LayoutView",
            "grid_template_rows": null,
            "right": null,
            "justify_content": null,
            "_view_module": "@jupyter-widgets/base",
            "overflow": null,
            "_model_module_version": "1.2.0",
            "_view_count": null,
            "flex_flow": null,
            "width": null,
            "min_width": null,
            "border": null,
            "align_items": null,
            "bottom": null,
            "_model_module": "@jupyter-widgets/base",
            "top": null,
            "grid_column": null,
            "overflow_y": null,
            "overflow_x": null,
            "grid_auto_flow": null,
            "grid_area": null,
            "grid_template_columns": null,
            "flex": null,
            "_model_name": "LayoutModel",
            "justify_items": null,
            "grid_row": null,
            "max_height": null,
            "align_content": null,
            "visibility": null,
            "align_self": null,
            "height": null,
            "min_height": null,
            "padding": null,
            "grid_auto_rows": null,
            "grid_gap": null,
            "max_width": null,
            "order": null,
            "_view_module_version": "1.2.0",
            "grid_template_areas": null,
            "object_position": null,
            "object_fit": null,
            "grid_auto_columns": null,
            "margin": null,
            "display": null,
            "left": null
          }
        },
        "2b5dcccbaaa441969a4861f22bb6b1c7": {
          "model_module": "@jupyter-widgets/controls",
          "model_name": "DescriptionStyleModel",
          "state": {
            "_view_name": "StyleView",
            "_model_name": "DescriptionStyleModel",
            "description_width": "",
            "_view_module": "@jupyter-widgets/base",
            "_model_module_version": "1.5.0",
            "_view_count": null,
            "_view_module_version": "1.2.0",
            "_model_module": "@jupyter-widgets/controls"
          }
        },
        "18a05da7c01d4f979147f07aeee218b5": {
          "model_module": "@jupyter-widgets/base",
          "model_name": "LayoutModel",
          "state": {
            "_view_name": "LayoutView",
            "grid_template_rows": null,
            "right": null,
            "justify_content": null,
            "_view_module": "@jupyter-widgets/base",
            "overflow": null,
            "_model_module_version": "1.2.0",
            "_view_count": null,
            "flex_flow": null,
            "width": null,
            "min_width": null,
            "border": null,
            "align_items": null,
            "bottom": null,
            "_model_module": "@jupyter-widgets/base",
            "top": null,
            "grid_column": null,
            "overflow_y": null,
            "overflow_x": null,
            "grid_auto_flow": null,
            "grid_area": null,
            "grid_template_columns": null,
            "flex": null,
            "_model_name": "LayoutModel",
            "justify_items": null,
            "grid_row": null,
            "max_height": null,
            "align_content": null,
            "visibility": null,
            "align_self": null,
            "height": null,
            "min_height": null,
            "padding": null,
            "grid_auto_rows": null,
            "grid_gap": null,
            "max_width": null,
            "order": null,
            "_view_module_version": "1.2.0",
            "grid_template_areas": null,
            "object_position": null,
            "object_fit": null,
            "grid_auto_columns": null,
            "margin": null,
            "display": null,
            "left": null
          }
        }
      }
    },
    "accelerator": "GPU"
  },
  "cells": [
    {
      "cell_type": "markdown",
      "metadata": {
        "id": "view-in-github",
        "colab_type": "text"
      },
      "source": [
        "<a href=\"https://colab.research.google.com/github/AdrianUrbanski/DL/blob/main/Assignment4.ipynb\" target=\"_parent\"><img src=\"https://colab.research.google.com/assets/colab-badge.svg\" alt=\"Open In Colab\"/></a>"
      ]
    },
    {
      "cell_type": "markdown",
      "metadata": {
        "id": "_mUxp5svuqQL"
      },
      "source": [
        "# Assignment 4\n",
        "\n",
        "**Submission deadlines:**\n",
        "- get at least 4 points by Tuesday, 11.05.2021\n",
        "- remaining points: last lab session before or on Tuesday, 18.05.2021\n",
        "\n",
        "**Points:** Aim to get 12 out of 15+ possible points\n",
        "\n",
        "\n",
        "## Submission instructions\n",
        "The class is held remotely. To submit your solutions please show the notebook over the video call. Make sure you know all the questions and answers, and that the notebook contains results (before presentation do `Runtime -> Restart and run all`)\n",
        "\n",
        "We provide starter code, however, you are not required to use it as long as you properly solve the tasks.\n",
        "\n",
        "As always, please submit corrections using GitHub's Pull Requests to https://github.com/janchorowski/dl_uwr."
      ]
    },
    {
      "cell_type": "markdown",
      "metadata": {
        "id": "cyuBQmWIuqQW"
      },
      "source": [
        "# Problem 1: Word Embeddings [4p]\n",
        "\n",
        "Many natural language processing tasks requrie continuous representations for words.\n",
        "[Word embeddings](https://en.wikipedia.org/wiki/Word_embedding) are mappings from a discrete\n",
        "space to real-valued vectors. Word embeddings might be trained with neural networks,\n",
        "either as a by-product of other tasks (e.g., language modeling, neural machine translation),\n",
        "or with networks designed specifically for the word embedding task.\n",
        "\n",
        "Two problems associated with training neural word embeddings are related to the speed of training:\n",
        "(a) large volume of data, on which the network has to be trained on, and (b) time required to compute\n",
        "output probability distribution over large vocabularities.\n",
        "\n",
        "One of the most popular architectures for training word embeddings is called Word2vec [[1]()], [[2]()]. It builds on the idea that semantics of a word can be defined through the contexts,\n",
        "in which the word appears in the sentence.\n",
        "\n",
        "Let $w_1, w_2,\\ldots,w_N$ be an $N$-word sentence in a natural language.\n",
        "We define a context of a word $w_l$ a list of $n$ preceeding and following words\n",
        "$w_{l-n},\\ldots,w_{l-1},w_{l+1},\\dots,w_{l+n}$.\n",
        "\n",
        "The underlying assumption is that similar words appear in similar contexts.\n",
        "For instance, words *Poland* and *Monaco* are similar in a sense, that they are singular nouns\n",
        "describing abstract concepts of existing, european countries.\n",
        "We can convince ourselves by looking at exceprts from Wikipedia articles\n",
        "on Poland and Monaco:\n",
        "\n",
        "* Despite **Monaco's independence** and separate foreign policy\n",
        "* aimed to preserve **Poland's independence** and the szlachta's\n",
        "\n",
        "* **Monaco joined the** Council of Europe in 2004\n",
        "* **Poland joined the** Schengen Area in 2007\n",
        "\n",
        "* nearly one-fifth **of Poland's population** – half of them\n",
        "* Christians comprise a total of 83.2% **of Monaco's population**.\n",
        "\n",
        "### Tasks\n",
        "You will use word vectors pre-computed on a large dataset.\n",
        "1. **[1p]** It has been observed, that word embeddings allow to perform semantic arithmetic where, for instance\n",
        "\n",
        "    **king** - **man** + **woman** ~= **queen**\n",
        "\n",
        "    This *analogy* task is often used as a quality measure of word embeddings. Load word embeddings and compute\n",
        "    their analogy score on a dataset of analogous pairs, expressed as an accuracy of accuracy of predicting a pair\n",
        "    item (**queen** in the example above). Specifically, compare `FastText` and `Word2vec` word embeddings.\n",
        "    \n",
        "2. **[1p]** Word embedding capture approximate semantics. Under an assumption that words of similar semantics\n",
        "    exist in different languages, a mapping $W: \\mathbb{R}^{300}\\mapsto\\mathbb{R}^{300}$ might be constructed that\n",
        "    translates word embeddings between languages. It has been shown that such ortonormal mappings allow to express\n",
        "    approximate, bilingual dictionaries. In addition, non-linear mappings do not offer additional benefits.\n",
        "\n",
        "    Given a simple English-Polish dictionary of word pairs (sourced from Wikitionary)\n",
        "    find an orthonormal mapping $W$ between English and Polish `FastText`\n",
        "    word embeddings using Procrustes analysis.\n",
        "\n",
        "3. **[1p]** Word embeddings can often be nicely visualized.\n",
        "    Make a 2-D `PCA` plot of word embeddings for countries and their capital cities\n",
        "    for `FastText` or `Word2vec`. Connect each country with its capital city with a line segment.\n",
        "    Can you see any regularities?\n",
        "    \n",
        "4. **[1p]** Plot 400 roughly most frequent words' embeddings (either `FastText` or `Word2vec`) in 2-D with `PCA`.\n",
        "    Skip stop words, punctuations, artifact words, etc. You can be imprecise and use heuristics\n",
        "    (e.g., select words than are at lest 3 charactes long).\n",
        "    Can you see any regularities? Another method of making meaningful visualizations is `t-SNE`.\n",
        "    \n",
        "    Make another 2-D visualization, this time using `t-SNE`. Visualizations with `t-SNE` are obtained\n",
        "    with gradient descent. Try to tweak optimization parameters to get lower optimization error,\n",
        "    than the one with default parameters.\n",
        "    Can you see any regularities this time?"
      ]
    },
    {
      "cell_type": "markdown",
      "metadata": {
        "id": "g5PkZy3FuqRr"
      },
      "source": [
        "# Problem 2: kNN Talker [11p+]\n",
        "\n",
        "In this exercise you will build a simple chatbot that uses distributed representations of words and sentences to perform a nearest neighbor selection of responses.\n",
        "\n",
        "We have collected two sets of data:\n",
        "- `./reddit_pairs.txt` of excerpts of [Reddit](https://www.reddit.com/) conversations,\n",
        "- `./hackernews_pairs.txt` of excertps from [Hackernews](https://news.ycombinator.com/).\n",
        "\n",
        "The two corpuses are formatted as `tab`-separated pairs of utterances: a `prompt` and a `response`. Successive lines belong to different conversations.\n",
        "\n",
        "The main idea of the chatbot is to build a representation of the user `input` and of all `prompts` from the corpus. Then select the best (or randomly one of the top few) matches and print the associated `response`.\n",
        "\n",
        "The key to get the bot working is to create good sentence representations. We will try:\n",
        "- averaging word embeddings\n",
        "- using sentence models such as BERT.\n",
        "\n",
        "### Warning:\n",
        "The Reddit corpus may contain abusive language, it was not heavily cleaned.\n",
        "\n",
        "### Tasks\n",
        "The code below is a starting point, but you can develop you own. The following list suggests some actions to try, along with the points that reflect our subjective hardness. The exercise is worth 6 regular points (i.e. the report, word embedding-based model and BERT-based model), anything on top of it will be counted as a bonus.\n",
        "\n",
        "1. [2p] Type in a Markdown cell a report of your actions, what did you try, why, what was the result. Show exemplary conversations (they must be probable under your model). Cherry-pick 3 nice dialogues.\n",
        "2. [2p] Represent sentences by averaging their word vectors. Properly handle tokenization (you can use regular expressions or e.g. `nltk` library). Describe how you handle lower and upper cased words. Try a few nearest neighbor selection methods (such as euclidean or cosine distance). See how embedding normalization affects the results (you can normalize individual word vectors, full sentence vectors etc.).\n",
        "3. [2p] Use the [transformers](https://huggingface.co/transformers) package to load a pretrained BERT model. Use it to represent sentences by e.g. averaging the activations in the last layer.\n",
        "4. [1p] Incoportate context: keep a running average of past conversation turns.\n",
        "5. [1p] Do data cleaning (including profanieties), finding rules for good responses.\n",
        "6. [1p] Try mixing different sentence representation techniques.\n",
        "7. [2p] Try to cluster responses to the highest scored prompts. Which responses are more funny: from the largerst or from the smallest clusters?.\n",
        "8. [1p+] Implement your own enhancements.\n"
      ]
    },
    {
      "cell_type": "markdown",
      "metadata": {
        "id": "C3SN5za0rEdp"
      },
      "source": [
        "# Starter code"
      ]
    },
    {
      "cell_type": "code",
      "metadata": {
        "id": "czZXkkVEASTf"
      },
      "source": [
        "# Please note that this code needs only to be run in a fresh runtime.\n",
        "# However, it can be rerun afterwards too.\n",
        "\n",
        "# Download word vectors\n",
        "!pip install -q gdown httpimport\n",
        "![ -e word2vec.tar.xz ] || gdown 'https://drive.google.com/uc?id=1v6D8IjYVFlonhQuN_J3PML5KSVQSpbED' -O word2vec.tar.xz\n",
        "![ -d word2vec ] || tar Jxf word2vec.tar.xz\n",
        "\n",
        "# Download conversation corpuses\n",
        "![ -e  hackernews_pairs.txt ] || gdown 'https://drive.google.com/uc?id=10cp2maNp1suzc5BaFQwDJr2GTKXHQOz_' -O hackernews_pairs.txt\n",
        "![ -e  reddit_pairs.txt ] || gdown 'https://drive.google.com/uc?id=1Uf0Xl9aqQVBBpOwhYTV7iWCwj95FDqtL' -O reddit_pairs.txt"
      ],
      "execution_count": 1,
      "outputs": []
    },
    {
      "cell_type": "code",
      "metadata": {
        "id": "KJSP8qDQtI8H"
      },
      "source": [
        "# Huggingface Transformers implementation\n",
        "!pip install -q tqdm boto3 requests regex sentencepiece sacremoses\n",
        "!pip install -q transformers"
      ],
      "execution_count": 2,
      "outputs": []
    },
    {
      "cell_type": "code",
      "metadata": {
        "id": "ky2fLuhOuqQN",
        "colab": {
          "base_uri": "https://localhost:8080/"
        },
        "outputId": "fd38b8ca-e30b-4680-b9d3-017c67962e2f"
      },
      "source": [
        "%pylab inline"
      ],
      "execution_count": 3,
      "outputs": [
        {
          "output_type": "stream",
          "text": [
            "Populating the interactive namespace from numpy and matplotlib\n"
          ],
          "name": "stdout"
        }
      ]
    },
    {
      "cell_type": "code",
      "metadata": {
        "id": "kF7Xu9Z1GBk6",
        "colab": {
          "base_uri": "https://localhost:8080/"
        },
        "outputId": "890b7d05-4b2b-468c-d6dc-24a8399bbce5"
      },
      "source": [
        "import collections\n",
        "\n",
        "import codecs\n",
        "\n",
        "import numpy as np\n",
        "from scipy.linalg import orthogonal_procrustes\n",
        "from scipy.spatial import distance\n",
        "\n",
        "import nltk\n",
        "import sklearn\n",
        "nltk.download('punkt')\n",
        "\n",
        "import pprint\n",
        "import gensim\n",
        "\n",
        "import io\n",
        "from tqdm.autonotebook import tqdm\n",
        "\n",
        "import torch\n",
        "\n",
        "import tabulate\n",
        "\n",
        "from transformers import BertTokenizer, BertModel"
      ],
      "execution_count": 4,
      "outputs": [
        {
          "output_type": "stream",
          "text": [
            "[nltk_data] Downloading package punkt to /root/nltk_data...\n",
            "[nltk_data]   Package punkt is already up-to-date!\n"
          ],
          "name": "stdout"
        },
        {
          "output_type": "stream",
          "text": [
            "/usr/local/lib/python3.7/dist-packages/ipykernel_launcher.py:17: TqdmExperimentalWarning: Using `tqdm.autonotebook.tqdm` in notebook mode. Use `tqdm.tqdm` instead to force console mode (e.g. in jupyter console)\n"
          ],
          "name": "stderr"
        }
      ]
    },
    {
      "cell_type": "markdown",
      "metadata": {
        "id": "PCuRj_u_uqQY"
      },
      "source": [
        "## 1.1: Analogies"
      ]
    },
    {
      "cell_type": "code",
      "metadata": {
        "id": "L11W4J6LtIgw"
      },
      "source": [
        "# Word embeddings assign a vector to each word. To use them we need three things:\n",
        "# 1. the embeddings themselves\n",
        "# 2. a dictionary from words to their embedding ids\n",
        "# 3. an inverse dictionary\n",
        "\n",
        "Embedding = collections.namedtuple(\n",
        "    'Embedding',\n",
        "    ['vec', 'word2idx', 'idx2word'])"
      ],
      "execution_count": null,
      "outputs": []
    },
    {
      "cell_type": "code",
      "metadata": {
        "id": "qwb_QRNiuqQZ"
      },
      "source": [
        "def load_vecs_npy(base_path):\n",
        "    \"\"\"Load small embeddings in .npy format.\"\"\"\n",
        "    vec = np.load(base_path + '.npy')\n",
        "    idx2word = [l.strip() for l in codecs.open(\n",
        "                      base_path + '.txt', 'r', 'utf-8')]\n",
        "    word2idx = {w:i for (i,w) in enumerate(idx2word)}\n",
        "    return Embedding(vec, word2idx, idx2word)"
      ],
      "execution_count": null,
      "outputs": []
    },
    {
      "cell_type": "code",
      "metadata": {
        "id": "J5UHEt8kuqQc"
      },
      "source": [
        "# Load top 200k word embeddings: Word2vec and FastText\n",
        "word2vec = load_vecs_npy('word2vec/word2vec_GoogleNews_200k')\n",
        "ftext = load_vecs_npy('word2vec/fasttext_wikien_200k')"
      ],
      "execution_count": null,
      "outputs": []
    },
    {
      "cell_type": "code",
      "metadata": {
        "id": "rF_7SHHJ5CWY"
      },
      "source": [
        "def load_analogies():\n",
        "    '''Load tuples of analogies, e.g., (man, woman, king, queen)'''\n",
        "    questions_path = 'word2vec/questions-words.txt'\n",
        "    analogies = [l.strip().split() for l in open(questions_path, 'r') \\\n",
        "                 if not l.startswith(':')]\n",
        "    return analogies"
      ],
      "execution_count": null,
      "outputs": []
    },
    {
      "cell_type": "code",
      "metadata": {
        "id": "EJATnKFVuqQg"
      },
      "source": [
        "def eval_analogies(vecs, analogies):\n",
        "    \"\"\"\n",
        "    Compute the accuracy on the analogy task.\n",
        "    \n",
        "    In the task, quadruples of words are given (q1, q2, r1, r2).\n",
        "    The words q1 and q2 are bound by a relation. The words r1 and r2 \n",
        "    are bound by the same relation. The task is to predict r2 knowing words\n",
        "    q1, q2, and r1.\n",
        "    \n",
        "    Example:\n",
        "    Quadruple [King, Queen, Man, Woman] yields the question\n",
        "    King is to Queen as Man is to ????\n",
        "    \n",
        "    Args:\n",
        "        word_vecs: Embeddings tupes\n",
        "        analogies: list of quadruples: (q1, q2, r1, r2)\n",
        "        \n",
        "    Returns:\n",
        "        percentage of correct answers\n",
        "    \"\"\"\n",
        "    indexes = [[vecs.word2idx.get(w, None) for w in tupl] \\\n",
        "                for tupl in analogies]\n",
        "    indexes = [tupl for tupl in indexes \\\n",
        "               if all([v is not None for v in tupl])]\n",
        "    # indexes holds quadruples of ints giving the ids of words from our vocab.\n",
        "    indexes = np.asarray(indexes)\n",
        "    print('Got vocab for %d/%d pairs' % (indexes.shape[0], len(analogies)))\n",
        "    \n",
        "    # Extract the vectors for the query words\n",
        "    q1 = vecs.vec[indexes[:, 0]]\n",
        "    q2 = vecs.vec[indexes[:, 1]]\n",
        "    r1 = vecs.vec[indexes[:, 2]]\n",
        "    \n",
        "    # Extractr the word IDs for the correct answers\n",
        "    r2_inds = indexes[:, 3]\n",
        "\n",
        "    #\n",
        "    # TODO \n",
        "    #\n",
        "    # Compute the approximate location of word r2 as r2 = r1 + (q2 - q1)\n",
        "    # Find the word closest to this location using cosine distance.\n",
        "    # Return it's id and compute the accurracy.\n",
        "    #\n",
        "\n",
        "    r2_pred = r1 + (q2 - q1)\n",
        "    \n",
        "    \n",
        "    # Normalize length and compute dot product between r2_pred and word_vecs\n",
        "    # to get cosine distance\n",
        "    r2_pred_norm = r2_pred / np.sqrt(np.sum(r2_pred**2, axis=1)).reshape(-1, 1)\n",
        "    vecs_norm = vecs.vec / np.sqrt(np.sum(vecs.vec**2, axis=1)).reshape(-1, 1)\n",
        "    \n",
        "    # Compute in chunks to save memory\n",
        "    r2_pred_inds = np.concatenate([np.argmax(r2_pred_norm[i:i+1000].dot(vecs_norm.T), axis=1) \\\n",
        "                                   for i in range(0, r2_pred.shape[0], 1000)])\n",
        "    return 100.0 * (r2_pred_inds == r2_inds).sum() / r2_inds.shape[0]"
      ],
      "execution_count": null,
      "outputs": []
    },
    {
      "cell_type": "code",
      "metadata": {
        "id": "Cl0JtuxSuqQj",
        "colab": {
          "base_uri": "https://localhost:8080/"
        },
        "outputId": "a2713afe-c912-41cb-ebaa-96c59ff8533f"
      },
      "source": [
        "# Load analogy tuples, e.g., (man, woman, king, queen)\n",
        "analogies = load_analogies()\n",
        "\n",
        "# Some are uppercased geographical names (and FastTexts are lowercased)\n",
        "analogies_lower = [[w.lower() for w in tupl] for tupl in analogies]\n",
        "\n",
        "print(analogies[0])\n",
        "print(analogies_lower[0])"
      ],
      "execution_count": null,
      "outputs": [
        {
          "output_type": "stream",
          "text": [
            "['Athens', 'Greece', 'Baghdad', 'Iraq']\n",
            "['athens', 'greece', 'baghdad', 'iraq']\n"
          ],
          "name": "stdout"
        }
      ]
    },
    {
      "cell_type": "code",
      "metadata": {
        "id": "44kDHN16uqQn",
        "colab": {
          "base_uri": "https://localhost:8080/"
        },
        "outputId": "7ec26b50-8f22-4922-e194-cab4bd0913b7"
      },
      "source": [
        "# Keep in mind that the vocab is restricted to 200k most freq words\n",
        "# (in the training corpus!)\n",
        "print('FastText analogy task accuracy:')\n",
        "print('-------------------------------')\n",
        "# Fast-text was trained on lowercased text only\n",
        "print(eval_analogies(ftext, analogies_lower), '% correct')\n",
        "\n",
        "print('\\nWord2vec analogy task accuracy:')\n",
        "print('-------------------------------')\n",
        "# Word2vec has case information\n",
        "print(eval_analogies(word2vec, analogies), '% correct')"
      ],
      "execution_count": null,
      "outputs": [
        {
          "output_type": "stream",
          "text": [
            "FastText analogy task accuracy:\n",
            "-------------------------------\n",
            "Got vocab for 19420/19544 pairs\n",
            "16.374871266735326 % correct\n",
            "\n",
            "Word2vec analogy task accuracy:\n",
            "-------------------------------\n",
            "Got vocab for 18783/19544 pairs\n",
            "20.859287653729435 % correct\n"
          ],
          "name": "stdout"
        }
      ]
    },
    {
      "cell_type": "markdown",
      "metadata": {
        "id": "KTNt90qyuqQr"
      },
      "source": [
        "## 1.2: translation through alignment of vector spaces"
      ]
    },
    {
      "cell_type": "code",
      "metadata": {
        "id": "Ie4nhd8ZuqQt",
        "colab": {
          "base_uri": "https://localhost:8080/"
        },
        "outputId": "757ca3f5-b657-4fec-bf85-9d09dc12cf03"
      },
      "source": [
        "# We're need Polish embeddings\n",
        "ftext_pl = load_vecs_npy('word2vec/fasttext_wikipl_200k')\n",
        "\n",
        "# Load a simple wikitionary-based dict of word pairs\n",
        "en_pl = [l.strip().split('\\t') for l in codecs.open(\n",
        "    'word2vec/word2vec_en_pl', 'r', 'utf-8') if not '<UNK>' in l]\n",
        "en_pl = {t[0]:t[1] for t in en_pl if len(t) == 2}\n",
        "\n",
        "# Keep those, for which we have embeddings\n",
        "en_pl = {en:pl for (en,pl) in en_pl.items() \\\n",
        "         if en in ftext.word2idx and pl in ftext_pl.word2idx}\n",
        "print('Dictionary size:', len(en_pl))\n",
        "print('good --', en_pl['good'])"
      ],
      "execution_count": null,
      "outputs": [
        {
          "output_type": "stream",
          "text": [
            "Dictionary size: 750\n",
            "good -- dobro\n"
          ],
          "name": "stdout"
        }
      ]
    },
    {
      "cell_type": "code",
      "metadata": {
        "id": "b8XGFZp3uqQz",
        "colab": {
          "base_uri": "https://localhost:8080/"
        },
        "outputId": "7e68e8b6-dbb2-4145-8213-caf577a2a29c"
      },
      "source": [
        "# Select word embeddings for dictionary words\n",
        "en_words = sorted(en_pl.keys())\n",
        "V_en = ftext.vec[[ftext.word2idx[w] for w in en_words]]\n",
        "V_pl = ftext_pl.vec[[ftext_pl.word2idx[en_pl[w]] for w in en_words]]\n",
        "print(V_en.shape, V_pl.shape)"
      ],
      "execution_count": null,
      "outputs": [
        {
          "output_type": "stream",
          "text": [
            "(750, 300) (750, 300)\n"
          ],
          "name": "stdout"
        }
      ]
    },
    {
      "cell_type": "code",
      "metadata": {
        "id": "vIF8guv6uqQ1"
      },
      "source": [
        "# Find an orthogonal transformation from V_en to V_pl.\n",
        "# which minimizes square reconstruction error\n",
        "W = orthogonal_procrustes(V_en, V_pl)[0]"
      ],
      "execution_count": null,
      "outputs": []
    },
    {
      "cell_type": "code",
      "metadata": {
        "id": "yReVugjxuqQ5",
        "colab": {
          "base_uri": "https://localhost:8080/"
        },
        "outputId": "6aa1596d-afdb-4ed0-e335-022e3c821c7d"
      },
      "source": [
        "def translate(W, v, vecs2):\n",
        "    #\n",
        "    # TODO\n",
        "    #\n",
        "    # Transform source word vector v using W getting a location in target space.\n",
        "    # Find the closest word in target space using the cosine distance.\n",
        "    #\n",
        "\n",
        "    v_pred = v@W\n",
        "    v_pred_norm = v_pred / np.sqrt(np.sum(v_pred**2))\n",
        "    vecs2_norm = vecs2.vec / np.sqrt(np.sum(vecs2.vec**2, axis=1)).reshape(-1, 1)\n",
        "    idx = np.argmax(v_pred_norm.dot(vecs2_norm.T))\n",
        "    return vecs2.idx2word[idx]\n",
        "\n",
        "# Select random, fairly frequent words not from the dictionary\n",
        "tr_words = [i for i in np.random.randint(1000, 2000, 100) \\\n",
        "            if ftext.idx2word[i] not in en_pl]\n",
        "tr_words = tr_words[:20]\n",
        "\n",
        "rows = [[ftext.idx2word[i], translate(W, ftext.vec[i], ftext_pl)] \\\n",
        "         for i in tr_words] \n",
        "print(tabulate.tabulate(rows))"
      ],
      "execution_count": null,
      "outputs": [
        {
          "output_type": "stream",
          "text": [
            "----------  -----------\n",
            "avoid       unikać\n",
            "unknown     nieznana\n",
            "squadron    bombardował\n",
            "gives       dawać\n",
            "editing     edytował\n",
            "publishing  wydawnicze\n",
            "joseph      brandes\n",
            "claim       udowodni\n",
            "fictional   fikcyjnych\n",
            "farm        dom\n",
            "el          escondido\n",
            "issued      wystosował\n",
            "twenty      sześć\n",
            "nominated   nagroda\n",
            "widely      powszechnie\n",
            "details     informacja\n",
            "models      modelu\n",
            "castle      zamek\n",
            "piece       kawał\n",
            ">p          michaela\n",
            "----------  -----------\n"
          ],
          "name": "stdout"
        }
      ]
    },
    {
      "cell_type": "markdown",
      "metadata": {
        "id": "dc1X6ONsuqQ9"
      },
      "source": [
        "## 1.3: PCA"
      ]
    },
    {
      "cell_type": "code",
      "metadata": {
        "id": "UFXt5nxRuqQ-",
        "colab": {
          "base_uri": "https://localhost:8080/"
        },
        "outputId": "9b031290-80ba-47ed-c0ca-c079396a200d"
      },
      "source": [
        "capitals = [l.strip().split('\\t') for l in codecs.open('word2vec/countries_capitals', 'r', 'utf-8')]\n",
        "capitals = {country:capital for (country,capital) in capitals}\n",
        "\n",
        "# Select those present in Word2vec vocab\n",
        "capitals = {k:v for (k,v) in capitals.items() \\\n",
        "            if k in word2vec.word2idx and v in word2vec.word2idx}\n",
        "\n",
        "# Flatten the array to have a list of [country, capital, country, capital, ...]\n",
        "geo = [e for pair in capitals.items() for e in pair]\n",
        "print(len(geo) // 2, 'pairs', geo[:6])"
      ],
      "execution_count": null,
      "outputs": [
        {
          "output_type": "stream",
          "text": [
            "131 pairs ['Afghanistan', 'Kabul', 'Albania', 'Tirana', 'Algeria', 'Algiers']\n"
          ],
          "name": "stdout"
        }
      ]
    },
    {
      "cell_type": "code",
      "metadata": {
        "id": "Z_laByxLuqRD",
        "colab": {
          "base_uri": "https://localhost:8080/"
        },
        "outputId": "a22a6dcd-b42e-46f8-e15a-619de27c3276"
      },
      "source": [
        "geo_inds = [word2vec.word2idx[w] for w in geo]\n",
        "geo_vecs = word2vec.vec[geo_inds]\n",
        "print(geo_vecs.shape)"
      ],
      "execution_count": null,
      "outputs": [
        {
          "output_type": "stream",
          "text": [
            "(262, 300)\n"
          ],
          "name": "stdout"
        }
      ]
    },
    {
      "cell_type": "code",
      "metadata": {
        "id": "kE1HZ742uqRH"
      },
      "source": [
        "from sklearn.decomposition import PCA\n",
        "\n",
        "#\n",
        "# TODO\n",
        "# use PCA from sklearn.decomposition to project the countries and capitals into 2D.\n",
        "# draw lines connecting each country with its capital\n",
        "#\n",
        "# Hint:\n",
        "# - the function \"annotate\" can be used to put text onto the plot\n",
        "#\n",
        "\n",
        "pca = PCA(n_components=2)\n",
        "reduced_vecs = pca.fit_transform(geo_vecs)"
      ],
      "execution_count": null,
      "outputs": []
    },
    {
      "cell_type": "code",
      "metadata": {
        "colab": {
          "base_uri": "https://localhost:8080/",
          "height": 483
        },
        "id": "dnEtXgdf9No4",
        "outputId": "baa08845-9034-4b1b-bf5f-8ed03123ca20"
      },
      "source": [
        "plt.figure(figsize=(12,8))\n",
        "\n",
        "#countries_num = reduced_vecs.shape[0]//2\n",
        "countries_num = 15\n",
        "\n",
        "for i in range(countries_num):\n",
        "    country_idx = 2*i\n",
        "    capital_idx = 2*i+1\n",
        "    country_x, country_y = reduced_vecs[country_idx][0], reduced_vecs[country_idx][1]\n",
        "    capital_x, capital_y = reduced_vecs[capital_idx][0], reduced_vecs[capital_idx][1]\n",
        "\n",
        "    plt.scatter([country_x, capital_x], [country_y, capital_y], c='b')\n",
        "    plt.plot([country_x, capital_x], [country_y, capital_y])\n",
        "\n",
        "    plt.text(x=reduced_vecs[country_idx][0], y=reduced_vecs[country_idx][1],\n",
        "             s=geo[country_idx], fontsize=8)\n",
        "    plt.text(x=reduced_vecs[capital_idx][0], y=reduced_vecs[capital_idx][1],\n",
        "             s=geo[capital_idx], fontsize=8)"
      ],
      "execution_count": null,
      "outputs": [
        {
          "output_type": "display_data",
          "data": {
            "image/png": "[encoded data removed]",
            "text/plain": [
              "<Figure size 864x576 with 1 Axes>"
            ]
          },
          "metadata": {
            "tags": [],
            "needs_background": "light"
          }
        }
      ]
    },
    {
      "cell_type": "markdown",
      "metadata": {
        "id": "fgbSODUOuqRM"
      },
      "source": [
        "## 1.4: PCA vs t-SNE on frequent words"
      ]
    },
    {
      "cell_type": "code",
      "metadata": {
        "colab": {
          "base_uri": "https://localhost:8080/"
        },
        "id": "s5MzCLOlB-TX",
        "outputId": "c2088e12-bf92-4abb-8fa2-0b4ff5fd27f2"
      },
      "source": [
        "ftext.vec[0].shape"
      ],
      "execution_count": null,
      "outputs": [
        {
          "output_type": "execute_result",
          "data": {
            "text/plain": [
              "(300,)"
            ]
          },
          "metadata": {
            "tags": []
          },
          "execution_count": 20
        }
      ]
    },
    {
      "cell_type": "code",
      "metadata": {
        "id": "OoBJkQLKuqRP"
      },
      "source": [
        "# Select words starting from the 200th to ommit stop words,\n",
        "# which have at least 3 chars\n",
        "top_words = [w for (i,w) in enumerate(ftext.idx2word) \\\n",
        "             if i > 200 and len(w) >= 3][:400]\n",
        "top_inds = [ftext.word2idx[w] for w in top_words]\n",
        "top_vecs = ftext.vec[top_inds]"
      ],
      "execution_count": null,
      "outputs": []
    },
    {
      "cell_type": "code",
      "metadata": {
        "id": "trWs2Y-vFb6Y"
      },
      "source": [
        "#\n",
        "# TODO: make a 2D PCA projection of the selected words.\n",
        "#\n",
        "top_coords = PCA(n_components=2).fit_transform(top_vecs)"
      ],
      "execution_count": null,
      "outputs": []
    },
    {
      "cell_type": "code",
      "metadata": {
        "colab": {
          "base_uri": "https://localhost:8080/",
          "height": 542
        },
        "id": "AzowTORLDxoU",
        "outputId": "1dda4bd7-557d-4e39-8970-2e007fad7e37"
      },
      "source": [
        "import plotly.express as px\n",
        "fig = px.scatter(x=top_coords[:, 0], y=top_coords[:, 1], text=top_words, size=np.zeros(len(top_words)))\n",
        "fig.show()"
      ],
      "execution_count": null,
      "outputs": [
        {
          "output_type": "display_data",
          "data": {
            "text/html": [
              "<html>\n",
              "<head><meta charset=\"utf-8\" /></head>\n",
              "<body>\n",
              "    <div>\n",
              "            <script src=\"https://cdnjs.cloudflare.com/ajax/libs/mathjax/2.7.5/MathJax.js?config=TeX-AMS-MML_SVG\"></script><script type=\"text/javascript\">if (window.MathJax) {MathJax.Hub.Config({SVG: {font: \"STIX-Web\"}});}</script>\n",
              "                <script type=\"text/javascript\">window.PlotlyConfig = {MathJaxConfig: 'local'};</script>\n",
              "        <script src=\"https://cdn.plot.ly/plotly-latest.min.js\"></script>    \n",
              "            <div id=\"e0792c40-98f8-45a9-8efe-a622bc6599ad\" class=\"plotly-graph-div\" style=\"height:525px; width:100%;\"></div>\n",
              "            <script type=\"text/javascript\">\n",
              "                \n",
              "                    window.PLOTLYENV=window.PLOTLYENV || {};\n",
              "                    \n",
              "                if (document.getElementById(\"e0792c40-98f8-45a9-8efe-a622bc6599ad\")) {\n",
              "                    Plotly.newPlot(\n",
              "                        'e0792c40-98f8-45a9-8efe-a622bc6599ad',\n",
              "                        [{\"hoverlabel\": {\"namelength\": 0}, \"hovertemplate\": \"x=%{x}<br>y=%{y}<br>size=%{marker.size}<br>text=%{text}\", \"legendgroup\": \"\", \"marker\": {\"color\": \"#636efa\", \"size\": [0.0, 0.0, 0.0, 0.0, 0.0, 0.0, 0.0, 0.0, 0.0, 0.0, 0.0, 0.0, 0.0, 0.0, 0.0, 0.0, 0.0, 0.0, 0.0, 0.0, 0.0, 0.0, 0.0, 0.0, 0.0, 0.0, 0.0, 0.0, 0.0, 0.0, 0.0, 0.0, 0.0, 0.0, 0.0, 0.0, 0.0, 0.0, 0.0, 0.0, 0.0, 0.0, 0.0, 0.0, 0.0, 0.0, 0.0, 0.0, 0.0, 0.0, 0.0, 0.0, 0.0, 0.0, 0.0, 0.0, 0.0, 0.0, 0.0, 0.0, 0.0, 0.0, 0.0, 0.0, 0.0, 0.0, 0.0, 0.0, 0.0, 0.0, 0.0, 0.0, 0.0, 0.0, 0.0, 0.0, 0.0, 0.0, 0.0, 0.0, 0.0, 0.0, 0.0, 0.0, 0.0, 0.0, 0.0, 0.0, 0.0, 0.0, 0.0, 0.0, 0.0, 0.0, 0.0, 0.0, 0.0, 0.0, 0.0, 0.0, 0.0, 0.0, 0.0, 0.0, 0.0, 0.0, 0.0, 0.0, 0.0, 0.0, 0.0, 0.0, 0.0, 0.0, 0.0, 0.0, 0.0, 0.0, 0.0, 0.0, 0.0, 0.0, 0.0, 0.0, 0.0, 0.0, 0.0, 0.0, 0.0, 0.0, 0.0, 0.0, 0.0, 0.0, 0.0, 0.0, 0.0, 0.0, 0.0, 0.0, 0.0, 0.0, 0.0, 0.0, 0.0, 0.0, 0.0, 0.0, 0.0, 0.0, 0.0, 0.0, 0.0, 0.0, 0.0, 0.0, 0.0, 0.0, 0.0, 0.0, 0.0, 0.0, 0.0, 0.0, 0.0, 0.0, 0.0, 0.0, 0.0, 0.0, 0.0, 0.0, 0.0, 0.0, 0.0, 0.0, 0.0, 0.0, 0.0, 0.0, 0.0, 0.0, 0.0, 0.0, 0.0, 0.0, 0.0, 0.0, 0.0, 0.0, 0.0, 0.0, 0.0, 0.0, 0.0, 0.0, 0.0, 0.0, 0.0, 0.0, 0.0, 0.0, 0.0, 0.0, 0.0, 0.0, 0.0, 0.0, 0.0, 0.0, 0.0, 0.0, 0.0, 0.0, 0.0, 0.0, 0.0, 0.0, 0.0, 0.0, 0.0, 0.0, 0.0, 0.0, 0.0, 0.0, 0.0, 0.0, 0.0, 0.0, 0.0, 0.0, 0.0, 0.0, 0.0, 0.0, 0.0, 0.0, 0.0, 0.0, 0.0, 0.0, 0.0, 0.0, 0.0, 0.0, 0.0, 0.0, 0.0, 0.0, 0.0, 0.0, 0.0, 0.0, 0.0, 0.0, 0.0, 0.0, 0.0, 0.0, 0.0, 0.0, 0.0, 0.0, 0.0, 0.0, 0.0, 0.0, 0.0, 0.0, 0.0, 0.0, 0.0, 0.0, 0.0, 0.0, 0.0, 0.0, 0.0, 0.0, 0.0, 0.0, 0.0, 0.0, 0.0, 0.0, 0.0, 0.0, 0.0, 0.0, 0.0, 0.0, 0.0, 0.0, 0.0, 0.0, 0.0, 0.0, 0.0, 0.0, 0.0, 0.0, 0.0, 0.0, 0.0, 0.0, 0.0, 0.0, 0.0, 0.0, 0.0, 0.0, 0.0, 0.0, 0.0, 0.0, 0.0, 0.0, 0.0, 0.0, 0.0, 0.0, 0.0, 0.0, 0.0, 0.0, 0.0, 0.0, 0.0, 0.0, 0.0, 0.0, 0.0, 0.0, 0.0, 0.0, 0.0, 0.0, 0.0, 0.0, 0.0, 0.0, 0.0, 0.0, 0.0, 0.0, 0.0, 0.0, 0.0, 0.0, 0.0, 0.0, 0.0, 0.0, 0.0, 0.0, 0.0, 0.0, 0.0, 0.0, 0.0, 0.0, 0.0, 0.0, 0.0, 0.0, 0.0, 0.0, 0.0, 0.0, 0.0, 0.0, 0.0, 0.0, 0.0, 0.0, 0.0, 0.0, 0.0, 0.0, 0.0, 0.0, 0.0, 0.0, 0.0, 0.0, 0.0, 0.0, 0.0, 0.0, 0.0, 0.0, 0.0, 0.0, 0.0, 0.0, 0.0, 0.0, 0.0, 0.0], \"sizemode\": \"area\", \"sizeref\": 0.0, \"symbol\": \"circle\"}, \"mode\": \"markers+text\", \"name\": \"\", \"showlegend\": false, \"text\": [\"family\", \"user\", \"based\", \"area\", \"became\", \"york\", \"life\", \"british\", \"international\", \"game\", \"above\", \"club\", \"your\", \"until\", \"early\", \"best\", \"west\", \"house\", \"company\", \"general\", \"left\", \"very\", \"here\", \"don\", \"living\", \"day\", \"several\", \"place\", \"party\", \"college\", \"result\", \"keep\", \"appropriate\", \"four\", \"subsequent\", \"even\", \"class\", \"government\", \"how\", \"called\", \"did\", \"each\", \"found\", \"center\", \"per\", \"style\", \"com\", \"long\", \"country\", \"back\", \"way\", \"does\", \"www\", \"modify\", \"end\", \"make\", \"public\", \"played\", \"won\", \"another\", \"released\", \"added\", \"support\", \"games\", \"former\", \"those\", \"films\", \"church\", \"east\", \"line\", \"major\", \"members\", \"good\", \"much\", \"image\", \"show\", \"still\", \"think\", \"below\", \"town\", \"last\", \"system\", \"right\", \"song\", \"non\", \"notable\", \"section\", \"single\", \"included\", \"align\", \"home\", \"women\", \"television\", \"seed\", \"member\", \"goals\", \"sources\", \"book\", \"station\", \"order\", \"old\", \"information\", \"set\", \"own\", \"text\", \"band\", \"point\", \"local\", \"around\", \"river\", \"top\", \"main\", \"language\", \"french\", \"https\", \"named\", \"off\", \"note\", \"career\", \"original\", \"age\", \"service\", \"established\", \"located\", \"said\", \"website\", \"population\", \"air\", \"german\", \"law\", \"military\", \"great\", \"within\", \"clubs\", \"published\", \"president\", \"park\", \"official\", \"case\", \"london\", \"times\", \"although\", \"small\", \"third\", \"different\", \"due\", \"get\", \"village\", \"closed\", \"art\", \"player\", \"final\", \"community\", \"held\", \"again\", \"began\", \"army\", \"award\", \"without\", \"death\", \"built\", \"men\", \"large\", \"site\", \"using\", \"deletion\", \"white\", \"along\", \"five\", \"central\", \"road\", \"children\", \"free\", \"took\", \"england\", \"include\", \"association\", \"down\", \"given\", \"source\", \"california\", \"man\", \"version\", \"written\", \"created\", \"media\", \"black\", \"though\", \"php\", \"report\", \"building\", \"take\", \"division\", \"comment\", \"having\", \"king\", \"edit\", \"stadium\", \"died\", \"ship\", \"research\", \"record\", \"archive\", \"places\", \"undo\", \"cup\", \"records\", \"often\", \"few\", \"received\", \"side\", \"power\", \"education\", \"know\", \"category\", \"water\", \"political\", \"species\", \"field\", \"near\", \"australia\", \"video\", \"need\", \"island\", \"form\", \"find\", \"served\", \"play\", \"project\", \"according\", \"//en\", \"radio\", \"works\", \"proposed\", \"every\", \"development\", \"example\", \"live\", \"union\", \"india\", \"next\", \"special\", \"court\", \"region\", \"little\", \"short\", \"william\", \"province\", \"western\", \"son\", \"france\", \"council\", \"others\", \"royal\", \"current\", \"street\", \"full\", \"red\", \"too\", \"department\", \"san\", \"help\", \"subdivision_type\", \"among\", \"preserved\", \"james\", \"open\", \"force\", \"position\", \"head\", \"director\", \"father\", \"track\", \"http\", \"canada\", \"never\", \"australian\", \"george\", \"org/w/index\", \"jpg\", \"level\", \"late\", \"summer\", \"society\", \"moved\", \"office\", \"period\", \"championship\", \"round\", \"story\", \"songs\", \"various\", \"file\", \"days\", \"land\", \"business\", \"subdivision_name\", \"reason\", \"america\", \"million\", \"european\", \"term\", \"six\", \"post\", \"why\", \"produced\", \"making\", \"subject\", \"young\", \"total\", \"david\", \"science\", \"related\", \"rock\", \"archived\", \"railway\", \"become\", \"led\", \"students\", \"started\", \"news\", \"described\", \"//www\", \"role\", \"election\", \"albums\", \"present\", \"indian\", \"kingdom\", \"books\", \"important\", \"northern\", \"love\", \"run\", \"canadian\", \"press\", \"rather\", \"type\", \"act\", \"editor\", \"came\", \"schools\", \"program\", \"once\", \"issue\", \"social\", \"germany\", \"production\", \"male\", \"might\", \"awards\", \"points\", \"similar\", \"professional\", \"say\", \"background\", \"enough\", \"lead\", \"either\", \"common\", \"overlap\", \"data\", \"color\", \"better\", \"person\", \"services\", \"bgcolor\", \"museum\", \"battle\", \"went\", \"sports\", \"already\", \"currently\", \"hall\", \"buildings\", \"historic\", \"date\", \"deleted\", \"considered\", \"change\", \"location\", \"seems\", \"must\", \"yes\", \"our\", \"southern\", \"least\", \"lost\", \"something\", \"review\", \"together\", \"robert\", \"fact\", \"less\", \"japanese\", \"groups\", \"content\", \"birth_place\", \"involved\", \"isbn\"], \"type\": \"scatter\", \"x\": [-0.4636686146259308, 0.184688001871109, -0.16074685752391815, -0.06498361378908157, -0.1560039520263672, -0.23134391009807587, -0.5317355990409851, -0.28836071491241455, -0.30122703313827515, -0.38932663202285767, 0.27751800417900085, -0.07744262367486954, -0.061813805252313614, -0.23097695410251617, -0.5082905292510986, -0.37430086731910706, 0.16564737260341644, -0.38301119208335876, -0.451101154088974, -0.3198952376842499, -0.18671226501464844, -0.37048348784446716, -0.2947086989879608, -0.0172566045075655, -0.039419759064912796, -0.47019192576408386, -0.44932034611701965, -0.3813762962818146, -0.07428233325481415, 0.08197298645973206, -0.1294548064470291, -0.3526805639266968, 1.7868479490280151, -0.30534085631370544, 2.3931751251220703, -0.3735562562942505, -0.13118301331996918, -0.24142524600028992, -0.2034722864627838, -0.4832608699798584, -0.1912614107131958, -0.3001183569431305, -0.42339053750038147, 0.3528444170951843, 0.06461741775274277, 0.5319011211395264, 0.8718673586845398, -0.5170708894729614, -0.4517212212085724, -0.33734917640686035, -0.4562562108039856, -0.052848584949970245, 2.811918258666992, 5.035177707672119, -0.4744473993778229, -0.1860809624195099, -0.39172056317329407, -0.15867312252521515, -0.08860590308904648, -0.4870053827762604, -0.2724960744380951, 0.1709917038679123, -0.3789622187614441, -0.10317274928092957, -0.19097457826137543, -0.4749760627746582, -0.056769248098134995, -0.08551911264657974, 0.2077213078737259, -0.3158518075942993, -0.5237295031547546, -0.3383125960826874, -0.3985145092010498, -0.34970545768737793, 0.04800120368599892, -0.5316388607025146, -0.44348761439323425, -0.050922416150569916, 1.0814197063446045, -0.042455267161130905, -0.46544453501701355, -0.3126717507839203, -0.2786140441894531, -0.43371862173080444, -0.35383597016334534, -0.3611859381198883, -0.26161953806877136, -0.369154691696167, -0.2519977390766144, 3.3650500774383545, -0.37003910541534424, -0.5021687746047974, -0.04964929074048996, 1.197877049446106, -0.10660219192504883, 0.8165486454963684, -0.19327527284622192, -0.5552244782447815, 0.17896990478038788, -0.4602563977241516, -0.5135595202445984, -0.12594524025917053, -0.47905460000038147, -0.3905102610588074, 0.31747856736183167, -0.5769801139831543, -0.45057520270347595, -0.3940975069999695, -0.36201009154319763, 0.24426598846912384, -0.3365726172924042, -0.36668452620506287, -0.12018673121929169, -0.430741548538208, 2.2267544269561768, -0.18771202862262726, -0.2154715359210968, -0.13131451606750488, -0.1849401444196701, -0.47187021374702454, -0.3656105101108551, -0.355214923620224, -0.15113069117069244, 0.7459027767181396, -0.41375529766082764, 0.16143029928207397, 0.43126195669174194, -0.18194828927516937, -0.47699105739593506, -0.4151880443096161, -0.32969555258750916, -0.5792691707611084, 0.03629999980330467, 1.0528254508972168, -0.3849882185459137, -0.08323849737644196, 0.04642031341791153, -0.10036056488752365, -0.5141244530677795, -0.47858911752700806, -0.6394901275634766, -0.45533379912376404, -0.40064141154289246, -0.3982942998409271, -0.4670689105987549, -0.3432667553424835, -0.2586313486099243, 0.2617478668689728, 0.2694063186645508, -0.2988566756248474, -0.35216546058654785, -0.2520088851451874, -0.20227275788784027, -0.21042288839817047, -0.39688169956207275, -0.3769291043281555, -0.31731364130973816, 0.201764777302742, -0.31320345401763916, -0.41533178091049194, -0.1609298139810562, -0.5694788694381714, -0.3777630031108856, -0.33971652388572693, -0.2870209515094757, 1.2343990802764893, -0.4023244380950928, -0.2932952344417572, -0.2943418323993683, 0.07249372452497482, 0.0972626805305481, -0.6246746182441711, -0.2669993042945862, -0.46659064292907715, -0.4726969301700592, -0.249139204621315, -0.19341148436069489, -0.3529823124408722, -0.5187646150588989, -0.23471562564373016, -0.1714777648448944, -0.62372225522995, -0.454110711812973, -0.4441434442996979, -0.3113272786140442, -0.013685007579624653, -0.42219817638397217, -0.4243638813495636, 3.5253777503967285, -0.02132951095700264, -0.21968263387680054, -0.4329551160335541, 0.0394897498190403, 0.08411215990781784, -0.39214888215065, -0.3660376965999603, 0.11961787939071655, 1.1616449356079102, -0.22794945538043976, 0.08784030377864838, -0.19203874468803406, -0.4135148227214813, 2.4640889167785645, 0.7958130240440369, 3.0702922344207764, 0.37362080812454224, -0.0717393159866333, -0.5702369809150696, -0.36616256833076477, -0.29845449328422546, -0.39921918511390686, -0.3415278196334839, -0.0054674516431987286, 0.015889158472418785, 0.0058571211993694305, -0.1854112297296524, -0.20037634670734406, 0.13137419521808624, -0.6038501262664795, 0.11223845183849335, -0.46816736459732056, -0.3911254405975342, -0.13949358463287354, -0.03794005140662193, -0.4411564767360687, -0.23430581390857697, -0.027196144685149193, -0.4995994567871094, -0.4466935992240906, -0.2612225115299225, 3.079653263092041, -0.17999432981014252, -0.6271489262580872, 1.0752794742584229, -0.2329789400100708, -0.109673872590065, -0.48294299840927124, -0.372143030166626, -0.1447506695985794, -0.39078646898269653, -0.3540289103984833, -0.129206120967865, -0.15597453713417053, 0.10989724844694138, -0.48004037141799927, -0.6089557409286499, -0.1373056024312973, 0.8598549962043762, -0.058619335293769836, -0.1632215678691864, -0.41967371106147766, -0.09663023799657822, -0.5690429210662842, -0.11250539869070053, -0.4867139160633087, -0.09427152574062347, -0.527409017086029, -0.23198573291301727, -0.33283770084381104, 0.08404628932476044, 0.08150195330381393, -0.2576097846031189, 10.841639518737793, -0.4277721345424652, 2.5644643306732178, -0.23716700077056885, -0.2932429015636444, -0.23500244319438934, -0.3921356499195099, -0.3930918276309967, -0.1662684828042984, -0.41570737957954407, -0.4644210636615753, 1.5997579097747803, -0.4388902187347412, -0.38915368914604187, -0.2567516267299652, -0.24850812554359436, 4.021404266357422, 1.3269679546356201, -0.15503744781017303, -0.5823807716369629, -0.28357765078544617, -0.39998573064804077, -0.21097852289676666, -0.2965456247329712, -0.5213351845741272, 0.3429546058177948, -0.05138855427503586, -0.49596861004829407, -0.25720736384391785, -0.4802433252334595, 0.6227928996086121, -0.43838369846343994, -0.33396437764167786, -0.4038170576095581, 7.375744342803955, 0.07148914784193039, -0.5944722890853882, -0.14861032366752625, -0.45887771248817444, -0.48893725872039795, -0.2704973518848419, -0.3733580410480499, -0.09992137551307678, -0.2616230845451355, -0.3469439744949341, -0.3936728835105896, -0.6809180974960327, -0.16854242980480194, -0.26660871505737305, -0.242160364985466, -0.29643383622169495, -0.335173636674881, 3.805873394012451, 0.5564902424812317, -0.3368176221847534, -0.45123371481895447, -0.41717591881752014, -0.5040650367736816, -0.252065509557724, -0.31248795986175537, 2.1461050510406494, -0.35283589363098145, 0.30434858798980713, 0.39220303297042847, -0.4738504886627197, -0.2487250119447708, -0.17062585055828094, -0.42741408944129944, -0.30654245615005493, 0.05780840292572975, -0.5287315249443054, -0.45600253343582153, -0.22870422899723053, -0.07455745339393616, -0.2773454785346985, -0.1647312492132187, -0.3692825734615326, -0.36109790205955505, -0.4890686273574829, 0.03167246654629707, -0.5579146146774292, -0.41387227177619934, -0.3220857083797455, -0.22033940255641937, -0.49730783700942993, -0.4312640130519867, -0.06764835119247437, -0.1732744723558426, 0.08636636286973953, -0.383421391248703, -0.4544812738895416, -0.3193613886833191, -0.2626229226589203, 0.8953416347503662, -0.15842074155807495, -0.5303774476051331, -0.4744170904159546, -0.46160271763801575, 2.7385482788085938, 0.19219084084033966, 0.7718687057495117, -0.4242803454399109, -0.48004597425460815, -0.1149754598736763, 7.025172233581543, 0.10711897909641266, -0.2783285975456238, -0.4222298264503479, -0.13438697159290314, -0.4479515254497528, -0.3305852711200714, -0.22183729708194733, 0.4271072447299957, 0.890516459941864, -0.4032193124294281, 0.15574021637439728, -0.34743714332580566, -0.33419838547706604, 0.1203153133392334, -0.23514343798160553, -0.27515971660614014, 0.08713264018297195, -0.31035444140434265, -0.032577019184827805, -0.45064598321914673, -0.3724052309989929, -0.23772533237934113, -0.23396334052085876, -0.4966205060482025, -0.14148391783237457, -0.5249841809272766, -0.2683178782463074, -0.4627879559993744, -0.23155243694782257, -0.2080514281988144, 4.7994465827941895, -0.2645770013332367, 1.1983383893966675], \"xaxis\": \"x\", \"y\": [-0.3832944631576538, 1.4494348764419556, -0.024486811831593513, -0.8895841836929321, -0.9218374490737915, -0.5627074241638184, -0.020716186612844467, -0.6283097267150879, -0.5224980711936951, 0.0719422921538353, 1.1515189409255981, -1.0247201919555664, 1.556545376777649, -0.4112999141216278, -0.30242493748664856, 0.27933764457702637, -1.3827461004257202, -0.7492779493331909, -0.3802233338356018, -0.2377271205186844, -0.35948601365089417, 0.6082471609115601, 1.0936518907546997, 1.1003671884536743, -0.25692740082740784, -0.32630205154418945, -0.0016750027425587177, -0.25486475229263306, -0.27458885312080383, -1.0292069911956787, 0.6091203093528748, 1.25848388671875, 2.1441140174865723, -0.27977487444877625, 1.528118371963501, 0.6959368586540222, -0.14437057077884674, -0.6107572913169861, 1.1629273891448975, -0.19739073514938354, 0.4159192442893982, 0.2914431691169739, 0.2532310485839844, -0.6956168413162231, 0.9145351648330688, 0.09831371158361435, 0.7579588294029236, 0.15792885422706604, -0.6705811023712158, 0.005144570022821426, 0.5059369802474976, 1.136594533920288, 0.5922330617904663, 3.7105119228363037, -0.1359618604183197, 0.8009780645370483, -0.1883203536272049, -0.79134202003479, -0.49056676030158997, 0.28856077790260315, 0.13371673226356506, 1.0100207328796387, 0.524933934211731, -0.3228851854801178, -0.8848679065704346, 0.5193092823028564, -0.09689749777317047, -0.8387842178344727, -1.3668954372406006, -0.32084187865257263, -0.24738630652427673, -0.2970157265663147, 0.8775789141654968, 0.5406566858291626, 0.7014279365539551, 0.4236934781074524, 0.24552109837532043, 1.3949940204620361, 1.4127992391586304, -1.3659350872039795, 0.11797405779361725, 0.039578307420015335, 0.31324562430381775, 0.13038836419582367, 0.6343646049499512, 0.7315191626548767, 0.42236801981925964, 0.3370453715324402, 0.10529543459415436, -0.6125996112823486, -0.742933452129364, -0.42332422733306885, -0.17129778861999512, 0.051011934876441956, -0.6654511094093323, -0.7883972525596619, 1.2362635135650635, 0.31864118576049805, -0.9902639985084534, 0.025284508243203163, -0.20079642534255981, 0.8761330842971802, -0.021689286455512047, 0.3740995228290558, 0.7650014162063599, 0.03227356821298599, 0.2916671931743622, -0.42302975058555603, -0.2945168614387512, -1.0893490314483643, 0.11313369870185852, -0.04664280638098717, 0.2682192027568817, -0.38445228338241577, 1.8626075983047485, -0.5528952479362488, -0.07865467667579651, 1.1481715440750122, -0.5650692582130432, 0.47575482726097107, -0.2634384036064148, -0.4980213940143585, -0.5817720890045166, -1.412244439125061, 0.3263956606388092, 0.21282906830310822, -0.9334012866020203, -0.41828063130378723, -0.29199445247650146, -0.0840206891298294, -0.5065953135490417, -0.2416052222251892, -0.3384442627429962, -1.4109761714935303, 0.1974007785320282, -0.8391534090042114, -1.136888861656189, -0.158958300948143, 0.8801398277282715, -0.5949633717536926, 0.17096582055091858, 0.11868941783905029, -0.30322718620300293, -0.16802948713302612, 0.7172389030456543, 0.14590886235237122, 0.9242079257965088, -1.3413946628570557, 0.30493903160095215, -0.2850204110145569, -0.2804608941078186, -0.1707097589969635, -0.45603224635124207, -0.8558421730995178, 0.19027850031852722, -0.6684505343437195, -0.7463469505310059, -0.3171517848968506, 0.6644308567047119, -0.3398076295852661, -0.8680627346038818, -0.48067110776901245, -0.23301294445991516, -0.024205420166254044, 0.77292799949646, 2.7019433975219727, -0.27714067697525024, -0.4679342210292816, -0.3467591106891632, -1.014715552330017, -1.1933836936950684, -0.3298407793045044, 0.4583997428417206, -0.6076757907867432, -0.726893961429596, 0.06118343025445938, -0.6296692490577698, 0.12811709940433502, 0.4017898142337799, 1.0649021863937378, -0.5077389478683472, -0.0043043592013418674, 0.7375068068504333, 0.5313432812690735, 0.13761524856090546, 0.7073273658752441, -0.17087668180465698, 0.46397337317466736, 1.579268455505371, 0.5551087856292725, -0.5650309920310974, 0.3620540201663971, -1.0400587320327759, 1.708542823791504, 0.25373366475105286, -0.5517804026603699, 1.8389785289764404, -1.6123114824295044, -0.9289627075195312, -0.3972863554954529, 0.22436009347438812, 0.06130298972129822, 2.0247511863708496, -0.5704817771911621, 0.7589007616043091, -0.697608470916748, -0.02546890266239643, 0.3379303216934204, 0.3125634491443634, -0.24940042197704315, -0.21618947386741638, -0.24273958802223206, -0.6970805525779724, 1.2475465536117554, 0.8690685033798218, -0.31124746799468994, -0.3528285026550293, 0.41112369298934937, -0.28270694613456726, -1.1430033445358276, -0.41094812750816345, 0.4905938506126404, 1.2028330564498901, -0.9593984484672546, 0.2118481695652008, 1.0038816928863525, -0.9940311908721924, -0.12379848957061768, 0.3176899552345276, -0.04362642392516136, 1.4767320156097412, -0.3165425658226013, 0.11024494469165802, 1.0209295749664307, 0.39776432514190674, -0.3410796523094177, 0.6935045719146729, 0.027049167081713676, -0.8191072344779968, -0.3836231529712677, -0.14000791311264038, 0.16226106882095337, -0.5406010746955872, -1.0977660417556763, 0.21882395446300507, 0.17054618895053864, -0.6421381235122681, -1.392257571220398, -1.1525534391403198, -0.7853760123252869, -0.7136055827140808, -1.0123029947280884, 0.43712788820266724, -0.7296527624130249, 0.18420299887657166, -0.8042256832122803, 0.44614487886428833, -0.2415664792060852, 0.7963953018188477, -0.7671511173248291, -0.7328934669494629, 0.5859763026237488, -2.2066617012023926, -0.17732413113117218, 1.2479498386383057, -0.5274879932403564, 0.14709937572479248, -0.2751217186450958, -0.18569087982177734, -0.48660215735435486, -0.5351691842079163, -0.611723780632019, -0.026015831157565117, 1.1471608877182007, -0.5291286110877991, 0.46481648087501526, -0.16714338958263397, -0.512548565864563, 1.4080314636230469, -0.6746301054954529, -0.024973399937152863, -0.47010380029678345, -0.5982130765914917, -0.544755220413208, -0.6721249222755432, -0.8205655217170715, -0.2278449386358261, -0.8471041321754456, -0.2976897954940796, 0.09953372180461884, 0.1728176474571228, 0.23464885354042053, 0.17811726033687592, -0.01181410439312458, -0.7427076697349548, -0.1714535355567932, -3.188034772872925, 1.3602352142333984, -0.28523892164230347, -0.16707825660705566, -0.39589497447013855, 0.37592145800590515, -0.31878191232681274, -0.10922252386808395, 1.2668296098709106, -0.13320615887641907, 0.31668296456336975, 1.0437464714050293, -0.3094758689403534, -0.19227810204029083, -0.22749347984790802, -0.11380843073129654, 0.6106958985328674, -0.30386850237846375, 2.9191043376922607, -1.4264432191848755, -0.16285233199596405, -0.5024970173835754, -0.4136824905872345, -0.26536625623703003, 0.18848396837711334, 0.29373982548713684, 0.8548508882522583, -0.056640151888132095, -0.5824530720710754, 0.19129957258701324, -0.20028215646743774, -0.4263154864311218, -0.8010497689247131, 0.33961641788482666, 0.25974538922309875, -1.3872753381729126, 0.2304307222366333, -0.0954698994755745, -0.392617791891098, -0.11849868297576904, 0.8025981187820435, 0.42291876673698425, 0.07604960352182388, 0.8383896350860596, -0.38203781843185425, -0.7826706171035767, 0.06479156017303467, 0.10311146080493927, 0.9244275093078613, -0.17195776104927063, -0.5542795062065125, -0.17019952833652496, -0.3262563645839691, 0.9646052122116089, -0.09063038975000381, 0.15580208599567413, 0.517547070980072, -0.43620002269744873, 1.0530556440353394, 0.2040683478116989, 0.9975725412368774, 0.25030311942100525, 0.6494466662406921, 0.33048489689826965, 0.32958298921585083, 0.6781402230262756, 0.3259274661540985, 0.8172146677970886, 0.7169461250305176, -0.660251259803772, -0.6204738020896912, -0.8449798822402954, -0.5688310861587524, -0.5280329585075378, -0.6879341006278992, 0.6834385395050049, -0.17352433502674103, -0.9579116106033325, -1.094184160232544, -0.5573659539222717, 0.17742061614990234, 1.8352792263031006, 0.19601264595985413, 0.8365164995193481, -0.8516484498977661, 1.1312894821166992, 0.797040581703186, 1.2393722534179688, 0.6574141383171082, -1.3166816234588623, 0.5027096271514893, -0.26654332876205444, 1.1737080812454224, 0.7983940243721008, -0.06294471025466919, -0.5609541535377502, 0.7523459196090698, 0.49642813205718994, 0.020456507802009583, -0.05997670069336891, 1.556755781173706, -2.89255690574646, 0.4494202435016632, -0.4560534358024597], \"yaxis\": \"y\"}],\n",
              "                        {\"legend\": {\"itemsizing\": \"constant\", \"tracegroupgap\": 0}, \"margin\": {\"t\": 60}, \"template\": {\"data\": {\"bar\": [{\"error_x\": {\"color\": \"#2a3f5f\"}, \"error_y\": {\"color\": \"#2a3f5f\"}, \"marker\": {\"line\": {\"color\": \"#E5ECF6\", \"width\": 0.5}}, \"type\": \"bar\"}], \"barpolar\": [{\"marker\": {\"line\": {\"color\": \"#E5ECF6\", \"width\": 0.5}}, \"type\": \"barpolar\"}], \"carpet\": [{\"aaxis\": {\"endlinecolor\": \"#2a3f5f\", \"gridcolor\": \"white\", \"linecolor\": \"white\", \"minorgridcolor\": \"white\", \"startlinecolor\": \"#2a3f5f\"}, \"baxis\": {\"endlinecolor\": \"#2a3f5f\", \"gridcolor\": \"white\", \"linecolor\": \"white\", \"minorgridcolor\": \"white\", \"startlinecolor\": \"#2a3f5f\"}, \"type\": \"carpet\"}], \"choropleth\": [{\"colorbar\": {\"outlinewidth\": 0, \"ticks\": \"\"}, \"type\": \"choropleth\"}], \"contour\": [{\"colorbar\": {\"outlinewidth\": 0, \"ticks\": \"\"}, \"colorscale\": [[0.0, \"#0d0887\"], [0.1111111111111111, \"#46039f\"], [0.2222222222222222, \"#7201a8\"], [0.3333333333333333, \"#9c179e\"], [0.4444444444444444, \"#bd3786\"], [0.5555555555555556, \"#d8576b\"], [0.6666666666666666, \"#ed7953\"], [0.7777777777777778, \"#fb9f3a\"], [0.8888888888888888, \"#fdca26\"], [1.0, \"#f0f921\"]], \"type\": \"contour\"}], \"contourcarpet\": [{\"colorbar\": {\"outlinewidth\": 0, \"ticks\": \"\"}, \"type\": \"contourcarpet\"}], \"heatmap\": [{\"colorbar\": {\"outlinewidth\": 0, \"ticks\": \"\"}, \"colorscale\": [[0.0, \"#0d0887\"], [0.1111111111111111, \"#46039f\"], [0.2222222222222222, \"#7201a8\"], [0.3333333333333333, \"#9c179e\"], [0.4444444444444444, \"#bd3786\"], [0.5555555555555556, \"#d8576b\"], [0.6666666666666666, \"#ed7953\"], [0.7777777777777778, \"#fb9f3a\"], [0.8888888888888888, \"#fdca26\"], [1.0, \"#f0f921\"]], \"type\": \"heatmap\"}], \"heatmapgl\": [{\"colorbar\": {\"outlinewidth\": 0, \"ticks\": \"\"}, \"colorscale\": [[0.0, \"#0d0887\"], [0.1111111111111111, \"#46039f\"], [0.2222222222222222, \"#7201a8\"], [0.3333333333333333, \"#9c179e\"], [0.4444444444444444, \"#bd3786\"], [0.5555555555555556, \"#d8576b\"], [0.6666666666666666, \"#ed7953\"], [0.7777777777777778, \"#fb9f3a\"], [0.8888888888888888, \"#fdca26\"], [1.0, \"#f0f921\"]], \"type\": \"heatmapgl\"}], \"histogram\": [{\"marker\": {\"colorbar\": {\"outlinewidth\": 0, \"ticks\": \"\"}}, \"type\": \"histogram\"}], \"histogram2d\": [{\"colorbar\": {\"outlinewidth\": 0, \"ticks\": \"\"}, \"colorscale\": [[0.0, \"#0d0887\"], [0.1111111111111111, \"#46039f\"], [0.2222222222222222, \"#7201a8\"], [0.3333333333333333, \"#9c179e\"], [0.4444444444444444, \"#bd3786\"], [0.5555555555555556, \"#d8576b\"], [0.6666666666666666, \"#ed7953\"], [0.7777777777777778, \"#fb9f3a\"], [0.8888888888888888, \"#fdca26\"], [1.0, \"#f0f921\"]], \"type\": \"histogram2d\"}], \"histogram2dcontour\": [{\"colorbar\": {\"outlinewidth\": 0, \"ticks\": \"\"}, \"colorscale\": [[0.0, \"#0d0887\"], [0.1111111111111111, \"#46039f\"], [0.2222222222222222, \"#7201a8\"], [0.3333333333333333, \"#9c179e\"], [0.4444444444444444, \"#bd3786\"], [0.5555555555555556, \"#d8576b\"], [0.6666666666666666, \"#ed7953\"], [0.7777777777777778, \"#fb9f3a\"], [0.8888888888888888, \"#fdca26\"], [1.0, \"#f0f921\"]], \"type\": \"histogram2dcontour\"}], \"mesh3d\": [{\"colorbar\": {\"outlinewidth\": 0, \"ticks\": \"\"}, \"type\": \"mesh3d\"}], \"parcoords\": [{\"line\": {\"colorbar\": {\"outlinewidth\": 0, \"ticks\": \"\"}}, \"type\": \"parcoords\"}], \"pie\": [{\"automargin\": true, \"type\": \"pie\"}], \"scatter\": [{\"marker\": {\"colorbar\": {\"outlinewidth\": 0, \"ticks\": \"\"}}, \"type\": \"scatter\"}], \"scatter3d\": [{\"line\": {\"colorbar\": {\"outlinewidth\": 0, \"ticks\": \"\"}}, \"marker\": {\"colorbar\": {\"outlinewidth\": 0, \"ticks\": \"\"}}, \"type\": \"scatter3d\"}], \"scattercarpet\": [{\"marker\": {\"colorbar\": {\"outlinewidth\": 0, \"ticks\": \"\"}}, \"type\": \"scattercarpet\"}], \"scattergeo\": [{\"marker\": {\"colorbar\": {\"outlinewidth\": 0, \"ticks\": \"\"}}, \"type\": \"scattergeo\"}], \"scattergl\": [{\"marker\": {\"colorbar\": {\"outlinewidth\": 0, \"ticks\": \"\"}}, \"type\": \"scattergl\"}], \"scattermapbox\": [{\"marker\": {\"colorbar\": {\"outlinewidth\": 0, \"ticks\": \"\"}}, \"type\": \"scattermapbox\"}], \"scatterpolar\": [{\"marker\": {\"colorbar\": {\"outlinewidth\": 0, \"ticks\": \"\"}}, \"type\": \"scatterpolar\"}], \"scatterpolargl\": [{\"marker\": {\"colorbar\": {\"outlinewidth\": 0, \"ticks\": \"\"}}, \"type\": \"scatterpolargl\"}], \"scatterternary\": [{\"marker\": {\"colorbar\": {\"outlinewidth\": 0, \"ticks\": \"\"}}, \"type\": \"scatterternary\"}], \"surface\": [{\"colorbar\": {\"outlinewidth\": 0, \"ticks\": \"\"}, \"colorscale\": [[0.0, \"#0d0887\"], [0.1111111111111111, \"#46039f\"], [0.2222222222222222, \"#7201a8\"], [0.3333333333333333, \"#9c179e\"], [0.4444444444444444, \"#bd3786\"], [0.5555555555555556, \"#d8576b\"], [0.6666666666666666, \"#ed7953\"], [0.7777777777777778, \"#fb9f3a\"], [0.8888888888888888, \"#fdca26\"], [1.0, \"#f0f921\"]], \"type\": \"surface\"}], \"table\": [{\"cells\": {\"fill\": {\"color\": \"#EBF0F8\"}, \"line\": {\"color\": \"white\"}}, \"header\": {\"fill\": {\"color\": \"#C8D4E3\"}, \"line\": {\"color\": \"white\"}}, \"type\": \"table\"}]}, \"layout\": {\"annotationdefaults\": {\"arrowcolor\": \"#2a3f5f\", \"arrowhead\": 0, \"arrowwidth\": 1}, \"coloraxis\": {\"colorbar\": {\"outlinewidth\": 0, \"ticks\": \"\"}}, \"colorscale\": {\"diverging\": [[0, \"#8e0152\"], [0.1, \"#c51b7d\"], [0.2, \"#de77ae\"], [0.3, \"#f1b6da\"], [0.4, \"#fde0ef\"], [0.5, \"#f7f7f7\"], [0.6, \"#e6f5d0\"], [0.7, \"#b8e186\"], [0.8, \"#7fbc41\"], [0.9, \"#4d9221\"], [1, \"#276419\"]], \"sequential\": [[0.0, \"#0d0887\"], [0.1111111111111111, \"#46039f\"], [0.2222222222222222, \"#7201a8\"], [0.3333333333333333, \"#9c179e\"], [0.4444444444444444, \"#bd3786\"], [0.5555555555555556, \"#d8576b\"], [0.6666666666666666, \"#ed7953\"], [0.7777777777777778, \"#fb9f3a\"], [0.8888888888888888, \"#fdca26\"], [1.0, \"#f0f921\"]], \"sequentialminus\": [[0.0, \"#0d0887\"], [0.1111111111111111, \"#46039f\"], [0.2222222222222222, \"#7201a8\"], [0.3333333333333333, \"#9c179e\"], [0.4444444444444444, \"#bd3786\"], [0.5555555555555556, \"#d8576b\"], [0.6666666666666666, \"#ed7953\"], [0.7777777777777778, \"#fb9f3a\"], [0.8888888888888888, \"#fdca26\"], [1.0, \"#f0f921\"]]}, \"colorway\": [\"#636efa\", \"#EF553B\", \"#00cc96\", \"#ab63fa\", \"#FFA15A\", \"#19d3f3\", \"#FF6692\", \"#B6E880\", \"#FF97FF\", \"#FECB52\"], \"font\": {\"color\": \"#2a3f5f\"}, \"geo\": {\"bgcolor\": \"white\", \"lakecolor\": \"white\", \"landcolor\": \"#E5ECF6\", \"showlakes\": true, \"showland\": true, \"subunitcolor\": \"white\"}, \"hoverlabel\": {\"align\": \"left\"}, \"hovermode\": \"closest\", \"mapbox\": {\"style\": \"light\"}, \"paper_bgcolor\": \"white\", \"plot_bgcolor\": \"#E5ECF6\", \"polar\": {\"angularaxis\": {\"gridcolor\": \"white\", \"linecolor\": \"white\", \"ticks\": \"\"}, \"bgcolor\": \"#E5ECF6\", \"radialaxis\": {\"gridcolor\": \"white\", \"linecolor\": \"white\", \"ticks\": \"\"}}, \"scene\": {\"xaxis\": {\"backgroundcolor\": \"#E5ECF6\", \"gridcolor\": \"white\", \"gridwidth\": 2, \"linecolor\": \"white\", \"showbackground\": true, \"ticks\": \"\", \"zerolinecolor\": \"white\"}, \"yaxis\": {\"backgroundcolor\": \"#E5ECF6\", \"gridcolor\": \"white\", \"gridwidth\": 2, \"linecolor\": \"white\", \"showbackground\": true, \"ticks\": \"\", \"zerolinecolor\": \"white\"}, \"zaxis\": {\"backgroundcolor\": \"#E5ECF6\", \"gridcolor\": \"white\", \"gridwidth\": 2, \"linecolor\": \"white\", \"showbackground\": true, \"ticks\": \"\", \"zerolinecolor\": \"white\"}}, \"shapedefaults\": {\"line\": {\"color\": \"#2a3f5f\"}}, \"ternary\": {\"aaxis\": {\"gridcolor\": \"white\", \"linecolor\": \"white\", \"ticks\": \"\"}, \"baxis\": {\"gridcolor\": \"white\", \"linecolor\": \"white\", \"ticks\": \"\"}, \"bgcolor\": \"#E5ECF6\", \"caxis\": {\"gridcolor\": \"white\", \"linecolor\": \"white\", \"ticks\": \"\"}}, \"title\": {\"x\": 0.05}, \"xaxis\": {\"automargin\": true, \"gridcolor\": \"white\", \"linecolor\": \"white\", \"ticks\": \"\", \"title\": {\"standoff\": 15}, \"zerolinecolor\": \"white\", \"zerolinewidth\": 2}, \"yaxis\": {\"automargin\": true, \"gridcolor\": \"white\", \"linecolor\": \"white\", \"ticks\": \"\", \"title\": {\"standoff\": 15}, \"zerolinecolor\": \"white\", \"zerolinewidth\": 2}}}, \"xaxis\": {\"anchor\": \"y\", \"domain\": [0.0, 1.0], \"title\": {\"text\": \"x\"}}, \"yaxis\": {\"anchor\": \"x\", \"domain\": [0.0, 1.0], \"title\": {\"text\": \"y\"}}},\n",
              "                        {\"responsive\": true}\n",
              "                    ).then(function(){\n",
              "                            \n",
              "var gd = document.getElementById('e0792c40-98f8-45a9-8efe-a622bc6599ad');\n",
              "var x = new MutationObserver(function (mutations, observer) {{\n",
              "        var display = window.getComputedStyle(gd).display;\n",
              "        if (!display || display === 'none') {{\n",
              "            console.log([gd, 'removed!']);\n",
              "            Plotly.purge(gd);\n",
              "            observer.disconnect();\n",
              "        }}\n",
              "}});\n",
              "\n",
              "// Listen for the removal of the full notebook cells\n",
              "var notebookContainer = gd.closest('#notebook-container');\n",
              "if (notebookContainer) {{\n",
              "    x.observe(notebookContainer, {childList: true});\n",
              "}}\n",
              "\n",
              "// Listen for the clearing of the current output cell\n",
              "var outputEl = gd.closest('.output');\n",
              "if (outputEl) {{\n",
              "    x.observe(outputEl, {childList: true});\n",
              "}}\n",
              "\n",
              "                        })\n",
              "                };\n",
              "                \n",
              "            </script>\n",
              "        </div>\n",
              "</body>\n",
              "</html>"
            ]
          },
          "metadata": {
            "tags": []
          }
        }
      ]
    },
    {
      "cell_type": "code",
      "metadata": {
        "id": "-nHVjV6NuqRV"
      },
      "source": [
        "from sklearn.manifold import TSNE\n",
        "\n",
        "#\n",
        "# TODO: make a 2D t-SNE projection of the selected words.\n",
        "# Things will cluster much nicer\n",
        "#"
      ],
      "execution_count": null,
      "outputs": []
    },
    {
      "cell_type": "code",
      "metadata": {
        "colab": {
          "base_uri": "https://localhost:8080/"
        },
        "id": "0mDeSqqoKVXd",
        "outputId": "52a5bb3a-c6bb-4100-c7c3-8115385cd58a"
      },
      "source": [
        "tsne = TSNE(n_components=2)\n",
        "top_coords = tsne.fit_transform(top_vecs)\n",
        "tsne.kl_divergence_"
      ],
      "execution_count": null,
      "outputs": [
        {
          "output_type": "execute_result",
          "data": {
            "text/plain": [
              "1.326416015625"
            ]
          },
          "metadata": {
            "tags": []
          },
          "execution_count": 38
        }
      ]
    },
    {
      "cell_type": "code",
      "metadata": {
        "colab": {
          "base_uri": "https://localhost:8080/"
        },
        "id": "ELP7riqtGc8V",
        "outputId": "dbac3fab-a675-4b58-e62b-00fe196a956c"
      },
      "source": [
        "tsne = TSNE(n_components=2, method='exact', perplexity=50)\n",
        "top_coords = tsne.fit_transform(top_vecs)\n",
        "tsne.kl_divergence_"
      ],
      "execution_count": null,
      "outputs": [
        {
          "output_type": "execute_result",
          "data": {
            "text/plain": [
              "1.028799800765008"
            ]
          },
          "metadata": {
            "tags": []
          },
          "execution_count": 36
        }
      ]
    },
    {
      "cell_type": "code",
      "metadata": {
        "colab": {
          "base_uri": "https://localhost:8080/",
          "height": 542
        },
        "id": "hMpd8nkTFlQy",
        "outputId": "3c1b55fa-083d-4e01-d3a6-50f48e20c442"
      },
      "source": [
        "fig = px.scatter(x=top_coords[:, 0], y=top_coords[:, 1], text=top_words, size=np.zeros(len(top_words)))\n",
        "fig.show()"
      ],
      "execution_count": null,
      "outputs": [
        {
          "output_type": "display_data",
          "data": {
            "text/html": [
              "<html>\n",
              "<head><meta charset=\"utf-8\" /></head>\n",
              "<body>\n",
              "    <div>\n",
              "            <script src=\"https://cdnjs.cloudflare.com/ajax/libs/mathjax/2.7.5/MathJax.js?config=TeX-AMS-MML_SVG\"></script><script type=\"text/javascript\">if (window.MathJax) {MathJax.Hub.Config({SVG: {font: \"STIX-Web\"}});}</script>\n",
              "                <script type=\"text/javascript\">window.PlotlyConfig = {MathJaxConfig: 'local'};</script>\n",
              "        <script src=\"https://cdn.plot.ly/plotly-latest.min.js\"></script>    \n",
              "            <div id=\"fe62fc57-6206-41cc-a6a7-3d3ac6118079\" class=\"plotly-graph-div\" style=\"height:525px; width:100%;\"></div>\n",
              "            <script type=\"text/javascript\">\n",
              "                \n",
              "                    window.PLOTLYENV=window.PLOTLYENV || {};\n",
              "                    \n",
              "                if (document.getElementById(\"fe62fc57-6206-41cc-a6a7-3d3ac6118079\")) {\n",
              "                    Plotly.newPlot(\n",
              "                        'fe62fc57-6206-41cc-a6a7-3d3ac6118079',\n",
              "                        [{\"hoverlabel\": {\"namelength\": 0}, \"hovertemplate\": \"x=%{x}<br>y=%{y}<br>size=%{marker.size}<br>text=%{text}\", \"legendgroup\": \"\", \"marker\": {\"color\": \"#636efa\", \"size\": [0.0, 0.0, 0.0, 0.0, 0.0, 0.0, 0.0, 0.0, 0.0, 0.0, 0.0, 0.0, 0.0, 0.0, 0.0, 0.0, 0.0, 0.0, 0.0, 0.0, 0.0, 0.0, 0.0, 0.0, 0.0, 0.0, 0.0, 0.0, 0.0, 0.0, 0.0, 0.0, 0.0, 0.0, 0.0, 0.0, 0.0, 0.0, 0.0, 0.0, 0.0, 0.0, 0.0, 0.0, 0.0, 0.0, 0.0, 0.0, 0.0, 0.0, 0.0, 0.0, 0.0, 0.0, 0.0, 0.0, 0.0, 0.0, 0.0, 0.0, 0.0, 0.0, 0.0, 0.0, 0.0, 0.0, 0.0, 0.0, 0.0, 0.0, 0.0, 0.0, 0.0, 0.0, 0.0, 0.0, 0.0, 0.0, 0.0, 0.0, 0.0, 0.0, 0.0, 0.0, 0.0, 0.0, 0.0, 0.0, 0.0, 0.0, 0.0, 0.0, 0.0, 0.0, 0.0, 0.0, 0.0, 0.0, 0.0, 0.0, 0.0, 0.0, 0.0, 0.0, 0.0, 0.0, 0.0, 0.0, 0.0, 0.0, 0.0, 0.0, 0.0, 0.0, 0.0, 0.0, 0.0, 0.0, 0.0, 0.0, 0.0, 0.0, 0.0, 0.0, 0.0, 0.0, 0.0, 0.0, 0.0, 0.0, 0.0, 0.0, 0.0, 0.0, 0.0, 0.0, 0.0, 0.0, 0.0, 0.0, 0.0, 0.0, 0.0, 0.0, 0.0, 0.0, 0.0, 0.0, 0.0, 0.0, 0.0, 0.0, 0.0, 0.0, 0.0, 0.0, 0.0, 0.0, 0.0, 0.0, 0.0, 0.0, 0.0, 0.0, 0.0, 0.0, 0.0, 0.0, 0.0, 0.0, 0.0, 0.0, 0.0, 0.0, 0.0, 0.0, 0.0, 0.0, 0.0, 0.0, 0.0, 0.0, 0.0, 0.0, 0.0, 0.0, 0.0, 0.0, 0.0, 0.0, 0.0, 0.0, 0.0, 0.0, 0.0, 0.0, 0.0, 0.0, 0.0, 0.0, 0.0, 0.0, 0.0, 0.0, 0.0, 0.0, 0.0, 0.0, 0.0, 0.0, 0.0, 0.0, 0.0, 0.0, 0.0, 0.0, 0.0, 0.0, 0.0, 0.0, 0.0, 0.0, 0.0, 0.0, 0.0, 0.0, 0.0, 0.0, 0.0, 0.0, 0.0, 0.0, 0.0, 0.0, 0.0, 0.0, 0.0, 0.0, 0.0, 0.0, 0.0, 0.0, 0.0, 0.0, 0.0, 0.0, 0.0, 0.0, 0.0, 0.0, 0.0, 0.0, 0.0, 0.0, 0.0, 0.0, 0.0, 0.0, 0.0, 0.0, 0.0, 0.0, 0.0, 0.0, 0.0, 0.0, 0.0, 0.0, 0.0, 0.0, 0.0, 0.0, 0.0, 0.0, 0.0, 0.0, 0.0, 0.0, 0.0, 0.0, 0.0, 0.0, 0.0, 0.0, 0.0, 0.0, 0.0, 0.0, 0.0, 0.0, 0.0, 0.0, 0.0, 0.0, 0.0, 0.0, 0.0, 0.0, 0.0, 0.0, 0.0, 0.0, 0.0, 0.0, 0.0, 0.0, 0.0, 0.0, 0.0, 0.0, 0.0, 0.0, 0.0, 0.0, 0.0, 0.0, 0.0, 0.0, 0.0, 0.0, 0.0, 0.0, 0.0, 0.0, 0.0, 0.0, 0.0, 0.0, 0.0, 0.0, 0.0, 0.0, 0.0, 0.0, 0.0, 0.0, 0.0, 0.0, 0.0, 0.0, 0.0, 0.0, 0.0, 0.0, 0.0, 0.0, 0.0, 0.0, 0.0, 0.0, 0.0, 0.0, 0.0, 0.0, 0.0, 0.0, 0.0, 0.0, 0.0, 0.0, 0.0, 0.0, 0.0, 0.0, 0.0, 0.0, 0.0, 0.0, 0.0, 0.0, 0.0, 0.0, 0.0, 0.0, 0.0, 0.0, 0.0, 0.0, 0.0, 0.0, 0.0, 0.0, 0.0, 0.0, 0.0, 0.0, 0.0, 0.0, 0.0, 0.0, 0.0, 0.0, 0.0, 0.0, 0.0, 0.0, 0.0, 0.0, 0.0, 0.0], \"sizemode\": \"area\", \"sizeref\": 0.0, \"symbol\": \"circle\"}, \"mode\": \"markers+text\", \"name\": \"\", \"showlegend\": false, \"text\": [\"family\", \"user\", \"based\", \"area\", \"became\", \"york\", \"life\", \"british\", \"international\", \"game\", \"above\", \"club\", \"your\", \"until\", \"early\", \"best\", \"west\", \"house\", \"company\", \"general\", \"left\", \"very\", \"here\", \"don\", \"living\", \"day\", \"several\", \"place\", \"party\", \"college\", \"result\", \"keep\", \"appropriate\", \"four\", \"subsequent\", \"even\", \"class\", \"government\", \"how\", \"called\", \"did\", \"each\", \"found\", \"center\", \"per\", \"style\", \"com\", \"long\", \"country\", \"back\", \"way\", \"does\", \"www\", \"modify\", \"end\", \"make\", \"public\", \"played\", \"won\", \"another\", \"released\", \"added\", \"support\", \"games\", \"former\", \"those\", \"films\", \"church\", \"east\", \"line\", \"major\", \"members\", \"good\", \"much\", \"image\", \"show\", \"still\", \"think\", \"below\", \"town\", \"last\", \"system\", \"right\", \"song\", \"non\", \"notable\", \"section\", \"single\", \"included\", \"align\", \"home\", \"women\", \"television\", \"seed\", \"member\", \"goals\", \"sources\", \"book\", \"station\", \"order\", \"old\", \"information\", \"set\", \"own\", \"text\", \"band\", \"point\", \"local\", \"around\", \"river\", \"top\", \"main\", \"language\", \"french\", \"https\", \"named\", \"off\", \"note\", \"career\", \"original\", \"age\", \"service\", \"established\", \"located\", \"said\", \"website\", \"population\", \"air\", \"german\", \"law\", \"military\", \"great\", \"within\", \"clubs\", \"published\", \"president\", \"park\", \"official\", \"case\", \"london\", \"times\", \"although\", \"small\", \"third\", \"different\", \"due\", \"get\", \"village\", \"closed\", \"art\", \"player\", \"final\", \"community\", \"held\", \"again\", \"began\", \"army\", \"award\", \"without\", \"death\", \"built\", \"men\", \"large\", \"site\", \"using\", \"deletion\", \"white\", \"along\", \"five\", \"central\", \"road\", \"children\", \"free\", \"took\", \"england\", \"include\", \"association\", \"down\", \"given\", \"source\", \"california\", \"man\", \"version\", \"written\", \"created\", \"media\", \"black\", \"though\", \"php\", \"report\", \"building\", \"take\", \"division\", \"comment\", \"having\", \"king\", \"edit\", \"stadium\", \"died\", \"ship\", \"research\", \"record\", \"archive\", \"places\", \"undo\", \"cup\", \"records\", \"often\", \"few\", \"received\", \"side\", \"power\", \"education\", \"know\", \"category\", \"water\", \"political\", \"species\", \"field\", \"near\", \"australia\", \"video\", \"need\", \"island\", \"form\", \"find\", \"served\", \"play\", \"project\", \"according\", \"//en\", \"radio\", \"works\", \"proposed\", \"every\", \"development\", \"example\", \"live\", \"union\", \"india\", \"next\", \"special\", \"court\", \"region\", \"little\", \"short\", \"william\", \"province\", \"western\", \"son\", \"france\", \"council\", \"others\", \"royal\", \"current\", \"street\", \"full\", \"red\", \"too\", \"department\", \"san\", \"help\", \"subdivision_type\", \"among\", \"preserved\", \"james\", \"open\", \"force\", \"position\", \"head\", \"director\", \"father\", \"track\", \"http\", \"canada\", \"never\", \"australian\", \"george\", \"org/w/index\", \"jpg\", \"level\", \"late\", \"summer\", \"society\", \"moved\", \"office\", \"period\", \"championship\", \"round\", \"story\", \"songs\", \"various\", \"file\", \"days\", \"land\", \"business\", \"subdivision_name\", \"reason\", \"america\", \"million\", \"european\", \"term\", \"six\", \"post\", \"why\", \"produced\", \"making\", \"subject\", \"young\", \"total\", \"david\", \"science\", \"related\", \"rock\", \"archived\", \"railway\", \"become\", \"led\", \"students\", \"started\", \"news\", \"described\", \"//www\", \"role\", \"election\", \"albums\", \"present\", \"indian\", \"kingdom\", \"books\", \"important\", \"northern\", \"love\", \"run\", \"canadian\", \"press\", \"rather\", \"type\", \"act\", \"editor\", \"came\", \"schools\", \"program\", \"once\", \"issue\", \"social\", \"germany\", \"production\", \"male\", \"might\", \"awards\", \"points\", \"similar\", \"professional\", \"say\", \"background\", \"enough\", \"lead\", \"either\", \"common\", \"overlap\", \"data\", \"color\", \"better\", \"person\", \"services\", \"bgcolor\", \"museum\", \"battle\", \"went\", \"sports\", \"already\", \"currently\", \"hall\", \"buildings\", \"historic\", \"date\", \"deleted\", \"considered\", \"change\", \"location\", \"seems\", \"must\", \"yes\", \"our\", \"southern\", \"least\", \"lost\", \"something\", \"review\", \"together\", \"robert\", \"fact\", \"less\", \"japanese\", \"groups\", \"content\", \"birth_place\", \"involved\", \"isbn\"], \"type\": \"scatter\", \"x\": [10.046835899353027, -10.30828857421875, 1.3302099704742432, 8.523237228393555, 5.654509544372559, -0.9583713412284851, 2.4820096492767334, -1.2588447332382202, -13.789749145507812, -11.811074256896973, -7.898953914642334, 0.027503224089741707, -8.495409965515137, 1.3820819854736328, 1.416003704071045, -3.669003963470459, -13.528270721435547, 12.779196739196777, 12.193683624267578, -2.027200222015381, -15.718149185180664, -3.4430160522460938, -7.077430725097656, -6.227465629577637, 4.66569185256958, 0.011045100167393684, 1.729979157447815, 3.1701693534851074, 5.860256671905518, -13.566363334655762, -2.185391664505005, -8.859025955200195, -10.327269554138184, -2.135021209716797, -10.269638061523438, -2.287808656692505, -5.026261806488037, 5.590795516967773, -6.882667064666748, 0.6798736453056335, -2.921938180923462, -2.9533376693725586, -8.363636016845703, -16.162343978881836, -7.122061252593994, -17.145286560058594, -13.549960136413574, 1.8275920152664185, 4.013801574707031, 0.6672995686531067, -3.658986806869507, -5.267309665679932, -16.485177993774414, -10.162097930908203, 0.6530650854110718, -4.564943313598633, 4.996794700622559, -9.611920356750488, 4.3739447593688965, -0.8334546685218811, -7.87772798538208, -10.383814811706543, -9.311436653137207, -11.853555679321289, 5.545323371887207, -0.11782076954841614, -3.27400279045105, 13.108131408691406, -13.525093078613281, 15.005987167358398, 3.8223047256469727, 9.020054817199707, -4.460951805114746, -2.6624462604522705, -17.868621826171875, -2.6615684032440186, -0.9195991158485413, -6.225261688232422, -7.987622261047363, 12.500919342041016, -0.5459040999412537, -6.39200496673584, -15.550093650817871, -7.216985702514648, -3.2214605808258057, -4.845638751983643, -4.398609161376953, -2.4030115604400635, 2.423983335494995, -17.108884811401367, 7.829007148742676, 15.376391410827637, -2.518749952316284, -4.045629501342773, 8.988055229187012, -3.038700819015503, 10.2650728225708, -6.265139579772949, 15.963150978088379, -5.50672721862793, 0.206003338098526, -5.349536418914795, -2.2535338401794434, -1.2564663887023926, -15.10903263092041, -6.367823600769043, -3.421527624130249, 4.86434268951416, 2.9602749347686768, 8.99162769317627, -1.9150935411453247, 3.7099320888519287, -12.299773216247559, -0.5092546343803406, -15.183951377868652, 1.2153981924057007, 1.2789524793624878, 2.1714553833007812, 3.7075326442718506, -3.5017879009246826, 1.5279295444488525, -20.197647094726562, 3.3643155097961426, 11.65124797821045, -1.194592833518982, -12.68501091003418, 8.158214569091797, 1.9178534746170044, 0.5091620683670044, -7.397870063781738, 2.3277370929718018, 4.133024215698242, 0.9083946943283081, 0.032539669424295425, -6.755744934082031, 7.971568584442139, 8.82559871673584, -12.710319519042969, -7.420260906219482, -0.4112235903739929, 0.8425527215003967, -1.031524419784546, 5.979956150054932, -1.1401294469833374, 0.9964157938957214, -1.8002917766571045, -6.4920878410339355, 12.581958770751953, -12.16018009185791, 10.293304443359375, -10.389567375183105, -1.0211577415466309, 6.2388482093811035, 4.003757476806641, -0.11022200435400009, 3.2058520317077637, 2.18597412109375, 19.898256301879883, -3.3220155239105225, 5.974059581756592, 11.407903671264648, 15.369784355163574, 5.957334041595459, -12.008679389953613, -1.6854989528656006, -8.651239395141602, 13.898188591003418, 2.950214385986328, -2.1073989868164062, 16.089370727539062, 11.275331497192383, 7.847720146179199, -2.9917852878570557, 3.187361240386963, -0.27862221002578735, 2.280806541442871, 2.7355189323425293, 1.0995584726333618, -1.2452410459518433, 10.261451721191406, -1.764889121055603, -5.9460978507995605, -4.121016979217529, -8.077978134155273, -1.2864973545074463, 3.550266981124878, 13.953110694885254, -1.6001217365264893, 6.906381607055664, -11.12641716003418, 11.407177925109863, 2.6572163105010986, -0.7710180282592773, -9.437837600708008, -2.7047901153564453, 1.3906254768371582, -7.939788818359375, 8.952509880065918, 6.110562801361084, 9.963109970092773, -9.275030136108398, -11.335862159729004, -7.796589374542236, 10.322993278503418, -16.627729415893555, -16.367244720458984, -11.334897994995117, -0.3794528841972351, 1.432660698890686, -1.9581122398376465, 2.0589330196380615, -1.075134515762329, -13.150089263916016, -6.476130962371826, -5.714649677276611, 6.78205680847168, 5.033644199371338, -9.1202974319458, -0.009862478822469711, 11.260455131530762, -15.470480918884277, -12.184821128845215, -5.310266971588135, 5.113645076751709, -0.599931538105011, -7.370120525360107, 6.218680381774902, -9.578115463256836, -7.373992443084717, -0.9845757484436035, 6.901244640350342, -2.310462474822998, -5.3980326652526855, -7.609222888946533, -3.4480042457580566, -7.94564962387085, -1.301491141319275, -2.0452911853790283, 7.770747661590576, 6.267726421356201, -0.5172882676124573, -8.076020240783691, -7.932041168212891, 9.329943656921387, -2.767860174179077, 1.814347743988037, 8.627970695495605, 10.100802421569824, 16.51567268371582, 9.103550910949707, -0.4103766977787018, 5.464649677276611, -0.05842854082584381, 1.9595096111297607, 5.106494903564453, 11.337564468383789, -10.852263450622559, 13.225312232971191, -3.92643141746521, 6.965686798095703, -1.762841820716858, -6.655342102050781, 13.669934272766113, 2.357757329940796, -7.793352127075195, 8.464041709899902, -1.77535879611969, 1.9856691360473633, -0.15630096197128296, 6.312851428985596, 7.2349748611450195, 9.121016502380371, -0.46054673194885254, -15.542689323425293, -3.600147008895874, -2.1688644886016846, -15.475226402282715, 9.22282886505127, 6.906397819519043, -18.83231544494629, -9.529631614685059, 1.3899149894714355, 0.5058269500732422, 2.4423325061798096, 2.8764727115631104, 7.413048267364502, 2.9963812828063965, -16.360288619995117, -3.6111533641815186, -5.613719940185547, -7.334762096405029, 1.6280473470687866, -18.760631561279297, -0.05402500182390213, 7.777265548706055, 12.191061019897461, 13.300209045410156, -7.862608432769775, -3.805741786956787, -2.292977809906006, -13.035248756408691, -0.6377663016319275, -2.1086583137512207, 7.344081878662109, -6.877755641937256, -9.451155662536621, -4.4566850662231445, -4.4563117027282715, 7.161866664886475, -3.2649810314178467, 7.544687271118164, -9.744848251342773, 5.96039342880249, -6.170619487762451, -7.819575309753418, 15.96441650390625, 5.629767417907715, 4.109436511993408, -13.015656471252441, 3.2204349040985107, 3.7659170627593994, 0.06433513760566711, -15.5734224319458, -7.077265739440918, 6.3653035163879395, -7.967784404754639, 5.1070685386657715, 6.272326469421387, 1.1965298652648926, -6.198506832122803, 3.203681707382202, 16.512048721313477, 1.0783995389938354, 2.2530651092529297, -3.556882858276367, -5.2510271072387695, -2.990396499633789, 11.677789688110352, 1.100887417793274, -10.366961479187012, 3.117962121963501, -13.07227897644043, -6.786746025085449, -0.14828519523143768, -9.777771949768066, 4.794865131378174, 0.4191807210445404, -9.563340187072754, 6.362762928009033, -4.636573791503906, 19.900684356689453, -3.3716790676116943, 0.4876055121421814, 4.045976638793945, -5.962624549865723, -17.255218505859375, -4.4021830558776855, -5.865388870239258, -2.268110990524292, 0.3426227867603302, -16.968347549438477, -5.335944175720215, -17.340442657470703, -3.901331901550293, -5.766183853149414, -20.20215606689453, -17.496601104736328, 10.325169563293457, 1.472289800643921, 3.1222429275512695, 4.278103351593018, -2.101684093475342, 4.663227558135986, 10.092060089111328, 11.44227409362793, 10.910479545593262, -4.461679935455322, -8.32507038116455, -0.013736750930547714, -0.4145970940589905, 10.798035621643066, -5.033118724822998, -4.876098155975342, -5.893014430999756, -8.404180526733398, 16.502408981323242, -2.1917479038238525, 1.4167906045913696, -5.647274494171143, -11.304512023925781, 3.6842784881591797, 8.40549373626709, -2.9038970470428467, -2.7373909950256348, 1.7413628101348877, 3.7240426540374756, -6.805947303771973, 12.549158096313477, -3.4381508827209473, -5.307404041290283], \"xaxis\": \"x\", \"y\": [1.819945216178894, -5.25565242767334, -3.5576558113098145, -2.984299421310425, 3.218428373336792, 7.13021183013916, -8.282504081726074, -16.291595458984375, -3.241119384765625, 4.479442596435547, -10.993413925170898, 10.372308731079102, -3.8660504817962646, 2.213909864425659, 4.855831146240234, -6.503530979156494, 0.9417639374732971, -7.363466739654541, 3.164618492126465, 0.557083249092102, 3.771944522857666, -3.945427417755127, -5.491804122924805, -5.404231548309326, -1.3092005252838135, 4.065670490264893, -1.9320714473724365, 1.9153838157653809, -13.998560905456543, 9.829218864440918, -6.626965045928955, -5.639739036560059, -14.16545295715332, 4.073010444641113, -14.348217010498047, -2.358480215072632, 2.1449403762817383, -10.990004539489746, -3.532485246658325, -4.490659236907959, 0.0049387793987989426, 2.432819366455078, -1.51957368850708, 2.785614490509033, -9.13963794708252, 6.283286094665527, -9.510099411010742, 8.684308052062988, -8.081239700317383, 1.253179669380188, -1.8186984062194824, -2.433166742324829, -10.35873031616211, -14.784211158752441, 2.32159686088562, -0.3947875499725342, -10.101755142211914, 3.9731929302215576, 4.983722686767578, 0.358531653881073, 11.34378719329834, -7.153000354766846, 0.9869749546051025, 4.641555309295654, 1.414986491203308, -2.0350310802459717, 13.057598114013672, -9.2939453125, 0.9392451643943787, -4.657105445861816, -3.583378791809082, 6.543211460113525, -5.788975238800049, -4.484523773193359, -4.16563081741333, 10.857878684997559, -1.3955191373825073, -4.710895538330078, -11.285524368286133, -3.6313211917877197, 2.4991331100463867, 1.9216222763061523, 3.6904847621917725, 13.892338752746582, -7.786701679229736, -7.373426914215088, -9.022645950317383, 1.5338249206542969, -4.920567989349365, 4.349609375, -0.08448461443185806, 5.382687091827393, 12.56716251373291, 5.051955699920654, 6.510512351989746, 8.220051765441895, 13.640212059020996, 9.26505184173584, -5.774682998657227, 0.811278223991394, -0.0890534520149231, -10.649764060974121, 5.640163421630859, -0.712877631187439, 5.127553939819336, 15.115172386169434, 7.035582542419434, -2.7737622261047363, -1.3743444681167603, -5.125659942626953, 2.5103557109832764, -2.511072874069214, -6.6720380783081055, -17.004838943481445, -13.627063751220703, -4.992997169494629, 0.6312172412872314, -5.984846591949463, 6.9642534255981445, 0.9035769104957581, 6.698962688446045, 0.4092501699924469, 0.45084306597709656, -1.6639435291290283, -4.6712822914123535, -10.313385009765625, -2.60345196723938, 15.604782104492188, -17.451648712158203, 0.7555621266365051, 14.215529441833496, -6.369265556335449, -0.9387450218200684, 10.485628128051758, 9.661355018615723, 4.8814239501953125, -0.959783673286438, -10.44289493560791, -0.24926206469535828, 7.823925495147705, -6.437521934509277, -1.9284652471542358, -3.7153122425079346, 1.8543624877929688, -2.540151596069336, -5.958898544311523, -2.5978286266326904, -3.6505281925201416, -4.819247722625732, -13.800666809082031, 4.170507907867432, 3.1165168285369873, -1.9583383798599243, 2.5196781158447266, 1.2117092609405518, 5.75993013381958, 14.419909477233887, -2.8789615631103516, -2.5417888164520264, -7.2002177238464355, -7.860588073730469, 5.380590915679932, -3.71439790725708, -10.09567928314209, -3.6575732231140137, -8.242524147033691, 9.337343215942383, -0.805580735206604, 4.094450950622559, -0.28495094180107117, -5.398032188415527, 1.9836993217468262, -9.252856254577637, 2.966338634490967, 7.947263240814209, -4.13594388961792, -10.289406776428223, 0.8767719268798828, -2.5507402420043945, 13.642037391662598, 17.051786422729492, -0.2512821555137634, 1.1968989372253418, 9.383976936340332, 0.16339319944381714, 11.080216407775879, 9.358502388000488, -1.9315420389175415, 18.583105087280273, 0.09471737593412399, -8.02402400970459, 2.4952597618103027, 5.494429588317871, -6.709839820861816, -1.0202115774154663, -13.29354476928711, -6.338629245758057, -0.42959338426589966, -7.1718220710754395, 4.358235836029053, 6.716520309448242, 13.554616928100586, -15.32522201538086, -10.285857200622559, -10.166029930114746, -0.6574268937110901, 13.571064949035645, -3.038536548614502, -1.4944758415222168, -10.407198905944824, -0.06701689958572388, -9.002685546875, 9.218018531799316, -4.025847434997559, -8.337855339050293, -5.054815292358398, -14.207324028015137, -1.1705857515335083, -10.34917163848877, -1.8400776386260986, -6.332624435424805, 3.818288803100586, -4.721313953399658, -5.25495719909668, -3.791952133178711, -2.1863901615142822, 4.016549110412598, 3.9526424407958984, 5.666470527648926, -5.239101409912109, 18.57862663269043, 12.551214218139648, 5.920791149139404, -13.052639961242676, 2.5289504528045654, 6.287542343139648, -3.3200674057006836, 9.615819931030273, -6.77780818939209, 13.734968185424805, 2.2993268966674805, 2.26826810836792, 0.05256623029708862, -3.2270331382751465, -5.156405925750732, 8.718564987182617, 10.092119216918945, -3.4809234142303467, 1.2770367860794067, 2.3583016395568848, -17.205080032348633, -11.433670043945312, -1.6999187469482422, -12.658812522888184, 0.7661188244819641, -6.200357437133789, 0.0019471817649900913, 8.993795394897461, -4.157594680786133, -10.88105297088623, 17.047260284423828, -1.853606104850769, -0.7191912531852722, -2.7710187435150146, -15.424126625061035, 9.95916748046875, -7.912569999694824, 15.278780937194824, -7.939510345458984, 5.643283367156982, 5.286858081817627, 2.3019371032714844, -11.490489959716797, -12.940428733825684, -16.281354904174805, -0.796188473701477, -6.334089279174805, 9.576237678527832, 18.581653594970703, -4.287257671356201, -9.836641311645508, 4.896918296813965, 5.513025283813477, -10.805234909057617, 4.671150207519531, -9.571673393249512, -6.764301776885986, -0.6473280191421509, 4.864500999450684, 7.840526103973389, 13.841690063476562, -2.340646505355835, -4.278523921966553, 4.018828392028809, -3.7177858352661133, 3.1609339714050293, -0.8869835734367371, -4.879631996154785, -14.637566566467285, -12.571823120117188, -1.6864718198776245, -6.673733711242676, 4.103559970855713, -9.10560131072998, -4.481544017791748, 10.22659969329834, -0.2636338770389557, -2.4345293045043945, 1.5720378160476685, -11.986589431762695, 9.714235305786133, 6.962080001831055, 7.589907169342041, 15.37453842163086, -14.212098121643066, -5.763338088989258, 3.0039620399475098, 3.861375331878662, 9.003640174865723, 5.737346649169922, 10.524561882019043, -5.484431743621826, -12.880922317504883, 3.458876371383667, -13.602412223815918, 13.588516235351562, -0.5364993810653687, 13.741903305053711, -13.58238410949707, 9.290246963500977, -3.3190011978149414, 1.057295322418213, -9.190213203430176, 1.2157410383224487, -16.355947494506836, 10.60009765625, -3.203911781311035, 5.97184944152832, -7.603667736053467, -3.9354302883148193, 3.8773887157440186, 9.084473609924316, 5.275278091430664, 0.6953345537185669, -2.3980531692504883, -14.274523735046387, -17.555339813232422, 10.21656608581543, -0.4064614176750183, -3.2731077671051025, -2.8808536529541016, 7.397748947143555, -2.873459577560425, 7.400183200836182, -4.102015495300293, 6.5649518966674805, -4.533876419067383, 3.691495656967163, -2.4760262966156006, -3.466663360595703, -9.704455375671387, -10.835063934326172, 6.98773717880249, -5.619577407836914, -0.9370196461677551, 0.4085831046104431, 4.417716979980469, -13.817228317260742, 12.71711540222168, 4.074885368347168, 9.9821138381958, -1.232008695602417, 0.8622705936431885, -7.681320667266846, -8.441019058227539, -9.626381874084473, 3.4532909393310547, -7.274935722351074, -4.697009563446045, -0.7144399285316467, -0.9483838081359863, -3.6436822414398193, -1.6516520977020264, -6.296167373657227, -3.409449815750122, 1.07389235496521, -3.011981725692749, 3.4249634742736816, -3.5734169483184814, -2.553601026535034, -0.8073848485946655, 10.397825241088867, -1.9541772603988647, -4.023788928985596, -16.738693237304688, -4.865933418273926, -7.194936752319336, -1.1856937408447266, -0.7429645657539368, 10.657984733581543], \"yaxis\": \"y\"}],\n",
              "                        {\"legend\": {\"itemsizing\": \"constant\", \"tracegroupgap\": 0}, \"margin\": {\"t\": 60}, \"template\": {\"data\": {\"bar\": [{\"error_x\": {\"color\": \"#2a3f5f\"}, \"error_y\": {\"color\": \"#2a3f5f\"}, \"marker\": {\"line\": {\"color\": \"#E5ECF6\", \"width\": 0.5}}, \"type\": \"bar\"}], \"barpolar\": [{\"marker\": {\"line\": {\"color\": \"#E5ECF6\", \"width\": 0.5}}, \"type\": \"barpolar\"}], \"carpet\": [{\"aaxis\": {\"endlinecolor\": \"#2a3f5f\", \"gridcolor\": \"white\", \"linecolor\": \"white\", \"minorgridcolor\": \"white\", \"startlinecolor\": \"#2a3f5f\"}, \"baxis\": {\"endlinecolor\": \"#2a3f5f\", \"gridcolor\": \"white\", \"linecolor\": \"white\", \"minorgridcolor\": \"white\", \"startlinecolor\": \"#2a3f5f\"}, \"type\": \"carpet\"}], \"choropleth\": [{\"colorbar\": {\"outlinewidth\": 0, \"ticks\": \"\"}, \"type\": \"choropleth\"}], \"contour\": [{\"colorbar\": {\"outlinewidth\": 0, \"ticks\": \"\"}, \"colorscale\": [[0.0, \"#0d0887\"], [0.1111111111111111, \"#46039f\"], [0.2222222222222222, \"#7201a8\"], [0.3333333333333333, \"#9c179e\"], [0.4444444444444444, \"#bd3786\"], [0.5555555555555556, \"#d8576b\"], [0.6666666666666666, \"#ed7953\"], [0.7777777777777778, \"#fb9f3a\"], [0.8888888888888888, \"#fdca26\"], [1.0, \"#f0f921\"]], \"type\": \"contour\"}], \"contourcarpet\": [{\"colorbar\": {\"outlinewidth\": 0, \"ticks\": \"\"}, \"type\": \"contourcarpet\"}], \"heatmap\": [{\"colorbar\": {\"outlinewidth\": 0, \"ticks\": \"\"}, \"colorscale\": [[0.0, \"#0d0887\"], [0.1111111111111111, \"#46039f\"], [0.2222222222222222, \"#7201a8\"], [0.3333333333333333, \"#9c179e\"], [0.4444444444444444, \"#bd3786\"], [0.5555555555555556, \"#d8576b\"], [0.6666666666666666, \"#ed7953\"], [0.7777777777777778, \"#fb9f3a\"], [0.8888888888888888, \"#fdca26\"], [1.0, \"#f0f921\"]], \"type\": \"heatmap\"}], \"heatmapgl\": [{\"colorbar\": {\"outlinewidth\": 0, \"ticks\": \"\"}, \"colorscale\": [[0.0, \"#0d0887\"], [0.1111111111111111, \"#46039f\"], [0.2222222222222222, \"#7201a8\"], [0.3333333333333333, \"#9c179e\"], [0.4444444444444444, \"#bd3786\"], [0.5555555555555556, \"#d8576b\"], [0.6666666666666666, \"#ed7953\"], [0.7777777777777778, \"#fb9f3a\"], [0.8888888888888888, \"#fdca26\"], [1.0, \"#f0f921\"]], \"type\": \"heatmapgl\"}], \"histogram\": [{\"marker\": {\"colorbar\": {\"outlinewidth\": 0, \"ticks\": \"\"}}, \"type\": \"histogram\"}], \"histogram2d\": [{\"colorbar\": {\"outlinewidth\": 0, \"ticks\": \"\"}, \"colorscale\": [[0.0, \"#0d0887\"], [0.1111111111111111, \"#46039f\"], [0.2222222222222222, \"#7201a8\"], [0.3333333333333333, \"#9c179e\"], [0.4444444444444444, \"#bd3786\"], [0.5555555555555556, \"#d8576b\"], [0.6666666666666666, \"#ed7953\"], [0.7777777777777778, \"#fb9f3a\"], [0.8888888888888888, \"#fdca26\"], [1.0, \"#f0f921\"]], \"type\": \"histogram2d\"}], \"histogram2dcontour\": [{\"colorbar\": {\"outlinewidth\": 0, \"ticks\": \"\"}, \"colorscale\": [[0.0, \"#0d0887\"], [0.1111111111111111, \"#46039f\"], [0.2222222222222222, \"#7201a8\"], [0.3333333333333333, \"#9c179e\"], [0.4444444444444444, \"#bd3786\"], [0.5555555555555556, \"#d8576b\"], [0.6666666666666666, \"#ed7953\"], [0.7777777777777778, \"#fb9f3a\"], [0.8888888888888888, \"#fdca26\"], [1.0, \"#f0f921\"]], \"type\": \"histogram2dcontour\"}], \"mesh3d\": [{\"colorbar\": {\"outlinewidth\": 0, \"ticks\": \"\"}, \"type\": \"mesh3d\"}], \"parcoords\": [{\"line\": {\"colorbar\": {\"outlinewidth\": 0, \"ticks\": \"\"}}, \"type\": \"parcoords\"}], \"pie\": [{\"automargin\": true, \"type\": \"pie\"}], \"scatter\": [{\"marker\": {\"colorbar\": {\"outlinewidth\": 0, \"ticks\": \"\"}}, \"type\": \"scatter\"}], \"scatter3d\": [{\"line\": {\"colorbar\": {\"outlinewidth\": 0, \"ticks\": \"\"}}, \"marker\": {\"colorbar\": {\"outlinewidth\": 0, \"ticks\": \"\"}}, \"type\": \"scatter3d\"}], \"scattercarpet\": [{\"marker\": {\"colorbar\": {\"outlinewidth\": 0, \"ticks\": \"\"}}, \"type\": \"scattercarpet\"}], \"scattergeo\": [{\"marker\": {\"colorbar\": {\"outlinewidth\": 0, \"ticks\": \"\"}}, \"type\": \"scattergeo\"}], \"scattergl\": [{\"marker\": {\"colorbar\": {\"outlinewidth\": 0, \"ticks\": \"\"}}, \"type\": \"scattergl\"}], \"scattermapbox\": [{\"marker\": {\"colorbar\": {\"outlinewidth\": 0, \"ticks\": \"\"}}, \"type\": \"scattermapbox\"}], \"scatterpolar\": [{\"marker\": {\"colorbar\": {\"outlinewidth\": 0, \"ticks\": \"\"}}, \"type\": \"scatterpolar\"}], \"scatterpolargl\": [{\"marker\": {\"colorbar\": {\"outlinewidth\": 0, \"ticks\": \"\"}}, \"type\": \"scatterpolargl\"}], \"scatterternary\": [{\"marker\": {\"colorbar\": {\"outlinewidth\": 0, \"ticks\": \"\"}}, \"type\": \"scatterternary\"}], \"surface\": [{\"colorbar\": {\"outlinewidth\": 0, \"ticks\": \"\"}, \"colorscale\": [[0.0, \"#0d0887\"], [0.1111111111111111, \"#46039f\"], [0.2222222222222222, \"#7201a8\"], [0.3333333333333333, \"#9c179e\"], [0.4444444444444444, \"#bd3786\"], [0.5555555555555556, \"#d8576b\"], [0.6666666666666666, \"#ed7953\"], [0.7777777777777778, \"#fb9f3a\"], [0.8888888888888888, \"#fdca26\"], [1.0, \"#f0f921\"]], \"type\": \"surface\"}], \"table\": [{\"cells\": {\"fill\": {\"color\": \"#EBF0F8\"}, \"line\": {\"color\": \"white\"}}, \"header\": {\"fill\": {\"color\": \"#C8D4E3\"}, \"line\": {\"color\": \"white\"}}, \"type\": \"table\"}]}, \"layout\": {\"annotationdefaults\": {\"arrowcolor\": \"#2a3f5f\", \"arrowhead\": 0, \"arrowwidth\": 1}, \"coloraxis\": {\"colorbar\": {\"outlinewidth\": 0, \"ticks\": \"\"}}, \"colorscale\": {\"diverging\": [[0, \"#8e0152\"], [0.1, \"#c51b7d\"], [0.2, \"#de77ae\"], [0.3, \"#f1b6da\"], [0.4, \"#fde0ef\"], [0.5, \"#f7f7f7\"], [0.6, \"#e6f5d0\"], [0.7, \"#b8e186\"], [0.8, \"#7fbc41\"], [0.9, \"#4d9221\"], [1, \"#276419\"]], \"sequential\": [[0.0, \"#0d0887\"], [0.1111111111111111, \"#46039f\"], [0.2222222222222222, \"#7201a8\"], [0.3333333333333333, \"#9c179e\"], [0.4444444444444444, \"#bd3786\"], [0.5555555555555556, \"#d8576b\"], [0.6666666666666666, \"#ed7953\"], [0.7777777777777778, \"#fb9f3a\"], [0.8888888888888888, \"#fdca26\"], [1.0, \"#f0f921\"]], \"sequentialminus\": [[0.0, \"#0d0887\"], [0.1111111111111111, \"#46039f\"], [0.2222222222222222, \"#7201a8\"], [0.3333333333333333, \"#9c179e\"], [0.4444444444444444, \"#bd3786\"], [0.5555555555555556, \"#d8576b\"], [0.6666666666666666, \"#ed7953\"], [0.7777777777777778, \"#fb9f3a\"], [0.8888888888888888, \"#fdca26\"], [1.0, \"#f0f921\"]]}, \"colorway\": [\"#636efa\", \"#EF553B\", \"#00cc96\", \"#ab63fa\", \"#FFA15A\", \"#19d3f3\", \"#FF6692\", \"#B6E880\", \"#FF97FF\", \"#FECB52\"], \"font\": {\"color\": \"#2a3f5f\"}, \"geo\": {\"bgcolor\": \"white\", \"lakecolor\": \"white\", \"landcolor\": \"#E5ECF6\", \"showlakes\": true, \"showland\": true, \"subunitcolor\": \"white\"}, \"hoverlabel\": {\"align\": \"left\"}, \"hovermode\": \"closest\", \"mapbox\": {\"style\": \"light\"}, \"paper_bgcolor\": \"white\", \"plot_bgcolor\": \"#E5ECF6\", \"polar\": {\"angularaxis\": {\"gridcolor\": \"white\", \"linecolor\": \"white\", \"ticks\": \"\"}, \"bgcolor\": \"#E5ECF6\", \"radialaxis\": {\"gridcolor\": \"white\", \"linecolor\": \"white\", \"ticks\": \"\"}}, \"scene\": {\"xaxis\": {\"backgroundcolor\": \"#E5ECF6\", \"gridcolor\": \"white\", \"gridwidth\": 2, \"linecolor\": \"white\", \"showbackground\": true, \"ticks\": \"\", \"zerolinecolor\": \"white\"}, \"yaxis\": {\"backgroundcolor\": \"#E5ECF6\", \"gridcolor\": \"white\", \"gridwidth\": 2, \"linecolor\": \"white\", \"showbackground\": true, \"ticks\": \"\", \"zerolinecolor\": \"white\"}, \"zaxis\": {\"backgroundcolor\": \"#E5ECF6\", \"gridcolor\": \"white\", \"gridwidth\": 2, \"linecolor\": \"white\", \"showbackground\": true, \"ticks\": \"\", \"zerolinecolor\": \"white\"}}, \"shapedefaults\": {\"line\": {\"color\": \"#2a3f5f\"}}, \"ternary\": {\"aaxis\": {\"gridcolor\": \"white\", \"linecolor\": \"white\", \"ticks\": \"\"}, \"baxis\": {\"gridcolor\": \"white\", \"linecolor\": \"white\", \"ticks\": \"\"}, \"bgcolor\": \"#E5ECF6\", \"caxis\": {\"gridcolor\": \"white\", \"linecolor\": \"white\", \"ticks\": \"\"}}, \"title\": {\"x\": 0.05}, \"xaxis\": {\"automargin\": true, \"gridcolor\": \"white\", \"linecolor\": \"white\", \"ticks\": \"\", \"title\": {\"standoff\": 15}, \"zerolinecolor\": \"white\", \"zerolinewidth\": 2}, \"yaxis\": {\"automargin\": true, \"gridcolor\": \"white\", \"linecolor\": \"white\", \"ticks\": \"\", \"title\": {\"standoff\": 15}, \"zerolinecolor\": \"white\", \"zerolinewidth\": 2}}}, \"xaxis\": {\"anchor\": \"y\", \"domain\": [0.0, 1.0], \"title\": {\"text\": \"x\"}}, \"yaxis\": {\"anchor\": \"x\", \"domain\": [0.0, 1.0], \"title\": {\"text\": \"y\"}}},\n",
              "                        {\"responsive\": true}\n",
              "                    ).then(function(){\n",
              "                            \n",
              "var gd = document.getElementById('fe62fc57-6206-41cc-a6a7-3d3ac6118079');\n",
              "var x = new MutationObserver(function (mutations, observer) {{\n",
              "        var display = window.getComputedStyle(gd).display;\n",
              "        if (!display || display === 'none') {{\n",
              "            console.log([gd, 'removed!']);\n",
              "            Plotly.purge(gd);\n",
              "            observer.disconnect();\n",
              "        }}\n",
              "}});\n",
              "\n",
              "// Listen for the removal of the full notebook cells\n",
              "var notebookContainer = gd.closest('#notebook-container');\n",
              "if (notebookContainer) {{\n",
              "    x.observe(notebookContainer, {childList: true});\n",
              "}}\n",
              "\n",
              "// Listen for the clearing of the current output cell\n",
              "var outputEl = gd.closest('.output');\n",
              "if (outputEl) {{\n",
              "    x.observe(outputEl, {childList: true});\n",
              "}}\n",
              "\n",
              "                        })\n",
              "                };\n",
              "                \n",
              "            </script>\n",
              "        </div>\n",
              "</body>\n",
              "</html>"
            ]
          },
          "metadata": {
            "tags": []
          }
        }
      ]
    },
    {
      "cell_type": "markdown",
      "metadata": {
        "id": "9RLhJIkdqvyT"
      },
      "source": [
        "# Problem 2"
      ]
    },
    {
      "cell_type": "markdown",
      "metadata": {
        "id": "WLgBrvvJoK2n"
      },
      "source": [
        "## Report"
      ]
    },
    {
      "cell_type": "markdown",
      "metadata": {
        "id": "_5BmqYMboNML"
      },
      "source": [
        "First, I wrote an answering function using OneHotEncoder. I wasn't really satisfied,\n",
        "so I quickly moved on to Word2Vec. I kept nltk usage from sample code, didn't change\n",
        "upper cased words (Word2Vec is case sensitive).  \n",
        "It worked better, although changing distance or normalising embeddings doesn't seem to do\n",
        "anything in my case.  \n",
        "After that I wrote a talker (refactored code since then to only use the talker) and had a\n",
        "few conversations. It went alright. During converstations I randomly choose an answer\n",
        "from top 5.  \n",
        "Then I tried BERT, with averaging the results of last layer. The results were the best, although when it comes to the rest it's pretty much the same story - distance calculation and normalisation doesn't work at all.  \n",
        "At last, I tried using context because I found a nice conversation to test it on, but even without decay it didn't change much at all."
      ]
    },
    {
      "cell_type": "code",
      "metadata": {
        "colab": {
          "base_uri": "https://localhost:8080/"
        },
        "id": "NnH_TAY1GynL",
        "outputId": "4ec75b79-fa21-4541-f4d8-11bb279c0743"
      },
      "source": [
        "talker.talk()"
      ],
      "execution_count": null,
      "outputs": [
        {
          "output_type": "stream",
          "text": [
            "> What's your favorite meal?\n",
            "blue\n",
            "> Pretty abstract\n",
            "oh man i know right!?!?!\n",
            "> You're really excited about this\n",
            "im not mad im disappointed\n",
            "> What an emotional roller coaster\n",
            "exactly like that\n",
            "> \n"
          ],
          "name": "stdout"
        }
      ]
    },
    {
      "cell_type": "code",
      "metadata": {
        "colab": {
          "base_uri": "https://localhost:8080/"
        },
        "id": "fk6mr0OYGynV",
        "outputId": "f2540afe-55ee-45aa-b969-73ef1aa7d36e"
      },
      "source": [
        "talker.talk()"
      ],
      "execution_count": null,
      "outputs": [
        {
          "output_type": "stream",
          "text": [
            "What's up?\n",
            "just being glad this game isn't tomorrow night!\n",
            "> what game?\n",
            "final fantasy x hd\n",
            "> is it the release?\n",
            "nah like a 90~ ish fade\n",
            "> So what is tomorrow?\n",
            "monday\n",
            "> Smartass\n",
            "so basically you\n",
            "> \n"
          ],
          "name": "stdout"
        }
      ]
    },
    {
      "cell_type": "code",
      "metadata": {
        "colab": {
          "base_uri": "https://localhost:8080/"
        },
        "id": "Ojm0w5fcGynV",
        "outputId": "84730e48-a9ec-4a6b-af18-513ea6936608"
      },
      "source": [
        "talker.talk(best_answers=1)"
      ],
      "execution_count": null,
      "outputs": [
        {
          "output_type": "stream",
          "text": [
            "> What's up?\n",
            "right now? watching some movies and eating popcorn. how about you\n",
            "> doin pretty good\n",
            "i get crits all day but i just think its a low tier weapon...\n",
            "> In a movie? How come?\n",
            "it felt too short, not detailed enough\n",
            "> the movie or the weapon?\n",
            "the chunk of brain matter the bird is trying to get\n",
            "> forget it\n",
            "what?\n",
            "> \n"
          ],
          "name": "stdout"
        }
      ]
    },
    {
      "cell_type": "markdown",
      "metadata": {
        "id": "wO-txctxLJit"
      },
      "source": [
        "## Loading data"
      ]
    },
    {
      "cell_type": "code",
      "metadata": {
        "id": "TF8EUDVzwrHr",
        "colab": {
          "base_uri": "https://localhost:8080/"
        },
        "outputId": "fb7cd0fd-1efc-4882-ea6b-dc5096f1f2e5"
      },
      "source": [
        "prompts = []\n",
        "responses = []\n",
        "err_lines = []\n",
        "with open('./hackernews_pairs.txt') as f:\n",
        "    for line in f:\n",
        "        line = line.strip()\n",
        "        if not line:\n",
        "            continue\n",
        "        line = line.split('\\t')\n",
        "        if len(line)!=2:\n",
        "            err_lines.append(line)\n",
        "        else:\n",
        "            prompts.append(line[0])\n",
        "            responses.append(line[1])\n",
        "print(f\"Failed to parse the following {len(err_lines)} lines: {err_lines}\") \n",
        "print(f\"Sample fialogue pairs: \\n{pprint.pformat(list(zip(prompts[:15], responses)))}\")"
      ],
      "execution_count": 5,
      "outputs": [
        {
          "output_type": "stream",
          "text": [
            "Failed to parse the following 0 lines: []\n",
            "Sample fialogue pairs: \n",
            "[('Ah, yep, that was the issue.',\n",
            "  'Yeah, options typically cost the company very little.'),\n",
            " (\"Cross multiplication is a trick to multiply by the 'reciprocal' of the \"\n",
            "  'fraction.',\n",
            "  'Oh, I see.'),\n",
            " (\"Cross multiplication is a trick to multiply by the 'reciprocal' of the \"\n",
            "  'fraction.',\n",
            "  'Whaaa?'),\n",
            " ('Quite cool.', 'It gets into a pretty philosophical area.'),\n",
            " (\"If only the packaging smells, then I agree, it's not damaged.\",\n",
            "  'Sounds like entitlement to me.'),\n",
            " (\"That's what nationalist politics always says.\", 'Can you prove that?'),\n",
            " ('Misleading title.', 'Not really.'),\n",
            " ('Misleading title.',\n",
            "  'It is not completely misleading to all users but enough for me to say '\n",
            "  'something.'),\n",
            " ('Why the hell is this getting downvoted?',\n",
            "  \"Because it's clear the person he's responding to understood that \"\n",
            "  'relationship.'),\n",
            " (\"There's a web without ads.\",\n",
            "  'This just came to mind when you mentioned \"ad tax\".'),\n",
            " ('God bless the designated typer in the mob.',\n",
            "  'I imagine it depends a lot on the mob.'),\n",
            " (\"She hasn't been self-employed in 38 years.\",\n",
            "  'You retire when you hang up your hat and start getting pension.'),\n",
            " ('I disagree strongly.', 'Well said!'),\n",
            " ('I disagree strongly.',\n",
            "  \"It's an interesting point, but I'm wondering how to unpack it.\"),\n",
            " ('Of course this is true.', 'well...yes.')]\n"
          ],
          "name": "stdout"
        }
      ]
    },
    {
      "cell_type": "code",
      "metadata": {
        "colab": {
          "base_uri": "https://localhost:8080/"
        },
        "id": "ALTH4L66B-op",
        "outputId": "db84603e-f006-40e8-8f90-65f1a9b829f7"
      },
      "source": [
        "prompts = []\n",
        "responses = []\n",
        "err_lines = []\n",
        "with open('./reddit_pairs.txt') as f:\n",
        "    for line in f:\n",
        "        line = line.strip()\n",
        "        if not line:\n",
        "            continue\n",
        "        line = line.split('\\t')\n",
        "        if len(line)!=2:\n",
        "            err_lines.append(line)\n",
        "        else:\n",
        "            prompts.append(line[0])\n",
        "            responses.append(line[1])\n",
        "print(f\"Failed to parse the following {len(err_lines)} lines: {err_lines}\") \n",
        "print(f\"Sample fialogue pairs: \\n{pprint.pformat(list(zip(prompts[:15], responses)))}\")"
      ],
      "execution_count": 8,
      "outputs": [
        {
          "output_type": "stream",
          "text": [
            "Failed to parse the following 7 lines: [['1602 link karma', '11259 comment karma', 'damn you got almost all your karma here'], ['lol'], ['50$ skin pls'], ['omg his posting how'], ['11', 'inches to be precise :)', 'holy shit your girl has found herself a fuckin unicorn!'], ['( ) no fuk'], ['looks like you post on multiple porn subreddits']]\n",
            "Sample fialogue pairs: \n",
            "[('show', 'me your moves?'),\n",
            " ('haters gonna hate', 'hate'),\n",
            " ('i think he is doing sarcasm.',\n",
            "  'hahaha, you stupid twat, go and have a wank'),\n",
            " ('i can do 38 for void head :)', '39k man cant go for 38k'),\n",
            " ('brb getting hit by a car', 'did your mate, also buy you a computer?'),\n",
            " ('reason ?', 'to pay for bandwidth to troll people online.'),\n",
            " ('*155k notes...*', 'welcome to tumblr'),\n",
            " ('is it just me or is this pitched up?',\n",
            "  'might be to avoid copyright issues.'),\n",
            " ('no chapter this week bud :(', '**cough*'),\n",
            " (\"that's gonna come back for a block in the back\",\n",
            "  \"but it doesn't matter. fuck this game. connor cook playing full potato\"),\n",
            " ('comment was edited.', 'oh, sorry'),\n",
            " ('hmmm, yes, shallow and pedantic.', 'hur.'),\n",
            " ('i was offered a 95% recently..', 'take it'),\n",
            " ('so the glitch was that u died?', 'wat...'),\n",
            " ('nope', 'this is still going')]\n"
          ],
          "name": "stdout"
        }
      ]
    },
    {
      "cell_type": "markdown",
      "metadata": {
        "id": "BwvOMzjlLMZz"
      },
      "source": [
        "## BasicEncoder and Talker"
      ]
    },
    {
      "cell_type": "code",
      "metadata": {
        "id": "UTiTRTs_2i3f"
      },
      "source": [
        "class BasicEncoder:\n",
        "    def encode(self, sentence):\n",
        "        # this is a base class!\n",
        "        raise NotImplementedError\n",
        "\n",
        "    def encode_corpus(self, sentences):\n",
        "        ret = [self.encode(sentence) for sentence in tqdm(sentences)]\n",
        "        return np.vstack(ret)"
      ],
      "execution_count": 9,
      "outputs": []
    },
    {
      "cell_type": "markdown",
      "metadata": {
        "id": "x08LL_eT9u3B"
      },
      "source": [
        "The code below implements a simple baseline: we encode each sentence as a sparse vector which sums word occurrences."
      ]
    },
    {
      "cell_type": "markdown",
      "metadata": {
        "id": "OCmx98vvLVqi"
      },
      "source": [
        "## OneHotEncoder"
      ]
    },
    {
      "cell_type": "code",
      "metadata": {
        "id": "CEmX8nTy4fvg",
        "colab": {
          "base_uri": "https://localhost:8080/"
        },
        "outputId": "55c23d22-4379-4066-9e20-5236459e5459"
      },
      "source": [
        "class OneHotEncoder(BasicEncoder):\n",
        "    def __init__(self, sentences):\n",
        "        self.vectorizer = sklearn.feature_extraction.text.CountVectorizer()\n",
        "        self.vectorizer.fit(sentences)\n",
        "    \n",
        "    def encode(self, sentence):\n",
        "        return self.vectorizer.transform([sentence])[0]\n",
        "\n",
        "    def encode_corpus(self, sentences):\n",
        "        # Override because sklearn already works on batches\n",
        "        encodings = self.vectorizer.transform(sentences)\n",
        "        # Note: this code needs to handl the scipy sparse matrix\n",
        "        # which has subtle differences with numpy ndarrays\n",
        "        norms = np.array((encodings.power(2)).sum(1))**0.5 + (np.exp(-100))\n",
        "        encodings = encodings.multiply(1.0 / norms)\n",
        "        return encodings\n",
        "\n",
        "encoder = OneHotEncoder(prompts)\n",
        "encodings = encoder.encode_corpus(prompts)\n",
        "\n",
        "prompt = \"Ultimate question: Windows or Linux?\"\n",
        "enc = encoder.encode(prompt)\n",
        "\n",
        "# Deal with encodings being sparse matrices. Word2vecs will not have the pecularities\n",
        "scores = (encodings @ enc.T).toarray().ravel()\n",
        "top_idx = scores.argsort()[-10:][::-1]\n",
        "\n",
        "for idx in top_idx:\n",
        "    print(scores[idx], prompts[idx], ':', responses[idx])"
      ],
      "execution_count": 10,
      "outputs": [
        {
          "output_type": "stream",
          "text": [
            "1.0606601717798212 is in windows or in linux? : windows\n",
            "1.0 p or i : yes\n",
            "1.0 1 or 2? : * or 3\n",
            "1.0 ......or 2 : had the same thought!\n",
            "1.0 $ or ? :) : is usually usd\n",
            "1.0 1 or 2? : 2 in the car this morning for me\n",
            "1.0 1 or 3 : thx\n",
            "1.0 question? : *small*\n",
            "1.0 1 or 2? : 2, and lots of it.\n",
            "1.0 windows : wtf where is the program how do i type it in, not enough info i am getting\n"
          ],
          "name": "stdout"
        }
      ]
    },
    {
      "cell_type": "code",
      "metadata": {
        "id": "7nu0JqmPKcm8"
      },
      "source": [
        "# TODO: build a simple dialogue system using these k-neares neighbor matches, \n",
        "# perform a few test conversations"
      ],
      "execution_count": 155,
      "outputs": []
    },
    {
      "cell_type": "code",
      "metadata": {
        "id": "oaWTZIQPeR0I"
      },
      "source": [
        "def answer_prompt(prompt, encoder, encodings, prompts, responses, provide_prompt=False):\n",
        "    enc = encoder.encode(prompt)\n",
        "    scores = (encodings @ enc.T).toarray().ravel()\n",
        "    top_idx = scores.argsort()[-5:]\n",
        "    idx = np.random.choice(top_idx)\n",
        "    if provide_prompt:\n",
        "        return prompts[idx], responses[idx]\n",
        "    else:\n",
        "        return responses[idx]"
      ],
      "execution_count": 160,
      "outputs": []
    },
    {
      "cell_type": "code",
      "metadata": {
        "colab": {
          "base_uri": "https://localhost:8080/"
        },
        "id": "XV4xuARGfGmi",
        "outputId": "154a5993-6ec6-4a65-d594-b88caf4c5571"
      },
      "source": [
        "answer_prompt('Ultimate question: Windows or Linux', encoder, encodings, prompts, responses, provide_prompt=True)"
      ],
      "execution_count": 161,
      "outputs": [
        {
          "output_type": "execute_result",
          "data": {
            "text/plain": [
              "('p or i', 'yes')"
            ]
          },
          "metadata": {
            "tags": []
          },
          "execution_count": 161
        }
      ]
    },
    {
      "cell_type": "code",
      "metadata": {
        "colab": {
          "base_uri": "https://localhost:8080/"
        },
        "id": "9OgaARxbf01X",
        "outputId": "314536c5-22cd-41f8-dbec-c00a58c1307c"
      },
      "source": [
        "my_prompts = [\"What's your favourite meal?\",\n",
        "              \"Where are you from?\",\n",
        "              \"How many legs do you have?\",\n",
        "              \"Do you like pizza?\"]\n",
        "\n",
        "for my_prompt in my_prompts:\n",
        "    print(answer_prompt(my_prompt, encoder, encodings, prompts, responses, provide_prompt=True))"
      ],
      "execution_count": 165,
      "outputs": [
        {
          "output_type": "stream",
          "text": [
            "(\"what's your question?\", 'price check for binding of isaac: rebirth')\n",
            "('where are you from?', 'finland')\n",
            "('how many peaches do you have', 'millions')\n",
            "('(   ) do you?', ';] grab a goat.')\n"
          ],
          "name": "stdout"
        }
      ]
    },
    {
      "cell_type": "markdown",
      "metadata": {
        "id": "nsKlkk7eGBEO"
      },
      "source": [
        "## Talker"
      ]
    },
    {
      "cell_type": "code",
      "metadata": {
        "id": "SfN3-ql5s_C8"
      },
      "source": [
        "class Talker():\n",
        "    def __init__(self, encoder, prompts, responses, encodings=None, normalise=True):\n",
        "        self.encoder = encoder\n",
        "        if encodings is not None:\n",
        "            self.encodings = encodings\n",
        "        else:\n",
        "            self.encodings = encoder.encode_corpus(prompts)\n",
        "        if normalise:\n",
        "            self.encodings = (self.encodings / (np.sqrt(np.sum(self.encodings**2, axis=1)).reshape(-1, 1) + np.exp(-100)))\n",
        "        self.prompts = prompts\n",
        "        self.responses = responses\n",
        "        self.normalise = normalise\n",
        "        self.context = np.zeros(self.encodings.shape[1])\n",
        "\n",
        "\n",
        "    def talk(self, **kwargs):\n",
        "        self.context = np.zeros(self.encodings.shape[1])\n",
        "        prompt = input('> ')\n",
        "        while(prompt != ''):\n",
        "            print(self.answer_prompt(prompt, **kwargs))\n",
        "            prompt = input('> ')\n",
        "\n",
        "\n",
        "    def answer_prompt(self, prompt, dist='euclid', best_answers = 5,\n",
        "                       provide_prompt=False, use_context=False, context_decay = 0.5):\n",
        "        if dist == 'cosine' and not self.normalise:\n",
        "            raise ValueError(\"Can't use cosine similarity without normalisation\")\n",
        "\n",
        "        enc = self.encoder.encode(prompt)\n",
        "\n",
        "        if use_context:\n",
        "            self.context *= (1 - context_decay)\n",
        "            enc += self.context\n",
        "\n",
        "        if self.normalise:\n",
        "            enc = enc / (np.sqrt(np.sum(enc**2)) + np.exp(-100))\n",
        "\n",
        "        scores = None\n",
        "        if dist == 'euclid':\n",
        "            scores = -((self.encodings - enc)**2).sum(axis=1)\n",
        "        elif dist == 'cosine':\n",
        "            scores = enc.dot(self.encodings.T)\n",
        "        else:\n",
        "            raise ValueError(\"Unknown distance\")\n",
        "\n",
        "        top_idx = scores.argsort()[-best_answers:]\n",
        "        idx = np.random.choice(top_idx)\n",
        "\n",
        "        if use_context:\n",
        "            self.context = enc + self.encodings[idx]\n",
        "\n",
        "        if provide_prompt:\n",
        "            return self.prompts[idx], self.responses[idx]\n",
        "        else:\n",
        "            return self.responses[idx]\n"
      ],
      "execution_count": 11,
      "outputs": []
    },
    {
      "cell_type": "markdown",
      "metadata": {
        "id": "n5klzbG5LcOs"
      },
      "source": [
        "## Word2VecEncoder"
      ]
    },
    {
      "cell_type": "code",
      "metadata": {
        "id": "wsYD6Di7pC1L"
      },
      "source": [
        "# Word embeddings assign a vector to each word. To use them we need three things:\n",
        "# 1. the embeddings themselves\n",
        "# 2. a dictionary from words to their embedding ids\n",
        "# 3. an inverse dictionary\n",
        "\n",
        "Embedding = collections.namedtuple(\n",
        "    'Embedding',\n",
        "    ['vec', 'word2idx', 'idx2word'])"
      ],
      "execution_count": 167,
      "outputs": []
    },
    {
      "cell_type": "code",
      "metadata": {
        "id": "qrkeH78PpC1P"
      },
      "source": [
        "def load_vecs_npy(base_path):\n",
        "    \"\"\"Load small embeddings in .npy format.\"\"\"\n",
        "    vec = np.load(base_path + '.npy')\n",
        "    idx2word = [l.strip() for l in codecs.open(\n",
        "                      base_path + '.txt', 'r', 'utf-8')]\n",
        "    word2idx = {w:i for (i,w) in enumerate(idx2word)}\n",
        "    return Embedding(vec, word2idx, idx2word)"
      ],
      "execution_count": 168,
      "outputs": []
    },
    {
      "cell_type": "code",
      "metadata": {
        "id": "0RtZwTyFpC1P"
      },
      "source": [
        "# Load top 200k word embeddings: Word2vec and FastText\n",
        "word2vec = load_vecs_npy('word2vec/word2vec_GoogleNews_200k')\n",
        "ftext = load_vecs_npy('word2vec/fasttext_wikien_200k')"
      ],
      "execution_count": 169,
      "outputs": []
    },
    {
      "cell_type": "code",
      "metadata": {
        "id": "aOYvQnpBwvvG",
        "colab": {
          "base_uri": "https://localhost:8080/",
          "height": 67,
          "referenced_widgets": [
            "385ce259b80c412593d592bbea40e4cf",
            "78125e230dd840abb3bb469e5abc76e1",
            "4d1f151dd77e41a2a7cc1eed0e7bb866",
            "a955cfab460e4726a27bc261ac6110b9",
            "ee30a049e69d40b69ef66a699844cbf0",
            "c889755c278a4debac5b6c1afc809eab",
            "319f30c0b68b4a0f89b2ee256198cac3",
            "b204fa1e0d7b4bb4bc4d19fd003a6d59"
          ]
        },
        "outputId": "5e02c6c0-ba09-4075-e484-18d0bff4eeca"
      },
      "source": [
        "class Word2VecEncoder(BasicEncoder):\n",
        "    def __init__(self, vecs):\n",
        "        self._vecs = vecs\n",
        "\n",
        "    def _get_vec(self, word):\n",
        "        # Find the vector for word, or use a suitbale out-of-vocabulary vector\n",
        "        # For extra points try backing off to a lowercased dictionary\n",
        "        idx = self._vecs.word2idx.get(word, None)\n",
        "        if idx is None:\n",
        "            return 0\n",
        "        return self._vecs.vec[idx]\n",
        "\n",
        "    def encode(self, sentence):\n",
        "        ret = np.zeros(self._vecs.vec.shape[1])\n",
        "        for token in nltk.tokenize.word_tokenize(sentence):\n",
        "            word_vec = self._get_vec(token)\n",
        "            ret += word_vec\n",
        "        ret /= (np.linalg.norm(ret) + 1e-5)\n",
        "        return ret\n",
        "\n",
        "encoder = Word2VecEncoder(word2vec)\n",
        "encodings = encoder.encode_corpus(prompts)"
      ],
      "execution_count": 177,
      "outputs": [
        {
          "output_type": "display_data",
          "data": {
            "application/vnd.jupyter.widget-view+json": {
              "model_id": "385ce259b80c412593d592bbea40e4cf",
              "version_minor": 0,
              "version_major": 2
            },
            "text/plain": [
              "HBox(children=(FloatProgress(value=0.0, max=72807.0), HTML(value='')))"
            ]
          },
          "metadata": {
            "tags": []
          }
        },
        {
          "output_type": "stream",
          "text": [
            "\n"
          ],
          "name": "stdout"
        }
      ]
    },
    {
      "cell_type": "code",
      "metadata": {
        "id": "Muf4IEkWHHXN"
      },
      "source": [
        "talker = Talker(encoder, prompts, responses, encodings=encodings)"
      ],
      "execution_count": 216,
      "outputs": []
    },
    {
      "cell_type": "code",
      "metadata": {
        "colab": {
          "base_uri": "https://localhost:8080/"
        },
        "id": "0sha6CP3H55I",
        "outputId": "26c3be8a-257f-4137-951c-d8d8dc247d78"
      },
      "source": [
        "talker.answer_prompt(\"How's it going?\", provide_prompt=True)"
      ],
      "execution_count": 200,
      "outputs": [
        {
          "output_type": "execute_result",
          "data": {
            "text/plain": [
              "('how would you know', 'im a psychologist')"
            ]
          },
          "metadata": {
            "tags": []
          },
          "execution_count": 200
        }
      ]
    },
    {
      "cell_type": "code",
      "metadata": {
        "colab": {
          "base_uri": "https://localhost:8080/",
          "height": 35
        },
        "id": "eJhbPlx_qkil",
        "outputId": "6ee1d04b-d2c5-456c-8f56-b322cd181c03"
      },
      "source": [
        "talker.answer_prompt('Ultimate question: Windows or Linux')"
      ],
      "execution_count": 201,
      "outputs": [
        {
          "output_type": "execute_result",
          "data": {
            "application/vnd.google.colaboratory.intrinsic+json": {
              "type": "string"
            },
            "text/plain": [
              "'doing that right now :)'"
            ]
          },
          "metadata": {
            "tags": []
          },
          "execution_count": 201
        }
      ]
    },
    {
      "cell_type": "markdown",
      "metadata": {
        "id": "ktBiByq2931S"
      },
      "source": [
        "### Distance and normalisation"
      ]
    },
    {
      "cell_type": "code",
      "metadata": {
        "id": "EM0qO4qt931X"
      },
      "source": [
        "my_prompts = [\"What's your favorite meal?\",\n",
        "              \"Where are you from?\",\n",
        "              \"How many legs do you have?\",\n",
        "              \"Do you like pizza?\"]"
      ],
      "execution_count": 217,
      "outputs": []
    },
    {
      "cell_type": "code",
      "metadata": {
        "colab": {
          "base_uri": "https://localhost:8080/"
        },
        "id": "ZlsE54al931Y",
        "outputId": "7cf5476b-001c-4038-9510-aa1f549eb806"
      },
      "source": [
        "for my_prompt in my_prompts:\n",
        "    print(talker.answer_prompt(my_prompt, provide_prompt=True, best_answers=1))"
      ],
      "execution_count": 218,
      "outputs": [
        {
          "output_type": "stream",
          "text": [
            "(\"what's your favorite dessert\", 'ice cream or like cherry pie')\n",
            "('where are you from?', 'from romania')\n",
            "('how many do you have?', \"4, but they need to be gifted so you can't have it already\")\n",
            "(\"do you still want pizza because i'll buy you pizza\", \"pm'd you!\")\n"
          ],
          "name": "stdout"
        }
      ]
    },
    {
      "cell_type": "code",
      "metadata": {
        "colab": {
          "base_uri": "https://localhost:8080/"
        },
        "id": "UVZ6-31r931Z",
        "outputId": "74aabe4a-6bcc-428c-856c-362d551a47f2"
      },
      "source": [
        "for my_prompt in my_prompts:\n",
        "    print(talker.answer_prompt(my_prompt, provide_prompt=True, best_answers=1, dist='cosine'))"
      ],
      "execution_count": 219,
      "outputs": [
        {
          "output_type": "stream",
          "text": [
            "(\"what's your favorite dessert\", 'ice cream or like cherry pie')\n",
            "('where are you from?', 'from romania')\n",
            "('how many do you have?', \"4, but they need to be gifted so you can't have it already\")\n",
            "(\"do you still want pizza because i'll buy you pizza\", \"pm'd you!\")\n"
          ],
          "name": "stdout"
        }
      ]
    },
    {
      "cell_type": "code",
      "metadata": {
        "colab": {
          "base_uri": "https://localhost:8080/"
        },
        "id": "OI7MIkgr931Z",
        "outputId": "1491c2fa-258f-4872-aa65-ab46a7ec28d3"
      },
      "source": [
        "talker = Talker(encoder, prompts, responses, encodings=encodings, normalise=False)\n",
        "for my_prompt in my_prompts:\n",
        "    print(talker.answer_prompt(my_prompt, provide_prompt=True, best_answers=1))"
      ],
      "execution_count": 220,
      "outputs": [
        {
          "output_type": "stream",
          "text": [
            "(\"what's your favorite dessert\", 'ice cream or like cherry pie')\n",
            "('where are you from?', 'from romania')\n",
            "('how many do you have?', \"4, but they need to be gifted so you can't have it already\")\n",
            "(\"do you still want pizza because i'll buy you pizza\", \"pm'd you!\")\n"
          ],
          "name": "stdout"
        }
      ]
    },
    {
      "cell_type": "markdown",
      "metadata": {
        "id": "cbHz4gdY94k_"
      },
      "source": [
        "### Sample conversations"
      ]
    },
    {
      "cell_type": "code",
      "metadata": {
        "colab": {
          "base_uri": "https://localhost:8080/"
        },
        "id": "H25_GtEJGJbf",
        "outputId": "71b418f2-6196-42d2-b879-a79ef1d6b6c3"
      },
      "source": [
        "talker.talk()"
      ],
      "execution_count": null,
      "outputs": [
        {
          "output_type": "stream",
          "text": [
            "What's your favorite meal?\n",
            "askwomen or gonewild to be honest\n",
            "These are subreddits\n",
            "can confirm\n",
            "Fair enough\n",
            "it is a repost though\n",
            "General reposti\n",
            "yeah,he fits the profile 100%\n",
            "\n"
          ],
          "name": "stdout"
        }
      ]
    },
    {
      "cell_type": "code",
      "metadata": {
        "colab": {
          "base_uri": "https://localhost:8080/"
        },
        "id": "CQeE7Rds85ZB",
        "outputId": "4ec75b79-fa21-4541-f4d8-11bb279c0743"
      },
      "source": [
        "talker.talk()"
      ],
      "execution_count": 207,
      "outputs": [
        {
          "output_type": "stream",
          "text": [
            "> What's your favorite meal?\n",
            "blue\n",
            "> Pretty abstract\n",
            "oh man i know right!?!?!\n",
            "> You're really excited about this\n",
            "im not mad im disappointed\n",
            "> What an emotional roller coaster\n",
            "exactly like that\n",
            "> \n"
          ],
          "name": "stdout"
        }
      ]
    },
    {
      "cell_type": "markdown",
      "metadata": {
        "id": "3snYTmuHcCmo"
      },
      "source": [
        "## BERT"
      ]
    },
    {
      "cell_type": "code",
      "metadata": {
        "colab": {
          "base_uri": "https://localhost:8080/"
        },
        "id": "aVLFAcELrb1B",
        "outputId": "a011deef-2bf9-4126-fb24-bbac520ea69f"
      },
      "source": [
        "class BertEncoder(BasicEncoder):\n",
        "    def __init__(self):\n",
        "        self._model = BertModel.from_pretrained('bert-base-uncased').cuda()\n",
        "        self._model.eval()\n",
        "        self._tokenizer = BertTokenizer.from_pretrained('bert-base-uncased')\n",
        "\n",
        "    def encode(self, sentence):\n",
        "        tokens = self._tokenizer(sentence)['input_ids']\n",
        "        tokens = torch.tensor([tokens]).cuda()\n",
        "\n",
        "        with torch.no_grad():\n",
        "            last_layer = self._model(tokens)[0][0]\n",
        "\n",
        "        return np.array(last_layer.mean(dim=0).cpu())\n",
        "\n",
        "    # Batch computing - how to deal with padding? Always pad to the longest sentence?\n",
        "\n",
        "    # def encode_corpus(self, sentences):\n",
        "    #     # Side effect of padding - we differentiate between long and short sentences\n",
        "    #     tokens = self._tokenizer(sentences, padding=True)['input_ids']\n",
        "    #     tokens = torch.tensor(tokens)\n",
        "\n",
        "    #     with torch.no_grad():\n",
        "    #         last_layers = self._model(tokens)[0]\n",
        "\n",
        "    #     return last_layers.mean(dim=1)\n",
        "\n",
        "encoder = BertEncoder()"
      ],
      "execution_count": 12,
      "outputs": [
        {
          "output_type": "stream",
          "text": [
            "Some weights of the model checkpoint at bert-base-uncased were not used when initializing BertModel: ['cls.seq_relationship.bias', 'cls.predictions.transform.LayerNorm.bias', 'cls.predictions.decoder.weight', 'cls.predictions.transform.LayerNorm.weight', 'cls.seq_relationship.weight', 'cls.predictions.transform.dense.weight', 'cls.predictions.transform.dense.bias', 'cls.predictions.bias']\n",
            "- This IS expected if you are initializing BertModel from the checkpoint of a model trained on another task or with another architecture (e.g. initializing a BertForSequenceClassification model from a BertForPreTraining model).\n",
            "- This IS NOT expected if you are initializing BertModel from the checkpoint of a model that you expect to be exactly identical (initializing a BertForSequenceClassification model from a BertForSequenceClassification model).\n"
          ],
          "name": "stderr"
        }
      ]
    },
    {
      "cell_type": "code",
      "metadata": {
        "colab": {
          "base_uri": "https://localhost:8080/",
          "height": 67,
          "referenced_widgets": [
            "3743e3bbbb164f339a377728a4ed9d70",
            "ea4aa119a2024de297ed63db099718e7",
            "fdddde3735e54c71a1d77fb55e303344",
            "2eb3a7befa0045d49fedd7eb614d8971",
            "f513251622514d48b36afecdd122b28d",
            "3c66a8b2970b48de936a38c9ab6c5265",
            "2b5dcccbaaa441969a4861f22bb6b1c7",
            "18a05da7c01d4f979147f07aeee218b5"
          ]
        },
        "id": "k7X1-a5dubvq",
        "outputId": "a8e9725e-4ced-40f0-8de6-ffcb98975e22"
      },
      "source": [
        "encodings = encoder.encode_corpus(prompts)"
      ],
      "execution_count": 13,
      "outputs": [
        {
          "output_type": "display_data",
          "data": {
            "application/vnd.jupyter.widget-view+json": {
              "model_id": "3743e3bbbb164f339a377728a4ed9d70",
              "version_minor": 0,
              "version_major": 2
            },
            "text/plain": [
              "HBox(children=(FloatProgress(value=0.0, max=72807.0), HTML(value='')))"
            ]
          },
          "metadata": {
            "tags": []
          }
        },
        {
          "output_type": "stream",
          "text": [
            "\n"
          ],
          "name": "stdout"
        }
      ]
    },
    {
      "cell_type": "code",
      "metadata": {
        "id": "y08TISPu4sgJ"
      },
      "source": [
        "talker = Talker(encoder, prompts, responses, encodings=encodings)"
      ],
      "execution_count": 14,
      "outputs": []
    },
    {
      "cell_type": "code",
      "metadata": {
        "colab": {
          "base_uri": "https://localhost:8080/",
          "height": 35
        },
        "id": "BbhjnPBI7Cdt",
        "outputId": "b382dad5-1e80-4bc7-9a90-2efb5220a4b5"
      },
      "source": [
        "talker.answer_prompt('Ultimate question: Windows or Linux')"
      ],
      "execution_count": 15,
      "outputs": [
        {
          "output_type": "execute_result",
          "data": {
            "application/vnd.google.colaboratory.intrinsic+json": {
              "type": "string"
            },
            "text/plain": [
              "'no ubuntu is better'"
            ]
          },
          "metadata": {
            "tags": []
          },
          "execution_count": 15
        }
      ]
    },
    {
      "cell_type": "markdown",
      "metadata": {
        "id": "VP29LMAq5279"
      },
      "source": [
        "### Distance and normalisation"
      ]
    },
    {
      "cell_type": "code",
      "metadata": {
        "id": "S-o1PYog7Cdw"
      },
      "source": [
        "my_prompts = [\"What's your favourite meal?\",\n",
        "              \"Where are you from?\",\n",
        "              \"How many legs do you have?\",\n",
        "              \"Do you like pizza?\"]"
      ],
      "execution_count": 18,
      "outputs": []
    },
    {
      "cell_type": "code",
      "metadata": {
        "colab": {
          "base_uri": "https://localhost:8080/"
        },
        "id": "SadPpuKa5JRy",
        "outputId": "af59d088-6c2f-483e-852f-44719b1abd2b"
      },
      "source": [
        "for my_prompt in my_prompts:\n",
        "    print(talker.answer_prompt(my_prompt, provide_prompt=True, best_answers=1))"
      ],
      "execution_count": 19,
      "outputs": [
        {
          "output_type": "stream",
          "text": [
            "(\"what's your favorite drink?\", 'oops')\n",
            "('where are you from ?', 'americatheland oftheannoyance')\n",
            "('how much agility do you have?', 'damn!! you beat me!!')\n",
            "('do you like cheese', 'i do i do')\n"
          ],
          "name": "stdout"
        }
      ]
    },
    {
      "cell_type": "code",
      "metadata": {
        "colab": {
          "base_uri": "https://localhost:8080/"
        },
        "id": "4s-0Vogu5VcO",
        "outputId": "36dbfd88-c339-4fa8-9b02-1cf5d255b5e7"
      },
      "source": [
        "for my_prompt in my_prompts:\n",
        "    print(talker.answer_prompt(my_prompt, provide_prompt=True, best_answers=1, dist='cosine'))"
      ],
      "execution_count": 20,
      "outputs": [
        {
          "output_type": "stream",
          "text": [
            "(\"what's your favorite drink?\", 'oops')\n",
            "('where are you from ?', 'americatheland oftheannoyance')\n",
            "('how much agility do you have?', 'damn!! you beat me!!')\n",
            "('do you like cheese', 'i do i do')\n"
          ],
          "name": "stdout"
        }
      ]
    },
    {
      "cell_type": "code",
      "metadata": {
        "colab": {
          "base_uri": "https://localhost:8080/"
        },
        "id": "DuV7uWKW5qOK",
        "outputId": "58574941-d2ad-4d19-a932-399351919ea5"
      },
      "source": [
        "talker = Talker(encoder, prompts, responses, encodings=encodings, normalise=False)\n",
        "for my_prompt in my_prompts:\n",
        "    print(talker.answer_prompt(my_prompt, provide_prompt=True, best_answers=1))"
      ],
      "execution_count": 21,
      "outputs": [
        {
          "output_type": "stream",
          "text": [
            "(\"what's your favorite drink?\", 'oops')\n",
            "('where are you from?', 'from romania')\n",
            "('how much agility do you have?', 'damn!! you beat me!!')\n",
            "('do you like cheese', 'i do i do')\n"
          ],
          "name": "stdout"
        }
      ]
    },
    {
      "cell_type": "markdown",
      "metadata": {
        "id": "ILCK8-b959u3"
      },
      "source": [
        "### Some sample converstations"
      ]
    },
    {
      "cell_type": "code",
      "metadata": {
        "id": "Rs_MHYrFwN2x"
      },
      "source": [
        "talker = Talker(encoder, prompts, responses, encodings=encodings)"
      ],
      "execution_count": 94,
      "outputs": []
    },
    {
      "cell_type": "code",
      "metadata": {
        "colab": {
          "base_uri": "https://localhost:8080/"
        },
        "id": "8ZwuW3mE7Cdw",
        "outputId": "f2540afe-55ee-45aa-b969-73ef1aa7d36e"
      },
      "source": [
        "talker.talk()"
      ],
      "execution_count": 61,
      "outputs": [
        {
          "output_type": "stream",
          "text": [
            "What's up?\n",
            "just being glad this game isn't tomorrow night!\n",
            "> what game?\n",
            "final fantasy x hd\n",
            "> is it the release?\n",
            "nah like a 90~ ish fade\n",
            "> So what is tomorrow?\n",
            "monday\n",
            "> Smartass\n",
            "so basically you\n",
            "> \n"
          ],
          "name": "stdout"
        }
      ]
    },
    {
      "cell_type": "code",
      "metadata": {
        "colab": {
          "base_uri": "https://localhost:8080/"
        },
        "id": "1CEP_cI58Isy",
        "outputId": "60aee8ca-c2c6-422f-cdb8-0286739c111c"
      },
      "source": [
        "talker.talk()"
      ],
      "execution_count": 62,
      "outputs": [
        {
          "output_type": "stream",
          "text": [
            "Got some change?\n",
            "have it 5 now\n",
            "> 5 what?\n",
            "keys :))\n",
            "> what do you use those keys for?\n",
            "\"74% of statistics are made up\"\n",
            "> you're talking rubbish\n",
            "you called me a comedian right? am i me me funny?\n",
            "> no, not really\n",
            "its a night with a purple handle, whats not to like\n",
            "> \n"
          ],
          "name": "stdout"
        }
      ]
    },
    {
      "cell_type": "markdown",
      "metadata": {
        "id": "lQ4KYCgH3U4x"
      },
      "source": [
        "### Using context"
      ]
    },
    {
      "cell_type": "code",
      "metadata": {
        "colab": {
          "base_uri": "https://localhost:8080/"
        },
        "id": "Yv2rTm2UzURI",
        "outputId": "84730e48-a9ec-4a6b-af18-513ea6936608"
      },
      "source": [
        "talker.talk(best_answers=1)"
      ],
      "execution_count": null,
      "outputs": [
        {
          "output_type": "stream",
          "text": [
            "> What's up?\n",
            "right now? watching some movies and eating popcorn. how about you\n",
            "> doin pretty good\n",
            "i get crits all day but i just think its a low tier weapon...\n",
            "> In a movie? How come?\n",
            "it felt too short, not detailed enough\n",
            "> the movie or the weapon?\n",
            "the chunk of brain matter the bird is trying to get\n",
            "> forget it\n",
            "what?\n",
            "> \n"
          ],
          "name": "stdout"
        }
      ]
    },
    {
      "cell_type": "code",
      "metadata": {
        "colab": {
          "base_uri": "https://localhost:8080/"
        },
        "id": "vIEkjL-Ay7Qo",
        "outputId": "cddafc79-5e7f-4eb6-80ac-7dc503daa8c8"
      },
      "source": [
        "talker.talk(best_answers=1, use_context=True, context_decay=0)"
      ],
      "execution_count": null,
      "outputs": [
        {
          "output_type": "stream",
          "text": [
            "> What's up?\n",
            "right now? watching some movies and eating popcorn. how about you\n",
            "> doin pretty good\n",
            "i get crits all day but i just think its a low tier weapon...\n",
            "> In a movie? How come?\n",
            "it felt too short, not detailed enough\n",
            "> the movie or the weapon?\n",
            "the chunk of brain matter the bird is trying to get\n",
            "> forget it\n",
            "what?\n",
            "> \n"
          ],
          "name": "stdout"
        }
      ]
    },
    {
      "cell_type": "code",
      "metadata": {
        "colab": {
          "base_uri": "https://localhost:8080/"
        },
        "id": "asHAob3K3IeB",
        "outputId": "b5313a77-d694-4406-b417-c299e89d7e8c"
      },
      "source": [
        "talker.talk(best_answers=1, use_context=True, context_decay=0.5)"
      ],
      "execution_count": null,
      "outputs": [
        {
          "output_type": "stream",
          "text": [
            "> What's up?\n",
            "right now? watching some movies and eating popcorn. how about you\n",
            "> doin pretty good\n",
            "i get crits all day but i just think its a low tier weapon...\n",
            "> In a movie? How come?\n",
            "it felt too short, not detailed enough\n",
            "> the movie or the weapon?\n",
            "the chunk of brain matter the bird is trying to get\n",
            "> forget it\n",
            "stop what?\n",
            "> \n"
          ],
          "name": "stdout"
        }
      ]
    },
    {
      "cell_type": "code",
      "metadata": {
        "colab": {
          "base_uri": "https://localhost:8080/"
        },
        "id": "d8lXKB3UBOc_",
        "outputId": "8f7c94c1-35ba-457b-c032-998aa0949d3d"
      },
      "source": [
        "talker = Talker(encoder, prompts, responses, encodings=encodings, normalise=False)\n",
        "talker.talk(best_answers=1, use_context=True, context_decay=0.5)"
      ],
      "execution_count": 22,
      "outputs": [
        {
          "output_type": "stream",
          "text": [
            "> What's up?\n",
            "right now? watching some movies and eating popcorn. how about you\n",
            "> doin pretty good\n",
            "right now? watching some movies and eating popcorn. how about you\n",
            "> cool\n",
            "right now? watching some movies and eating popcorn. how about you\n",
            "> \n"
          ],
          "name": "stdout"
        }
      ]
    },
    {
      "cell_type": "code",
      "metadata": {
        "colab": {
          "base_uri": "https://localhost:8080/"
        },
        "id": "uKgpXKz4GLa1",
        "outputId": "8034ffa0-274e-41d2-e82c-f2bd4acdfd93"
      },
      "source": [
        "talker.talk(best_answers=1, use_context=True, context_decay=0.9)"
      ],
      "execution_count": 24,
      "outputs": [
        {
          "output_type": "stream",
          "text": [
            "> What's up?\n",
            "right now? watching some movies and eating popcorn. how about you\n",
            "> doin pretty good\n",
            "i get crits all day but i just think its a low tier weapon...\n",
            "> \n"
          ],
          "name": "stdout"
        }
      ]
    }
  ]
}