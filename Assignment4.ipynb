{
  "nbformat": 4,
  "nbformat_minor": 0,
  "metadata": {
    "colab": {
      "name": "Assignment4.ipynb",
      "provenance": [],
      "collapsed_sections": [],
      "toc_visible": true,
      "machine_shape": "hm",
      "include_colab_link": true
    },
    "kernelspec": {
      "name": "python3",
      "display_name": "Python 3"
    }
  },
  "cells": [
    {
      "cell_type": "markdown",
      "metadata": {
        "id": "view-in-github",
        "colab_type": "text"
      },
      "source": [
        "<a href=\"https://colab.research.google.com/github/AdrianUrbanski/DL/blob/main/Assignment4.ipynb\" target=\"_parent\"><img src=\"https://colab.research.google.com/assets/colab-badge.svg\" alt=\"Open In Colab\"/></a>"
      ]
    },
    {
      "cell_type": "markdown",
      "metadata": {
        "id": "_mUxp5svuqQL"
      },
      "source": [
        "# Assignment 4\n",
        "\n",
        "**Submission deadlines:**\n",
        "- get at least 4 points by Tuesday, 11.05.2021\n",
        "- remaining points: last lab session before or on Tuesday, 18.05.2021\n",
        "\n",
        "**Points:** Aim to get 12 out of 15+ possible points\n",
        "\n",
        "\n",
        "## Submission instructions\n",
        "The class is held remotely. To submit your solutions please show the notebook over the video call. Make sure you know all the questions and answers, and that the notebook contains results (before presentation do `Runtime -> Restart and run all`)\n",
        "\n",
        "We provide starter code, however, you are not required to use it as long as you properly solve the tasks.\n",
        "\n",
        "As always, please submit corrections using GitHub's Pull Requests to https://github.com/janchorowski/dl_uwr."
      ]
    },
    {
      "cell_type": "markdown",
      "metadata": {
        "id": "cyuBQmWIuqQW"
      },
      "source": [
        "# Problem 1: Word Embeddings [4p]\n",
        "\n",
        "Many natural language processing tasks requrie continuous representations for words.\n",
        "[Word embeddings](https://en.wikipedia.org/wiki/Word_embedding) are mappings from a discrete\n",
        "space to real-valued vectors. Word embeddings might be trained with neural networks,\n",
        "either as a by-product of other tasks (e.g., language modeling, neural machine translation),\n",
        "or with networks designed specifically for the word embedding task.\n",
        "\n",
        "Two problems associated with training neural word embeddings are related to the speed of training:\n",
        "(a) large volume of data, on which the network has to be trained on, and (b) time required to compute\n",
        "output probability distribution over large vocabularities.\n",
        "\n",
        "One of the most popular architectures for training word embeddings is called Word2vec [[1]()], [[2]()]. It builds on the idea that semantics of a word can be defined through the contexts,\n",
        "in which the word appears in the sentence.\n",
        "\n",
        "Let $w_1, w_2,\\ldots,w_N$ be an $N$-word sentence in a natural language.\n",
        "We define a context of a word $w_l$ a list of $n$ preceeding and following words\n",
        "$w_{l-n},\\ldots,w_{l-1},w_{l+1},\\dots,w_{l+n}$.\n",
        "\n",
        "The underlying assumption is that similar words appear in similar contexts.\n",
        "For instance, words *Poland* and *Monaco* are similar in a sense, that they are singular nouns\n",
        "describing abstract concepts of existing, european countries.\n",
        "We can convince ourselves by looking at exceprts from Wikipedia articles\n",
        "on Poland and Monaco:\n",
        "\n",
        "* Despite **Monaco's independence** and separate foreign policy\n",
        "* aimed to preserve **Poland's independence** and the szlachta's\n",
        "\n",
        "* **Monaco joined the** Council of Europe in 2004\n",
        "* **Poland joined the** Schengen Area in 2007\n",
        "\n",
        "* nearly one-fifth **of Poland's population** – half of them\n",
        "* Christians comprise a total of 83.2% **of Monaco's population**.\n",
        "\n",
        "### Tasks\n",
        "You will use word vectors pre-computed on a large dataset.\n",
        "1. **[1p]** It has been observed, that word embeddings allow to perform semantic arithmetic where, for instance\n",
        "\n",
        "    **king** - **man** + **woman** ~= **queen**\n",
        "\n",
        "    This *analogy* task is often used as a quality measure of word embeddings. Load word embeddings and compute\n",
        "    their analogy score on a dataset of analogous pairs, expressed as an accuracy of accuracy of predicting a pair\n",
        "    item (**queen** in the example above). Specifically, compare `FastText` and `Word2vec` word embeddings.\n",
        "    \n",
        "2. **[1p]** Word embedding capture approximate semantics. Under an assumption that words of similar semantics\n",
        "    exist in different languages, a mapping $W: \\mathbb{R}^{300}\\mapsto\\mathbb{R}^{300}$ might be constructed that\n",
        "    translates word embeddings between languages. It has been shown that such ortonormal mappings allow to express\n",
        "    approximate, bilingual dictionaries. In addition, non-linear mappings do not offer additional benefits.\n",
        "\n",
        "    Given a simple English-Polish dictionary of word pairs (sourced from Wikitionary)\n",
        "    find an orthonormal mapping $W$ between English and Polish `FastText`\n",
        "    word embeddings using Procrustes analysis.\n",
        "\n",
        "3. **[1p]** Word embeddings can often be nicely visualized.\n",
        "    Make a 2-D `PCA` plot of word embeddings for countries and their capital cities\n",
        "    for `FastText` or `Word2vec`. Connect each country with its capital city with a line segment.\n",
        "    Can you see any regularities?\n",
        "    \n",
        "4. **[1p]** Plot 400 roughly most frequent words' embeddings (either `FastText` or `Word2vec`) in 2-D with `PCA`.\n",
        "    Skip stop words, punctuations, artifact words, etc. You can be imprecise and use heuristics\n",
        "    (e.g., select words than are at lest 3 charactes long).\n",
        "    Can you see any regularities? Another method of making meaningful visualizations is `t-SNE`.\n",
        "    \n",
        "    Make another 2-D visualization, this time using `t-SNE`. Visualizations with `t-SNE` are obtained\n",
        "    with gradient descent. Try to tweak optimization parameters to get lower optimization error,\n",
        "    than the one with default parameters.\n",
        "    Can you see any regularities this time?"
      ]
    },
    {
      "cell_type": "markdown",
      "metadata": {
        "id": "g5PkZy3FuqRr"
      },
      "source": [
        "# Problem 2: kNN Talker [11p+]\n",
        "\n",
        "In this exercise you will build a simple chatbot that uses distributed representations of words and sentences to perform a nearest neighbor selection of responses.\n",
        "\n",
        "We have collected two sets of data:\n",
        "- `./reddit_pairs.txt` of excerpts of [Reddit](https://www.reddit.com/) conversations,\n",
        "- `./hackernews_pairs.txt` of excertps from [Hackernews](https://news.ycombinator.com/).\n",
        "\n",
        "The two corpuses are formatted as `tab`-separated pairs of utterances: a `prompt` and a `response`. Successive lines belong to different conversations.\n",
        "\n",
        "The main idea of the chatbot is to build a representation of the user `input` and of all `prompts` from the corpus. Then select the best (or randomly one of the top few) matches and print the associated `response`.\n",
        "\n",
        "The key to get the bot working is to create good sentence representations. We will try:\n",
        "- averaging word embeddings\n",
        "- using sentence models such as BERT.\n",
        "\n",
        "### Warning:\n",
        "The Reddit corpus may contain abusive language, it was not heavily cleaned.\n",
        "\n",
        "### Tasks\n",
        "The code below is a starting point, but you can develop you own. The following list suggests some actions to try, along with the points that reflect our subjective hardness. The exercise is worth 6 regular points (i.e. the report, word embedding-based model and BERT-based model), anything on top of it will be counted as a bonus.\n",
        "\n",
        "1. [2p] Type in a Markdown cell a report of your actions, what did you try, why, what was the result. Show exemplary conversations (they must be probable under your model). Cherry-pick 3 nice dialogues.\n",
        "2. [2p] Represent sentences by averaging their word vectors. Properly handle tokenization (you can use regular expressions or e.g. `nltk` library). Describe how you handle lower and upper cased words. Try a few nearest neighbor selection methods (such as euclidean or cosine distance). See how embedding normalization affects the results (you can normalize individual word vectors, full sentence vectors etc.).\n",
        "3. [2p] Use the [transformers](https://huggingface.co/transformers) package to load a pretrained BERT model. Use it to represent sentences by e.g. averaging the activations in the last layer.\n",
        "4. [1p] Incoportate context: keep a running average of past conversation turns.\n",
        "5. [1p] Do data cleaning (including profanieties), finding rules for good responses.\n",
        "6. [1p] Try mixing different sentence representation techniques.\n",
        "7. [2p] Try to cluster responses to the highest scored prompts. Which responses are more funny: from the largerst or from the smallest clusters?.\n",
        "8. [1p+] Implement your own enhancements.\n"
      ]
    },
    {
      "cell_type": "markdown",
      "metadata": {
        "id": "C3SN5za0rEdp"
      },
      "source": [
        "# Starter code"
      ]
    },
    {
      "cell_type": "code",
      "metadata": {
        "id": "czZXkkVEASTf",
        "colab": {
          "base_uri": "https://localhost:8080/"
        },
        "outputId": "04a89617-8d0e-467b-98ac-20d3d3176d03"
      },
      "source": [
        "# Please note that this code needs only to be run in a fresh runtime.\n",
        "# However, it can be rerun afterwards too.\n",
        "\n",
        "# Download word vectors\n",
        "!pip install -q gdown httpimport\n",
        "![ -e word2vec.tar.xz ] || gdown 'https://drive.google.com/uc?id=1v6D8IjYVFlonhQuN_J3PML5KSVQSpbED' -O word2vec.tar.xz\n",
        "![ -d word2vec ] || tar Jxf word2vec.tar.xz\n",
        "\n",
        "# Download conversation corpuses\n",
        "![ -e  hackernews_pairs.txt ] || gdown 'https://drive.google.com/uc?id=10cp2maNp1suzc5BaFQwDJr2GTKXHQOz_' -O hackernews_pairs.txt\n",
        "![ -e  reddit_pairs.txt ] || gdown 'https://drive.google.com/uc?id=1Uf0Xl9aqQVBBpOwhYTV7iWCwj95FDqtL' -O reddit_pairs.txt"
      ],
      "execution_count": 1,
      "outputs": [
        {
          "output_type": "stream",
          "text": [
            "Downloading...\n",
            "From: https://drive.google.com/uc?id=1v6D8IjYVFlonhQuN_J3PML5KSVQSpbED\n",
            "To: /content/word2vec.tar.xz\n",
            "395MB [00:03, 102MB/s] \n",
            "Downloading...\n",
            "From: https://drive.google.com/uc?id=10cp2maNp1suzc5BaFQwDJr2GTKXHQOz_\n",
            "To: /content/hackernews_pairs.txt\n",
            "4.39MB [00:00, 40.4MB/s]\n",
            "Downloading...\n",
            "From: https://drive.google.com/uc?id=1Uf0Xl9aqQVBBpOwhYTV7iWCwj95FDqtL\n",
            "To: /content/reddit_pairs.txt\n",
            "3.89MB [00:00, 59.7MB/s]\n"
          ],
          "name": "stdout"
        }
      ]
    },
    {
      "cell_type": "code",
      "metadata": {
        "id": "KJSP8qDQtI8H",
        "colab": {
          "base_uri": "https://localhost:8080/"
        },
        "outputId": "936f44eb-c77b-45ae-c5a9-8cee4c0f78fb"
      },
      "source": [
        "# Huggingface Transformers implementation\n",
        "!pip install -q tqdm boto3 requests regex sentencepiece sacremoses\n",
        "!pip install -q transformers"
      ],
      "execution_count": 2,
      "outputs": [
        {
          "output_type": "stream",
          "text": [
            "\u001b[K     |████████████████████████████████| 133kB 5.0MB/s \n",
            "\u001b[K     |████████████████████████████████| 1.2MB 29.6MB/s \n",
            "\u001b[K     |████████████████████████████████| 901kB 47.0MB/s \n",
            "\u001b[K     |████████████████████████████████| 7.4MB 48.3MB/s \n",
            "\u001b[K     |████████████████████████████████| 81kB 7.1MB/s \n",
            "\u001b[31mERROR: botocore 1.20.59 has requirement urllib3<1.27,>=1.25.4, but you'll have urllib3 1.24.3 which is incompatible.\u001b[0m\n",
            "\u001b[K     |████████████████████████████████| 2.1MB 5.3MB/s \n",
            "\u001b[K     |████████████████████████████████| 3.3MB 28.7MB/s \n",
            "\u001b[?25h"
          ],
          "name": "stdout"
        }
      ]
    },
    {
      "cell_type": "code",
      "metadata": {
        "id": "ky2fLuhOuqQN",
        "colab": {
          "base_uri": "https://localhost:8080/"
        },
        "outputId": "2086f398-1a36-4908-9a6c-18658f112aa8"
      },
      "source": [
        "%pylab inline"
      ],
      "execution_count": 3,
      "outputs": [
        {
          "output_type": "stream",
          "text": [
            "Populating the interactive namespace from numpy and matplotlib\n"
          ],
          "name": "stdout"
        }
      ]
    },
    {
      "cell_type": "code",
      "metadata": {
        "id": "kF7Xu9Z1GBk6",
        "colab": {
          "base_uri": "https://localhost:8080/"
        },
        "outputId": "f594b503-484c-49bb-bc11-fac3f85a193c"
      },
      "source": [
        "import collections\n",
        "\n",
        "import codecs\n",
        "\n",
        "import numpy as np\n",
        "from scipy.linalg import orthogonal_procrustes\n",
        "from scipy.spatial import distance\n",
        "\n",
        "import nltk\n",
        "import sklearn\n",
        "nltk.download('punkt')\n",
        "\n",
        "import pprint\n",
        "import gensim\n",
        "\n",
        "import io\n",
        "from tqdm.autonotebook import tqdm\n",
        "\n",
        "\n",
        "import torch\n",
        "\n",
        "\n",
        "import tabulate"
      ],
      "execution_count": 4,
      "outputs": [
        {
          "output_type": "stream",
          "text": [
            "[nltk_data] Downloading package punkt to /root/nltk_data...\n",
            "[nltk_data]   Unzipping tokenizers/punkt.zip.\n"
          ],
          "name": "stdout"
        },
        {
          "output_type": "stream",
          "text": [
            "/usr/local/lib/python3.7/dist-packages/ipykernel_launcher.py:17: TqdmExperimentalWarning: Using `tqdm.autonotebook.tqdm` in notebook mode. Use `tqdm.tqdm` instead to force console mode (e.g. in jupyter console)\n"
          ],
          "name": "stderr"
        }
      ]
    },
    {
      "cell_type": "markdown",
      "metadata": {
        "id": "PCuRj_u_uqQY"
      },
      "source": [
        "## 1.1: Analogies"
      ]
    },
    {
      "cell_type": "code",
      "metadata": {
        "id": "L11W4J6LtIgw"
      },
      "source": [
        "# Word embeddings assign a vector to each word. To use them we need three things:\n",
        "# 1. the embeddings themselves\n",
        "# 2. a dictionary from words to their embedding ids\n",
        "# 3. an inverse dictionary\n",
        "\n",
        "Embedding = collections.namedtuple(\n",
        "    'Embedding',\n",
        "    ['vec', 'word2idx', 'idx2word'])"
      ],
      "execution_count": 5,
      "outputs": []
    },
    {
      "cell_type": "code",
      "metadata": {
        "id": "qwb_QRNiuqQZ"
      },
      "source": [
        "def load_vecs_npy(base_path):\n",
        "    \"\"\"Load small embeddings in .npy format.\"\"\"\n",
        "    vec = np.load(base_path + '.npy')\n",
        "    idx2word = [l.strip() for l in codecs.open(\n",
        "                      base_path + '.txt', 'r', 'utf-8')]\n",
        "    word2idx = {w:i for (i,w) in enumerate(idx2word)}\n",
        "    return Embedding(vec, word2idx, idx2word)"
      ],
      "execution_count": 6,
      "outputs": []
    },
    {
      "cell_type": "code",
      "metadata": {
        "id": "J5UHEt8kuqQc"
      },
      "source": [
        "# Load top 200k word embeddings: Word2vec and FastText\n",
        "word2vec = load_vecs_npy('word2vec/word2vec_GoogleNews_200k')\n",
        "ftext = load_vecs_npy('word2vec/fasttext_wikien_200k')"
      ],
      "execution_count": 7,
      "outputs": []
    },
    {
      "cell_type": "code",
      "metadata": {
        "id": "rF_7SHHJ5CWY"
      },
      "source": [
        "def load_analogies():\n",
        "    '''Load tuples of analogies, e.g., (man, woman, king, queen)'''\n",
        "    questions_path = 'word2vec/questions-words.txt'\n",
        "    analogies = [l.strip().split() for l in open(questions_path, 'r') \\\n",
        "                 if not l.startswith(':')]\n",
        "    return analogies"
      ],
      "execution_count": 8,
      "outputs": []
    },
    {
      "cell_type": "code",
      "metadata": {
        "id": "EJATnKFVuqQg"
      },
      "source": [
        "def eval_analogies(vecs, analogies):\n",
        "    \"\"\"\n",
        "    Compute the accuracy on the analogy task.\n",
        "    \n",
        "    In the task, quadruples of words are given (q1, q2, r1, r2).\n",
        "    The words q1 and q2 are bound by a relation. The words r1 and r2 \n",
        "    are bound by the same relation. The task is to predict r2 knowing words\n",
        "    q1, q2, and r1.\n",
        "    \n",
        "    Example:\n",
        "    Quadruple [King, Queen, Man, Woman] yields the question\n",
        "    King is to Queen as Man is to ????\n",
        "    \n",
        "    Args:\n",
        "        word_vecs: Embeddings tupes\n",
        "        analogies: list of quadruples: (q1, q2, r1, r2)\n",
        "        \n",
        "    Returns:\n",
        "        percentage of correct answers\n",
        "    \"\"\"\n",
        "    indexes = [[vecs.word2idx.get(w, None) for w in tupl] \\\n",
        "                for tupl in analogies]\n",
        "    indexes = [tupl for tupl in indexes \\\n",
        "               if all([v is not None for v in tupl])]\n",
        "    # indexes holds quadruples of ints giving the ids of words from our vocab.\n",
        "    indexes = np.asarray(indexes)\n",
        "    print('Got vocab for %d/%d pairs' % (indexes.shape[0], len(analogies)))\n",
        "    \n",
        "    # Extract the vectors for the query words\n",
        "    q1 = vecs.vec[indexes[:, 0]]\n",
        "    q2 = vecs.vec[indexes[:, 1]]\n",
        "    r1 = vecs.vec[indexes[:, 2]]\n",
        "    \n",
        "    # Extractr the word IDs for the correct answers\n",
        "    r2_inds = indexes[:, 3]\n",
        "\n",
        "    #\n",
        "    # TODO \n",
        "    #\n",
        "    # Compute the approximate location of word r2 as r2 = r1 + (q2 - q1)\n",
        "    # Find the word closest to this location using cosine distance.\n",
        "    # Return it's id and compute the accurracy.\n",
        "    #\n",
        "\n",
        "    r2_pred = r1 + (q2 - q1)\n",
        "    \n",
        "    \n",
        "    # Normalize length and compute dot product between r2_pred and word_vecs\n",
        "    # to get cosine distance\n",
        "    r2_pred_norm = r2_pred / np.sqrt(np.sum(r2_pred**2, axis=1)).reshape(-1, 1)\n",
        "    vecs_norm = vecs.vec / np.sqrt(np.sum(vecs.vec**2, axis=1)).reshape(-1, 1)\n",
        "    \n",
        "    # Compute in chunks to save memory\n",
        "    r2_pred_inds = np.concatenate([np.argmax(r2_pred_norm[i:i+1000].dot(vecs_norm.T), axis=1) \\\n",
        "                                   for i in range(0, r2_pred.shape[0], 1000)])\n",
        "    return 100.0 * (r2_pred_inds == r2_inds).sum() / r2_inds.shape[0]"
      ],
      "execution_count": 9,
      "outputs": []
    },
    {
      "cell_type": "code",
      "metadata": {
        "id": "Cl0JtuxSuqQj",
        "colab": {
          "base_uri": "https://localhost:8080/"
        },
        "outputId": "3a1f2446-1f7d-4cfe-e352-b582b0f609e4"
      },
      "source": [
        "# Load analogy tuples, e.g., (man, woman, king, queen)\n",
        "analogies = load_analogies()\n",
        "\n",
        "# Some are uppercased geographical names (and FastTexts are lowercased)\n",
        "analogies_lower = [[w.lower() for w in tupl] for tupl in analogies]\n",
        "\n",
        "print(analogies[0])\n",
        "print(analogies_lower[0])"
      ],
      "execution_count": 10,
      "outputs": [
        {
          "output_type": "stream",
          "text": [
            "['Athens', 'Greece', 'Baghdad', 'Iraq']\n",
            "['athens', 'greece', 'baghdad', 'iraq']\n"
          ],
          "name": "stdout"
        }
      ]
    },
    {
      "cell_type": "code",
      "metadata": {
        "id": "44kDHN16uqQn",
        "colab": {
          "base_uri": "https://localhost:8080/"
        },
        "outputId": "90b56db1-6c6c-42fa-da0c-89319e591850"
      },
      "source": [
        "# Keep in mind that the vocab is restricted to 200k most freq words\n",
        "# (in the training corpus!)\n",
        "print('FastText analogy task accuracy:')\n",
        "print('-------------------------------')\n",
        "# Fast-text was trained on lowercased text only\n",
        "print(eval_analogies(ftext, analogies_lower), '% correct')\n",
        "\n",
        "print('\\nWord2vec analogy task accuracy:')\n",
        "print('-------------------------------')\n",
        "# Word2vec has case information\n",
        "print(eval_analogies(word2vec, analogies), '% correct')"
      ],
      "execution_count": 47,
      "outputs": [
        {
          "output_type": "stream",
          "text": [
            "FastText analogy task accuracy:\n",
            "-------------------------------\n",
            "Got vocab for 19420/19544 pairs\n",
            "16.374871266735326 % correct\n",
            "\n",
            "Word2vec analogy task accuracy:\n",
            "-------------------------------\n",
            "Got vocab for 18783/19544 pairs\n",
            "20.859287653729435 % correct\n"
          ],
          "name": "stdout"
        }
      ]
    },
    {
      "cell_type": "markdown",
      "metadata": {
        "id": "KTNt90qyuqQr"
      },
      "source": [
        "## 1.2: translation through alignment of vector spaces"
      ]
    },
    {
      "cell_type": "code",
      "metadata": {
        "id": "Ie4nhd8ZuqQt",
        "colab": {
          "base_uri": "https://localhost:8080/"
        },
        "outputId": "0149c2e1-18dd-40e2-abe8-9449f178ff81"
      },
      "source": [
        "# We're need Polish embeddings\n",
        "ftext_pl = load_vecs_npy('word2vec/fasttext_wikipl_200k')\n",
        "\n",
        "# Load a simple wikitionary-based dict of word pairs\n",
        "en_pl = [l.strip().split('\\t') for l in codecs.open(\n",
        "    'word2vec/word2vec_en_pl', 'r', 'utf-8') if not '<UNK>' in l]\n",
        "en_pl = {t[0]:t[1] for t in en_pl if len(t) == 2}\n",
        "\n",
        "# Keep those, for which we have embeddings\n",
        "en_pl = {en:pl for (en,pl) in en_pl.items() \\\n",
        "         if en in ftext.word2idx and pl in ftext_pl.word2idx}\n",
        "print('Dictionary size:', len(en_pl))\n",
        "print('good --', en_pl['good'])"
      ],
      "execution_count": 11,
      "outputs": [
        {
          "output_type": "stream",
          "text": [
            "Dictionary size: 750\n",
            "good -- dobro\n"
          ],
          "name": "stdout"
        }
      ]
    },
    {
      "cell_type": "code",
      "metadata": {
        "id": "b8XGFZp3uqQz",
        "colab": {
          "base_uri": "https://localhost:8080/"
        },
        "outputId": "19054d98-ee83-43d6-9475-fc6844c5a9cc"
      },
      "source": [
        "# Select word embeddings for dictionary words\n",
        "en_words = sorted(en_pl.keys())\n",
        "V_en = ftext.vec[[ftext.word2idx[w] for w in en_words]]\n",
        "V_pl = ftext_pl.vec[[ftext_pl.word2idx[en_pl[w]] for w in en_words]]\n",
        "print(V_en.shape, V_pl.shape)"
      ],
      "execution_count": 12,
      "outputs": [
        {
          "output_type": "stream",
          "text": [
            "(750, 300) (750, 300)\n"
          ],
          "name": "stdout"
        }
      ]
    },
    {
      "cell_type": "code",
      "metadata": {
        "id": "vIF8guv6uqQ1"
      },
      "source": [
        "# Find an orthogonal transformation from V_en to V_pl.\n",
        "# which minimizes square reconstruction error\n",
        "W = orthogonal_procrustes(V_en, V_pl)[0]"
      ],
      "execution_count": 13,
      "outputs": []
    },
    {
      "cell_type": "code",
      "metadata": {
        "id": "yReVugjxuqQ5",
        "colab": {
          "base_uri": "https://localhost:8080/"
        },
        "outputId": "08bba48e-530a-4164-dcee-231903bc1024"
      },
      "source": [
        "def translate(W, v, vecs2):\n",
        "    #\n",
        "    # TODO\n",
        "    #\n",
        "    # Transform source word vector v using W getting a location in target space.\n",
        "    # Find the closest word in target space using the cosine distance.\n",
        "    #\n",
        "\n",
        "    v_pred = v@W\n",
        "    v_pred_norm = v_pred / np.sqrt(np.sum(v_pred**2))\n",
        "    vecs2_norm = vecs2.vec / np.sqrt(np.sum(vecs2.vec**2, axis=1)).reshape(-1, 1)\n",
        "    idx = np.argmax(v_pred_norm.dot(vecs2_norm.T))\n",
        "    return vecs2.idx2word[idx]\n",
        "\n",
        "# Select random, fairly frequent words not from the dictionary\n",
        "tr_words = [i for i in np.random.randint(1000, 2000, 100) \\\n",
        "            if ftext.idx2word[i] not in en_pl]\n",
        "tr_words = tr_words[:20]\n",
        "\n",
        "rows = [[ftext.idx2word[i], translate(W, ftext.vec[i], ftext_pl)] \\\n",
        "         for i in tr_words] \n",
        "print(tabulate.tabulate(rows))"
      ],
      "execution_count": 24,
      "outputs": [
        {
          "output_type": "stream",
          "text": [
            "---------------  ----------------\n",
            "victoria         czartery\n",
            "mission          misja\n",
            "expanded         rozszerzono\n",
            "concept          koncepcja\n",
            "thank            dziękuję\n",
            "necessary        potrzebny\n",
            "scottish         gacon\n",
            "failed           nieudany\n",
            "representatives  delegatów\n",
            "caused           powodujący\n",
            "columbia         kontraktowy\n",
            "cast             superprodukcja\n",
            "gives            dawać\n",
            "calculated       landessternwarte\n",
            "square           kwadratowych\n",
            "command          generał\n",
            "revolution       rewolucja\n",
            "bishop           burmistrz\n",
            "di               kędzierzawska\n",
            "claims           stwierdzenie\n",
            "---------------  ----------------\n"
          ],
          "name": "stdout"
        }
      ]
    },
    {
      "cell_type": "markdown",
      "metadata": {
        "id": "dc1X6ONsuqQ9"
      },
      "source": [
        "## 1.3: PCA"
      ]
    },
    {
      "cell_type": "code",
      "metadata": {
        "id": "UFXt5nxRuqQ-",
        "colab": {
          "base_uri": "https://localhost:8080/"
        },
        "outputId": "54e8db6a-c322-482a-98e8-5fb8b978a8cc"
      },
      "source": [
        "capitals = [l.strip().split('\\t') for l in codecs.open('word2vec/countries_capitals', 'r', 'utf-8')]\n",
        "capitals = {country:capital for (country,capital) in capitals}\n",
        "\n",
        "# Select those present in Word2vec vocab\n",
        "capitals = {k:v for (k,v) in capitals.items() \\\n",
        "            if k in word2vec.word2idx and v in word2vec.word2idx}\n",
        "\n",
        "# Flatten the array to have a list of [country, capital, country, capital, ...]\n",
        "geo = [e for pair in capitals.items() for e in pair]\n",
        "print(len(geo) // 2, 'pairs', geo[:6])"
      ],
      "execution_count": 26,
      "outputs": [
        {
          "output_type": "stream",
          "text": [
            "131 pairs ['Afghanistan', 'Kabul', 'Albania', 'Tirana', 'Algeria', 'Algiers']\n"
          ],
          "name": "stdout"
        }
      ]
    },
    {
      "cell_type": "code",
      "metadata": {
        "id": "Z_laByxLuqRD",
        "colab": {
          "base_uri": "https://localhost:8080/"
        },
        "outputId": "45ed3873-0eb6-4155-fe68-57b2a9edff71"
      },
      "source": [
        "geo_inds = [word2vec.word2idx[w] for w in geo]\n",
        "geo_vecs = word2vec.vec[geo_inds]\n",
        "print(geo_vecs.shape)"
      ],
      "execution_count": 27,
      "outputs": [
        {
          "output_type": "stream",
          "text": [
            "(262, 300)\n"
          ],
          "name": "stdout"
        }
      ]
    },
    {
      "cell_type": "code",
      "metadata": {
        "id": "kE1HZ742uqRH"
      },
      "source": [
        "from sklearn.decomposition import PCA\n",
        "\n",
        "#\n",
        "# TODO\n",
        "# use PCA from sklearn.decomposition to project the countries and capitals into 2D.\n",
        "# draw lines connecting each country with its capital\n",
        "#\n",
        "# Hint:\n",
        "# - the function \"annotate\" can be used to put text onto the plot\n",
        "#\n",
        "\n",
        "pca = PCA(n_components=2)\n",
        "reduced_vecs = pca.fit_transform(geo_vecs)"
      ],
      "execution_count": 32,
      "outputs": []
    },
    {
      "cell_type": "code",
      "metadata": {
        "colab": {
          "base_uri": "https://localhost:8080/",
          "height": 483
        },
        "id": "dnEtXgdf9No4",
        "outputId": "194359bc-c3c2-41f0-88c6-7a1197cdc308"
      },
      "source": [
        "plt.figure(figsize=(12,8))\n",
        "\n",
        "#countries_num = reduced_vecs.shape[0]//2\n",
        "countries_num = 15\n",
        "\n",
        "for i in range(countries_num):\n",
        "    country_idx = 2*i\n",
        "    capital_idx = 2*i+1\n",
        "    country_x, country_y = reduced_vecs[country_idx][0], reduced_vecs[country_idx][1]\n",
        "    capital_x, capital_y = reduced_vecs[capital_idx][0], reduced_vecs[capital_idx][1]\n",
        "\n",
        "    plt.scatter([country_x, capital_x], [country_y, capital_y], c='b')\n",
        "    plt.plot([country_x, capital_x], [country_y, capital_y])\n",
        "\n",
        "    plt.text(x=reduced_vecs[country_idx][0], y=reduced_vecs[country_idx][1],\n",
        "             s=geo[country_idx], fontsize=8)\n",
        "    plt.text(x=reduced_vecs[capital_idx][0], y=reduced_vecs[capital_idx][1],\n",
        "             s=geo[capital_idx], fontsize=8)"
      ],
      "execution_count": 63,
      "outputs": [
        {
          "output_type": "display_data",
          "data": {
            "image/png": "[encoded data removed]",
            "text/plain": [
              "<Figure size 864x576 with 1 Axes>"
            ]
          },
          "metadata": {
            "tags": [],
            "needs_background": "light"
          }
        }
      ]
    },
    {
      "cell_type": "markdown",
      "metadata": {
        "id": "fgbSODUOuqRM"
      },
      "source": [
        "## 1.4: PCA vs t-SNE on frequent words"
      ]
    },
    {
      "cell_type": "code",
      "metadata": {
        "colab": {
          "base_uri": "https://localhost:8080/"
        },
        "id": "s5MzCLOlB-TX",
        "outputId": "11943853-8540-47f5-82a8-831c43720a58"
      },
      "source": [
        "ftext.vec[0].shape"
      ],
      "execution_count": 65,
      "outputs": [
        {
          "output_type": "execute_result",
          "data": {
            "text/plain": [
              "(300,)"
            ]
          },
          "metadata": {
            "tags": []
          },
          "execution_count": 65
        }
      ]
    },
    {
      "cell_type": "code",
      "metadata": {
        "id": "OoBJkQLKuqRP"
      },
      "source": [
        "# Select words starting from the 200th to ommit stop words,\n",
        "# which have at least 3 chars\n",
        "top_words = [w for (i,w) in enumerate(ftext.idx2word) \\\n",
        "             if i > 200 and len(w) >= 3][:400]\n",
        "top_inds = [ftext.word2idx[w] for w in top_words]\n",
        "top_vecs = ftext.vec[top_inds]"
      ],
      "execution_count": 84,
      "outputs": []
    },
    {
      "cell_type": "code",
      "metadata": {
        "id": "trWs2Y-vFb6Y"
      },
      "source": [
        "#\n",
        "# TODO: make a 2D PCA projection of the selected words.\n",
        "#\n",
        "top_coords = PCA(n_components=2).fit_transform(top_vecs)"
      ],
      "execution_count": 85,
      "outputs": []
    },
    {
      "cell_type": "code",
      "metadata": {
        "colab": {
          "base_uri": "https://localhost:8080/",
          "height": 542
        },
        "id": "AzowTORLDxoU",
        "outputId": "9c0609bc-e6e7-4b78-cad4-a48134040cc7"
      },
      "source": [
        "import plotly.express as px\n",
        "fig = px.scatter(x=top_coords[:, 0], y=top_coords[:, 1], text=top_words, size=np.zeros(len(top_words)))\n",
        "fig.show()"
      ],
      "execution_count": 86,
      "outputs": [
        {
          "output_type": "display_data",
          "data": {
            "text/html": [
              "<html>\n",
              "<head><meta charset=\"utf-8\" /></head>\n",
              "<body>\n",
              "    <div>\n",
              "            <script src=\"https://cdnjs.cloudflare.com/ajax/libs/mathjax/2.7.5/MathJax.js?config=TeX-AMS-MML_SVG\"></script><script type=\"text/javascript\">if (window.MathJax) {MathJax.Hub.Config({SVG: {font: \"STIX-Web\"}});}</script>\n",
              "                <script type=\"text/javascript\">window.PlotlyConfig = {MathJaxConfig: 'local'};</script>\n",
              "        <script src=\"https://cdn.plot.ly/plotly-latest.min.js\"></script>    \n",
              "            <div id=\"2f20536b-767b-4ccf-a426-ab400d394cd5\" class=\"plotly-graph-div\" style=\"height:525px; width:100%;\"></div>\n",
              "            <script type=\"text/javascript\">\n",
              "                \n",
              "                    window.PLOTLYENV=window.PLOTLYENV || {};\n",
              "                    \n",
              "                if (document.getElementById(\"2f20536b-767b-4ccf-a426-ab400d394cd5\")) {\n",
              "                    Plotly.newPlot(\n",
              "                        '2f20536b-767b-4ccf-a426-ab400d394cd5',\n",
              "                        [{\"hoverlabel\": {\"namelength\": 0}, \"hovertemplate\": \"x=%{x}<br>y=%{y}<br>size=%{marker.size}<br>text=%{text}\", \"legendgroup\": \"\", \"marker\": {\"color\": \"#636efa\", \"size\": [0.0, 0.0, 0.0, 0.0, 0.0, 0.0, 0.0, 0.0, 0.0, 0.0, 0.0, 0.0, 0.0, 0.0, 0.0, 0.0, 0.0, 0.0, 0.0, 0.0, 0.0, 0.0, 0.0, 0.0, 0.0, 0.0, 0.0, 0.0, 0.0, 0.0, 0.0, 0.0, 0.0, 0.0, 0.0, 0.0, 0.0, 0.0, 0.0, 0.0, 0.0, 0.0, 0.0, 0.0, 0.0, 0.0, 0.0, 0.0, 0.0, 0.0, 0.0, 0.0, 0.0, 0.0, 0.0, 0.0, 0.0, 0.0, 0.0, 0.0, 0.0, 0.0, 0.0, 0.0, 0.0, 0.0, 0.0, 0.0, 0.0, 0.0, 0.0, 0.0, 0.0, 0.0, 0.0, 0.0, 0.0, 0.0, 0.0, 0.0, 0.0, 0.0, 0.0, 0.0, 0.0, 0.0, 0.0, 0.0, 0.0, 0.0, 0.0, 0.0, 0.0, 0.0, 0.0, 0.0, 0.0, 0.0, 0.0, 0.0, 0.0, 0.0, 0.0, 0.0, 0.0, 0.0, 0.0, 0.0, 0.0, 0.0, 0.0, 0.0, 0.0, 0.0, 0.0, 0.0, 0.0, 0.0, 0.0, 0.0, 0.0, 0.0, 0.0, 0.0, 0.0, 0.0, 0.0, 0.0, 0.0, 0.0, 0.0, 0.0, 0.0, 0.0, 0.0, 0.0, 0.0, 0.0, 0.0, 0.0, 0.0, 0.0, 0.0, 0.0, 0.0, 0.0, 0.0, 0.0, 0.0, 0.0, 0.0, 0.0, 0.0, 0.0, 0.0, 0.0, 0.0, 0.0, 0.0, 0.0, 0.0, 0.0, 0.0, 0.0, 0.0, 0.0, 0.0, 0.0, 0.0, 0.0, 0.0, 0.0, 0.0, 0.0, 0.0, 0.0, 0.0, 0.0, 0.0, 0.0, 0.0, 0.0, 0.0, 0.0, 0.0, 0.0, 0.0, 0.0, 0.0, 0.0, 0.0, 0.0, 0.0, 0.0, 0.0, 0.0, 0.0, 0.0, 0.0, 0.0, 0.0, 0.0, 0.0, 0.0, 0.0, 0.0, 0.0, 0.0, 0.0, 0.0, 0.0, 0.0, 0.0, 0.0, 0.0, 0.0, 0.0, 0.0, 0.0, 0.0, 0.0, 0.0, 0.0, 0.0, 0.0, 0.0, 0.0, 0.0, 0.0, 0.0, 0.0, 0.0, 0.0, 0.0, 0.0, 0.0, 0.0, 0.0, 0.0, 0.0, 0.0, 0.0, 0.0, 0.0, 0.0, 0.0, 0.0, 0.0, 0.0, 0.0, 0.0, 0.0, 0.0, 0.0, 0.0, 0.0, 0.0, 0.0, 0.0, 0.0, 0.0, 0.0, 0.0, 0.0, 0.0, 0.0, 0.0, 0.0, 0.0, 0.0, 0.0, 0.0, 0.0, 0.0, 0.0, 0.0, 0.0, 0.0, 0.0, 0.0, 0.0, 0.0, 0.0, 0.0, 0.0, 0.0, 0.0, 0.0, 0.0, 0.0, 0.0, 0.0, 0.0, 0.0, 0.0, 0.0, 0.0, 0.0, 0.0, 0.0, 0.0, 0.0, 0.0, 0.0, 0.0, 0.0, 0.0, 0.0, 0.0, 0.0, 0.0, 0.0, 0.0, 0.0, 0.0, 0.0, 0.0, 0.0, 0.0, 0.0, 0.0, 0.0, 0.0, 0.0, 0.0, 0.0, 0.0, 0.0, 0.0, 0.0, 0.0, 0.0, 0.0, 0.0, 0.0, 0.0, 0.0, 0.0, 0.0, 0.0, 0.0, 0.0, 0.0, 0.0, 0.0, 0.0, 0.0, 0.0, 0.0, 0.0, 0.0, 0.0, 0.0, 0.0, 0.0, 0.0, 0.0, 0.0, 0.0, 0.0, 0.0, 0.0, 0.0, 0.0, 0.0, 0.0, 0.0, 0.0, 0.0, 0.0, 0.0, 0.0, 0.0, 0.0, 0.0, 0.0, 0.0, 0.0, 0.0, 0.0, 0.0, 0.0, 0.0, 0.0, 0.0, 0.0, 0.0, 0.0, 0.0, 0.0, 0.0, 0.0, 0.0, 0.0, 0.0, 0.0, 0.0, 0.0, 0.0, 0.0], \"sizemode\": \"area\", \"sizeref\": 0.0, \"symbol\": \"circle\"}, \"mode\": \"markers+text\", \"name\": \"\", \"showlegend\": false, \"text\": [\"family\", \"user\", \"based\", \"area\", \"became\", \"york\", \"life\", \"british\", \"international\", \"game\", \"above\", \"club\", \"your\", \"until\", \"early\", \"best\", \"west\", \"house\", \"company\", \"general\", \"left\", \"very\", \"here\", \"don\", \"living\", \"day\", \"several\", \"place\", \"party\", \"college\", \"result\", \"keep\", \"appropriate\", \"four\", \"subsequent\", \"even\", \"class\", \"government\", \"how\", \"called\", \"did\", \"each\", \"found\", \"center\", \"per\", \"style\", \"com\", \"long\", \"country\", \"back\", \"way\", \"does\", \"www\", \"modify\", \"end\", \"make\", \"public\", \"played\", \"won\", \"another\", \"released\", \"added\", \"support\", \"games\", \"former\", \"those\", \"films\", \"church\", \"east\", \"line\", \"major\", \"members\", \"good\", \"much\", \"image\", \"show\", \"still\", \"think\", \"below\", \"town\", \"last\", \"system\", \"right\", \"song\", \"non\", \"notable\", \"section\", \"single\", \"included\", \"align\", \"home\", \"women\", \"television\", \"seed\", \"member\", \"goals\", \"sources\", \"book\", \"station\", \"order\", \"old\", \"information\", \"set\", \"own\", \"text\", \"band\", \"point\", \"local\", \"around\", \"river\", \"top\", \"main\", \"language\", \"french\", \"https\", \"named\", \"off\", \"note\", \"career\", \"original\", \"age\", \"service\", \"established\", \"located\", \"said\", \"website\", \"population\", \"air\", \"german\", \"law\", \"military\", \"great\", \"within\", \"clubs\", \"published\", \"president\", \"park\", \"official\", \"case\", \"london\", \"times\", \"although\", \"small\", \"third\", \"different\", \"due\", \"get\", \"village\", \"closed\", \"art\", \"player\", \"final\", \"community\", \"held\", \"again\", \"began\", \"army\", \"award\", \"without\", \"death\", \"built\", \"men\", \"large\", \"site\", \"using\", \"deletion\", \"white\", \"along\", \"five\", \"central\", \"road\", \"children\", \"free\", \"took\", \"england\", \"include\", \"association\", \"down\", \"given\", \"source\", \"california\", \"man\", \"version\", \"written\", \"created\", \"media\", \"black\", \"though\", \"php\", \"report\", \"building\", \"take\", \"division\", \"comment\", \"having\", \"king\", \"edit\", \"stadium\", \"died\", \"ship\", \"research\", \"record\", \"archive\", \"places\", \"undo\", \"cup\", \"records\", \"often\", \"few\", \"received\", \"side\", \"power\", \"education\", \"know\", \"category\", \"water\", \"political\", \"species\", \"field\", \"near\", \"australia\", \"video\", \"need\", \"island\", \"form\", \"find\", \"served\", \"play\", \"project\", \"according\", \"//en\", \"radio\", \"works\", \"proposed\", \"every\", \"development\", \"example\", \"live\", \"union\", \"india\", \"next\", \"special\", \"court\", \"region\", \"little\", \"short\", \"william\", \"province\", \"western\", \"son\", \"france\", \"council\", \"others\", \"royal\", \"current\", \"street\", \"full\", \"red\", \"too\", \"department\", \"san\", \"help\", \"subdivision_type\", \"among\", \"preserved\", \"james\", \"open\", \"force\", \"position\", \"head\", \"director\", \"father\", \"track\", \"http\", \"canada\", \"never\", \"australian\", \"george\", \"org/w/index\", \"jpg\", \"level\", \"late\", \"summer\", \"society\", \"moved\", \"office\", \"period\", \"championship\", \"round\", \"story\", \"songs\", \"various\", \"file\", \"days\", \"land\", \"business\", \"subdivision_name\", \"reason\", \"america\", \"million\", \"european\", \"term\", \"six\", \"post\", \"why\", \"produced\", \"making\", \"subject\", \"young\", \"total\", \"david\", \"science\", \"related\", \"rock\", \"archived\", \"railway\", \"become\", \"led\", \"students\", \"started\", \"news\", \"described\", \"//www\", \"role\", \"election\", \"albums\", \"present\", \"indian\", \"kingdom\", \"books\", \"important\", \"northern\", \"love\", \"run\", \"canadian\", \"press\", \"rather\", \"type\", \"act\", \"editor\", \"came\", \"schools\", \"program\", \"once\", \"issue\", \"social\", \"germany\", \"production\", \"male\", \"might\", \"awards\", \"points\", \"similar\", \"professional\", \"say\", \"background\", \"enough\", \"lead\", \"either\", \"common\", \"overlap\", \"data\", \"color\", \"better\", \"person\", \"services\", \"bgcolor\", \"museum\", \"battle\", \"went\", \"sports\", \"already\", \"currently\", \"hall\", \"buildings\", \"historic\", \"date\", \"deleted\", \"considered\", \"change\", \"location\", \"seems\", \"must\", \"yes\", \"our\", \"southern\", \"least\", \"lost\", \"something\", \"review\", \"together\", \"robert\", \"fact\", \"less\", \"japanese\", \"groups\", \"content\", \"birth_place\", \"involved\", \"isbn\"], \"type\": \"scatter\", \"x\": [-0.4636686146259308, 0.184688001871109, -0.16074685752391815, -0.06498361378908157, -0.1560039520263672, -0.23134391009807587, -0.5317355990409851, -0.28836071491241455, -0.30122703313827515, -0.38932663202285767, 0.27751800417900085, -0.07744262367486954, -0.061813805252313614, -0.23097695410251617, -0.5082905292510986, -0.37430086731910706, 0.16564737260341644, -0.38301119208335876, -0.451101154088974, -0.3198952376842499, -0.18671226501464844, -0.37048348784446716, -0.2947086989879608, -0.0172566045075655, -0.039419759064912796, -0.47019192576408386, -0.44932034611701965, -0.3813762962818146, -0.07428233325481415, 0.08197298645973206, -0.1294548064470291, -0.3526805639266968, 1.7868479490280151, -0.30534085631370544, 2.3931751251220703, -0.3735562562942505, -0.13118301331996918, -0.24142524600028992, -0.2034722864627838, -0.4832608699798584, -0.1912614107131958, -0.3001183569431305, -0.42339053750038147, 0.3528444170951843, 0.06461741775274277, 0.5319011211395264, 0.8718673586845398, -0.5170708894729614, -0.4517212212085724, -0.33734917640686035, -0.4562562108039856, -0.052848584949970245, 2.811918258666992, 5.035177707672119, -0.4744473993778229, -0.1860809624195099, -0.39172056317329407, -0.15867312252521515, -0.08860590308904648, -0.4870053827762604, -0.2724960744380951, 0.1709917038679123, -0.3789622187614441, -0.10317274928092957, -0.19097457826137543, -0.4749760627746582, -0.056769248098134995, -0.08551911264657974, 0.2077213078737259, -0.3158518075942993, -0.5237295031547546, -0.3383125960826874, -0.3985145092010498, -0.34970545768737793, 0.04800120368599892, -0.5316388607025146, -0.44348761439323425, -0.050922416150569916, 1.0814197063446045, -0.042455267161130905, -0.46544453501701355, -0.3126717507839203, -0.2786140441894531, -0.43371862173080444, -0.35383597016334534, -0.3611859381198883, -0.26161953806877136, -0.369154691696167, -0.2519977390766144, 3.3650500774383545, -0.37003910541534424, -0.5021687746047974, -0.04964929074048996, 1.197877049446106, -0.10660219192504883, 0.8165486454963684, -0.19327527284622192, -0.5552244782447815, 0.17896990478038788, -0.4602563977241516, -0.5135595202445984, -0.12594524025917053, -0.47905460000038147, -0.3905102610588074, 0.31747856736183167, -0.5769801139831543, -0.45057520270347595, -0.3940975069999695, -0.36201009154319763, 0.24426598846912384, -0.3365726172924042, -0.36668452620506287, -0.12018673121929169, -0.430741548538208, 2.2267544269561768, -0.18771202862262726, -0.2154715359210968, -0.13131451606750488, -0.1849401444196701, -0.47187021374702454, -0.3656105101108551, -0.355214923620224, -0.15113069117069244, 0.7459027767181396, -0.41375529766082764, 0.16143029928207397, 0.43126195669174194, -0.18194828927516937, -0.47699105739593506, -0.4151880443096161, -0.32969555258750916, -0.5792691707611084, 0.03629999980330467, 1.0528254508972168, -0.3849882185459137, -0.08323849737644196, 0.04642031341791153, -0.10036056488752365, -0.5141244530677795, -0.47858911752700806, -0.6394901275634766, -0.45533379912376404, -0.40064141154289246, -0.3982942998409271, -0.4670689105987549, -0.3432667553424835, -0.2586313486099243, 0.2617478668689728, 0.2694063186645508, -0.2988566756248474, -0.35216546058654785, -0.2520088851451874, -0.20227275788784027, -0.21042288839817047, -0.39688169956207275, -0.3769291043281555, -0.31731364130973816, 0.201764777302742, -0.31320345401763916, -0.41533178091049194, -0.1609298139810562, -0.5694788694381714, -0.3777630031108856, -0.33971652388572693, -0.2870209515094757, 1.2343990802764893, -0.4023244380950928, -0.2932952344417572, -0.2943418323993683, 0.07249372452497482, 0.0972626805305481, -0.6246746182441711, -0.2669993042945862, -0.46659064292907715, -0.4726969301700592, -0.249139204621315, -0.19341148436069489, -0.3529823124408722, -0.5187646150588989, -0.23471562564373016, -0.1714777648448944, -0.62372225522995, -0.454110711812973, -0.4441434442996979, -0.3113272786140442, -0.013685007579624653, -0.42219817638397217, -0.4243638813495636, 3.5253777503967285, -0.02132951095700264, -0.21968263387680054, -0.4329551160335541, 0.0394897498190403, 0.08411215990781784, -0.39214888215065, -0.3660376965999603, 0.11961787939071655, 1.1616449356079102, -0.22794945538043976, 0.08784030377864838, -0.19203874468803406, -0.4135148227214813, 2.4640889167785645, 0.7958130240440369, 3.0702922344207764, 0.37362080812454224, -0.0717393159866333, -0.5702369809150696, -0.36616256833076477, -0.29845449328422546, -0.39921918511390686, -0.3415278196334839, -0.0054674516431987286, 0.015889158472418785, 0.0058571211993694305, -0.1854112297296524, -0.20037634670734406, 0.13137419521808624, -0.6038501262664795, 0.11223845183849335, -0.46816736459732056, -0.3911254405975342, -0.13949358463287354, -0.03794005140662193, -0.4411564767360687, -0.23430581390857697, -0.027196144685149193, -0.4995994567871094, -0.4466935992240906, -0.2612225115299225, 3.079653263092041, -0.17999432981014252, -0.6271489262580872, 1.0752794742584229, -0.2329789400100708, -0.109673872590065, -0.48294299840927124, -0.372143030166626, -0.1447506695985794, -0.39078646898269653, -0.3540289103984833, -0.129206120967865, -0.15597453713417053, 0.10989724844694138, -0.48004037141799927, -0.6089557409286499, -0.1373056024312973, 0.8598549962043762, -0.058619335293769836, -0.1632215678691864, -0.41967371106147766, -0.09663023799657822, -0.5690429210662842, -0.11250539869070053, -0.4867139160633087, -0.09427152574062347, -0.527409017086029, -0.23198573291301727, -0.33283770084381104, 0.08404628932476044, 0.08150195330381393, -0.2576097846031189, 10.841639518737793, -0.4277721345424652, 2.5644643306732178, -0.23716700077056885, -0.2932429015636444, -0.23500244319438934, -0.3921356499195099, -0.3930918276309967, -0.1662684828042984, -0.41570737957954407, -0.4644210636615753, 1.5997579097747803, -0.4388902187347412, -0.38915368914604187, -0.2567516267299652, -0.24850812554359436, 4.021404266357422, 1.3269679546356201, -0.15503744781017303, -0.5823807716369629, -0.28357765078544617, -0.39998573064804077, -0.21097852289676666, -0.2965456247329712, -0.5213351845741272, 0.3429546058177948, -0.05138855427503586, -0.49596861004829407, -0.25720736384391785, -0.4802433252334595, 0.6227928996086121, -0.43838369846343994, -0.33396437764167786, -0.4038170576095581, 7.375744342803955, 0.07148914784193039, -0.5944722890853882, -0.14861032366752625, -0.45887771248817444, -0.48893725872039795, -0.2704973518848419, -0.3733580410480499, -0.09992137551307678, -0.2616230845451355, -0.3469439744949341, -0.3936728835105896, -0.6809180974960327, -0.16854242980480194, -0.26660871505737305, -0.242160364985466, -0.29643383622169495, -0.335173636674881, 3.805873394012451, 0.5564902424812317, -0.3368176221847534, -0.45123371481895447, -0.41717591881752014, -0.5040650367736816, -0.252065509557724, -0.31248795986175537, 2.1461050510406494, -0.35283589363098145, 0.30434858798980713, 0.39220303297042847, -0.4738504886627197, -0.2487250119447708, -0.17062585055828094, -0.42741408944129944, -0.30654245615005493, 0.05780840292572975, -0.5287315249443054, -0.45600253343582153, -0.22870422899723053, -0.07455745339393616, -0.2773454785346985, -0.1647312492132187, -0.3692825734615326, -0.36109790205955505, -0.4890686273574829, 0.03167246654629707, -0.5579146146774292, -0.41387227177619934, -0.3220857083797455, -0.22033940255641937, -0.49730783700942993, -0.4312640130519867, -0.06764835119247437, -0.1732744723558426, 0.08636636286973953, -0.383421391248703, -0.4544812738895416, -0.3193613886833191, -0.2626229226589203, 0.8953416347503662, -0.15842074155807495, -0.5303774476051331, -0.4744170904159546, -0.46160271763801575, 2.7385482788085938, 0.19219084084033966, 0.7718687057495117, -0.4242803454399109, -0.48004597425460815, -0.1149754598736763, 7.025172233581543, 0.10711897909641266, -0.2783285975456238, -0.4222298264503479, -0.13438697159290314, -0.4479515254497528, -0.3305852711200714, -0.22183729708194733, 0.4271072447299957, 0.890516459941864, -0.4032193124294281, 0.15574021637439728, -0.34743714332580566, -0.33419838547706604, 0.1203153133392334, -0.23514343798160553, -0.27515971660614014, 0.08713264018297195, -0.31035444140434265, -0.032577019184827805, -0.45064598321914673, -0.3724052309989929, -0.23772533237934113, -0.23396334052085876, -0.4966205060482025, -0.14148391783237457, -0.5249841809272766, -0.2683178782463074, -0.4627879559993744, -0.23155243694782257, -0.2080514281988144, 4.7994465827941895, -0.2645770013332367, 1.1983383893966675], \"xaxis\": \"x\", \"y\": [-0.3832944631576538, 1.4494348764419556, -0.024486811831593513, -0.8895841836929321, -0.9218374490737915, -0.5627074241638184, -0.020716186612844467, -0.6283097267150879, -0.5224980711936951, 0.0719422921538353, 1.1515189409255981, -1.0247201919555664, 1.556545376777649, -0.4112999141216278, -0.30242493748664856, 0.27933764457702637, -1.3827461004257202, -0.7492779493331909, -0.3802233338356018, -0.2377271205186844, -0.35948601365089417, 0.6082471609115601, 1.0936518907546997, 1.1003671884536743, -0.25692740082740784, -0.32630205154418945, -0.0016750027425587177, -0.25486475229263306, -0.27458885312080383, -1.0292069911956787, 0.6091203093528748, 1.25848388671875, 2.1441140174865723, -0.27977487444877625, 1.528118371963501, 0.6959368586540222, -0.14437057077884674, -0.6107572913169861, 1.1629273891448975, -0.19739073514938354, 0.4159192442893982, 0.2914431691169739, 0.2532310485839844, -0.6956168413162231, 0.9145351648330688, 0.09831371158361435, 0.7579588294029236, 0.15792885422706604, -0.6705811023712158, 0.005144570022821426, 0.5059369802474976, 1.136594533920288, 0.5922330617904663, 3.7105119228363037, -0.1359618604183197, 0.8009780645370483, -0.1883203536272049, -0.79134202003479, -0.49056676030158997, 0.28856077790260315, 0.13371673226356506, 1.0100207328796387, 0.524933934211731, -0.3228851854801178, -0.8848679065704346, 0.5193092823028564, -0.09689749777317047, -0.8387842178344727, -1.3668954372406006, -0.32084187865257263, -0.24738630652427673, -0.2970157265663147, 0.8775789141654968, 0.5406566858291626, 0.7014279365539551, 0.4236934781074524, 0.24552109837532043, 1.3949940204620361, 1.4127992391586304, -1.3659350872039795, 0.11797405779361725, 0.039578307420015335, 0.31324562430381775, 0.13038836419582367, 0.6343646049499512, 0.7315191626548767, 0.42236801981925964, 0.3370453715324402, 0.10529543459415436, -0.6125996112823486, -0.742933452129364, -0.42332422733306885, -0.17129778861999512, 0.051011934876441956, -0.6654511094093323, -0.7883972525596619, 1.2362635135650635, 0.31864118576049805, -0.9902639985084534, 0.025284508243203163, -0.20079642534255981, 0.8761330842971802, -0.021689286455512047, 0.3740995228290558, 0.7650014162063599, 0.03227356821298599, 0.2916671931743622, -0.42302975058555603, -0.2945168614387512, -1.0893490314483643, 0.11313369870185852, -0.04664280638098717, 0.2682192027568817, -0.38445228338241577, 1.8626075983047485, -0.5528952479362488, -0.07865467667579651, 1.1481715440750122, -0.5650692582130432, 0.47575482726097107, -0.2634384036064148, -0.4980213940143585, -0.5817720890045166, -1.412244439125061, 0.3263956606388092, 0.21282906830310822, -0.9334012866020203, -0.41828063130378723, -0.29199445247650146, -0.0840206891298294, -0.5065953135490417, -0.2416052222251892, -0.3384442627429962, -1.4109761714935303, 0.1974007785320282, -0.8391534090042114, -1.136888861656189, -0.158958300948143, 0.8801398277282715, -0.5949633717536926, 0.17096582055091858, 0.11868941783905029, -0.30322718620300293, -0.16802948713302612, 0.7172389030456543, 0.14590886235237122, 0.9242079257965088, -1.3413946628570557, 0.30493903160095215, -0.2850204110145569, -0.2804608941078186, -0.1707097589969635, -0.45603224635124207, -0.8558421730995178, 0.19027850031852722, -0.6684505343437195, -0.7463469505310059, -0.3171517848968506, 0.6644308567047119, -0.3398076295852661, -0.8680627346038818, -0.48067110776901245, -0.23301294445991516, -0.024205420166254044, 0.77292799949646, 2.7019433975219727, -0.27714067697525024, -0.4679342210292816, -0.3467591106891632, -1.014715552330017, -1.1933836936950684, -0.3298407793045044, 0.4583997428417206, -0.6076757907867432, -0.726893961429596, 0.06118343025445938, -0.6296692490577698, 0.12811709940433502, 0.4017898142337799, 1.0649021863937378, -0.5077389478683472, -0.0043043592013418674, 0.7375068068504333, 0.5313432812690735, 0.13761524856090546, 0.7073273658752441, -0.17087668180465698, 0.46397337317466736, 1.579268455505371, 0.5551087856292725, -0.5650309920310974, 0.3620540201663971, -1.0400587320327759, 1.708542823791504, 0.25373366475105286, -0.5517804026603699, 1.8389785289764404, -1.6123114824295044, -0.9289627075195312, -0.3972863554954529, 0.22436009347438812, 0.06130298972129822, 2.0247511863708496, -0.5704817771911621, 0.7589007616043091, -0.697608470916748, -0.02546890266239643, 0.3379303216934204, 0.3125634491443634, -0.24940042197704315, -0.21618947386741638, -0.24273958802223206, -0.6970805525779724, 1.2475465536117554, 0.8690685033798218, -0.31124746799468994, -0.3528285026550293, 0.41112369298934937, -0.28270694613456726, -1.1430033445358276, -0.41094812750816345, 0.4905938506126404, 1.2028330564498901, -0.9593984484672546, 0.2118481695652008, 1.0038816928863525, -0.9940311908721924, -0.12379848957061768, 0.3176899552345276, -0.04362642392516136, 1.4767320156097412, -0.3165425658226013, 0.11024494469165802, 1.0209295749664307, 0.39776432514190674, -0.3410796523094177, 0.6935045719146729, 0.027049167081713676, -0.8191072344779968, -0.3836231529712677, -0.14000791311264038, 0.16226106882095337, -0.5406010746955872, -1.0977660417556763, 0.21882395446300507, 0.17054618895053864, -0.6421381235122681, -1.392257571220398, -1.1525534391403198, -0.7853760123252869, -0.7136055827140808, -1.0123029947280884, 0.43712788820266724, -0.7296527624130249, 0.18420299887657166, -0.8042256832122803, 0.44614487886428833, -0.2415664792060852, 0.7963953018188477, -0.7671511173248291, -0.7328934669494629, 0.5859763026237488, -2.2066617012023926, -0.17732413113117218, 1.2479498386383057, -0.5274879932403564, 0.14709937572479248, -0.2751217186450958, -0.18569087982177734, -0.48660215735435486, -0.5351691842079163, -0.611723780632019, -0.026015831157565117, 1.1471608877182007, -0.5291286110877991, 0.46481648087501526, -0.16714338958263397, -0.512548565864563, 1.4080314636230469, -0.6746301054954529, -0.024973399937152863, -0.47010380029678345, -0.5982130765914917, -0.544755220413208, -0.6721249222755432, -0.8205655217170715, -0.2278449386358261, -0.8471041321754456, -0.2976897954940796, 0.09953372180461884, 0.1728176474571228, 0.23464885354042053, 0.17811726033687592, -0.01181410439312458, -0.7427076697349548, -0.1714535355567932, -3.188034772872925, 1.3602352142333984, -0.28523892164230347, -0.16707825660705566, -0.39589497447013855, 0.37592145800590515, -0.31878191232681274, -0.10922252386808395, 1.2668296098709106, -0.13320615887641907, 0.31668296456336975, 1.0437464714050293, -0.3094758689403534, -0.19227810204029083, -0.22749347984790802, -0.11380843073129654, 0.6106958985328674, -0.30386850237846375, 2.9191043376922607, -1.4264432191848755, -0.16285233199596405, -0.5024970173835754, -0.4136824905872345, -0.26536625623703003, 0.18848396837711334, 0.29373982548713684, 0.8548508882522583, -0.056640151888132095, -0.5824530720710754, 0.19129957258701324, -0.20028215646743774, -0.4263154864311218, -0.8010497689247131, 0.33961641788482666, 0.25974538922309875, -1.3872753381729126, 0.2304307222366333, -0.0954698994755745, -0.392617791891098, -0.11849868297576904, 0.8025981187820435, 0.42291876673698425, 0.07604960352182388, 0.8383896350860596, -0.38203781843185425, -0.7826706171035767, 0.06479156017303467, 0.10311146080493927, 0.9244275093078613, -0.17195776104927063, -0.5542795062065125, -0.17019952833652496, -0.3262563645839691, 0.9646052122116089, -0.09063038975000381, 0.15580208599567413, 0.517547070980072, -0.43620002269744873, 1.0530556440353394, 0.2040683478116989, 0.9975725412368774, 0.25030311942100525, 0.6494466662406921, 0.33048489689826965, 0.32958298921585083, 0.6781402230262756, 0.3259274661540985, 0.8172146677970886, 0.7169461250305176, -0.660251259803772, -0.6204738020896912, -0.8449798822402954, -0.5688310861587524, -0.5280329585075378, -0.6879341006278992, 0.6834385395050049, -0.17352433502674103, -0.9579116106033325, -1.094184160232544, -0.5573659539222717, 0.17742061614990234, 1.8352792263031006, 0.19601264595985413, 0.8365164995193481, -0.8516484498977661, 1.1312894821166992, 0.797040581703186, 1.2393722534179688, 0.6574141383171082, -1.3166816234588623, 0.5027096271514893, -0.26654332876205444, 1.1737080812454224, 0.7983940243721008, -0.06294471025466919, -0.5609541535377502, 0.7523459196090698, 0.49642813205718994, 0.020456507802009583, -0.05997670069336891, 1.556755781173706, -2.89255690574646, 0.4494202435016632, -0.4560534358024597], \"yaxis\": \"y\"}],\n",
              "                        {\"legend\": {\"itemsizing\": \"constant\", \"tracegroupgap\": 0}, \"margin\": {\"t\": 60}, \"template\": {\"data\": {\"bar\": [{\"error_x\": {\"color\": \"#2a3f5f\"}, \"error_y\": {\"color\": \"#2a3f5f\"}, \"marker\": {\"line\": {\"color\": \"#E5ECF6\", \"width\": 0.5}}, \"type\": \"bar\"}], \"barpolar\": [{\"marker\": {\"line\": {\"color\": \"#E5ECF6\", \"width\": 0.5}}, \"type\": \"barpolar\"}], \"carpet\": [{\"aaxis\": {\"endlinecolor\": \"#2a3f5f\", \"gridcolor\": \"white\", \"linecolor\": \"white\", \"minorgridcolor\": \"white\", \"startlinecolor\": \"#2a3f5f\"}, \"baxis\": {\"endlinecolor\": \"#2a3f5f\", \"gridcolor\": \"white\", \"linecolor\": \"white\", \"minorgridcolor\": \"white\", \"startlinecolor\": \"#2a3f5f\"}, \"type\": \"carpet\"}], \"choropleth\": [{\"colorbar\": {\"outlinewidth\": 0, \"ticks\": \"\"}, \"type\": \"choropleth\"}], \"contour\": [{\"colorbar\": {\"outlinewidth\": 0, \"ticks\": \"\"}, \"colorscale\": [[0.0, \"#0d0887\"], [0.1111111111111111, \"#46039f\"], [0.2222222222222222, \"#7201a8\"], [0.3333333333333333, \"#9c179e\"], [0.4444444444444444, \"#bd3786\"], [0.5555555555555556, \"#d8576b\"], [0.6666666666666666, \"#ed7953\"], [0.7777777777777778, \"#fb9f3a\"], [0.8888888888888888, \"#fdca26\"], [1.0, \"#f0f921\"]], \"type\": \"contour\"}], \"contourcarpet\": [{\"colorbar\": {\"outlinewidth\": 0, \"ticks\": \"\"}, \"type\": \"contourcarpet\"}], \"heatmap\": [{\"colorbar\": {\"outlinewidth\": 0, \"ticks\": \"\"}, \"colorscale\": [[0.0, \"#0d0887\"], [0.1111111111111111, \"#46039f\"], [0.2222222222222222, \"#7201a8\"], [0.3333333333333333, \"#9c179e\"], [0.4444444444444444, \"#bd3786\"], [0.5555555555555556, \"#d8576b\"], [0.6666666666666666, \"#ed7953\"], [0.7777777777777778, \"#fb9f3a\"], [0.8888888888888888, \"#fdca26\"], [1.0, \"#f0f921\"]], \"type\": \"heatmap\"}], \"heatmapgl\": [{\"colorbar\": {\"outlinewidth\": 0, \"ticks\": \"\"}, \"colorscale\": [[0.0, \"#0d0887\"], [0.1111111111111111, \"#46039f\"], [0.2222222222222222, \"#7201a8\"], [0.3333333333333333, \"#9c179e\"], [0.4444444444444444, \"#bd3786\"], [0.5555555555555556, \"#d8576b\"], [0.6666666666666666, \"#ed7953\"], [0.7777777777777778, \"#fb9f3a\"], [0.8888888888888888, \"#fdca26\"], [1.0, \"#f0f921\"]], \"type\": \"heatmapgl\"}], \"histogram\": [{\"marker\": {\"colorbar\": {\"outlinewidth\": 0, \"ticks\": \"\"}}, \"type\": \"histogram\"}], \"histogram2d\": [{\"colorbar\": {\"outlinewidth\": 0, \"ticks\": \"\"}, \"colorscale\": [[0.0, \"#0d0887\"], [0.1111111111111111, \"#46039f\"], [0.2222222222222222, \"#7201a8\"], [0.3333333333333333, \"#9c179e\"], [0.4444444444444444, \"#bd3786\"], [0.5555555555555556, \"#d8576b\"], [0.6666666666666666, \"#ed7953\"], [0.7777777777777778, \"#fb9f3a\"], [0.8888888888888888, \"#fdca26\"], [1.0, \"#f0f921\"]], \"type\": \"histogram2d\"}], \"histogram2dcontour\": [{\"colorbar\": {\"outlinewidth\": 0, \"ticks\": \"\"}, \"colorscale\": [[0.0, \"#0d0887\"], [0.1111111111111111, \"#46039f\"], [0.2222222222222222, \"#7201a8\"], [0.3333333333333333, \"#9c179e\"], [0.4444444444444444, \"#bd3786\"], [0.5555555555555556, \"#d8576b\"], [0.6666666666666666, \"#ed7953\"], [0.7777777777777778, \"#fb9f3a\"], [0.8888888888888888, \"#fdca26\"], [1.0, \"#f0f921\"]], \"type\": \"histogram2dcontour\"}], \"mesh3d\": [{\"colorbar\": {\"outlinewidth\": 0, \"ticks\": \"\"}, \"type\": \"mesh3d\"}], \"parcoords\": [{\"line\": {\"colorbar\": {\"outlinewidth\": 0, \"ticks\": \"\"}}, \"type\": \"parcoords\"}], \"pie\": [{\"automargin\": true, \"type\": \"pie\"}], \"scatter\": [{\"marker\": {\"colorbar\": {\"outlinewidth\": 0, \"ticks\": \"\"}}, \"type\": \"scatter\"}], \"scatter3d\": [{\"line\": {\"colorbar\": {\"outlinewidth\": 0, \"ticks\": \"\"}}, \"marker\": {\"colorbar\": {\"outlinewidth\": 0, \"ticks\": \"\"}}, \"type\": \"scatter3d\"}], \"scattercarpet\": [{\"marker\": {\"colorbar\": {\"outlinewidth\": 0, \"ticks\": \"\"}}, \"type\": \"scattercarpet\"}], \"scattergeo\": [{\"marker\": {\"colorbar\": {\"outlinewidth\": 0, \"ticks\": \"\"}}, \"type\": \"scattergeo\"}], \"scattergl\": [{\"marker\": {\"colorbar\": {\"outlinewidth\": 0, \"ticks\": \"\"}}, \"type\": \"scattergl\"}], \"scattermapbox\": [{\"marker\": {\"colorbar\": {\"outlinewidth\": 0, \"ticks\": \"\"}}, \"type\": \"scattermapbox\"}], \"scatterpolar\": [{\"marker\": {\"colorbar\": {\"outlinewidth\": 0, \"ticks\": \"\"}}, \"type\": \"scatterpolar\"}], \"scatterpolargl\": [{\"marker\": {\"colorbar\": {\"outlinewidth\": 0, \"ticks\": \"\"}}, \"type\": \"scatterpolargl\"}], \"scatterternary\": [{\"marker\": {\"colorbar\": {\"outlinewidth\": 0, \"ticks\": \"\"}}, \"type\": \"scatterternary\"}], \"surface\": [{\"colorbar\": {\"outlinewidth\": 0, \"ticks\": \"\"}, \"colorscale\": [[0.0, \"#0d0887\"], [0.1111111111111111, \"#46039f\"], [0.2222222222222222, \"#7201a8\"], [0.3333333333333333, \"#9c179e\"], [0.4444444444444444, \"#bd3786\"], [0.5555555555555556, \"#d8576b\"], [0.6666666666666666, \"#ed7953\"], [0.7777777777777778, \"#fb9f3a\"], [0.8888888888888888, \"#fdca26\"], [1.0, \"#f0f921\"]], \"type\": \"surface\"}], \"table\": [{\"cells\": {\"fill\": {\"color\": \"#EBF0F8\"}, \"line\": {\"color\": \"white\"}}, \"header\": {\"fill\": {\"color\": \"#C8D4E3\"}, \"line\": {\"color\": \"white\"}}, \"type\": \"table\"}]}, \"layout\": {\"annotationdefaults\": {\"arrowcolor\": \"#2a3f5f\", \"arrowhead\": 0, \"arrowwidth\": 1}, \"coloraxis\": {\"colorbar\": {\"outlinewidth\": 0, \"ticks\": \"\"}}, \"colorscale\": {\"diverging\": [[0, \"#8e0152\"], [0.1, \"#c51b7d\"], [0.2, \"#de77ae\"], [0.3, \"#f1b6da\"], [0.4, \"#fde0ef\"], [0.5, \"#f7f7f7\"], [0.6, \"#e6f5d0\"], [0.7, \"#b8e186\"], [0.8, \"#7fbc41\"], [0.9, \"#4d9221\"], [1, \"#276419\"]], \"sequential\": [[0.0, \"#0d0887\"], [0.1111111111111111, \"#46039f\"], [0.2222222222222222, \"#7201a8\"], [0.3333333333333333, \"#9c179e\"], [0.4444444444444444, \"#bd3786\"], [0.5555555555555556, \"#d8576b\"], [0.6666666666666666, \"#ed7953\"], [0.7777777777777778, \"#fb9f3a\"], [0.8888888888888888, \"#fdca26\"], [1.0, \"#f0f921\"]], \"sequentialminus\": [[0.0, \"#0d0887\"], [0.1111111111111111, \"#46039f\"], [0.2222222222222222, \"#7201a8\"], [0.3333333333333333, \"#9c179e\"], [0.4444444444444444, \"#bd3786\"], [0.5555555555555556, \"#d8576b\"], [0.6666666666666666, \"#ed7953\"], [0.7777777777777778, \"#fb9f3a\"], [0.8888888888888888, \"#fdca26\"], [1.0, \"#f0f921\"]]}, \"colorway\": [\"#636efa\", \"#EF553B\", \"#00cc96\", \"#ab63fa\", \"#FFA15A\", \"#19d3f3\", \"#FF6692\", \"#B6E880\", \"#FF97FF\", \"#FECB52\"], \"font\": {\"color\": \"#2a3f5f\"}, \"geo\": {\"bgcolor\": \"white\", \"lakecolor\": \"white\", \"landcolor\": \"#E5ECF6\", \"showlakes\": true, \"showland\": true, \"subunitcolor\": \"white\"}, \"hoverlabel\": {\"align\": \"left\"}, \"hovermode\": \"closest\", \"mapbox\": {\"style\": \"light\"}, \"paper_bgcolor\": \"white\", \"plot_bgcolor\": \"#E5ECF6\", \"polar\": {\"angularaxis\": {\"gridcolor\": \"white\", \"linecolor\": \"white\", \"ticks\": \"\"}, \"bgcolor\": \"#E5ECF6\", \"radialaxis\": {\"gridcolor\": \"white\", \"linecolor\": \"white\", \"ticks\": \"\"}}, \"scene\": {\"xaxis\": {\"backgroundcolor\": \"#E5ECF6\", \"gridcolor\": \"white\", \"gridwidth\": 2, \"linecolor\": \"white\", \"showbackground\": true, \"ticks\": \"\", \"zerolinecolor\": \"white\"}, \"yaxis\": {\"backgroundcolor\": \"#E5ECF6\", \"gridcolor\": \"white\", \"gridwidth\": 2, \"linecolor\": \"white\", \"showbackground\": true, \"ticks\": \"\", \"zerolinecolor\": \"white\"}, \"zaxis\": {\"backgroundcolor\": \"#E5ECF6\", \"gridcolor\": \"white\", \"gridwidth\": 2, \"linecolor\": \"white\", \"showbackground\": true, \"ticks\": \"\", \"zerolinecolor\": \"white\"}}, \"shapedefaults\": {\"line\": {\"color\": \"#2a3f5f\"}}, \"ternary\": {\"aaxis\": {\"gridcolor\": \"white\", \"linecolor\": \"white\", \"ticks\": \"\"}, \"baxis\": {\"gridcolor\": \"white\", \"linecolor\": \"white\", \"ticks\": \"\"}, \"bgcolor\": \"#E5ECF6\", \"caxis\": {\"gridcolor\": \"white\", \"linecolor\": \"white\", \"ticks\": \"\"}}, \"title\": {\"x\": 0.05}, \"xaxis\": {\"automargin\": true, \"gridcolor\": \"white\", \"linecolor\": \"white\", \"ticks\": \"\", \"title\": {\"standoff\": 15}, \"zerolinecolor\": \"white\", \"zerolinewidth\": 2}, \"yaxis\": {\"automargin\": true, \"gridcolor\": \"white\", \"linecolor\": \"white\", \"ticks\": \"\", \"title\": {\"standoff\": 15}, \"zerolinecolor\": \"white\", \"zerolinewidth\": 2}}}, \"xaxis\": {\"anchor\": \"y\", \"domain\": [0.0, 1.0], \"title\": {\"text\": \"x\"}}, \"yaxis\": {\"anchor\": \"x\", \"domain\": [0.0, 1.0], \"title\": {\"text\": \"y\"}}},\n",
              "                        {\"responsive\": true}\n",
              "                    ).then(function(){\n",
              "                            \n",
              "var gd = document.getElementById('2f20536b-767b-4ccf-a426-ab400d394cd5');\n",
              "var x = new MutationObserver(function (mutations, observer) {{\n",
              "        var display = window.getComputedStyle(gd).display;\n",
              "        if (!display || display === 'none') {{\n",
              "            console.log([gd, 'removed!']);\n",
              "            Plotly.purge(gd);\n",
              "            observer.disconnect();\n",
              "        }}\n",
              "}});\n",
              "\n",
              "// Listen for the removal of the full notebook cells\n",
              "var notebookContainer = gd.closest('#notebook-container');\n",
              "if (notebookContainer) {{\n",
              "    x.observe(notebookContainer, {childList: true});\n",
              "}}\n",
              "\n",
              "// Listen for the clearing of the current output cell\n",
              "var outputEl = gd.closest('.output');\n",
              "if (outputEl) {{\n",
              "    x.observe(outputEl, {childList: true});\n",
              "}}\n",
              "\n",
              "                        })\n",
              "                };\n",
              "                \n",
              "            </script>\n",
              "        </div>\n",
              "</body>\n",
              "</html>"
            ]
          },
          "metadata": {
            "tags": []
          }
        }
      ]
    },
    {
      "cell_type": "code",
      "metadata": {
        "id": "-nHVjV6NuqRV"
      },
      "source": [
        "from sklearn.manifold import TSNE\n",
        "\n",
        "#\n",
        "# TODO: make a 2D t-SNE projection of the selected words.\n",
        "# Things will cluster much nicer\n",
        "#\n",
        "top_coords = TSNE(n_components=2).fit_transform(top_vecs)"
      ],
      "execution_count": 87,
      "outputs": []
    },
    {
      "cell_type": "code",
      "metadata": {
        "colab": {
          "base_uri": "https://localhost:8080/",
          "height": 542
        },
        "id": "hMpd8nkTFlQy",
        "outputId": "f19cac00-9feb-4fb1-94bb-da7a337c433c"
      },
      "source": [
        "fig = px.scatter(x=top_coords[:, 0], y=top_coords[:, 1], text=top_words, size=np.zeros(len(top_words)))\n",
        "fig.show()"
      ],
      "execution_count": 88,
      "outputs": [
        {
          "output_type": "display_data",
          "data": {
            "text/html": [
              "<html>\n",
              "<head><meta charset=\"utf-8\" /></head>\n",
              "<body>\n",
              "    <div>\n",
              "            <script src=\"https://cdnjs.cloudflare.com/ajax/libs/mathjax/2.7.5/MathJax.js?config=TeX-AMS-MML_SVG\"></script><script type=\"text/javascript\">if (window.MathJax) {MathJax.Hub.Config({SVG: {font: \"STIX-Web\"}});}</script>\n",
              "                <script type=\"text/javascript\">window.PlotlyConfig = {MathJaxConfig: 'local'};</script>\n",
              "        <script src=\"https://cdn.plot.ly/plotly-latest.min.js\"></script>    \n",
              "            <div id=\"fcd90f53-3364-42b5-a32e-dc4d526603c6\" class=\"plotly-graph-div\" style=\"height:525px; width:100%;\"></div>\n",
              "            <script type=\"text/javascript\">\n",
              "                \n",
              "                    window.PLOTLYENV=window.PLOTLYENV || {};\n",
              "                    \n",
              "                if (document.getElementById(\"fcd90f53-3364-42b5-a32e-dc4d526603c6\")) {\n",
              "                    Plotly.newPlot(\n",
              "                        'fcd90f53-3364-42b5-a32e-dc4d526603c6',\n",
              "                        [{\"hoverlabel\": {\"namelength\": 0}, \"hovertemplate\": \"x=%{x}<br>y=%{y}<br>size=%{marker.size}<br>text=%{text}\", \"legendgroup\": \"\", \"marker\": {\"color\": \"#636efa\", \"size\": [0.0, 0.0, 0.0, 0.0, 0.0, 0.0, 0.0, 0.0, 0.0, 0.0, 0.0, 0.0, 0.0, 0.0, 0.0, 0.0, 0.0, 0.0, 0.0, 0.0, 0.0, 0.0, 0.0, 0.0, 0.0, 0.0, 0.0, 0.0, 0.0, 0.0, 0.0, 0.0, 0.0, 0.0, 0.0, 0.0, 0.0, 0.0, 0.0, 0.0, 0.0, 0.0, 0.0, 0.0, 0.0, 0.0, 0.0, 0.0, 0.0, 0.0, 0.0, 0.0, 0.0, 0.0, 0.0, 0.0, 0.0, 0.0, 0.0, 0.0, 0.0, 0.0, 0.0, 0.0, 0.0, 0.0, 0.0, 0.0, 0.0, 0.0, 0.0, 0.0, 0.0, 0.0, 0.0, 0.0, 0.0, 0.0, 0.0, 0.0, 0.0, 0.0, 0.0, 0.0, 0.0, 0.0, 0.0, 0.0, 0.0, 0.0, 0.0, 0.0, 0.0, 0.0, 0.0, 0.0, 0.0, 0.0, 0.0, 0.0, 0.0, 0.0, 0.0, 0.0, 0.0, 0.0, 0.0, 0.0, 0.0, 0.0, 0.0, 0.0, 0.0, 0.0, 0.0, 0.0, 0.0, 0.0, 0.0, 0.0, 0.0, 0.0, 0.0, 0.0, 0.0, 0.0, 0.0, 0.0, 0.0, 0.0, 0.0, 0.0, 0.0, 0.0, 0.0, 0.0, 0.0, 0.0, 0.0, 0.0, 0.0, 0.0, 0.0, 0.0, 0.0, 0.0, 0.0, 0.0, 0.0, 0.0, 0.0, 0.0, 0.0, 0.0, 0.0, 0.0, 0.0, 0.0, 0.0, 0.0, 0.0, 0.0, 0.0, 0.0, 0.0, 0.0, 0.0, 0.0, 0.0, 0.0, 0.0, 0.0, 0.0, 0.0, 0.0, 0.0, 0.0, 0.0, 0.0, 0.0, 0.0, 0.0, 0.0, 0.0, 0.0, 0.0, 0.0, 0.0, 0.0, 0.0, 0.0, 0.0, 0.0, 0.0, 0.0, 0.0, 0.0, 0.0, 0.0, 0.0, 0.0, 0.0, 0.0, 0.0, 0.0, 0.0, 0.0, 0.0, 0.0, 0.0, 0.0, 0.0, 0.0, 0.0, 0.0, 0.0, 0.0, 0.0, 0.0, 0.0, 0.0, 0.0, 0.0, 0.0, 0.0, 0.0, 0.0, 0.0, 0.0, 0.0, 0.0, 0.0, 0.0, 0.0, 0.0, 0.0, 0.0, 0.0, 0.0, 0.0, 0.0, 0.0, 0.0, 0.0, 0.0, 0.0, 0.0, 0.0, 0.0, 0.0, 0.0, 0.0, 0.0, 0.0, 0.0, 0.0, 0.0, 0.0, 0.0, 0.0, 0.0, 0.0, 0.0, 0.0, 0.0, 0.0, 0.0, 0.0, 0.0, 0.0, 0.0, 0.0, 0.0, 0.0, 0.0, 0.0, 0.0, 0.0, 0.0, 0.0, 0.0, 0.0, 0.0, 0.0, 0.0, 0.0, 0.0, 0.0, 0.0, 0.0, 0.0, 0.0, 0.0, 0.0, 0.0, 0.0, 0.0, 0.0, 0.0, 0.0, 0.0, 0.0, 0.0, 0.0, 0.0, 0.0, 0.0, 0.0, 0.0, 0.0, 0.0, 0.0, 0.0, 0.0, 0.0, 0.0, 0.0, 0.0, 0.0, 0.0, 0.0, 0.0, 0.0, 0.0, 0.0, 0.0, 0.0, 0.0, 0.0, 0.0, 0.0, 0.0, 0.0, 0.0, 0.0, 0.0, 0.0, 0.0, 0.0, 0.0, 0.0, 0.0, 0.0, 0.0, 0.0, 0.0, 0.0, 0.0, 0.0, 0.0, 0.0, 0.0, 0.0, 0.0, 0.0, 0.0, 0.0, 0.0, 0.0, 0.0, 0.0, 0.0, 0.0, 0.0, 0.0, 0.0, 0.0, 0.0, 0.0, 0.0, 0.0, 0.0, 0.0, 0.0, 0.0, 0.0, 0.0, 0.0, 0.0, 0.0, 0.0, 0.0, 0.0, 0.0, 0.0, 0.0, 0.0, 0.0, 0.0, 0.0, 0.0, 0.0, 0.0, 0.0, 0.0, 0.0, 0.0, 0.0, 0.0, 0.0], \"sizemode\": \"area\", \"sizeref\": 0.0, \"symbol\": \"circle\"}, \"mode\": \"markers+text\", \"name\": \"\", \"showlegend\": false, \"text\": [\"family\", \"user\", \"based\", \"area\", \"became\", \"york\", \"life\", \"british\", \"international\", \"game\", \"above\", \"club\", \"your\", \"until\", \"early\", \"best\", \"west\", \"house\", \"company\", \"general\", \"left\", \"very\", \"here\", \"don\", \"living\", \"day\", \"several\", \"place\", \"party\", \"college\", \"result\", \"keep\", \"appropriate\", \"four\", \"subsequent\", \"even\", \"class\", \"government\", \"how\", \"called\", \"did\", \"each\", \"found\", \"center\", \"per\", \"style\", \"com\", \"long\", \"country\", \"back\", \"way\", \"does\", \"www\", \"modify\", \"end\", \"make\", \"public\", \"played\", \"won\", \"another\", \"released\", \"added\", \"support\", \"games\", \"former\", \"those\", \"films\", \"church\", \"east\", \"line\", \"major\", \"members\", \"good\", \"much\", \"image\", \"show\", \"still\", \"think\", \"below\", \"town\", \"last\", \"system\", \"right\", \"song\", \"non\", \"notable\", \"section\", \"single\", \"included\", \"align\", \"home\", \"women\", \"television\", \"seed\", \"member\", \"goals\", \"sources\", \"book\", \"station\", \"order\", \"old\", \"information\", \"set\", \"own\", \"text\", \"band\", \"point\", \"local\", \"around\", \"river\", \"top\", \"main\", \"language\", \"french\", \"https\", \"named\", \"off\", \"note\", \"career\", \"original\", \"age\", \"service\", \"established\", \"located\", \"said\", \"website\", \"population\", \"air\", \"german\", \"law\", \"military\", \"great\", \"within\", \"clubs\", \"published\", \"president\", \"park\", \"official\", \"case\", \"london\", \"times\", \"although\", \"small\", \"third\", \"different\", \"due\", \"get\", \"village\", \"closed\", \"art\", \"player\", \"final\", \"community\", \"held\", \"again\", \"began\", \"army\", \"award\", \"without\", \"death\", \"built\", \"men\", \"large\", \"site\", \"using\", \"deletion\", \"white\", \"along\", \"five\", \"central\", \"road\", \"children\", \"free\", \"took\", \"england\", \"include\", \"association\", \"down\", \"given\", \"source\", \"california\", \"man\", \"version\", \"written\", \"created\", \"media\", \"black\", \"though\", \"php\", \"report\", \"building\", \"take\", \"division\", \"comment\", \"having\", \"king\", \"edit\", \"stadium\", \"died\", \"ship\", \"research\", \"record\", \"archive\", \"places\", \"undo\", \"cup\", \"records\", \"often\", \"few\", \"received\", \"side\", \"power\", \"education\", \"know\", \"category\", \"water\", \"political\", \"species\", \"field\", \"near\", \"australia\", \"video\", \"need\", \"island\", \"form\", \"find\", \"served\", \"play\", \"project\", \"according\", \"//en\", \"radio\", \"works\", \"proposed\", \"every\", \"development\", \"example\", \"live\", \"union\", \"india\", \"next\", \"special\", \"court\", \"region\", \"little\", \"short\", \"william\", \"province\", \"western\", \"son\", \"france\", \"council\", \"others\", \"royal\", \"current\", \"street\", \"full\", \"red\", \"too\", \"department\", \"san\", \"help\", \"subdivision_type\", \"among\", \"preserved\", \"james\", \"open\", \"force\", \"position\", \"head\", \"director\", \"father\", \"track\", \"http\", \"canada\", \"never\", \"australian\", \"george\", \"org/w/index\", \"jpg\", \"level\", \"late\", \"summer\", \"society\", \"moved\", \"office\", \"period\", \"championship\", \"round\", \"story\", \"songs\", \"various\", \"file\", \"days\", \"land\", \"business\", \"subdivision_name\", \"reason\", \"america\", \"million\", \"european\", \"term\", \"six\", \"post\", \"why\", \"produced\", \"making\", \"subject\", \"young\", \"total\", \"david\", \"science\", \"related\", \"rock\", \"archived\", \"railway\", \"become\", \"led\", \"students\", \"started\", \"news\", \"described\", \"//www\", \"role\", \"election\", \"albums\", \"present\", \"indian\", \"kingdom\", \"books\", \"important\", \"northern\", \"love\", \"run\", \"canadian\", \"press\", \"rather\", \"type\", \"act\", \"editor\", \"came\", \"schools\", \"program\", \"once\", \"issue\", \"social\", \"germany\", \"production\", \"male\", \"might\", \"awards\", \"points\", \"similar\", \"professional\", \"say\", \"background\", \"enough\", \"lead\", \"either\", \"common\", \"overlap\", \"data\", \"color\", \"better\", \"person\", \"services\", \"bgcolor\", \"museum\", \"battle\", \"went\", \"sports\", \"already\", \"currently\", \"hall\", \"buildings\", \"historic\", \"date\", \"deleted\", \"considered\", \"change\", \"location\", \"seems\", \"must\", \"yes\", \"our\", \"southern\", \"least\", \"lost\", \"something\", \"review\", \"together\", \"robert\", \"fact\", \"less\", \"japanese\", \"groups\", \"content\", \"birth_place\", \"involved\", \"isbn\"], \"type\": \"scatter\", \"x\": [-1.4126449823379517, 8.639630317687988, -1.9821245670318604, -9.503738403320312, -5.56629753112793, 2.4177136421203613, -3.361922025680542, 4.305142402648926, -6.256359100341797, 16.075284957885742, 7.973475456237793, -16.5803279876709, 7.482241153717041, -3.439932346343994, -2.917241334915161, 9.049020767211914, -12.81379222869873, -13.690031051635742, -9.935882568359375, -3.233107566833496, 20.29412269592285, 5.618117809295654, 8.588921546936035, 9.60543155670166, -16.99138641357422, -0.360983282327652, -2.4050655364990234, -8.529105186462402, -3.094581127166748, -8.727132797241211, 1.7445937395095825, 10.960827827453613, 11.904706954956055, -2.7397265434265137, 11.761972427368164, 2.9220125675201416, 0.16564977169036865, -4.454710960388184, 7.7392096519470215, -0.46123209595680237, 2.145718574523926, -1.1559805870056152, 0.35421222448349, 19.200599670410156, 12.13485336303711, 21.894302368164062, 14.49329662322998, 8.055667877197266, -8.241127014160156, -0.4631677567958832, 4.408595561981201, 5.756569862365723, 16.815799713134766, 11.21523666381836, -1.835689902305603, 6.959533214569092, -3.92972469329834, 17.86322593688965, 3.69291090965271, 0.2596392333507538, 13.232366561889648, 11.99979305267334, 6.417037487030029, 16.182022094726562, -6.935835838317871, 0.4022200107574463, 1.830673098564148, -13.983678817749023, -12.792743682861328, -16.929370880126953, -4.732609748840332, -13.30248737335205, 7.6462202072143555, 4.8234639167785645, 6.229204177856445, 1.5179736614227295, 1.4156876802444458, 8.687809944152832, 7.976640701293945, -15.3391752243042, 1.5014559030532837, 2.874101400375366, 20.229631423950195, 8.622974395751953, 8.4298734664917, 10.655309677124023, 3.8660318851470947, 1.9448117017745972, -2.1164863109588623, 21.76580047607422, -12.497149467468262, -15.79035472869873, 1.5406326055526733, 4.079155921936035, -13.246310234069824, -6.71287727355957, 14.860328674316406, 12.38371753692627, -18.556859970092773, 4.101641654968262, -0.24038287997245789, 13.403715133666992, -2.2663815021514893, 0.32005423307418823, 20.99652671813965, 7.917107582092285, -5.4596357345581055, -3.4320974349975586, -8.221174240112305, -11.65479564666748, 0.8575547337532043, -5.996481895446777, 5.186591625213623, 3.699031352996826, 17.041059494018555, -4.680695056915283, -0.7239292860031128, -1.663565993309021, -4.919995307922363, 3.012770652770996, -1.5187225341796875, -12.591925621032715, -7.726500511169434, -12.919024467468262, 1.0770564079284668, -19.54583168029785, -9.72632122039795, 11.183006286621094, 4.027004241943359, 3.4444048404693604, 9.726859092712402, 5.3053812980651855, -3.14062762260437, -16.721355438232422, 12.637245178222656, -11.239293098449707, -14.042193412780762, -19.724376678466797, 4.156500816345215, 2.412501096725464, 1.9294397830963135, 1.2028788328170776, 5.273834228515625, 1.6323471069335938, -1.4173763990402222, 1.3879036903381348, 8.42597770690918, -15.40259075164795, 5.679346084594727, -1.2125332355499268, 17.820396423339844, 2.543386459350586, -3.361518621444702, -8.02014446258545, 0.021326225250959396, -5.2458062171936035, 9.994794845581055, 10.074615478515625, 3.647233009338379, -3.9389216899871826, -12.57155704498291, -15.788996696472168, 5.255116939544678, -18.972980499267578, 3.0179762840270996, 10.264915466308594, 19.309171676635742, -7.897878170013428, -2.831885576248169, -12.395069122314453, -10.542160034179688, -1.3159030675888062, 2.0680971145629883, -7.258473873138428, 2.448056936264038, -2.1426889896392822, -10.877058029174805, -0.6162877082824707, -0.6604130864143372, 14.86783218383789, -4.442823886871338, 0.26359373331069946, 3.588789224624634, 11.488526344299316, -7.755403995513916, 14.142667770385742, 19.316125869750977, 2.0502703189849854, 17.21746253967285, 16.278688430786133, -12.400742530822754, -7.338842868804932, -3.1494534015655518, 10.938684463500977, 2.211437940597534, -7.437145233154297, 9.829381942749023, -13.802464485168457, -3.861621856689453, -10.093470573425293, 12.768021583557129, 16.998271942138672, 9.028512954711914, -9.541566848754883, 16.915016174316406, 4.087100028991699, 17.013830184936523, 1.6307114362716675, -2.3779706954956055, -1.1914993524551392, -1.6937885284423828, 3.3529086112976074, -8.18195915222168, 8.652119636535645, 9.497112274169922, -8.087721824645996, -2.817514181137085, 0.19391711056232452, 6.040398120880127, -12.4085693359375, 3.6389899253845215, 15.183141708374023, 6.614734649658203, -8.4846773147583, 1.7171673774719238, 8.85265827178955, -4.686854362487793, 17.842679977416992, 1.6783223152160645, -0.12417557835578918, 17.203651428222656, 1.4441736936569214, -0.3582261800765991, 9.72582721710205, -0.7987058162689209, 11.5988130569458, 2.5804965496063232, -1.8880027532577515, -4.1518402099609375, 0.46820053458213806, 0.9954580068588257, -2.0030908584594727, 3.9868786334991455, -9.532821655273438, 2.346198797225952, 8.105123519897461, -11.207376480102539, -9.719905853271484, -13.907157897949219, -2.5790293216705322, 3.2674670219421387, 19.637832641601562, 0.19085799157619476, -8.351630210876465, -6.356738090515137, -11.048418045043945, 15.93886947631836, -3.26080584526062, 6.047532081604004, -5.679224491119385, -4.4452996253967285, 8.445596694946289, -15.08015251159668, -0.7543057799339294, 8.970823287963867, -10.975279808044434, 12.09432315826416, 10.835248947143555, -6.060249328613281, -9.957966804504395, -10.622105598449707, -2.502030849456787, 6.316809177398682, 16.99484634399414, -4.1364874839782715, 2.2449262142181396, 3.6591317653656006, -11.721549987792969, 17.20964241027832, 6.0984063148498535, -0.20309965312480927, -2.865945339202881, -1.6977040767669678, -10.19764232635498, -6.189546585083008, -6.5260467529296875, -2.4197442531585693, 4.0640740394592285, 3.4205563068389893, 10.667767524719238, 8.714971542358398, -2.0960114002227783, 6.116286754608154, -0.3594513535499573, 4.26128625869751, -9.9248046875, -14.616833686828613, 11.909588813781738, -3.663860559463501, 6.8583784103393555, 1.384340763092041, 2.0269992351531982, -2.844940185546875, -6.651261329650879, 8.420366287231445, 11.929479598999023, 6.8820648193359375, 5.707411289215088, -0.9588344097137451, -3.6208953857421875, -10.014266014099121, 13.190054893493652, 4.049217224121094, -7.040405750274658, 9.626492500305176, -18.54468536376953, -5.612621784210205, -4.511899471282959, -7.973519325256348, -5.311241626739502, 14.534412384033203, 0.3732597827911377, 16.991697311401367, -4.671752452850342, -3.4367964267730713, -9.273170471191406, -5.991485118865967, 0.4639991223812103, -7.200554370880127, 12.46600341796875, -4.86280632019043, -13.737214088439941, 8.568964958190918, 1.2207159996032715, -4.163710117340088, 14.184186935424805, 4.188682556152344, 4.940426826477051, 0.7984419465065002, 7.4595136642456055, -5.392534255981445, -8.046027183532715, 1.7062091827392578, -0.12159847468137741, 5.451443672180176, -2.73393177986145, 3.7462666034698486, 11.915024757385254, -5.260422706604004, 6.4230756759643555, 10.091800689697266, -5.822044372558594, 3.528970718383789, -5.4389424324035645, 8.392687797546387, 21.979219436645508, 6.666943073272705, -4.292261123657227, 2.9407124519348145, 3.654569387435913, 17.11271858215332, 13.539246559143066, 22.074848175048828, 7.386845111846924, 4.829716682434082, -12.59209156036377, 22.351646423339844, -1.274256706237793, 8.954684257507324, -5.595282077789307, 15.192317962646484, 2.6787617206573486, -5.7984538078308105, -12.373758316040039, -12.007515907287598, -10.77500057220459, 5.664555549621582, 10.212261199951172, 0.6036067008972168, 10.695158958435059, -12.035401344299316, 7.032654285430908, 5.195422649383545, 9.86536979675293, 7.050979137420654, -13.708252906799316, 3.289665699005127, 3.4428489208221436, 7.622936725616455, 5.8719096183776855, -7.3922576904296875, -11.04773235321045, 3.6730852127075195, 4.678188800811768, 5.433957576751709, -0.8747711777687073, 11.321307182312012, -13.806201934814453, 1.0978686809539795, 14.308890342712402], \"xaxis\": \"x\", \"y\": [-15.249707221984863, 8.91969108581543, 3.1507656574249268, 4.536782264709473, -2.6508026123046875, -11.28270149230957, -8.655180931091309, -14.277677536010742, -10.23575496673584, -11.662140846252441, 11.861228942871094, -6.06864070892334, 7.626537322998047, -3.496756076812744, -6.763552188873291, -1.5170652866363525, 7.850376129150391, -1.7033891677856445, 13.434399604797363, 3.867924690246582, 0.7755312323570251, 2.275799036026001, 7.539381980895996, 6.041317462921143, 8.431893348693848, -6.471654415130615, 1.4191110134124756, -2.335451602935791, 18.136629104614258, 19.45211410522461, 6.366798400878906, 3.9566078186035156, 15.295711517333984, -0.7869006395339966, 15.407689094543457, 2.771343946456909, 5.701930522918701, 15.077960968017578, 6.192356109619141, 0.20533350110054016, -0.6491314768791199, -0.8184288144111633, 9.086524963378906, 0.9436994194984436, 2.8785977363586426, 3.5160133838653564, 10.424173355102539, -4.867446422576904, -9.666090965270996, -3.4104256629943848, 3.863280773162842, 4.115208148956299, 11.005318641662598, 15.86270523071289, -3.1172471046447754, -1.1796553134918213, 14.69166374206543, -9.70724868774414, -7.372835159301758, -1.2901884317398071, -8.113884925842285, 7.471228122711182, 0.489793598651886, -11.78612995147705, -0.33699169754981995, 3.2319209575653076, 17.836185455322266, 0.23416897654533386, 7.874602794647217, -0.7691788673400879, 4.128341197967529, -8.667181015014648, 1.3618417978286743, 1.4505975246429443, 19.30894660949707, 14.827171325683594, 1.71970796585083, 5.639688014984131, 12.221832275390625, 2.594738483428955, -3.840613842010498, 5.6235504150390625, 0.8086080551147461, -8.347006797790527, -0.14256194233894348, 2.432252883911133, 9.816580772399902, -5.796419143676758, 7.242140769958496, 1.465535283088684, -4.247747898101807, -12.133285522460938, 16.92918586730957, -4.7434234619140625, -8.645232200622559, 10.296626091003418, 7.215993881225586, -5.86325740814209, -0.23774351179599762, 5.148938179016113, -8.639485359191895, 4.840996742248535, -4.307775974273682, 2.1087608337402344, -0.3459220826625824, -7.2549357414245605, 9.896075248718262, 2.449598789215088, 3.291567087173462, 5.5350189208984375, -4.782195091247559, 4.361570358276367, 11.320449829101562, -14.946854591369629, 14.561003684997559, -1.092108964920044, -4.470876693725586, 8.177141189575195, -8.032169342041016, -1.9141008853912354, -9.78900146484375, 15.732414245605469, -6.3050642013549805, 3.935976266860962, 0.23045749962329865, 4.7325005531311035, 4.071661472320557, -15.762359619140625, -16.073911666870117, 7.271404266357422, -15.029783248901367, 0.3232307434082031, 5.351254940032959, -6.0961222648620605, -6.613368034362793, -7.763919353485107, -4.06959342956543, 4.828493118286133, 7.521988868713379, -12.588703155517578, -9.261337280273438, 2.071382761001587, -3.1063497066497803, -2.944204330444336, 1.652337670326233, 5.67915678024292, 3.5564701557159424, 2.573185682296753, 13.565629959106445, 13.362441062927246, -10.724743843078613, -4.331508159637451, 9.063251495361328, -4.219926834106445, -2.6268234252929688, -6.540268421173096, -15.068036079406738, -2.9953134059906006, 2.6172611713409424, -15.55095386505127, -0.23918159306049347, -12.135371208190918, -3.082737684249878, 4.393696308135986, 4.701638221740723, 10.38790512084961, 6.971855640411377, 2.023090124130249, -0.7479704022407532, 9.284018516540527, 1.661011815071106, -12.770084381103516, 10.041417121887207, -3.683734893798828, -13.0487642288208, 6.587116718292236, -11.17333984375, -4.066722393035889, 4.630499362945557, 7.222033977508545, -20.370939254760742, -10.713033676147461, -2.2598681449890137, -7.794070243835449, -7.592458248138428, 1.207525610923767, 6.970077037811279, 2.2305848598480225, 17.02519416809082, 3.7035768032073975, -0.4884844720363617, -3.1822736263275146, -2.5765674114227295, 7.395252227783203, 1.2797671556472778, -13.6311674118042, 7.76201868057251, -4.552549362182617, -15.530828475952148, -3.9400126934051514, -1.5208591222763062, -3.060129165649414, 15.46192741394043, -1.6792396306991577, 10.676458358764648, -8.827859878540039, -3.0643303394317627, 2.901460647583008, 1.0381035804748535, 5.301733016967773, -2.2781238555908203, 11.5830717086792, 18.81336212158203, 5.1261820793151855, 1.3217427730560303, 7.70881986618042, 18.992311477661133, 9.574748992919922, -10.310127258300781, 3.8328003883361816, -19.755313873291016, -11.428572654724121, 5.5284905433654785, 0.3358354866504669, 4.360243797302246, 3.4389595985412598, -3.247664451599121, -9.65509033203125, 12.53559398651123, 1.058382511138916, 16.905061721801758, 16.768123626708984, 11.663237571716309, 12.94660758972168, -1.1298820972442627, -1.1067372560501099, 4.244864463806152, 10.337084770202637, 1.2729228734970093, -19.04654312133789, -3.7756333351135254, 4.348628520965576, 8.238187789916992, 5.452552318572998, 8.2286376953125, -4.8819098472595215, -17.447093963623047, 6.322061538696289, 9.585784912109375, -14.727235794067383, -15.014649391174316, -5.247650146484375, 3.0568630695343018, -13.115583419799805, 0.2582162618637085, 1.0059069395065308, 3.779514789581299, 11.81767749786377, 2.5894577503204346, 15.120497703552246, -20.35969352722168, 2.5557968616485596, 5.6217474937438965, 2.5528619289398193, 15.570831298828125, -17.306062698364258, 11.775609970092773, -15.546157836914062, 7.505651950836182, -6.347601413726807, -7.085605144500732, -14.76358699798584, -8.376991271972656, 13.500514030456543, -12.245590209960938, 0.38040396571159363, -19.765174865722656, -16.72779083251953, 16.985374450683594, 20.287599563598633, 7.031390190124512, -6.74081563949585, -7.470989227294922, -11.35258960723877, -5.40796422958374, 13.631257057189941, -6.059920787811279, -8.737116813659668, -4.705170154571533, -5.4715728759765625, -8.310953140258789, 1.8988847732543945, 20.16428565979004, -6.4619832038879395, 15.461053848266602, 13.458799362182617, 5.249412536621094, 9.076528549194336, -10.92578411102295, -3.3985793590545654, -7.51406192779541, 3.5064995288848877, -0.7622109055519104, 13.189482688903809, 6.213557243347168, -9.801627159118652, -1.2809170484542847, 6.571309566497803, -11.765398979187012, -0.19058194756507874, -17.18898582458496, -1.7976562976837158, 0.14719103276729584, 5.802102088928223, 14.263800621032715, -0.23889225721359253, -2.4155118465423584, -4.806105613708496, 18.5389404296875, -6.569414138793945, 0.7753757238388062, 0.10906294733285904, 13.409869194030762, 6.320552825927734, 17.46808433532715, 10.306150436401367, 1.8047549724578857, -19.037734985351562, -13.797052383422852, -5.7496418952941895, 4.874524116516113, 10.050423622131348, -9.650341987609863, -1.6930618286132812, -12.340609550476074, -5.157547950744629, 2.8316750526428223, -1.1075150966644287, 4.437267303466797, 9.694793701171875, -4.738612174987793, 18.640722274780273, 13.48752212524414, -2.2025527954101562, 8.08752727508545, 19.24882698059082, -16.1098575592041, -9.930248260498047, 2.55558705329895, 4.4085259437561035, -3.0297868251800537, 10.053763389587402, 0.044857822358608246, -8.404626846313477, 5.024961471557617, 3.815917730331421, 2.8793141841888428, 7.500470161437988, 3.1958067417144775, -0.634758472442627, 9.994935989379883, 4.81958532333374, 4.366372585296631, 1.3635280132293701, 6.072838306427002, 15.737648963928223, 1.6558157205581665, 13.478536605834961, -13.446517944335938, -4.837677001953125, 0.2626541554927826, 1.2451883554458618, 0.1515098512172699, -1.9022458791732788, -0.5388127565383911, -1.1210857629776, -5.695535182952881, 8.936698913574219, 1.0524245500564575, 0.5119200944900513, 3.1706230640411377, 4.429713726043701, 4.942305088043213, 4.771542549133301, 7.73448371887207, 9.949129104614258, 1.8153148889541626, -6.391979694366455, 5.035539150238037, 9.696971893310547, 2.4213125705718994, -17.906686782836914, 3.647777795791626, 1.9977750778198242, -16.365612030029297, 3.47580623626709, 5.802196979522705, 4.639233589172363, 7.584545612335205, -5.439379692077637], \"yaxis\": \"y\"}],\n",
              "                        {\"legend\": {\"itemsizing\": \"constant\", \"tracegroupgap\": 0}, \"margin\": {\"t\": 60}, \"template\": {\"data\": {\"bar\": [{\"error_x\": {\"color\": \"#2a3f5f\"}, \"error_y\": {\"color\": \"#2a3f5f\"}, \"marker\": {\"line\": {\"color\": \"#E5ECF6\", \"width\": 0.5}}, \"type\": \"bar\"}], \"barpolar\": [{\"marker\": {\"line\": {\"color\": \"#E5ECF6\", \"width\": 0.5}}, \"type\": \"barpolar\"}], \"carpet\": [{\"aaxis\": {\"endlinecolor\": \"#2a3f5f\", \"gridcolor\": \"white\", \"linecolor\": \"white\", \"minorgridcolor\": \"white\", \"startlinecolor\": \"#2a3f5f\"}, \"baxis\": {\"endlinecolor\": \"#2a3f5f\", \"gridcolor\": \"white\", \"linecolor\": \"white\", \"minorgridcolor\": \"white\", \"startlinecolor\": \"#2a3f5f\"}, \"type\": \"carpet\"}], \"choropleth\": [{\"colorbar\": {\"outlinewidth\": 0, \"ticks\": \"\"}, \"type\": \"choropleth\"}], \"contour\": [{\"colorbar\": {\"outlinewidth\": 0, \"ticks\": \"\"}, \"colorscale\": [[0.0, \"#0d0887\"], [0.1111111111111111, \"#46039f\"], [0.2222222222222222, \"#7201a8\"], [0.3333333333333333, \"#9c179e\"], [0.4444444444444444, \"#bd3786\"], [0.5555555555555556, \"#d8576b\"], [0.6666666666666666, \"#ed7953\"], [0.7777777777777778, \"#fb9f3a\"], [0.8888888888888888, \"#fdca26\"], [1.0, \"#f0f921\"]], \"type\": \"contour\"}], \"contourcarpet\": [{\"colorbar\": {\"outlinewidth\": 0, \"ticks\": \"\"}, \"type\": \"contourcarpet\"}], \"heatmap\": [{\"colorbar\": {\"outlinewidth\": 0, \"ticks\": \"\"}, \"colorscale\": [[0.0, \"#0d0887\"], [0.1111111111111111, \"#46039f\"], [0.2222222222222222, \"#7201a8\"], [0.3333333333333333, \"#9c179e\"], [0.4444444444444444, \"#bd3786\"], [0.5555555555555556, \"#d8576b\"], [0.6666666666666666, \"#ed7953\"], [0.7777777777777778, \"#fb9f3a\"], [0.8888888888888888, \"#fdca26\"], [1.0, \"#f0f921\"]], \"type\": \"heatmap\"}], \"heatmapgl\": [{\"colorbar\": {\"outlinewidth\": 0, \"ticks\": \"\"}, \"colorscale\": [[0.0, \"#0d0887\"], [0.1111111111111111, \"#46039f\"], [0.2222222222222222, \"#7201a8\"], [0.3333333333333333, \"#9c179e\"], [0.4444444444444444, \"#bd3786\"], [0.5555555555555556, \"#d8576b\"], [0.6666666666666666, \"#ed7953\"], [0.7777777777777778, \"#fb9f3a\"], [0.8888888888888888, \"#fdca26\"], [1.0, \"#f0f921\"]], \"type\": \"heatmapgl\"}], \"histogram\": [{\"marker\": {\"colorbar\": {\"outlinewidth\": 0, \"ticks\": \"\"}}, \"type\": \"histogram\"}], \"histogram2d\": [{\"colorbar\": {\"outlinewidth\": 0, \"ticks\": \"\"}, \"colorscale\": [[0.0, \"#0d0887\"], [0.1111111111111111, \"#46039f\"], [0.2222222222222222, \"#7201a8\"], [0.3333333333333333, \"#9c179e\"], [0.4444444444444444, \"#bd3786\"], [0.5555555555555556, \"#d8576b\"], [0.6666666666666666, \"#ed7953\"], [0.7777777777777778, \"#fb9f3a\"], [0.8888888888888888, \"#fdca26\"], [1.0, \"#f0f921\"]], \"type\": \"histogram2d\"}], \"histogram2dcontour\": [{\"colorbar\": {\"outlinewidth\": 0, \"ticks\": \"\"}, \"colorscale\": [[0.0, \"#0d0887\"], [0.1111111111111111, \"#46039f\"], [0.2222222222222222, \"#7201a8\"], [0.3333333333333333, \"#9c179e\"], [0.4444444444444444, \"#bd3786\"], [0.5555555555555556, \"#d8576b\"], [0.6666666666666666, \"#ed7953\"], [0.7777777777777778, \"#fb9f3a\"], [0.8888888888888888, \"#fdca26\"], [1.0, \"#f0f921\"]], \"type\": \"histogram2dcontour\"}], \"mesh3d\": [{\"colorbar\": {\"outlinewidth\": 0, \"ticks\": \"\"}, \"type\": \"mesh3d\"}], \"parcoords\": [{\"line\": {\"colorbar\": {\"outlinewidth\": 0, \"ticks\": \"\"}}, \"type\": \"parcoords\"}], \"pie\": [{\"automargin\": true, \"type\": \"pie\"}], \"scatter\": [{\"marker\": {\"colorbar\": {\"outlinewidth\": 0, \"ticks\": \"\"}}, \"type\": \"scatter\"}], \"scatter3d\": [{\"line\": {\"colorbar\": {\"outlinewidth\": 0, \"ticks\": \"\"}}, \"marker\": {\"colorbar\": {\"outlinewidth\": 0, \"ticks\": \"\"}}, \"type\": \"scatter3d\"}], \"scattercarpet\": [{\"marker\": {\"colorbar\": {\"outlinewidth\": 0, \"ticks\": \"\"}}, \"type\": \"scattercarpet\"}], \"scattergeo\": [{\"marker\": {\"colorbar\": {\"outlinewidth\": 0, \"ticks\": \"\"}}, \"type\": \"scattergeo\"}], \"scattergl\": [{\"marker\": {\"colorbar\": {\"outlinewidth\": 0, \"ticks\": \"\"}}, \"type\": \"scattergl\"}], \"scattermapbox\": [{\"marker\": {\"colorbar\": {\"outlinewidth\": 0, \"ticks\": \"\"}}, \"type\": \"scattermapbox\"}], \"scatterpolar\": [{\"marker\": {\"colorbar\": {\"outlinewidth\": 0, \"ticks\": \"\"}}, \"type\": \"scatterpolar\"}], \"scatterpolargl\": [{\"marker\": {\"colorbar\": {\"outlinewidth\": 0, \"ticks\": \"\"}}, \"type\": \"scatterpolargl\"}], \"scatterternary\": [{\"marker\": {\"colorbar\": {\"outlinewidth\": 0, \"ticks\": \"\"}}, \"type\": \"scatterternary\"}], \"surface\": [{\"colorbar\": {\"outlinewidth\": 0, \"ticks\": \"\"}, \"colorscale\": [[0.0, \"#0d0887\"], [0.1111111111111111, \"#46039f\"], [0.2222222222222222, \"#7201a8\"], [0.3333333333333333, \"#9c179e\"], [0.4444444444444444, \"#bd3786\"], [0.5555555555555556, \"#d8576b\"], [0.6666666666666666, \"#ed7953\"], [0.7777777777777778, \"#fb9f3a\"], [0.8888888888888888, \"#fdca26\"], [1.0, \"#f0f921\"]], \"type\": \"surface\"}], \"table\": [{\"cells\": {\"fill\": {\"color\": \"#EBF0F8\"}, \"line\": {\"color\": \"white\"}}, \"header\": {\"fill\": {\"color\": \"#C8D4E3\"}, \"line\": {\"color\": \"white\"}}, \"type\": \"table\"}]}, \"layout\": {\"annotationdefaults\": {\"arrowcolor\": \"#2a3f5f\", \"arrowhead\": 0, \"arrowwidth\": 1}, \"coloraxis\": {\"colorbar\": {\"outlinewidth\": 0, \"ticks\": \"\"}}, \"colorscale\": {\"diverging\": [[0, \"#8e0152\"], [0.1, \"#c51b7d\"], [0.2, \"#de77ae\"], [0.3, \"#f1b6da\"], [0.4, \"#fde0ef\"], [0.5, \"#f7f7f7\"], [0.6, \"#e6f5d0\"], [0.7, \"#b8e186\"], [0.8, \"#7fbc41\"], [0.9, \"#4d9221\"], [1, \"#276419\"]], \"sequential\": [[0.0, \"#0d0887\"], [0.1111111111111111, \"#46039f\"], [0.2222222222222222, \"#7201a8\"], [0.3333333333333333, \"#9c179e\"], [0.4444444444444444, \"#bd3786\"], [0.5555555555555556, \"#d8576b\"], [0.6666666666666666, \"#ed7953\"], [0.7777777777777778, \"#fb9f3a\"], [0.8888888888888888, \"#fdca26\"], [1.0, \"#f0f921\"]], \"sequentialminus\": [[0.0, \"#0d0887\"], [0.1111111111111111, \"#46039f\"], [0.2222222222222222, \"#7201a8\"], [0.3333333333333333, \"#9c179e\"], [0.4444444444444444, \"#bd3786\"], [0.5555555555555556, \"#d8576b\"], [0.6666666666666666, \"#ed7953\"], [0.7777777777777778, \"#fb9f3a\"], [0.8888888888888888, \"#fdca26\"], [1.0, \"#f0f921\"]]}, \"colorway\": [\"#636efa\", \"#EF553B\", \"#00cc96\", \"#ab63fa\", \"#FFA15A\", \"#19d3f3\", \"#FF6692\", \"#B6E880\", \"#FF97FF\", \"#FECB52\"], \"font\": {\"color\": \"#2a3f5f\"}, \"geo\": {\"bgcolor\": \"white\", \"lakecolor\": \"white\", \"landcolor\": \"#E5ECF6\", \"showlakes\": true, \"showland\": true, \"subunitcolor\": \"white\"}, \"hoverlabel\": {\"align\": \"left\"}, \"hovermode\": \"closest\", \"mapbox\": {\"style\": \"light\"}, \"paper_bgcolor\": \"white\", \"plot_bgcolor\": \"#E5ECF6\", \"polar\": {\"angularaxis\": {\"gridcolor\": \"white\", \"linecolor\": \"white\", \"ticks\": \"\"}, \"bgcolor\": \"#E5ECF6\", \"radialaxis\": {\"gridcolor\": \"white\", \"linecolor\": \"white\", \"ticks\": \"\"}}, \"scene\": {\"xaxis\": {\"backgroundcolor\": \"#E5ECF6\", \"gridcolor\": \"white\", \"gridwidth\": 2, \"linecolor\": \"white\", \"showbackground\": true, \"ticks\": \"\", \"zerolinecolor\": \"white\"}, \"yaxis\": {\"backgroundcolor\": \"#E5ECF6\", \"gridcolor\": \"white\", \"gridwidth\": 2, \"linecolor\": \"white\", \"showbackground\": true, \"ticks\": \"\", \"zerolinecolor\": \"white\"}, \"zaxis\": {\"backgroundcolor\": \"#E5ECF6\", \"gridcolor\": \"white\", \"gridwidth\": 2, \"linecolor\": \"white\", \"showbackground\": true, \"ticks\": \"\", \"zerolinecolor\": \"white\"}}, \"shapedefaults\": {\"line\": {\"color\": \"#2a3f5f\"}}, \"ternary\": {\"aaxis\": {\"gridcolor\": \"white\", \"linecolor\": \"white\", \"ticks\": \"\"}, \"baxis\": {\"gridcolor\": \"white\", \"linecolor\": \"white\", \"ticks\": \"\"}, \"bgcolor\": \"#E5ECF6\", \"caxis\": {\"gridcolor\": \"white\", \"linecolor\": \"white\", \"ticks\": \"\"}}, \"title\": {\"x\": 0.05}, \"xaxis\": {\"automargin\": true, \"gridcolor\": \"white\", \"linecolor\": \"white\", \"ticks\": \"\", \"title\": {\"standoff\": 15}, \"zerolinecolor\": \"white\", \"zerolinewidth\": 2}, \"yaxis\": {\"automargin\": true, \"gridcolor\": \"white\", \"linecolor\": \"white\", \"ticks\": \"\", \"title\": {\"standoff\": 15}, \"zerolinecolor\": \"white\", \"zerolinewidth\": 2}}}, \"xaxis\": {\"anchor\": \"y\", \"domain\": [0.0, 1.0], \"title\": {\"text\": \"x\"}}, \"yaxis\": {\"anchor\": \"x\", \"domain\": [0.0, 1.0], \"title\": {\"text\": \"y\"}}},\n",
              "                        {\"responsive\": true}\n",
              "                    ).then(function(){\n",
              "                            \n",
              "var gd = document.getElementById('fcd90f53-3364-42b5-a32e-dc4d526603c6');\n",
              "var x = new MutationObserver(function (mutations, observer) {{\n",
              "        var display = window.getComputedStyle(gd).display;\n",
              "        if (!display || display === 'none') {{\n",
              "            console.log([gd, 'removed!']);\n",
              "            Plotly.purge(gd);\n",
              "            observer.disconnect();\n",
              "        }}\n",
              "}});\n",
              "\n",
              "// Listen for the removal of the full notebook cells\n",
              "var notebookContainer = gd.closest('#notebook-container');\n",
              "if (notebookContainer) {{\n",
              "    x.observe(notebookContainer, {childList: true});\n",
              "}}\n",
              "\n",
              "// Listen for the clearing of the current output cell\n",
              "var outputEl = gd.closest('.output');\n",
              "if (outputEl) {{\n",
              "    x.observe(outputEl, {childList: true});\n",
              "}}\n",
              "\n",
              "                        })\n",
              "                };\n",
              "                \n",
              "            </script>\n",
              "        </div>\n",
              "</body>\n",
              "</html>"
            ]
          },
          "metadata": {
            "tags": []
          }
        }
      ]
    },
    {
      "cell_type": "markdown",
      "metadata": {
        "id": "9RLhJIkdqvyT"
      },
      "source": [
        "## Problem 2"
      ]
    },
    {
      "cell_type": "code",
      "metadata": {
        "id": "TF8EUDVzwrHr"
      },
      "source": [
        "prompts = []\n",
        "responses = []\n",
        "err_lines = []\n",
        "with open('./hackernews_pairs.txt') as f:\n",
        "    for line in f:\n",
        "        line = line.strip()\n",
        "        if not line:\n",
        "            continue\n",
        "        line = line.split('\\t')\n",
        "        if len(line)!=2:\n",
        "            err_lines.append(line)\n",
        "        else:\n",
        "            prompts.append(line[0])\n",
        "            responses.append(line[1])\n",
        "print(f\"Failed to parse the following {len(err_lines)} lines: {err_lines}\") \n",
        "print(f\"Sample fialogue pairs: \\n{pprint.pformat(list(zip(prompts[:15], responses)))}\")"
      ],
      "execution_count": null,
      "outputs": []
    },
    {
      "cell_type": "code",
      "metadata": {
        "id": "UTiTRTs_2i3f"
      },
      "source": [
        "class BasicEncoder:\n",
        "    def encode(self, sentence):\n",
        "        # this is a base class!\n",
        "        raise NotImplementedError\n",
        "\n",
        "    def encode_corpus(self, sentences):\n",
        "        ret = [self.encode(sentence) for sentence in tqdm(sentences)]\n",
        "        return np.vstack(ret)"
      ],
      "execution_count": null,
      "outputs": []
    },
    {
      "cell_type": "markdown",
      "metadata": {
        "id": "x08LL_eT9u3B"
      },
      "source": [
        "The code below implements a simple baseline: we encode each sentence as a sparse vector which sums word occurrences."
      ]
    },
    {
      "cell_type": "code",
      "metadata": {
        "id": "CEmX8nTy4fvg"
      },
      "source": [
        "class OneHotEncoder(BasicEncoder):\n",
        "    def __init__(self, sentences):\n",
        "        self.vectorizer = sklearn.feature_extraction.text.CountVectorizer()\n",
        "        self.vectorizer.fit(sentences)\n",
        "    \n",
        "    def encode(self, sentence):\n",
        "        return self.vectorizer.transform([sentence])[0]\n",
        "\n",
        "    def encode_corpus(self, sentences):\n",
        "        # Override because sklearn already works on batches\n",
        "        encodings = self.vectorizer.transform(sentences)\n",
        "        # Note: this code needs to handl the scipy sparse matrix\n",
        "        # which has subtle differences with numpy ndarrays\n",
        "        norms = np.array((encodings.power(2)).sum(1))**0.5\n",
        "        encodings = encodings.multiply(1.0 / norms)\n",
        "        return encodings\n",
        "\n",
        "encoder = OneHotEncoder(prompts)\n",
        "encodings = encoder.encode_corpus(prompts)\n",
        "\n",
        "prompt = \"Ultimate question: Windows or Linux?\"\n",
        "enc = encoder.encode(prompt)\n",
        "\n",
        "# Deal with encodings being sparse matrices. Word2vecs will not have the pecularities\n",
        "scores = (encodings @ enc.T).toarray().ravel()\n",
        "top_idx = scores.argsort()[-10:][::-1]\n",
        "\n",
        "for idx in top_idx:\n",
        "    print(scores[idx], prompts[idx], ':', responses[idx])"
      ],
      "execution_count": null,
      "outputs": []
    },
    {
      "cell_type": "code",
      "metadata": {
        "id": "7nu0JqmPKcm8"
      },
      "source": [
        "# TODO: build a simple dialogue system using these k-neares neighbor matches, \n",
        "# perform a few test conversations"
      ],
      "execution_count": null,
      "outputs": []
    },
    {
      "cell_type": "code",
      "metadata": {
        "id": "aOYvQnpBwvvG"
      },
      "source": [
        "class Word2VecEncoder(BasicEncoder):\n",
        "    def __init__(self, vecs):\n",
        "        self._vecs = vecs\n",
        "\n",
        "    def _get_vec(self, word):\n",
        "        # Find the vector for word, or use a suitbale out-of-vocabulary vector\n",
        "        # For extra points try backing off to a lowercased dictionary\n",
        "        \n",
        "        return 0\n",
        "\n",
        "    def encode(self, sentence):\n",
        "        ret = np.zeros(self._vecs.vec.shape[1])\n",
        "        for token in nltk.tokenize.word_tokenize(sentence):\n",
        "            word_vec = self._get_vec(token)\n",
        "            ret += word_vec\n",
        "        ret /= (np.linalg.norm(ret) + 1e-5)\n",
        "        return ret\n",
        "\n",
        "encoder = Word2VecEncoder(word2vec)\n",
        "encodings = encoder.encode_corpus(prompts)"
      ],
      "execution_count": null,
      "outputs": []
    },
    {
      "cell_type": "code",
      "metadata": {
        "id": "QfzUJDJJ7Ric"
      },
      "source": [
        ""
      ],
      "execution_count": null,
      "outputs": []
    }
  ]
}