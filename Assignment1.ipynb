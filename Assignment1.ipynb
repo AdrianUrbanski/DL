{
  "nbformat": 4,
  "nbformat_minor": 0,
  "metadata": {
    "colab": {
      "name": "Assignment1.ipynb",
      "provenance": [],
      "collapsed_sections": []
    },
    "kernelspec": {
      "display_name": "Python 3",
      "language": "python",
      "name": "python3"
    },
    "language_info": {
      "codemirror_mode": {
        "name": "ipython",
        "version": 3
      },
      "file_extension": ".py",
      "mimetype": "text/x-python",
      "name": "python",
      "nbconvert_exporter": "python",
      "pygments_lexer": "ipython3",
      "version": "3.8.3"
    }
  },
  "cells": [
    {
      "cell_type": "markdown",
      "metadata": {
        "id": "CGXgWugfJ0Vl"
      },
      "source": [
        "# Assignment 1\n",
        "\n",
        "**Submission deadlines:** \n",
        "- get at least 4 points by Tuesday, 9.03.2021\n",
        "- remaining points: last lab session before or on Tuesday, 16.03.2021\n",
        "\n",
        "**Points:** Aim to get 8 out of 12 possible points\n",
        "\n",
        "## Submission instructions\n",
        "The class is held remotely. To sumbmit your solutions please show the notebook over the video call. Make sure you know all the questions and asnwers, and that the notebook contains results (before presentation do `Runtime -> Restar and run all`)\n",
        "\n",
        "We provide starter code, however you are not required to use it as long as you properly solve the tasks.\n",
        "\n",
        "As always, please submit corrections using GitHub's Pull Requests to https://github.com/janchorowski/dl_uwr."
      ]
    },
    {
      "cell_type": "markdown",
      "metadata": {
        "id": "5S8iRaCPyO2a"
      },
      "source": [
        "# Task description\r\n",
        "\r\n",
        "## TLDR\r\n",
        "Implement and train a neural network using pure numpy."
      ]
    },
    {
      "cell_type": "markdown",
      "metadata": {
        "id": "JHcz7I2V-bVM"
      },
      "source": [
        "\r\n",
        "## Problem 1 [2p]\r\n",
        "Implement a two-layer network, manually set weights and biases to solve the XOR task."
      ]
    },
    {
      "cell_type": "markdown",
      "metadata": {
        "id": "0QSpZxuH-bLe"
      },
      "source": [
        "## Problem 2 [2p]\r\n",
        "1. Add a backward pass.\r\n",
        "2. Use a sensible random initialization for weights and biases.\r\n",
        "3. Numerically check the correctness of your gradient computation.\r\n"
      ]
    },
    {
      "cell_type": "markdown",
      "metadata": {
        "id": "s1Tn8j0m-bAy"
      },
      "source": [
        "## Problem 3 [2p]\r\n",
        "1. Implement gradient descent\r\n",
        "2. Train your network to solve 3D XOR\r\n",
        "3. Try several hidden layer sizes, for each size record the fracton of successful trainings. Then answer:\r\n",
        "    - What is the minimal hidden size required to solve 3D XOR (even with low reliability, when the training has to be repeated multiple times)\r\n",
        "    - What is the minimal hidden size required to reliably solve 3D XOR\r\n",
        "    - Which networks are easier to train - small or lare ones? Why?\r\n"
      ]
    },
    {
      "cell_type": "markdown",
      "metadata": {
        "id": "RP9Pvpmf-a2A"
      },
      "source": [
        "## Problem 4 [1p]\r\n",
        "Replace the first nonlinearity with the [ReLU](https://en.wikipedia.org/wiki/Rectifier_(neural_networks)) activation function. Find a network architecture which reliably learns the 3D XOR problem.\r\n"
      ]
    },
    {
      "cell_type": "markdown",
      "metadata": {
        "id": "cGgtpe-w-asB"
      },
      "source": [
        "## Problem 5 [1p]\r\n",
        "Add a second hidden layer to your network, implement the forward and backward pass, then demonstrate training.\r\n"
      ]
    },
    {
      "cell_type": "markdown",
      "metadata": {
        "id": "Pe-pcFeO-aiE"
      },
      "source": [
        "## Problem 6 [2p]\r\n",
        "Implement a way to have a _variable number_ of hidden layers. Check how deep digmoid or ReLU networks you  can train. For simplicity you can assume that all hidden layers have the same number of neurons, and use the same activation function.\r\n"
      ]
    },
    {
      "cell_type": "markdown",
      "metadata": {
        "id": "kIpn17Cm-aW7"
      },
      "source": [
        "## Problem 7 [2p]\r\n",
        "For each weight matrix $w\\in\\mathbb{R}^{n\\times m}$, add a randomly initialized `backward weight` $w_b\\in\\mathbb{R}^{m\\times n}$, which will not change during training. Change the backward pass to use $w_b$ instead of $w^T$, getting an approxmatoin of the true gradient. Can you get your network to train?\r\n",
        "\r\n",
        "NB: this approach, dubbed [feedback alignment](https://www.nature.com/articles/ncomms13276), was proposed to make error backpropagation more biologically plausible, by providing a solution to the \"weight transport problem\". Regular backpropagation requires that neurons not only know their incoming weights (thet they control), but also their outgoing weights (that are controlled by neurons in the upper layers). This is nearly impossible in a real brain."
      ]
    },
    {
      "cell_type": "markdown",
      "metadata": {
        "id": "rXJaoHSH0DZO"
      },
      "source": [
        "# Solutions and starter code"
      ]
    },
    {
      "cell_type": "code",
      "metadata": {
        "id": "YiTEWD2oqW0Y"
      },
      "source": [
        "import matplotlib.pyplot as plt\n",
        "import numpy as np"
      ],
      "execution_count": null,
      "outputs": []
    },
    {
      "cell_type": "markdown",
      "metadata": {
        "id": "eqtfJKR40J3x"
      },
      "source": [
        "XOR dataset creation"
      ]
    },
    {
      "cell_type": "code",
      "metadata": {
        "colab": {
          "base_uri": "https://localhost:8080/",
          "height": 297
        },
        "id": "lYEbCfbSpv5M",
        "outputId": "6c653da6-87ca-4f7b-cc51-2c2d84668c4e"
      },
      "source": [
        "# Let's define a XOR dataset\n",
        "\n",
        "# X will be matrix of N 2-dimensional inputs\n",
        "X = np.array([[0, 0], [0, 1], [1, 0], [1, 1],], dtype=np.float32)\n",
        "# Y is a matrix of N numners - answers\n",
        "Y = np.array([[0], [1], [1], [0],], dtype=np.float32)\n",
        "\n",
        "plt.scatter(\n",
        "    X[:, 0], X[:, 1], c=Y[:, 0],\n",
        ")\n",
        "plt.xlabel(\"X[0]\")\n",
        "plt.ylabel(\"X[1]\")\n",
        "plt.axis(\"square\")"
      ],
      "execution_count": null,
      "outputs": [
        {
          "output_type": "execute_result",
          "data": {
            "text/plain": [
              "(-0.05, 1.05, -0.05, 1.05)"
            ]
          },
          "metadata": {
            "tags": []
          },
          "execution_count": 2
        },
        {
          "output_type": "display_data",
          "data": {
            "image/png": "[encoded data removed]",
            "text/plain": [
              "<Figure size 432x288 with 1 Axes>"
            ]
          },
          "metadata": {
            "tags": [],
            "needs_background": "light"
          }
        }
      ]
    },
    {
      "cell_type": "markdown",
      "metadata": {
        "id": "Rb3azMn929_I"
      },
      "source": [
        "## Problem 1"
      ]
    },
    {
      "cell_type": "markdown",
      "metadata": {
        "id": "RZCM_hdELE04"
      },
      "source": [
        "The code below contains a mock-up of a two-layer neural network. Fill in the code and manually set weights to solve the XOR problem.\n",
        "\n",
        "Please note: the shapes are set to be compatible with PyTorch's conventions:\n",
        "* a batch containing $N$ $D$-dimensional examples has shape $N\\times D$ (each example is a row!)\n",
        "* a weight matrix in a linear layer with $I$ inputs and $O$ outputs has shape $O \\times I$\n",
        "* a bias vector is a 1D vector. Please note that [broadcasting rules](https://docs.scipy.org/doc/numpy/user/basics.broadcasting.html) allow us to think about it as a $1 \\times D$ matrix."
      ]
    },
    {
      "cell_type": "code",
      "metadata": {
        "id": "lrrRuk6zLiF0"
      },
      "source": [
        "def sigmoid(x):\n",
        "    return 1/(1+np.exp(-x))\n",
        "\n",
        "\n",
        "class SmallNet:\n",
        "    def __init__(self, in_features, num_hidden, dtype=np.float32):\n",
        "        self.W1 = np.zeros((num_hidden, in_features), dtype=dtype)\n",
        "        self.b1 = np.zeros((num_hidden,), dtype=dtype)\n",
        "        self.W2 = np.zeros((1, num_hidden), dtype=dtype)\n",
        "        self.b2 = np.zeros((1,), dtype=dtype)\n",
        "        self.init_params()\n",
        "\n",
        "    def init_params(self):\n",
        "        # DONE for Problem 2:\n",
        "        # set all parameters to small random values, e.g. from N(0, 0.5)\n",
        "        self.W1 = np.random.normal(0, 0.5, self.W1.shape)\n",
        "        self.b1 = np.random.normal(0, 0.5, self.b1.shape)\n",
        "        self.W2 = np.random.normal(0, 0.5, self.W2.shape)\n",
        "        self.b2 = np.random.normal(0, 0.5, self.b2.shape)\n",
        "\n",
        "    def forward(self, X, Y=None, do_backward=False):\n",
        "        # DONE Problem 1: Fill in details of forward propagation\n",
        "\n",
        "        # Input to neurons in 1st layer\n",
        "        A1 = X@self.W1.T + self.b1\n",
        "        # Outputs after the sigmoid non-linearity\n",
        "        O1 = sigmoid(A1)\n",
        "        # Inputs to neuron in the second layer\n",
        "        A2 = O1@self.W2.T + self.b2\n",
        "        # Outputs after the sigmoid non-linearity\n",
        "        O2 = sigmoid(A2)\n",
        "\n",
        "        # When Y is none, simply return the predictions. Else compute the loss\n",
        "        if Y is not None:\n",
        "            loss = - Y*np.log(O2) - (1 - Y)*np.log(1.0 - O2)\n",
        "            # normalize loss by batch size\n",
        "            loss = loss.sum() / X.shape[0]\n",
        "        else:\n",
        "            loss = np.nan\n",
        "\n",
        "        if do_backward:\n",
        "            # DONE in Problem 2:\n",
        "            # fill in the gradient computation\n",
        "            # Please note, thate there is a correspondance between\n",
        "            # the forward and backward pass: with backward computations happening\n",
        "            # in reverse order.\n",
        "            # We save the gradients with respect to parameters as fields of self.\n",
        "            # It is not very elegant, but simplifies training code later on.\n",
        "\n",
        "            # A2_grad is the gradient of loss with respect to A2\n",
        "            # Hint: there is a concise formula for the gradient\n",
        "            # of logistic sigmoid and cross-entropy loss\n",
        "            A2_grad = (O2 - Y) / X.shape[0]\n",
        "            self.b2_grad = A2_grad.sum(0)\n",
        "            self.W2_grad = A2_grad.T @ O1\n",
        "            O1_grad = A2_grad @ self.W2\n",
        "            A1_grad = O1_grad * O1 * (1 - O1)\n",
        "            self.b1_grad = A1_grad.sum(0)\n",
        "            self.W1_grad = A1_grad.T @ X\n",
        "            \n",
        "        return O2, loss"
      ],
      "execution_count": null,
      "outputs": []
    },
    {
      "cell_type": "code",
      "metadata": {
        "colab": {
          "base_uri": "https://localhost:8080/"
        },
        "id": "jJswvBk0oiIY",
        "outputId": "ce7c7d16-aa56-457a-9220-ef526b94cba9"
      },
      "source": [
        "# DONE Problem 1:\n",
        "# Set by hand the weight values to solve the XOR problem\n",
        "\n",
        "net = SmallNet(2, 2, dtype=np.float64)\n",
        "net.W1 = np.array([[10, 10],\n",
        "                   [10, 10]])\n",
        "net.b1 = np.array([-5, -15])\n",
        "net.W2 = np.array([[10, -10]])\n",
        "net.b2 = np.array([-5])\n",
        "\n",
        "# Hint: since we use the logistic sigmoid activation, the weights may need to\n",
        "# be fairly large\n",
        "\n",
        "\n",
        "predictions, loss = net.forward(X, Y, do_backward=False)\n",
        "for x, p in zip(X, predictions):\n",
        "    print(f\"XORnet({x}) = {p[0]}\")"
      ],
      "execution_count": null,
      "outputs": [
        {
          "output_type": "stream",
          "text": [
            "XORnet([0. 0.]) = 0.0071527881888964915\n",
            "XORnet([0. 1.]) = 0.9923558641717396\n",
            "XORnet([1. 0.]) = 0.9923558641717396\n",
            "XORnet([1. 1.]) = 0.0071527881888964785\n"
          ],
          "name": "stdout"
        }
      ]
    },
    {
      "cell_type": "markdown",
      "metadata": {
        "id": "wmxCi5Vl6_xB"
      },
      "source": [
        "## Problem 2"
      ]
    },
    {
      "cell_type": "code",
      "metadata": {
        "id": "eSM5hgJ1mrhY"
      },
      "source": [
        "def check_grad(net, param_name, X, Y, eps=1e-5):\n",
        "    \"\"\"A gradient checking routine\"\"\"\n",
        "\n",
        "    param = getattr(net, param_name)\n",
        "    param_flat_accessor = param.reshape(-1)\n",
        "\n",
        "    grad = np.empty_like(param)\n",
        "    grad_flat_accessor = grad.reshape(-1)\n",
        "\n",
        "    net.forward(X, Y, do_backward=True)\n",
        "    orig_grad = getattr(net, param_name + \"_grad\")\n",
        "    assert param.shape == orig_grad.shape\n",
        "\n",
        "    for i in range(param_flat_accessor.shape[0]):\n",
        "        orig_val = param_flat_accessor[i]\n",
        "        param_flat_accessor[i] = orig_val + eps\n",
        "        _, loss_positive = net.forward(X, Y)\n",
        "        param_flat_accessor[i] = orig_val - eps\n",
        "        _, loss_negative = net.forward(X, Y)\n",
        "        param_flat_accessor[i] = orig_val\n",
        "        grad_flat_accessor[i] = (loss_positive - loss_negative) / (2 * eps)\n",
        "    assert np.allclose(grad, orig_grad)\n",
        "    return grad, orig_grad"
      ],
      "execution_count": null,
      "outputs": []
    },
    {
      "cell_type": "code",
      "metadata": {
        "id": "TTZu0jFEvgXF"
      },
      "source": [
        "# Hint: use float64 for checking the correctness of the gradient\n",
        "net = SmallNet(2, 2, dtype=np.float64)\n",
        "\n",
        "for param_name in [\"W1\", \"b1\", \"W2\", \"b2\"]:\n",
        "    check_grad(net, param_name, X, Y)"
      ],
      "execution_count": null,
      "outputs": []
    },
    {
      "cell_type": "markdown",
      "metadata": {
        "id": "8mUOs3cVvjM2"
      },
      "source": [
        "## Problem 3"
      ]
    },
    {
      "cell_type": "code",
      "metadata": {
        "colab": {
          "base_uri": "https://localhost:8080/"
        },
        "id": "nn2AAoZo0vjU",
        "outputId": "26039e54-0481-494b-ba85-51e5eb984423"
      },
      "source": [
        "net = SmallNet(2, 10, dtype=np.float64)\n",
        "\n",
        "alpha = 10  # set a learning rate\n",
        "\n",
        "for i in range(100000):\n",
        "    _, loss = net.forward(X, Y, do_backward=True)\n",
        "    if (i % 5000) == 0:\n",
        "        print(f\"after {i} steps \\tloss={loss}\")\n",
        "    for param_name in [\"W1\", \"b1\", \"W2\", \"b2\"]:\n",
        "        param = getattr(net, param_name)\n",
        "        # Hint: use the construct `param[:]` to change the contents of the array!\n",
        "        # Doing instead `param = new_val` simply changes to what the variable\n",
        "        # param points to, without affecting the network!\n",
        "        # alternatively, you could do setattr(net, param_name, new_value)\n",
        "        param[:] = param - alpha * getattr(net, param_name + \"_grad\")"
      ],
      "execution_count": null,
      "outputs": [
        {
          "output_type": "stream",
          "text": [
            "after 0 steps \tloss=0.7261148332268009\n",
            "after 5000 steps \tloss=0.0001395553334466925\n",
            "after 10000 steps \tloss=6.802398878263961e-05\n",
            "after 15000 steps \tloss=4.484312839341445e-05\n",
            "after 20000 steps \tloss=3.3402678725411624e-05\n",
            "after 25000 steps \tloss=2.659403802934256e-05\n",
            "after 30000 steps \tloss=2.2081123668130448e-05\n",
            "after 35000 steps \tloss=1.8871836320110715e-05\n",
            "after 40000 steps \tloss=1.647338379260372e-05\n",
            "after 45000 steps \tloss=1.4613385496507238e-05\n",
            "after 50000 steps \tloss=1.312908599469023e-05\n",
            "after 55000 steps \tloss=1.1917269532896058e-05\n",
            "after 60000 steps \tloss=1.0909327471470327e-05\n",
            "after 65000 steps \tloss=1.0057882597411025e-05\n",
            "after 70000 steps \tloss=9.329170058830274e-06\n",
            "after 75000 steps \tloss=8.6984785399205e-06\n",
            "after 80000 steps \tloss=8.147307946908501e-06\n",
            "after 85000 steps \tloss=7.66153427288605e-06\n",
            "after 90000 steps \tloss=7.230188581193348e-06\n",
            "after 95000 steps \tloss=6.844623067056149e-06\n"
          ],
          "name": "stdout"
        }
      ]
    },
    {
      "cell_type": "code",
      "metadata": {
        "colab": {
          "base_uri": "https://localhost:8080/"
        },
        "id": "TwpEjpkU1JvK",
        "outputId": "67a04d50-3a41-46ab-b4ab-30d395bfaa9b"
      },
      "source": [
        "predictions, loss = net.forward(X, Y, do_backward=True)\n",
        "for x, p in zip(X, predictions):\n",
        "    print(f\"XORnet({x}) = {p[0]}\")"
      ],
      "execution_count": null,
      "outputs": [
        {
          "output_type": "stream",
          "text": [
            "XORnet([0. 0.]) = 2.973524056286403e-06\n",
            "XORnet([0. 1.]) = 0.9999975756525223\n",
            "XORnet([1. 0.]) = 0.999991373907171\n",
            "XORnet([1. 1.]) = 1.1967632481261579e-05\n"
          ],
          "name": "stdout"
        }
      ]
    },
    {
      "cell_type": "code",
      "metadata": {
        "id": "sBpEkFepXMjw"
      },
      "source": [
        "import time"
      ],
      "execution_count": null,
      "outputs": []
    },
    {
      "cell_type": "code",
      "metadata": {
        "id": "U0ZMyHqz8xrC",
        "colab": {
          "base_uri": "https://localhost:8080/"
        },
        "outputId": "8bf69b73-57ed-43ef-e303-a947c5375a51"
      },
      "source": [
        "# DONE:\n",
        "# Generate data for a 3D XOR task\n",
        "# Then estimate the sucess rate of training the network with diferent\n",
        "# hidden sizes.\n",
        "\n",
        "X3 = np.array([[0, 0, 0], [0, 0, 1], [0, 1, 0], [0, 1, 1],\n",
        "               [1, 0, 0], [1, 0, 1], [1, 1, 0], [1, 1, 1]],\n",
        "              dtype=np.float32)\n",
        "Y3 = np.array([[0], [1], [1], [0], [1], [0], [0], [1]],\n",
        "              dtype=np.float32)\n",
        "\n",
        "alpha = 1\n",
        "\n",
        "for hidden_dim in [2, 3, 5, 10, 20]:\n",
        "    perfect, correct = 0, 0\n",
        "    t0 = time.time()\n",
        "    n_tests = 100\n",
        "    for t in range(n_tests):\n",
        "        net = SmallNet(3, hidden_dim, dtype=np.float64)\n",
        "        n_iters = int(10000/hidden_dim)\n",
        "        for i in range(n_iters):\n",
        "            _, loss = net.forward(X3, Y3, do_backward=True)\n",
        "            for param_name in [\"W1\", \"b1\", \"W2\", \"b2\"]:\n",
        "                param = getattr(net, param_name)\n",
        "                param[:] = param - alpha * getattr(net, param_name + \"_grad\")\n",
        "\n",
        "        predictions, loss = net.forward(X3, Y3, do_backward=True)\n",
        "        predictions[predictions > 0.5] = 1\n",
        "        predictions[predictions <= 0.5] = 0\n",
        "        perfect += np.all(predictions == Y3)\n",
        "        correct += (predictions == Y3).sum()\n",
        "    print(f\"Hidden dim: {hidden_dim}, iterations: {n_iters}, everything correct: {perfect} / {n_tests}, accuracy: {correct / (X3.shape[0]*n_tests)}, time: {time.time() - t0}\")\n"
      ],
      "execution_count": null,
      "outputs": [
        {
          "output_type": "stream",
          "text": [
            "Hidden dim: 2, iterations: 5000, everything correct: 47 / 100, accuracy: 0.8225, time: 32.46003293991089\n",
            "Hidden dim: 3, iterations: 3333, everything correct: 92 / 100, accuracy: 0.97375, time: 21.822421550750732\n",
            "Hidden dim: 5, iterations: 2000, everything correct: 97 / 100, accuracy: 0.98875, time: 14.601629972457886\n",
            "Hidden dim: 10, iterations: 1000, everything correct: 94 / 100, accuracy: 0.98, time: 7.7941529750823975\n",
            "Hidden dim: 20, iterations: 500, everything correct: 80 / 100, accuracy: 0.9575, time: 3.9702038764953613\n"
          ],
          "name": "stdout"
        }
      ]
    },
    {
      "cell_type": "markdown",
      "metadata": {
        "id": "UuaLEoV-9DLG"
      },
      "source": [
        "## Problem 4\n"
      ]
    },
    {
      "cell_type": "code",
      "metadata": {
        "id": "hZsNo8iIaOsw"
      },
      "source": [
        "def sigmoid(x):\n",
        "    return 1/(1+np.exp(-x))\n",
        "\n",
        "def relu(x):\n",
        "    return np.maximum(0, x)\n",
        "\n",
        "\n",
        "class SmallNetRelu:\n",
        "    def __init__(self, in_features, num_hidden, dtype=np.float32):\n",
        "        self.W1 = np.zeros((num_hidden, in_features), dtype=dtype)\n",
        "        self.b1 = np.zeros((num_hidden,), dtype=dtype)\n",
        "        self.W2 = np.zeros((1, num_hidden), dtype=dtype)\n",
        "        self.b2 = np.zeros((1,), dtype=dtype)\n",
        "        self.init_params()\n",
        "\n",
        "    def init_params(self):\n",
        "        self.W1 = np.random.normal(0, 0.5, self.W1.shape)\n",
        "        self.b1 = np.random.normal(0, 0.5, self.b1.shape)\n",
        "        self.W2 = np.random.normal(0, 0.5, self.W2.shape)\n",
        "        self.b2 = np.random.normal(0, 0.5, self.b2.shape)\n",
        "\n",
        "    def forward(self, X, Y=None, do_backward=False):\n",
        "\n",
        "        A1 = X@self.W1.T + self.b1\n",
        "        O1 = relu(A1)\n",
        "        A2 = O1@self.W2.T + self.b2\n",
        "        O2 = sigmoid(A2)\n",
        "\n",
        "        if Y is not None:\n",
        "            loss = - Y*np.log(O2) - (1 - Y)*np.log(1.0 - O2)\n",
        "            loss = loss.sum() / X.shape[0]\n",
        "        else:\n",
        "            loss = np.nan\n",
        "\n",
        "        if do_backward:\n",
        "            A2_grad = (O2 - Y) / X.shape[0]\n",
        "            self.b2_grad = A2_grad.sum(0)\n",
        "            self.W2_grad = A2_grad.T @ O1\n",
        "            O1_grad = A2_grad @ self.W2\n",
        "            O1[O1>0] = 1\n",
        "            A1_grad = O1_grad * O1\n",
        "            self.b1_grad = A1_grad.sum(0)\n",
        "            self.W1_grad = A1_grad.T @ X\n",
        "            \n",
        "        return O2, loss"
      ],
      "execution_count": null,
      "outputs": []
    },
    {
      "cell_type": "code",
      "metadata": {
        "colab": {
          "base_uri": "https://localhost:8080/"
        },
        "id": "9oNbCCJGa4UA",
        "outputId": "b245502a-76f3-4e71-dbc3-b239305e3fe2"
      },
      "source": [
        "net = SmallNetRelu(3, 10, dtype=np.float64)\n",
        "\n",
        "alpha = 1  # set a learning rate\n",
        "\n",
        "for i in range(100000):\n",
        "    _, loss = net.forward(X3, Y3, do_backward=True)\n",
        "    if (i % 5000) == 0:\n",
        "        print(f\"after {i} steps \\tloss={loss}\")\n",
        "    for param_name in [\"W1\", \"b1\", \"W2\", \"b2\"]:\n",
        "        param = getattr(net, param_name)\n",
        "        # Hint: use the construct `param[:]` to change the contents of the array!\n",
        "        # Doing instead `param = new_val` simply changes to what the variable\n",
        "        # param points to, without affecting the network!\n",
        "        # alternatively, you could do setattr(net, param_name, new_value)\n",
        "        param[:] = param - alpha * getattr(net, param_name + \"_grad\")"
      ],
      "execution_count": null,
      "outputs": [
        {
          "output_type": "stream",
          "text": [
            "after 0 steps \tloss=0.7212126857547186\n",
            "after 5000 steps \tloss=0.00022629946117491324\n",
            "after 10000 steps \tloss=0.00010001812731468561\n",
            "after 15000 steps \tloss=6.259137629037898e-05\n",
            "after 20000 steps \tloss=4.501394777668858e-05\n",
            "after 25000 steps \tloss=3.4910310516024056e-05\n",
            "after 30000 steps \tloss=2.838897277390237e-05\n",
            "after 35000 steps \tloss=2.3849920671600814e-05\n",
            "after 40000 steps \tloss=2.0515925302271926e-05\n",
            "after 45000 steps \tloss=1.7969847373118752e-05\n",
            "after 50000 steps \tloss=1.596461821350811e-05\n",
            "after 55000 steps \tloss=1.4346712645637888e-05\n",
            "after 60000 steps \tloss=1.3014845098813458e-05\n",
            "after 65000 steps \tloss=1.1900891443027483e-05\n",
            "after 70000 steps \tloss=1.0955573764798213e-05\n",
            "after 75000 steps \tloss=1.0143789359361733e-05\n",
            "after 80000 steps \tloss=9.439819738009435e-06\n",
            "after 85000 steps \tloss=8.823500299319608e-06\n",
            "after 90000 steps \tloss=8.2798571036617e-06\n",
            "after 95000 steps \tloss=7.796898523884483e-06\n"
          ],
          "name": "stdout"
        }
      ]
    },
    {
      "cell_type": "code",
      "metadata": {
        "colab": {
          "base_uri": "https://localhost:8080/"
        },
        "id": "28_RocUyb0PJ",
        "outputId": "a4ec7381-d34a-47d5-adae-0b1bc420fbfa"
      },
      "source": [
        "# DONE:\n",
        "# Generate data for a 3D XOR task\n",
        "# Then estimate the sucess rate of training the network with diferent\n",
        "# hidden sizes.\n",
        "\n",
        "X3 = np.array([[0, 0, 0], [0, 0, 1], [0, 1, 0], [0, 1, 1],\n",
        "               [1, 0, 0], [1, 0, 1], [1, 1, 0], [1, 1, 1]],\n",
        "              dtype=np.float32)\n",
        "Y3 = np.array([[0], [1], [1], [0], [1], [0], [0], [1]],\n",
        "              dtype=np.float32)\n",
        "\n",
        "alpha = 1\n",
        "\n",
        "for hidden_dim in [2, 3, 5, 10, 20]:\n",
        "    perfect, correct = 0, 0\n",
        "    t0 = time.time()\n",
        "    for t in range(100):\n",
        "        net = SmallNetRelu(3, hidden_dim, dtype=np.float64)\n",
        "        n_iters = int(10000/hidden_dim)\n",
        "        for i in range(n_iters):\n",
        "            _, loss = net.forward(X3, Y3, do_backward=True)\n",
        "            for param_name in [\"W1\", \"b1\", \"W2\", \"b2\"]:\n",
        "                param = getattr(net, param_name)\n",
        "                param[:] = param - alpha * getattr(net, param_name + \"_grad\")\n",
        "\n",
        "        predictions, loss = net.forward(X3, Y3, do_backward=True)\n",
        "        predictions[predictions > 0.5] = 1\n",
        "        predictions[predictions <= 0.5] = 0\n",
        "        perfect += np.all(predictions == Y3)\n",
        "        correct += (predictions == Y3).sum()\n",
        "    print(f\"Hidden dim: {hidden_dim}, iterations: {n_iters}, everything correct: {perfect} / 100, accuracy: {correct / (8*100)}, time: {time.time() - t0}\")\n"
      ],
      "execution_count": null,
      "outputs": [
        {
          "output_type": "stream",
          "text": [
            "Hidden dim: 2, iterations: 5000, everything correct: 0 / 100, accuracy: 0.63, time: 32.65439558029175\n",
            "Hidden dim: 3, iterations: 3333, everything correct: 9 / 100, accuracy: 0.7325, time: 21.85755753517151\n",
            "Hidden dim: 5, iterations: 2000, everything correct: 41 / 100, accuracy: 0.8375, time: 14.562410831451416\n",
            "Hidden dim: 10, iterations: 1000, everything correct: 91 / 100, accuracy: 0.96625, time: 7.436136722564697\n",
            "Hidden dim: 20, iterations: 500, everything correct: 100 / 100, accuracy: 1.0, time: 3.898298501968384\n"
          ],
          "name": "stdout"
        }
      ]
    },
    {
      "cell_type": "markdown",
      "metadata": {
        "id": "_Hr_iAKX-ND1"
      },
      "source": [
        "## Problem 5"
      ]
    },
    {
      "cell_type": "code",
      "metadata": {
        "id": "UvBjQ8z3d7E6"
      },
      "source": [
        "def sigmoid(x):\n",
        "    return 1/(1+np.exp(-x))\n",
        "\n",
        "\n",
        "class SlightlyBiggerNet:\n",
        "    def __init__(self, in_features, num_hidden, dtype=np.float32):\n",
        "        self.W1 = np.zeros((num_hidden, in_features), dtype=dtype)\n",
        "        self.b1 = np.zeros((num_hidden,), dtype=dtype)\n",
        "        self.W2 = np.zeros((num_hidden, num_hidden), dtype=dtype)\n",
        "        self.b2 = np.zeros((num_hidden,), dtype=dtype)\n",
        "        self.W3 = np.zeros((1, num_hidden), dtype=dtype)\n",
        "        self.b3 = np.zeros((1,), dtype=dtype)\n",
        "        self.init_params()\n",
        "\n",
        "    def init_params(self):\n",
        "        # set all parameters to small random values, e.g. from N(0, 0.5)\n",
        "        self.W1 = np.random.normal(0, 0.5, self.W1.shape)\n",
        "        self.b1 = np.random.normal(0, 0.5, self.b1.shape)\n",
        "        self.W2 = np.random.normal(0, 0.5, self.W2.shape)\n",
        "        self.b2 = np.random.normal(0, 0.5, self.b2.shape)\n",
        "        self.W3 = np.random.normal(0, 0.5, self.W3.shape)\n",
        "        self.b3 = np.random.normal(0, 0.5, self.b3.shape)\n",
        "\n",
        "    def forward(self, X, Y=None, do_backward=False):\n",
        "\n",
        "        A1 = X@self.W1.T + self.b1\n",
        "        O1 = sigmoid(A1)\n",
        "        A2 = O1@self.W2.T + self.b2\n",
        "        O2 = sigmoid(A2)\n",
        "        A3 = O2@self.W3.T + self.b3\n",
        "        O3 = sigmoid(A3)\n",
        "\n",
        "        if Y is not None:\n",
        "            loss = - Y*np.log(O3) - (1 - Y)*np.log(1.0 - O3)\n",
        "            # normalize loss by batch size\n",
        "            loss = loss.sum() / X.shape[0]\n",
        "        else:\n",
        "            loss = np.nan\n",
        "\n",
        "        if do_backward:\n",
        "\n",
        "            A3_grad = (O3 - Y) / X.shape[0]\n",
        "            self.b3_grad = A3_grad.sum(0)\n",
        "            self.W3_grad = A3_grad.T @ O2\n",
        "            O2_grad = A3_grad @ self.W3\n",
        "            A2_grad = O2_grad * O2 * (1 - O2)\n",
        "            self.b2_grad = A2_grad.sum(0)\n",
        "            self.W2_grad = A2_grad.T @ O1\n",
        "            O1_grad = A2_grad @ self.W2\n",
        "            A1_grad = O1_grad * O1 * (1 - O1)\n",
        "            self.b1_grad = A1_grad.sum(0)\n",
        "            self.W1_grad = A1_grad.T @ X\n",
        "            \n",
        "        return O3, loss"
      ],
      "execution_count": null,
      "outputs": []
    },
    {
      "cell_type": "code",
      "metadata": {
        "colab": {
          "base_uri": "https://localhost:8080/"
        },
        "id": "eE6gVmFVgeYC",
        "outputId": "d12687fe-b521-426f-cb16-d1aa5894ae1c"
      },
      "source": [
        "net = SlightlyBiggerNet(3, 5, dtype=np.float64)\n",
        "\n",
        "alpha = 1  # set a learning rate\n",
        "\n",
        "for i in range(100000):\n",
        "    _, loss = net.forward(X3, Y3, do_backward=True)\n",
        "    if (i % 5000) == 0:\n",
        "        print(f\"after {i} steps \\tloss={loss}\")\n",
        "    for param_name in [\"W1\", \"b1\", \"W2\", \"b2\", \"W3\", \"b3\"]:\n",
        "        param = getattr(net, param_name)\n",
        "        # Hint: use the construct `param[:]` to change the contents of the array!\n",
        "        # Doing instead `param = new_val` simply changes to what the variable\n",
        "        # param points to, without affecting the network!\n",
        "        # alternatively, you could do setattr(net, param_name, new_value)\n",
        "        param[:] = param - alpha * getattr(net, param_name + \"_grad\")"
      ],
      "execution_count": null,
      "outputs": [
        {
          "output_type": "stream",
          "text": [
            "after 0 steps \tloss=0.6932211085254611\n",
            "after 5000 steps \tloss=0.0005463401819096768\n",
            "after 10000 steps \tloss=0.0001948583683638701\n",
            "after 15000 steps \tloss=0.00011695751254710326\n",
            "after 20000 steps \tloss=8.311436343079112e-05\n",
            "after 25000 steps \tloss=6.428150234905572e-05\n",
            "after 30000 steps \tloss=5.2316215403988136e-05\n",
            "after 35000 steps \tloss=4.405474551876304e-05\n",
            "after 40000 steps \tloss=3.801459131528133e-05\n",
            "after 45000 steps \tloss=3.3409791538771436e-05\n",
            "after 50000 steps \tloss=2.978529780663631e-05\n",
            "after 55000 steps \tloss=2.685961236823757e-05\n",
            "after 60000 steps \tloss=2.444935664757933e-05\n",
            "after 65000 steps \tloss=2.243000367245586e-05\n",
            "after 70000 steps \tloss=2.0714054849396643e-05\n",
            "after 75000 steps \tloss=1.9238248575978135e-05\n",
            "after 80000 steps \tloss=1.795572383607942e-05\n",
            "after 85000 steps \tloss=1.6831036704364966e-05\n",
            "after 90000 steps \tloss=1.5836888143399206e-05\n",
            "after 95000 steps \tloss=1.4951915082653945e-05\n"
          ],
          "name": "stdout"
        }
      ]
    },
    {
      "cell_type": "markdown",
      "metadata": {
        "id": "4PcNxrCt-NcN"
      },
      "source": [
        "## Problem 6"
      ]
    },
    {
      "cell_type": "code",
      "metadata": {
        "id": "lPulLa2zgDso"
      },
      "source": [
        "def sigmoid(x):\n",
        "    return 1/(1+np.exp(-x))\n",
        "\n",
        "\n",
        "class VariableSizeNet:\n",
        "    def __init__(self, in_features, num_hidden, num_layers, dtype=np.float32):\n",
        "        self.num_mid = num_layers-1\n",
        "        self.num_hidden = num_hidden\n",
        "        self.W_in  = np.zeros((num_hidden, in_features), dtype=dtype)\n",
        "        self.b_in  = np.zeros((num_hidden,), dtype=dtype)\n",
        "        self.W_mid = np.zeros((self.num_mid, num_hidden, num_hidden), dtype=dtype)\n",
        "        self.b_mid = np.zeros((self.num_mid, num_hidden), dtype=dtype)\n",
        "        self.W_out = np.zeros((1, num_hidden), dtype=dtype)\n",
        "        self.b_out = np.zeros((1,), dtype=dtype)\n",
        "        self.init_params()\n",
        "\n",
        "\n",
        "    def init_params(self):\n",
        "        # set all parameters to small random values, e.g. from N(0, 0.5)\n",
        "        self.W_in  = np.random.normal(0, 0.5, self.W_in.shape)\n",
        "        self.b_in  = np.random.normal(0, 0.5, self.b_in.shape)\n",
        "        self.W_mid = np.random.normal(0, 0.5, self.W_mid.shape)\n",
        "        self.b_mid = np.random.normal(0, 0.5, self.b_mid.shape)\n",
        "        self.W_out = np.random.normal(0, 0.5, self.W_out.shape)\n",
        "        self.b_out = np.random.normal(0, 0.5, self.b_out.shape)\n",
        "\n",
        "\n",
        "    def forward(self, X, Y=None, do_backward=False):\n",
        "        A_mid = np.empty((self.num_mid, X.shape[0], self.num_hidden))\n",
        "        O_mid = np.empty((self.num_mid, X.shape[0], self.num_hidden))\n",
        "\n",
        "        A_in = X@self.W_in.T + self.b_in\n",
        "        O_in = sigmoid(A_in)\n",
        "        if self.num_mid == 0:\n",
        "            A_out = O_in@self.W_out.T + self.b_out\n",
        "            O_out = sigmoid(A_out)\n",
        "        else:\n",
        "            A_mid[0] = O_in@self.W_mid[0].T + self.b_mid[0]\n",
        "            O_mid[0] = sigmoid(A_mid[0])\n",
        "            for i in range(1, self.num_mid):\n",
        "                A_mid[i] = O_mid[i-1]@self.W_mid[i].T + self.b_mid[i]\n",
        "                O_mid[i] = sigmoid(A_mid[i])\n",
        "            A_out = A_mid[-1]@self.W_out.T + self.b_out\n",
        "            O_out = sigmoid(A_out)\n",
        "\n",
        "        if Y is not None:\n",
        "            loss = - Y*np.log(O_out) - (1 - Y)*np.log(1.0 - O_out)\n",
        "            # normalize loss by batch size\n",
        "            loss = loss.sum() / X.shape[0]\n",
        "        else:\n",
        "            loss = np.nan\n",
        "\n",
        "        if do_backward:\n",
        "            A_mid_grad = np.empty((self.num_mid, X.shape[0], self.num_hidden))\n",
        "            self.b_mid_grad = np.empty((self.num_mid, self.num_hidden))\n",
        "            self.W_mid_grad = np.empty((self.num_mid, self.num_hidden, self.num_hidden))\n",
        "            O_mid_grad = np.empty((self.num_mid, X.shape[0], self.num_hidden))\n",
        "\n",
        "            if self.num_mid == 0:\n",
        "                A_out_grad = (O_out - Y) / X.shape[0]\n",
        "                self.b_out_grad = A_out_grad.sum(0)\n",
        "                self.W_out_grad = A_out_grad.T @ O_in\n",
        "                O_in_grad = A_out_grad @ self.W_out\n",
        "            else:\n",
        "                A_out_grad = (O_out - Y) / X.shape[0]\n",
        "                self.b_out_grad = A_out_grad.sum(0)\n",
        "                self.W_out_grad = A_out_grad.T @ O_mid[-1]\n",
        "                O_mid_grad[-1] = A_out_grad @ self.W_out\n",
        "\n",
        "                for i in reversed(range(1, self.num_mid)):\n",
        "                    A_mid_grad[i] = O_mid_grad[i] * O_mid[i] * (1 - O_mid[i])\n",
        "                    self.b_mid_grad[i] = A_mid_grad[i].sum(0)\n",
        "                    self.W_mid_grad[i] = A_mid_grad[i].T @ O_mid[i-1]\n",
        "                    O_mid_grad[i-1] = A_mid_grad[i] @ self.W_mid[i]\n",
        "\n",
        "                A_mid_grad[0] = O_mid_grad[0] * O_mid[0] * (1 - O_mid[0])\n",
        "                self.b_mid_grad[0] = A_mid_grad[0].sum(0)\n",
        "                self.W_mid_grad[0] = A_mid_grad[0].T @ O_in\n",
        "                O_in_grad = A_mid_grad[0] @ self.W_mid[0]\n",
        "\n",
        "            A_in_grad = O_in_grad * O_in * (1 - O_in)\n",
        "            self.b_in_grad = A_in_grad.sum(0)\n",
        "            self.W_in_grad = A_in_grad.T @ X\n",
        "\n",
        "        return O_out, loss"
      ],
      "execution_count": null,
      "outputs": []
    },
    {
      "cell_type": "code",
      "metadata": {
        "colab": {
          "base_uri": "https://localhost:8080/"
        },
        "id": "VxSBbaWM49C-",
        "outputId": "f547d7b3-2982-4de8-8e9f-8e6ad38c0370"
      },
      "source": [
        "num_layers = 4\n",
        "net = VariableSizeNet(3, 5, num_layers, dtype=np.float64)\n",
        "\n",
        "alpha = 1  # set a learning rate\n",
        "\n",
        "for i in range(100000):\n",
        "    _, loss = net.forward(X3, Y3, do_backward=True)\n",
        "    if (i % 5000) == 0:\n",
        "        print(f\"after {i} steps \\tloss={loss}\")\n",
        "    if num_layers == 1:\n",
        "        for param_name in [\"W_in\", \"b_in\", \"W_out\", \"b_out\"]:\n",
        "            param = getattr(net, param_name)\n",
        "            param[:] = param - alpha * getattr(net, param_name + \"_grad\")\n",
        "    else:\n",
        "        for param_name in [\"W_in\", \"b_in\", \"W_mid\", \"b_mid\", \"W_out\", \"b_out\"]:\n",
        "            param = getattr(net, param_name)\n",
        "            param[:] = param - alpha * getattr(net, param_name + \"_grad\")\n"
      ],
      "execution_count": null,
      "outputs": [
        {
          "output_type": "stream",
          "text": [
            "after 0 steps \tloss=0.7012248005357495\n",
            "after 5000 steps \tloss=0.6931261554469696\n",
            "after 10000 steps \tloss=0.6930761360181179\n",
            "after 15000 steps \tloss=0.6926686833204132\n",
            "after 20000 steps \tloss=0.00030755140030471547\n",
            "after 25000 steps \tloss=6.941881958903598e-05\n",
            "after 30000 steps \tloss=3.707042597858295e-05\n",
            "after 35000 steps \tloss=2.4816427738128057e-05\n",
            "after 40000 steps \tloss=1.8474237819604666e-05\n",
            "after 45000 steps \tloss=1.4629937720553977e-05\n",
            "after 50000 steps \tloss=1.2064081632461753e-05\n",
            "after 55000 steps \tloss=1.0236345909439454e-05\n",
            "after 60000 steps \tloss=8.871764582674812e-06\n",
            "after 65000 steps \tloss=7.816118036455824e-06\n",
            "after 70000 steps \tloss=6.976420516666248e-06\n",
            "after 75000 steps \tloss=6.293375722190798e-06\n",
            "after 80000 steps \tloss=5.727440768827872e-06\n",
            "after 85000 steps \tloss=5.251263356282949e-06\n",
            "after 90000 steps \tloss=4.84533805733437e-06\n",
            "after 95000 steps \tloss=4.495391712965188e-06\n"
          ],
          "name": "stdout"
        }
      ]
    },
    {
      "cell_type": "code",
      "metadata": {
        "colab": {
          "base_uri": "https://localhost:8080/"
        },
        "id": "ThvRzdx_r7KR",
        "outputId": "35095b5e-e56e-4541-be86-1692a5463604"
      },
      "source": [
        "num_layers = 10\n",
        "net = VariableSizeNet(3, 30, num_layers, dtype=np.float64)\n",
        "\n",
        "alpha = 1  # set a learning rate\n",
        "\n",
        "for i in range(100000):\n",
        "    _, loss = net.forward(X3, Y3, do_backward=True)\n",
        "    if (i % 5000) == 0:\n",
        "        print(f\"after {i} steps \\tloss={loss}\")\n",
        "    if num_layers == 1:\n",
        "        for param_name in [\"W_in\", \"b_in\", \"W_out\", \"b_out\"]:\n",
        "            param = getattr(net, param_name)\n",
        "            param[:] = param - alpha * getattr(net, param_name + \"_grad\")\n",
        "    else:\n",
        "        for param_name in [\"W_in\", \"b_in\", \"W_mid\", \"b_mid\", \"W_out\", \"b_out\"]:\n",
        "            param = getattr(net, param_name)\n",
        "            param[:] = param - alpha * getattr(net, param_name + \"_grad\")\n"
      ],
      "execution_count": null,
      "outputs": [
        {
          "output_type": "stream",
          "text": [
            "after 0 steps \tloss=1.35204425166797\n",
            "after 5000 steps \tloss=0.6931429254926382\n",
            "after 10000 steps \tloss=0.6931199980901547\n",
            "after 15000 steps \tloss=0.6948999787523295\n",
            "after 20000 steps \tloss=0.6939583633702975\n",
            "after 25000 steps \tloss=0.6944498449247434\n",
            "after 30000 steps \tloss=0.00010244943744455189\n",
            "after 35000 steps \tloss=3.3296270020176656e-05\n",
            "after 40000 steps \tloss=1.897911999581529e-05\n",
            "after 45000 steps \tloss=1.3027385720722556e-05\n",
            "after 50000 steps \tloss=9.818675136570637e-06\n",
            "after 55000 steps \tloss=7.82948518775461e-06\n",
            "after 60000 steps \tloss=6.48316231000858e-06\n",
            "after 65000 steps \tloss=5.515170154478879e-06\n",
            "after 70000 steps \tloss=4.787742143221078e-06\n",
            "after 75000 steps \tloss=4.222331108152327e-06\n",
            "after 80000 steps \tloss=3.7709967567519176e-06\n",
            "after 85000 steps \tloss=3.4028805408227745e-06\n",
            "after 90000 steps \tloss=3.0972516889079575e-06\n",
            "after 95000 steps \tloss=2.8396853832106598e-06\n"
          ],
          "name": "stdout"
        }
      ]
    },
    {
      "cell_type": "markdown",
      "metadata": {
        "id": "nWuv7Q77-Nut"
      },
      "source": [
        "## Problem 7"
      ]
    },
    {
      "cell_type": "markdown",
      "metadata": {
        "id": "kv8-mW5S9gAp"
      },
      "source": [
        "## Problem 7 [2p]\r\n",
        "For each weight matrix $w\\in\\mathbb{R}^{n\\times m}$, add a randomly initialized `backward weight` $w_b\\in\\mathbb{R}^{m\\times n}$, which will not change during training. Change the backward pass to use $w_b$ instead of $w^T$, getting an approxmatoin of the true gradient. Can you get your network to train?\r\n",
        "\r\n",
        "NB: this approach, dubbed [feedback alignment](https://www.nature.com/articles/ncomms13276), was proposed to make error backpropagation more biologically plausible, by providing a solution to the \"weight transport problem\". Regular backpropagation requires that neurons not only know their incoming weights (thet they control), but also their outgoing weights (that are controlled by neurons in the upper layers). This is nearly impossible in a real brain."
      ]
    },
    {
      "cell_type": "code",
      "metadata": {
        "id": "TrM0lBoY9kCX"
      },
      "source": [
        "def sigmoid(x):\n",
        "    return 1/(1+np.exp(-x))\n",
        "\n",
        "\n",
        "class BackwardWeightNet:\n",
        "    def __init__(self, in_features, num_hidden, num_layers, dtype=np.float32):\n",
        "        self.num_mid = num_layers-1\n",
        "        self.num_hidden = num_hidden\n",
        "        self.W_in  = np.zeros((num_hidden, in_features), dtype=dtype)\n",
        "        self.W_in_b  = np.zeros((num_hidden, in_features), dtype=dtype)\n",
        "        self.b_in  = np.zeros((num_hidden,), dtype=dtype)\n",
        "        self.W_mid = np.zeros((self.num_mid, num_hidden, num_hidden), dtype=dtype)\n",
        "        self.W_mid_b = np.zeros((self.num_mid, num_hidden, num_hidden), dtype=dtype)\n",
        "        self.b_mid = np.zeros((self.num_mid, num_hidden), dtype=dtype)\n",
        "        self.W_out = np.zeros((1, num_hidden), dtype=dtype)\n",
        "        self.W_out_b = np.zeros((1, num_hidden), dtype=dtype)\n",
        "        self.b_out = np.zeros((1,), dtype=dtype)\n",
        "        self.init_params()\n",
        "\n",
        "\n",
        "    def init_params(self):\n",
        "        # set all parameters to small random values, e.g. from N(0, 0.5)\n",
        "        self.W_in    = np.random.normal(0, 0.5, self.W_in.shape)\n",
        "        self.W_in_b  = np.random.normal(0, 0.5, self.W_in.shape)\n",
        "        self.b_in    = np.random.normal(0, 0.5, self.b_in.shape)\n",
        "        self.W_mid   = np.random.normal(0, 0.5, self.W_mid.shape)\n",
        "        self.W_mid_b = np.random.normal(0, 0.5, self.W_mid.shape)\n",
        "        self.b_mid   = np.random.normal(0, 0.5, self.b_mid.shape)\n",
        "        self.W_out   = np.random.normal(0, 0.5, self.W_out.shape)\n",
        "        self.W_out_b = np.random.normal(0, 0.5, self.W_out.shape)\n",
        "        self.b_out   = np.random.normal(0, 0.5, self.b_out.shape)\n",
        "\n",
        "\n",
        "    def forward(self, X, Y=None, do_backward=False):\n",
        "        A_mid = np.empty((self.num_mid, X.shape[0], self.num_hidden))\n",
        "        O_mid = np.empty((self.num_mid, X.shape[0], self.num_hidden))\n",
        "\n",
        "        A_in = X@self.W_in.T + self.b_in\n",
        "        O_in = sigmoid(A_in)\n",
        "        if self.num_mid == 0:\n",
        "            A_out = O_in@self.W_out.T + self.b_out\n",
        "            O_out = sigmoid(A_out)\n",
        "        else:\n",
        "            A_mid[0] = O_in@self.W_mid[0].T + self.b_mid[0]\n",
        "            O_mid[0] = sigmoid(A_mid[0])\n",
        "            for i in range(1, self.num_mid):\n",
        "                A_mid[i] = O_mid[i-1]@self.W_mid[i].T + self.b_mid[i]\n",
        "                O_mid[i] = sigmoid(A_mid[i])\n",
        "            A_out = A_mid[-1]@self.W_out.T + self.b_out\n",
        "            O_out = sigmoid(A_out)\n",
        "\n",
        "        if Y is not None:\n",
        "            loss = - Y*np.log(O_out) - (1 - Y)*np.log(1.0 - O_out)\n",
        "            # normalize loss by batch size\n",
        "            loss = loss.sum() / X.shape[0]\n",
        "        else:\n",
        "            loss = np.nan\n",
        "\n",
        "        if do_backward:\n",
        "            A_mid_grad = np.empty((self.num_mid, X.shape[0], self.num_hidden))\n",
        "            self.b_mid_grad = np.empty((self.num_mid, self.num_hidden))\n",
        "            self.W_mid_grad = np.empty((self.num_mid, self.num_hidden, self.num_hidden))\n",
        "            O_mid_grad = np.empty((self.num_mid, X.shape[0], self.num_hidden))\n",
        "\n",
        "            if self.num_mid == 0:\n",
        "                A_out_grad = (O_out - Y) / X.shape[0]\n",
        "                self.b_out_grad = A_out_grad.sum(0)\n",
        "                self.W_out_grad = A_out_grad.T @ O_in\n",
        "                O_in_grad = A_out_grad @ self.W_out_b\n",
        "            else:\n",
        "                A_out_grad = (O_out - Y) / X.shape[0]\n",
        "                self.b_out_grad = A_out_grad.sum(0)\n",
        "                self.W_out_grad = A_out_grad.T @ O_mid[-1]\n",
        "                O_mid_grad[-1] = A_out_grad @ self.W_out_b\n",
        "\n",
        "                for i in reversed(range(1, self.num_mid)):\n",
        "                    A_mid_grad[i] = O_mid_grad[i] * O_mid[i] * (1 - O_mid[i])\n",
        "                    self.b_mid_grad[i] = A_mid_grad[i].sum(0)\n",
        "                    self.W_mid_grad[i] = A_mid_grad[i].T @ O_mid[i-1]\n",
        "                    O_mid_grad[i-1] = A_mid_grad[i] @ self.W_mid_b[i]\n",
        "\n",
        "                A_mid_grad[0] = O_mid_grad[0] * O_mid[0] * (1 - O_mid[0])\n",
        "                self.b_mid_grad[0] = A_mid_grad[0].sum(0)\n",
        "                self.W_mid_grad[0] = A_mid_grad[0].T @ O_in\n",
        "                O_in_grad = A_mid_grad[0] @ self.W_mid_b[0]\n",
        "\n",
        "            A_in_grad = O_in_grad * O_in * (1 - O_in)\n",
        "            self.b_in_grad = A_in_grad.sum(0)\n",
        "            self.W_in_grad = A_in_grad.T @ X\n",
        "\n",
        "        return O_out, loss"
      ],
      "execution_count": null,
      "outputs": []
    },
    {
      "cell_type": "code",
      "metadata": {
        "id": "5x1Gbogw-0sr"
      },
      "source": [
        "X3 = np.array([[0, 0, 0], [0, 0, 1], [0, 1, 0], [0, 1, 1],\n",
        "               [1, 0, 0], [1, 0, 1], [1, 1, 0], [1, 1, 1]],\n",
        "              dtype=np.float32)\n",
        "Y3 = np.array([[0], [1], [1], [0], [1], [0], [0], [1]],\n",
        "              dtype=np.float32)"
      ],
      "execution_count": null,
      "outputs": []
    },
    {
      "cell_type": "code",
      "metadata": {
        "colab": {
          "base_uri": "https://localhost:8080/"
        },
        "id": "KnvDQEft-09Y",
        "outputId": "eb801ef0-70b8-45a8-e6e3-8cb696c19f5b"
      },
      "source": [
        "num_layers = 3\n",
        "net = BackwardWeightNet(3, 10, num_layers, dtype=np.float64)\n",
        "\n",
        "alpha = 1  # set a learning rate\n",
        "\n",
        "for i in range(100000):\n",
        "    _, loss = net.forward(X3, Y3, do_backward=True)\n",
        "    if (i % 5000) == 0:\n",
        "        print(f\"after {i} steps \\tloss={loss}\")\n",
        "    if num_layers == 1:\n",
        "        for param_name in [\"W_in\", \"b_in\", \"W_out\", \"b_out\"]:\n",
        "            param = getattr(net, param_name)\n",
        "            param[:] = param - alpha * getattr(net, param_name + \"_grad\")\n",
        "    else:\n",
        "        for param_name in [\"W_in\", \"b_in\", \"W_mid\", \"b_mid\", \"W_out\", \"b_out\"]:\n",
        "            param = getattr(net, param_name)\n",
        "            param[:] = param - alpha * getattr(net, param_name + \"_grad\")\n"
      ],
      "execution_count": null,
      "outputs": [
        {
          "output_type": "stream",
          "text": [
            "after 0 steps \tloss=0.7056735443415358\n",
            "after 5000 steps \tloss=0.024046675150427976\n",
            "after 10000 steps \tloss=0.0025412222208210807\n",
            "after 15000 steps \tloss=0.0012345306403399416\n",
            "after 20000 steps \tloss=0.0007963592737715712\n",
            "after 25000 steps \tloss=0.0005812029824275684\n",
            "after 30000 steps \tloss=0.0004546077298938272\n",
            "after 35000 steps \tloss=0.0003717203713975906\n",
            "after 40000 steps \tloss=0.00031346719049655717\n",
            "after 45000 steps \tloss=0.0002704075243921451\n",
            "after 50000 steps \tloss=0.00023735192346066976\n",
            "after 55000 steps \tloss=0.00021121898415902565\n",
            "after 60000 steps \tloss=0.00019006727752059644\n",
            "after 65000 steps \tloss=0.0001726146983944473\n",
            "after 70000 steps \tloss=0.00015798152400428396\n",
            "after 75000 steps \tloss=0.0001455446491402173\n",
            "after 80000 steps \tloss=0.00013485074557011565\n",
            "after 85000 steps \tloss=0.00012556235920284636\n",
            "after 90000 steps \tloss=0.00011742326297613204\n",
            "after 95000 steps \tloss=0.00011023550621805424\n"
          ],
          "name": "stdout"
        }
      ]
    },
    {
      "cell_type": "code",
      "metadata": {
        "colab": {
          "base_uri": "https://localhost:8080/"
        },
        "id": "KIE2J8Xk_Cdk",
        "outputId": "1bc843c4-dd13-43aa-f67e-e6bb3d555700"
      },
      "source": [
        "num_layers = 3\n",
        "net = VariableSizeNet(3, 10, num_layers, dtype=np.float64)\n",
        "\n",
        "alpha = 1  # set a learning rate\n",
        "\n",
        "for i in range(100000):\n",
        "    _, loss = net.forward(X3, Y3, do_backward=True)\n",
        "    if (i % 5000) == 0:\n",
        "        print(f\"after {i} steps \\tloss={loss}\")\n",
        "    if num_layers == 1:\n",
        "        for param_name in [\"W_in\", \"b_in\", \"W_out\", \"b_out\"]:\n",
        "            param = getattr(net, param_name)\n",
        "            param[:] = param - alpha * getattr(net, param_name + \"_grad\")\n",
        "    else:\n",
        "        for param_name in [\"W_in\", \"b_in\", \"W_mid\", \"b_mid\", \"W_out\", \"b_out\"]:\n",
        "            param = getattr(net, param_name)\n",
        "            param[:] = param - alpha * getattr(net, param_name + \"_grad\")\n"
      ],
      "execution_count": null,
      "outputs": [
        {
          "output_type": "stream",
          "text": [
            "after 0 steps \tloss=1.249648235817193\n",
            "after 5000 steps \tloss=0.00035663316853239146\n",
            "after 10000 steps \tloss=9.29686359470276e-05\n",
            "after 15000 steps \tloss=5.0684230038347804e-05\n",
            "after 20000 steps \tloss=3.415949078838528e-05\n",
            "after 25000 steps \tloss=2.549821711875345e-05\n",
            "after 30000 steps \tloss=2.0214191041881692e-05\n",
            "after 35000 steps \tloss=1.6674357224761185e-05\n",
            "after 40000 steps \tloss=1.4147181368572301e-05\n",
            "after 45000 steps \tloss=1.2257769044535581e-05\n",
            "after 50000 steps \tloss=1.0794838482251986e-05\n",
            "after 55000 steps \tloss=9.630558105931628e-06\n",
            "after 60000 steps \tloss=8.68320254088264e-06\n",
            "after 65000 steps \tloss=7.898166578433506e-06\n",
            "after 70000 steps \tloss=7.237623265632881e-06\n",
            "after 75000 steps \tloss=6.674566559179396e-06\n",
            "after 80000 steps \tloss=6.189216977903017e-06\n",
            "after 85000 steps \tloss=5.766766654759947e-06\n",
            "after 90000 steps \tloss=5.395916689431111e-06\n",
            "after 95000 steps \tloss=5.067900648663741e-06\n"
          ],
          "name": "stdout"
        }
      ]
    }
  ]
}